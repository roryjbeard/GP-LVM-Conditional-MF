{
 "metadata": {
  "name": "",
  "signature": "sha256:d65e7fd4e5a81edb3abd7c7c4b3c733d96e647d397103daa22b272b63882bf5a"
 },
 "nbformat": 3,
 "nbformat_minor": 0,
 "worksheets": [
  {
   "cells": [
    {
     "cell_type": "code",
     "collapsed": false,
     "input": [
      "import sys; sys.path.append(\"../\")\n",
      "%run trainmnist.py"
     ],
     "language": "python",
     "metadata": {},
     "outputs": [
      {
       "output_type": "stream",
       "stream": "stdout",
       "text": [
        "Couldn't import dot_parser, loading of dot files will not be possible.\n",
        "Loading MNIST data"
       ]
      },
      {
       "output_type": "stream",
       "stream": "stdout",
       "text": [
        "\n",
        "Creating Theano functions"
       ]
      },
      {
       "output_type": "stream",
       "stream": "stdout",
       "text": [
        "\n",
        "Initializing weights and biases"
       ]
      },
      {
       "output_type": "stream",
       "stream": "stdout",
       "text": [
        "\n",
        "Iteration: 0\n",
        "printing  lbound"
       ]
      },
      {
       "output_type": "stream",
       "stream": "stdout",
       "text": [
        " -54354.999911\n",
        "printing self.lowerbound 0\n",
        "printing  lbound"
       ]
      },
      {
       "output_type": "stream",
       "stream": "stdout",
       "text": [
        " -53494.0668344\n",
        "printing self.lowerbound -54354.999911\n",
        "printing  lbound"
       ]
      },
      {
       "output_type": "stream",
       "stream": "stdout",
       "text": [
        " -84125.2182447\n",
        "printing self.lowerbound -107849.066745\n",
        "printing  lbound"
       ]
      },
      {
       "output_type": "stream",
       "stream": "stdout",
       "text": [
        " -57309.131614\n",
        "printing self.lowerbound -191974.28499\n",
        "printing  lbound -44688.5844319\n",
        "printing self.lowerbound -249283.416604\n",
        "printing  lbound"
       ]
      },
      {
       "output_type": "stream",
       "stream": "stdout",
       "text": [
        " -30464.9977702\n",
        "printing self.lowerbound -293972.001036\n",
        "printing  lbound -27390.0967566\n",
        "printing self.lowerbound -324436.998806\n",
        "printing  lbound"
       ]
      },
      {
       "output_type": "stream",
       "stream": "stdout",
       "text": [
        " -26764.455957\n",
        "printing self.lowerbound -351827.095563\n",
        "printing  lbound -25313.7879388\n",
        "printing self.lowerbound -378591.55152\n",
        "printing  lbound"
       ]
      },
      {
       "output_type": "stream",
       "stream": "stdout",
       "text": [
        " -24390.8609244\n",
        "printing self.lowerbound -403905.339459\n",
        "printing  lbound -23436.4692967\n",
        "printing self.lowerbound -428296.200383\n",
        "printing  lbound"
       ]
      },
      {
       "output_type": "stream",
       "stream": "stdout",
       "text": [
        " -23319.6502298\n",
        "printing self.lowerbound -451732.66968\n",
        "printing  lbound -24057.6350768\n",
        "printing self.lowerbound -475052.31991\n",
        "printing  lbound"
       ]
      },
      {
       "output_type": "stream",
       "stream": "stdout",
       "text": [
        " -23813.3617693\n",
        "printing self.lowerbound -499109.954986\n",
        "printing  lbound -24023.1240529\n",
        "printing self.lowerbound -522923.316756\n",
        "printing  lbound"
       ]
      },
      {
       "output_type": "stream",
       "stream": "stdout",
       "text": [
        " -22870.2011725\n",
        "printing self.lowerbound -546946.440809\n",
        "printing  lbound -22857.5437576\n",
        "printing self.lowerbound -569816.641981\n",
        "printing  lbound"
       ]
      },
      {
       "output_type": "stream",
       "stream": "stdout",
       "text": [
        " -22621.9694108\n",
        "printing self.lowerbound -592674.185739\n",
        "printing  lbound -22696.5429078\n",
        "printing self.lowerbound -615296.15515\n",
        "printing  lbound"
       ]
      },
      {
       "output_type": "stream",
       "stream": "stdout",
       "text": [
        " -22413.6499481\n",
        "printing self.lowerbound -637992.698057\n",
        "printing  lbound -22335.2142074\n",
        "printing self.lowerbound -660406.348005\n",
        "printing  lbound"
       ]
      },
      {
       "output_type": "stream",
       "stream": "stdout",
       "text": [
        " -22137.8523347\n",
        "printing self.lowerbound -682741.562213\n",
        "printing  lbound -22650.7047038\n",
        "printing self.lowerbound -704879.414548\n",
        "printing  lbound"
       ]
      },
      {
       "output_type": "stream",
       "stream": "stdout",
       "text": [
        " -23092.0695318\n",
        "printing self.lowerbound -727530.119251\n",
        "printing  lbound"
       ]
      },
      {
       "output_type": "stream",
       "stream": "stdout",
       "text": [
        " -22829.5536731\n",
        "printing self.lowerbound -750622.188783\n",
        "printing  lbound -22478.3544677\n",
        "printing self.lowerbound -773451.742456\n",
        "printing  lbound"
       ]
      },
      {
       "output_type": "stream",
       "stream": "stdout",
       "text": [
        " -21912.9310458\n",
        "printing self.lowerbound -795930.096924\n",
        "printing  lbound -22754.8540794\n",
        "printing self.lowerbound -817843.02797\n",
        "printing  lbound"
       ]
      },
      {
       "output_type": "stream",
       "stream": "stdout",
       "text": [
        " -22983.8460868\n",
        "printing self.lowerbound -840597.882049\n",
        "printing  lbound -21133.4312157\n",
        "printing self.lowerbound -863581.728136\n",
        "printing  lbound"
       ]
      },
      {
       "output_type": "stream",
       "stream": "stdout",
       "text": [
        " -21455.926273\n",
        "printing self.lowerbound -884715.159352\n",
        "printing  lbound -20584.0707012\n",
        "printing self.lowerbound -906171.085625\n",
        "printing  lbound"
       ]
      },
      {
       "output_type": "stream",
       "stream": "stdout",
       "text": [
        " -20261.6935658\n",
        "printing self.lowerbound -926755.156326\n",
        "printing  lbound -21236.9093165\n",
        "printing self.lowerbound -947016.849892\n",
        "printing  lbound"
       ]
      },
      {
       "output_type": "stream",
       "stream": "stdout",
       "text": [
        " -19916.3686451\n",
        "printing self.lowerbound -968253.759208\n",
        "printing  lbound -22204.1941265\n",
        "printing self.lowerbound -988170.127853\n",
        "printing  lbound"
       ]
      },
      {
       "output_type": "stream",
       "stream": "stdout",
       "text": [
        " -23294.1356328\n",
        "printing self.lowerbound -1010374.32198\n",
        "printing  lbound -22687.6818538\n",
        "printing self.lowerbound -1033668.45761\n",
        "printing  lbound"
       ]
      },
      {
       "output_type": "stream",
       "stream": "stdout",
       "text": [
        " -21627.0980691\n",
        "printing self.lowerbound -1056356.13947\n",
        "printing  lbound -21782.2459986\n",
        "printing self.lowerbound -1077983.23754\n",
        "printing  lbound"
       ]
      },
      {
       "output_type": "stream",
       "stream": "stdout",
       "text": [
        " -21672.7182234\n",
        "printing self.lowerbound -1099765.48353\n",
        "printing  lbound -20710.7912653\n",
        "printing self.lowerbound -1121438.20176\n",
        "printing  lbound"
       ]
      },
      {
       "output_type": "stream",
       "stream": "stdout",
       "text": [
        " -21932.6487552\n",
        "printing self.lowerbound -1142148.99302\n",
        "printing  lbound -20813.2277398\n",
        "printing self.lowerbound -1164081.64178\n",
        "printing  lbound"
       ]
      },
      {
       "output_type": "stream",
       "stream": "stdout",
       "text": [
        " -21795.4190649\n",
        "printing self.lowerbound -1184894.86952\n",
        "printing  lbound -22064.6972761\n",
        "printing self.lowerbound -1206690.28858\n",
        "printing  lbound"
       ]
      },
      {
       "output_type": "stream",
       "stream": "stdout",
       "text": [
        " -23397.4766491\n",
        "printing self.lowerbound -1228754.98586\n",
        "printing  lbound"
       ]
      },
      {
       "output_type": "stream",
       "stream": "stdout",
       "text": [
        " -23591.7772309\n",
        "printing self.lowerbound -1252152.46251\n",
        "printing  lbound -24181.9747757\n",
        "printing self.lowerbound -1275744.23974\n",
        "printing  lbound"
       ]
      },
      {
       "output_type": "stream",
       "stream": "stdout",
       "text": [
        " -21853.1877723\n",
        "printing self.lowerbound -1299926.21451\n",
        "printing  lbound -22505.7107429\n",
        "printing self.lowerbound -1321779.40229\n",
        "printing  lbound"
       ]
      },
      {
       "output_type": "stream",
       "stream": "stdout",
       "text": [
        " -22209.7286805\n",
        "printing self.lowerbound -1344285.11303\n",
        "printing  lbound -21360.5022543\n",
        "printing self.lowerbound -1366494.84171\n",
        "printing  lbound"
       ]
      },
      {
       "output_type": "stream",
       "stream": "stdout",
       "text": [
        " -22584.1555232\n",
        "printing self.lowerbound -1387855.34396\n",
        "printing  lbound -21631.2074786\n",
        "printing self.lowerbound -1410439.49949\n",
        "printing  lbound"
       ]
      },
      {
       "output_type": "stream",
       "stream": "stdout",
       "text": [
        " -21187.287557\n",
        "printing self.lowerbound -1432070.70697\n",
        "printing  lbound -21476.5436493\n",
        "printing self.lowerbound -1453257.99452\n",
        "printing  lbound"
       ]
      },
      {
       "output_type": "stream",
       "stream": "stdout",
       "text": [
        " -20535.814567\n",
        "printing self.lowerbound -1474734.53817\n",
        "printing  lbound -20406.8782069\n",
        "printing self.lowerbound -1495270.35274\n",
        "printing  lbound"
       ]
      },
      {
       "output_type": "stream",
       "stream": "stdout",
       "text": [
        " -21520.0596116\n",
        "printing self.lowerbound -1515677.23095\n",
        "printing  lbound -22576.1716131\n",
        "printing self.lowerbound -1537197.29056\n",
        "printing  lbound"
       ]
      },
      {
       "output_type": "stream",
       "stream": "stdout",
       "text": [
        " -22184.1066518\n",
        "printing self.lowerbound -1559773.46217\n",
        "printing  lbound -20725.1614721\n",
        "printing self.lowerbound -1581957.56882\n",
        "printing  lbound"
       ]
      },
      {
       "output_type": "stream",
       "stream": "stdout",
       "text": [
        " -20751.9189231\n",
        "printing self.lowerbound -1602682.73029\n",
        "printing  lbound -21096.5254158\n",
        "printing self.lowerbound -1623434.64922\n",
        "printing  lbound"
       ]
      },
      {
       "output_type": "stream",
       "stream": "stdout",
       "text": [
        " -20627.4611453\n",
        "printing self.lowerbound -1644531.17463\n",
        "printing  lbound -19839.8429038\n",
        "printing self.lowerbound -1665158.63578\n",
        "printing  lbound"
       ]
      },
      {
       "output_type": "stream",
       "stream": "stdout",
       "text": [
        " -18973.8950577\n",
        "printing self.lowerbound -1684998.47868\n",
        "printing  lbound -20234.8932317\n",
        "printing self.lowerbound -1703972.37374\n",
        "printing  lbound"
       ]
      },
      {
       "output_type": "stream",
       "stream": "stdout",
       "text": [
        " -20918.2692814\n",
        "printing self.lowerbound -1724207.26697\n",
        "printing  lbound -20563.7664138\n",
        "printing self.lowerbound -1745125.53625\n",
        "printing  lbound"
       ]
      },
      {
       "output_type": "stream",
       "stream": "stdout",
       "text": [
        " -20040.6992355\n",
        "printing self.lowerbound -1765689.30267\n",
        "printing  lbound"
       ]
      },
      {
       "output_type": "stream",
       "stream": "stdout",
       "text": [
        " -19823.5016078\n",
        "printing self.lowerbound -1785730.0019\n",
        "printing  lbound -19036.5066726\n",
        "printing self.lowerbound -1805553.50351\n",
        "printing  lbound"
       ]
      },
      {
       "output_type": "stream",
       "stream": "stdout",
       "text": [
        " -19720.2888186\n",
        "printing self.lowerbound -1824590.01018\n",
        "printing  lbound -19801.8809264\n",
        "printing self.lowerbound -1844310.299\n",
        "printing  lbound"
       ]
      },
      {
       "output_type": "stream",
       "stream": "stdout",
       "text": [
        " -20908.1073676\n",
        "printing self.lowerbound -1864112.17993\n",
        "printing  lbound -21078.1072598\n",
        "printing self.lowerbound -1885020.2873\n",
        "printing  lbound"
       ]
      },
      {
       "output_type": "stream",
       "stream": "stdout",
       "text": [
        " -23255.9492114\n",
        "printing self.lowerbound -1906098.39456\n",
        "printing  lbound -23073.6909635\n",
        "printing self.lowerbound -1929354.34377\n",
        "printing  lbound"
       ]
      },
      {
       "output_type": "stream",
       "stream": "stdout",
       "text": [
        " -25400.2191424\n",
        "printing self.lowerbound -1952428.03473\n",
        "printing  lbound -19973.9909394\n",
        "printing self.lowerbound -1977828.25387\n",
        "printing  lbound"
       ]
      },
      {
       "output_type": "stream",
       "stream": "stdout",
       "text": [
        " -21042.9864254\n",
        "printing self.lowerbound -1997802.24481\n",
        "printing  lbound -20856.1419094\n",
        "printing self.lowerbound -2018845.23124\n",
        "printing  lbound"
       ]
      },
      {
       "output_type": "stream",
       "stream": "stdout",
       "text": [
        " -21056.2040044\n",
        "printing self.lowerbound -2039701.37315\n",
        "printing  lbound -21558.7125828\n",
        "printing self.lowerbound -2060757.57715\n",
        "printing  lbound"
       ]
      },
      {
       "output_type": "stream",
       "stream": "stdout",
       "text": [
        " -21468.9587035\n",
        "printing self.lowerbound -2082316.28973\n",
        "printing  lbound -20816.4183742\n",
        "printing self.lowerbound -2103785.24844\n",
        "printing  lbound"
       ]
      },
      {
       "output_type": "stream",
       "stream": "stdout",
       "text": [
        " -20135.492677\n",
        "printing self.lowerbound -2124601.66681\n",
        "printing  lbound -20579.9309332\n",
        "printing self.lowerbound -2144737.15949\n",
        "printing  lbound"
       ]
      },
      {
       "output_type": "stream",
       "stream": "stdout",
       "text": [
        " -20217.343619\n",
        "printing self.lowerbound -2165317.09042\n",
        "printing  lbound -19522.910151\n",
        "printing self.lowerbound -2185534.43404\n",
        "printing  lbound"
       ]
      },
      {
       "output_type": "stream",
       "stream": "stdout",
       "text": [
        " -18629.9830234\n",
        "printing self.lowerbound -2205057.34419\n",
        "printing  lbound -21741.9829957\n",
        "printing self.lowerbound -2223687.32722\n",
        "printing  lbound"
       ]
      },
      {
       "output_type": "stream",
       "stream": "stdout",
       "text": [
        " -21908.1123971\n",
        "printing self.lowerbound -2245429.31021\n",
        "printing  lbound -20448.4159513\n",
        "printing self.lowerbound -2267337.42261\n",
        "printing  lbound"
       ]
      },
      {
       "output_type": "stream",
       "stream": "stdout",
       "text": [
        " -20869.0403938\n",
        "printing self.lowerbound -2287785.83856\n",
        "printing  lbound -20807.7814336\n",
        "printing self.lowerbound -2308654.87895\n",
        "printing  lbound"
       ]
      },
      {
       "output_type": "stream",
       "stream": "stdout",
       "text": [
        " -20943.0045538\n",
        "printing self.lowerbound -2329462.66039\n",
        "printing  lbound -20380.2234256\n",
        "printing self.lowerbound -2350405.66494\n",
        "printing  lbound"
       ]
      },
      {
       "output_type": "stream",
       "stream": "stdout",
       "text": [
        " -20560.9897678\n",
        "printing self.lowerbound -2370785.88837\n",
        "printing  lbound -18989.8700168\n",
        "printing self.lowerbound -2391346.87813\n",
        "printing  lbound"
       ]
      },
      {
       "output_type": "stream",
       "stream": "stdout",
       "text": [
        " -22903.1618299\n",
        "printing self.lowerbound -2410336.74815\n",
        "printing  lbound -21669.3159094\n",
        "printing self.lowerbound -2433239.90998\n",
        "printing  lbound"
       ]
      },
      {
       "output_type": "stream",
       "stream": "stdout",
       "text": [
        " -21163.0534991\n",
        "printing self.lowerbound -2454909.22589\n",
        "printing  lbound -20375.5226217\n",
        "printing self.lowerbound -2476072.27939\n",
        "printing  lbound"
       ]
      },
      {
       "output_type": "stream",
       "stream": "stdout",
       "text": [
        " -19667.0653339\n",
        "printing self.lowerbound -2496447.80201\n",
        "printing  lbound -20184.5513304\n",
        "printing self.lowerbound -2516114.86735\n",
        "printing  lbound"
       ]
      },
      {
       "output_type": "stream",
       "stream": "stdout",
       "text": [
        " -19815.7111176\n",
        "printing self.lowerbound -2536299.41868\n",
        "printing  lbound -20281.439323\n",
        "printing self.lowerbound -2556115.12979\n",
        "printing  lbound"
       ]
      },
      {
       "output_type": "stream",
       "stream": "stdout",
       "text": [
        " -20884.2283073\n",
        "printing self.lowerbound -2576396.56912\n",
        "printing  lbound -19748.8366818\n",
        "printing self.lowerbound -2597280.79742\n",
        "printing  lbound"
       ]
      },
      {
       "output_type": "stream",
       "stream": "stdout",
       "text": [
        " -19756.1195293\n",
        "printing self.lowerbound -2617029.63411\n",
        "printing  lbound -19741.2026421\n",
        "printing self.lowerbound -2636785.75364\n",
        "printing  lbound"
       ]
      },
      {
       "output_type": "stream",
       "stream": "stdout",
       "text": [
        " -19670.5933729\n",
        "printing self.lowerbound -2656526.95628\n",
        "printing  lbound -19988.6229482\n",
        "printing self.lowerbound -2676197.54965\n",
        "printing  lbound"
       ]
      },
      {
       "output_type": "stream",
       "stream": "stdout",
       "text": [
        " -19708.3104715\n",
        "printing self.lowerbound -2696186.1726\n",
        "printing  lbound -19569.0351449\n",
        "printing self.lowerbound -2715894.48307\n",
        "printing  lbound"
       ]
      },
      {
       "output_type": "stream",
       "stream": "stdout",
       "text": [
        " -19136.5279001\n",
        "printing self.lowerbound -2735463.51821\n",
        "printing  lbound -19382.7175715\n",
        "printing self.lowerbound -2754600.04611\n",
        "printing  lbound"
       ]
      },
      {
       "output_type": "stream",
       "stream": "stdout",
       "text": [
        " -20173.600753\n",
        "printing self.lowerbound -2773982.76369\n",
        "printing  lbound -20453.2773533\n",
        "printing self.lowerbound -2794156.36444\n",
        "printing  lbound"
       ]
      },
      {
       "output_type": "stream",
       "stream": "stdout",
       "text": [
        " -21743.3859298\n",
        "printing self.lowerbound -2814609.64179\n",
        "printing  lbound -22503.655208\n",
        "printing self.lowerbound -2836353.02772\n",
        "printing  lbound"
       ]
      },
      {
       "output_type": "stream",
       "stream": "stdout",
       "text": [
        " -21954.350916\n",
        "printing self.lowerbound -2858856.68293\n",
        "printing  lbound -22001.0301856\n",
        "printing self.lowerbound -2880811.03385\n",
        "printing  lbound"
       ]
      },
      {
       "output_type": "stream",
       "stream": "stdout",
       "text": [
        " -21603.7568304\n",
        "printing self.lowerbound -2902812.06403\n",
        "printing  lbound -20814.7851671\n",
        "printing self.lowerbound -2924415.82086\n",
        "printing  lbound"
       ]
      },
      {
       "output_type": "stream",
       "stream": "stdout",
       "text": [
        " -19597.8971074\n",
        "printing self.lowerbound -2945230.60603\n",
        "printing  lbound -21629.8152246\n",
        "printing self.lowerbound -2964828.50314\n",
        "printing  lbound"
       ]
      },
      {
       "output_type": "stream",
       "stream": "stdout",
       "text": [
        " -22097.0944842\n",
        "printing self.lowerbound -2986458.31836\n",
        "printing  lbound -20866.0069737\n",
        "printing self.lowerbound -3008555.41285\n",
        "printing  lbound"
       ]
      },
      {
       "output_type": "stream",
       "stream": "stdout",
       "text": [
        " -21559.8269396\n",
        "printing self.lowerbound -3029421.41982\n",
        "printing  lbound -20640.1341576\n",
        "printing self.lowerbound -3050981.24676\n",
        "printing  lbound"
       ]
      },
      {
       "output_type": "stream",
       "stream": "stdout",
       "text": [
        " -20643.2161808\n",
        "printing self.lowerbound -3071621.38092\n",
        "printing  lbound -21098.3781588\n",
        "printing self.lowerbound -3092264.5971\n",
        "printing  lbound"
       ]
      },
      {
       "output_type": "stream",
       "stream": "stdout",
       "text": [
        " -19785.3138501\n",
        "printing self.lowerbound -3113362.97526\n",
        "printing  lbound -19164.7668906\n",
        "printing self.lowerbound -3133148.28911\n",
        "printing  lbound"
       ]
      },
      {
       "output_type": "stream",
       "stream": "stdout",
       "text": [
        " -20219.5557189\n",
        "printing self.lowerbound -3152313.056\n",
        "printing  lbound -20705.888314\n",
        "printing self.lowerbound -3172532.61172\n",
        "printing  lbound"
       ]
      },
      {
       "output_type": "stream",
       "stream": "stdout",
       "text": [
        " -21973.4567281\n",
        "printing self.lowerbound -3193238.50003\n",
        "printing  lbound -22264.9502137\n",
        "printing self.lowerbound -3215211.95676\n",
        "printing  lbound"
       ]
      },
      {
       "output_type": "stream",
       "stream": "stdout",
       "text": [
        " -21488.6099025\n",
        "printing self.lowerbound -3237476.90697\n",
        "printing  lbound -21132.6153981\n",
        "printing self.lowerbound -3258965.51687\n",
        "printing  lbound"
       ]
      },
      {
       "output_type": "stream",
       "stream": "stdout",
       "text": [
        " -20236.7328867\n",
        "printing self.lowerbound -3280098.13227\n",
        "printing  lbound -19258.815695\n",
        "printing self.lowerbound -3300334.86516\n",
        "printing  lbound"
       ]
      },
      {
       "output_type": "stream",
       "stream": "stdout",
       "text": [
        " -21253.652854\n",
        "printing self.lowerbound -3319593.68085\n",
        "printing  lbound"
       ]
      },
      {
       "output_type": "stream",
       "stream": "stdout",
       "text": [
        " -21160.0841707\n",
        "printing self.lowerbound -3340847.33371\n",
        "printing  lbound -21340.4153705\n",
        "printing self.lowerbound -3362007.41788\n",
        "printing  lbound"
       ]
      },
      {
       "output_type": "stream",
       "stream": "stdout",
       "text": [
        " -19111.9075624\n",
        "printing self.lowerbound -3383347.83325\n",
        "printing  lbound -19664.1762806\n",
        "printing self.lowerbound -3402459.74081\n",
        "printing  lbound"
       ]
      },
      {
       "output_type": "stream",
       "stream": "stdout",
       "text": [
        " -19657.4003781\n",
        "printing self.lowerbound -3422123.91709\n",
        "printing  lbound -19867.8670205\n",
        "printing self.lowerbound -3441781.31747\n",
        "printing  lbound"
       ]
      },
      {
       "output_type": "stream",
       "stream": "stdout",
       "text": [
        " -18809.4694751\n",
        "printing self.lowerbound -3461649.18449\n",
        "printing  lbound -19554.6984198\n",
        "printing self.lowerbound -3480458.65397\n",
        "printing  lbound"
       ]
      },
      {
       "output_type": "stream",
       "stream": "stdout",
       "text": [
        " -19940.9965045\n",
        "printing self.lowerbound -3500013.35239\n",
        "printing  lbound -19815.0683614\n",
        "printing self.lowerbound -3519954.34889\n",
        "printing  lbound"
       ]
      },
      {
       "output_type": "stream",
       "stream": "stdout",
       "text": [
        " -20273.5311447\n",
        "printing self.lowerbound -3539769.41725\n",
        "printing  lbound -20103.6852697\n",
        "printing self.lowerbound -3560042.9484\n",
        "printing  lbound"
       ]
      },
      {
       "output_type": "stream",
       "stream": "stdout",
       "text": [
        " -19413.3040957\n",
        "printing self.lowerbound -3580146.63367\n",
        "printing  lbound -19601.508651\n",
        "printing self.lowerbound -3599559.93776\n",
        "printing  lbound"
       ]
      },
      {
       "output_type": "stream",
       "stream": "stdout",
       "text": [
        " -20327.8425653\n",
        "printing self.lowerbound -3619161.44641\n",
        "printing  lbound -19146.5332172\n",
        "printing self.lowerbound -3639489.28898\n",
        "printing  lbound"
       ]
      },
      {
       "output_type": "stream",
       "stream": "stdout",
       "text": [
        " -19213.244791\n",
        "printing self.lowerbound -3658635.8222\n",
        "printing  lbound -19076.9698593\n",
        "printing self.lowerbound -3677849.06699\n",
        "printing  lbound"
       ]
      },
      {
       "output_type": "stream",
       "stream": "stdout",
       "text": [
        " -19736.4173683\n",
        "printing self.lowerbound -3696926.03685\n",
        "printing  lbound -18891.3865432\n",
        "printing self.lowerbound -3716662.45421\n",
        "printing  lbound"
       ]
      },
      {
       "output_type": "stream",
       "stream": "stdout",
       "text": [
        " -20483.9239995\n",
        "printing self.lowerbound -3735553.84076\n",
        "printing  lbound -20649.8557771\n",
        "printing self.lowerbound -3756037.76476\n",
        "printing  lbound"
       ]
      },
      {
       "output_type": "stream",
       "stream": "stdout",
       "text": [
        " -19435.8477219\n",
        "printing self.lowerbound -3776687.62053\n",
        "printing  lbound -19309.4718457\n",
        "printing self.lowerbound -3796123.46826\n",
        "printing  lbound"
       ]
      },
      {
       "output_type": "stream",
       "stream": "stdout",
       "text": [
        " -21159.3773115\n",
        "printing self.lowerbound -3815432.9401\n",
        "printing  lbound -20863.4616818\n",
        "printing self.lowerbound -3836592.31741\n",
        "printing  lbound"
       ]
      },
      {
       "output_type": "stream",
       "stream": "stdout",
       "text": [
        " -20961.0773904\n",
        "printing self.lowerbound -3857455.7791\n",
        "printing  lbound -19720.2302415\n",
        "printing self.lowerbound -3878416.85649\n",
        "printing  lbound"
       ]
      },
      {
       "output_type": "stream",
       "stream": "stdout",
       "text": [
        " -20468.0904884\n",
        "printing self.lowerbound -3898137.08673\n",
        "printing  lbound -20259.5288867\n",
        "printing self.lowerbound -3918605.17722\n",
        "printing  lbound"
       ]
      },
      {
       "output_type": "stream",
       "stream": "stdout",
       "text": [
        " -18941.9397911\n",
        "printing self.lowerbound -3938864.7061\n",
        "printing  lbound -17789.7688554\n",
        "printing self.lowerbound -3957806.64589\n",
        "printing  lbound"
       ]
      },
      {
       "output_type": "stream",
       "stream": "stdout",
       "text": [
        " -20142.5231304\n",
        "printing self.lowerbound -3975596.41475\n",
        "printing  lbound -19173.1285491\n",
        "printing self.lowerbound -3995738.93788\n",
        "printing  lbound"
       ]
      },
      {
       "output_type": "stream",
       "stream": "stdout",
       "text": [
        " -18862.8239019\n",
        "printing self.lowerbound -4014912.06643\n",
        "printing  lbound -19113.0673395\n",
        "printing self.lowerbound -4033774.89033\n",
        "printing  lbound"
       ]
      },
      {
       "output_type": "stream",
       "stream": "stdout",
       "text": [
        " -18189.517928\n",
        "printing self.lowerbound -4052887.95767\n",
        "printing  lbound -18480.1490883\n",
        "printing self.lowerbound -4071077.4756\n",
        "printing  lbound"
       ]
      },
      {
       "output_type": "stream",
       "stream": "stdout",
       "text": [
        " -20237.5297704\n",
        "printing self.lowerbound -4089557.62469\n",
        "printing  lbound -19653.5940685\n",
        "printing self.lowerbound -4109795.15446\n",
        "printing  lbound"
       ]
      },
      {
       "output_type": "stream",
       "stream": "stdout",
       "text": [
        " -19753.4202588\n",
        "printing self.lowerbound -4129448.74852\n",
        "printing  lbound -19673.9063472\n",
        "printing self.lowerbound -4149202.16878\n",
        "printing  lbound"
       ]
      },
      {
       "output_type": "stream",
       "stream": "stdout",
       "text": [
        " -19509.6043363\n",
        "printing self.lowerbound -4168876.07513\n",
        "printing  lbound -19174.954817\n",
        "printing self.lowerbound -4188385.67947\n",
        "printing  lbound"
       ]
      },
      {
       "output_type": "stream",
       "stream": "stdout",
       "text": [
        " -19340.2804265\n",
        "printing self.lowerbound -4207560.63428\n",
        "printing  lbound -20878.5952027\n",
        "printing self.lowerbound -4226900.91471\n",
        "printing  lbound"
       ]
      },
      {
       "output_type": "stream",
       "stream": "stdout",
       "text": [
        " -21005.0921605\n",
        "printing self.lowerbound -4247779.50991\n",
        "printing  lbound -20420.4589478\n",
        "printing self.lowerbound -4268784.60207\n",
        "printing  lbound"
       ]
      },
      {
       "output_type": "stream",
       "stream": "stdout",
       "text": [
        " -19653.7122757\n",
        "printing self.lowerbound -4289205.06102\n",
        "printing  lbound -19844.2508457\n",
        "printing self.lowerbound -4308858.7733\n",
        "printing  lbound"
       ]
      },
      {
       "output_type": "stream",
       "stream": "stdout",
       "text": [
        " -20760.5268163\n",
        "printing self.lowerbound -4328703.02414\n",
        "printing  lbound -20434.1543483\n",
        "printing self.lowerbound -4349463.55096\n",
        "printing  lbound"
       ]
      },
      {
       "output_type": "stream",
       "stream": "stdout",
       "text": [
        " -23617.5417565\n",
        "printing self.lowerbound -4369897.70531\n",
        "printing  lbound -22674.0211049\n",
        "printing self.lowerbound -4393515.24706\n",
        "printing  lbound"
       ]
      },
      {
       "output_type": "stream",
       "stream": "stdout",
       "text": [
        " -23643.7879505\n",
        "printing self.lowerbound -4416189.26817\n",
        "printing  lbound -20372.9010575\n",
        "printing self.lowerbound -4439833.05612\n",
        "printing  lbound"
       ]
      },
      {
       "output_type": "stream",
       "stream": "stdout",
       "text": [
        " -19934.9193977\n",
        "printing self.lowerbound -4460205.95718\n",
        "printing  lbound -19829.2584146\n",
        "printing self.lowerbound -4480140.87657\n",
        "printing  lbound"
       ]
      },
      {
       "output_type": "stream",
       "stream": "stdout",
       "text": [
        " -19851.832174\n",
        "printing self.lowerbound -4499970.13499\n",
        "printing  lbound -19567.4050907\n",
        "printing self.lowerbound -4519821.96716\n",
        "printing  lbound"
       ]
      },
      {
       "output_type": "stream",
       "stream": "stdout",
       "text": [
        " -19056.6690897\n",
        "printing self.lowerbound -4539389.37225\n",
        "printing  lbound -19301.9344988\n",
        "printing self.lowerbound -4558446.04134\n",
        "printing  lbound"
       ]
      },
      {
       "output_type": "stream",
       "stream": "stdout",
       "text": [
        " -20384.9089447\n",
        "printing self.lowerbound -4577747.97584\n",
        "printing  lbound -19152.0961212\n",
        "printing self.lowerbound -4598132.88479\n",
        "printing  lbound"
       ]
      },
      {
       "output_type": "stream",
       "stream": "stdout",
       "text": [
        " -19211.1413998\n",
        "printing self.lowerbound -4617284.98091\n",
        "printing  lbound -19739.4256268\n",
        "printing self.lowerbound -4636496.12231\n",
        "printing  lbound"
       ]
      },
      {
       "output_type": "stream",
       "stream": "stdout",
       "text": [
        " -20379.5172064\n",
        "printing self.lowerbound -4656235.54793\n",
        "printing  lbound -19955.5510922\n",
        "printing self.lowerbound -4676615.06514\n",
        "printing  lbound"
       ]
      },
      {
       "output_type": "stream",
       "stream": "stdout",
       "text": [
        " -19280.9659268\n",
        "printing self.lowerbound -4696570.61623\n",
        "printing  lbound -18632.7271536\n",
        "printing self.lowerbound -4715851.58216\n",
        "printing  lbound"
       ]
      },
      {
       "output_type": "stream",
       "stream": "stdout",
       "text": [
        " -19095.3541281\n",
        "printing self.lowerbound -4734484.30931\n",
        "printing  lbound -20127.0624314\n",
        "printing self.lowerbound -4753579.66344\n",
        "printing  lbound"
       ]
      },
      {
       "output_type": "stream",
       "stream": "stdout",
       "text": [
        " -19730.8033977\n",
        "printing self.lowerbound -4773706.72587\n",
        "printing  lbound -20987.1954911\n",
        "printing self.lowerbound -4793437.52927\n",
        "printing  lbound"
       ]
      },
      {
       "output_type": "stream",
       "stream": "stdout",
       "text": [
        " -20875.488159\n",
        "printing self.lowerbound -4814424.72476\n",
        "printing  lbound -19709.403523\n",
        "printing self.lowerbound -4835300.21292\n",
        "printing  lbound"
       ]
      },
      {
       "output_type": "stream",
       "stream": "stdout",
       "text": [
        " -19255.1629933\n",
        "printing self.lowerbound -4855009.61644\n",
        "printing  lbound -19211.2577342\n",
        "printing self.lowerbound -4874264.77944\n",
        "printing  lbound"
       ]
      },
      {
       "output_type": "stream",
       "stream": "stdout",
       "text": [
        " -20261.9800525\n",
        "printing self.lowerbound -4893476.03717\n",
        "printing  lbound -20713.9370664\n",
        "printing self.lowerbound -4913738.01722\n",
        "printing  lbound"
       ]
      },
      {
       "output_type": "stream",
       "stream": "stdout",
       "text": [
        " -20333.7513687\n",
        "printing self.lowerbound -4934451.95429\n",
        "printing  lbound -20003.7390576\n",
        "printing self.lowerbound -4954785.70566\n",
        "printing  lbound"
       ]
      },
      {
       "output_type": "stream",
       "stream": "stdout",
       "text": [
        " -20683.7663562\n",
        "printing self.lowerbound -4974789.44472\n",
        "printing  lbound -20861.7834456\n",
        "printing self.lowerbound -4995473.21107\n",
        "printing  lbound"
       ]
      },
      {
       "output_type": "stream",
       "stream": "stdout",
       "text": [
        " -19928.0546724\n",
        "printing self.lowerbound -5016334.99452\n",
        "printing  lbound -19106.3547454\n",
        "printing self.lowerbound -5036263.04919\n",
        "printing  lbound"
       ]
      },
      {
       "output_type": "stream",
       "stream": "stdout",
       "text": [
        " -19834.1663076\n",
        "printing self.lowerbound -5055369.40394\n",
        "printing  lbound -19586.2085666\n",
        "printing self.lowerbound -5075203.57024\n",
        "printing  lbound"
       ]
      },
      {
       "output_type": "stream",
       "stream": "stdout",
       "text": [
        " -19272.724688\n",
        "printing self.lowerbound -5094789.77881\n",
        "printing  lbound -19281.0571921\n",
        "printing self.lowerbound -5114062.5035\n",
        "printing  lbound"
       ]
      },
      {
       "output_type": "stream",
       "stream": "stdout",
       "text": [
        " -20164.2403792\n",
        "printing self.lowerbound -5133343.56069\n",
        "printing  lbound -20009.876118\n",
        "printing self.lowerbound -5153507.80107\n",
        "printing  lbound"
       ]
      },
      {
       "output_type": "stream",
       "stream": "stdout",
       "text": [
        " -18996.3492526\n",
        "printing self.lowerbound -5173517.67719\n",
        "printing  lbound -18533.6182422\n",
        "printing self.lowerbound -5192514.02644\n",
        "printing  lbound"
       ]
      },
      {
       "output_type": "stream",
       "stream": "stdout",
       "text": [
        " -17730.6045159\n",
        "printing self.lowerbound -5211047.64468\n",
        "printing  lbound -19493.6673311\n",
        "printing self.lowerbound -5228778.2492\n",
        "printing  lbound"
       ]
      },
      {
       "output_type": "stream",
       "stream": "stdout",
       "text": [
        " -18701.8583863\n",
        "printing self.lowerbound -5248271.91653\n",
        "printing  lbound -20462.3535736\n",
        "printing self.lowerbound -5266973.77492\n",
        "printing  lbound"
       ]
      },
      {
       "output_type": "stream",
       "stream": "stdout",
       "text": [
        " -20031.4499741\n",
        "printing self.lowerbound -5287436.12849\n",
        "printing  lbound -19623.6747731\n",
        "printing self.lowerbound -5307467.57846\n",
        "printing  lbound"
       ]
      },
      {
       "output_type": "stream",
       "stream": "stdout",
       "text": [
        " -18450.0505686\n",
        "printing self.lowerbound -5327091.25324\n",
        "printing  lbound -18477.0846967\n",
        "printing self.lowerbound -5345541.30381\n",
        "printing  lbound"
       ]
      },
      {
       "output_type": "stream",
       "stream": "stdout",
       "text": [
        " -17266.2843145\n",
        "printing self.lowerbound -5364018.3885\n",
        "printing  lbound -18931.5710308\n",
        "printing self.lowerbound -5381284.67282\n",
        "printing  lbound"
       ]
      },
      {
       "output_type": "stream",
       "stream": "stdout",
       "text": [
        " -19146.5847933\n",
        "printing self.lowerbound -5400216.24385\n",
        "printing  lbound -19054.6520441\n",
        "printing self.lowerbound -5419362.82864\n",
        "printing  lbound"
       ]
      },
      {
       "output_type": "stream",
       "stream": "stdout",
       "text": [
        " -20289.1827637\n",
        "printing self.lowerbound -5438417.48068\n",
        "printing  lbound -18778.4585331\n",
        "printing self.lowerbound -5458706.66345\n",
        "printing  lbound"
       ]
      },
      {
       "output_type": "stream",
       "stream": "stdout",
       "text": [
        " -18660.2708914\n",
        "printing self.lowerbound -5477485.12198\n",
        "printing  lbound -19133.2542589\n",
        "printing self.lowerbound -5496145.39287\n",
        "printing  lbound"
       ]
      },
      {
       "output_type": "stream",
       "stream": "stdout",
       "text": [
        " -18296.011753\n",
        "printing self.lowerbound -5515278.64713\n",
        "printing  lbound -16686.9077675\n",
        "printing self.lowerbound -5533574.65889\n",
        "printing  lbound"
       ]
      },
      {
       "output_type": "stream",
       "stream": "stdout",
       "text": [
        " -18803.9418496\n",
        "printing self.lowerbound -5550261.56665\n",
        "printing  lbound -18728.356918\n",
        "printing self.lowerbound -5569065.5085\n",
        "printing  lbound"
       ]
      },
      {
       "output_type": "stream",
       "stream": "stdout",
       "text": [
        " -18144.4784344\n",
        "printing self.lowerbound -5587793.86542\n",
        "printing  lbound -18261.6227064\n",
        "printing self.lowerbound -5605938.34385\n",
        "printing  lbound"
       ]
      },
      {
       "output_type": "stream",
       "stream": "stdout",
       "text": [
        " -18323.8060959\n",
        "printing self.lowerbound -5624199.96656\n",
        "printing  lbound -18345.8498171\n",
        "printing self.lowerbound -5642523.77266\n",
        "printing  lbound"
       ]
      },
      {
       "output_type": "stream",
       "stream": "stdout",
       "text": [
        " -17907.8137337\n",
        "printing self.lowerbound -5660869.62247\n",
        "printing  lbound -19110.3741372\n",
        "printing self.lowerbound -5678777.43621\n",
        "printing  lbound"
       ]
      },
      {
       "output_type": "stream",
       "stream": "stdout",
       "text": [
        " -18939.5245851\n",
        "printing self.lowerbound -5697887.81035\n",
        "printing  lbound -17971.7133667\n",
        "printing self.lowerbound -5716827.33493\n",
        "printing  lbound"
       ]
      },
      {
       "output_type": "stream",
       "stream": "stdout",
       "text": [
        " -18200.4536672\n",
        "printing self.lowerbound -5734799.0483\n",
        "printing  lbound -18879.3920301\n",
        "printing self.lowerbound -5752999.50196\n",
        "printing  lbound"
       ]
      },
      {
       "output_type": "stream",
       "stream": "stdout",
       "text": [
        " -20452.3945987\n",
        "printing self.lowerbound -5771878.89399\n",
        "printing  lbound"
       ]
      },
      {
       "output_type": "stream",
       "stream": "stdout",
       "text": [
        " -19707.1512061\n",
        "printing self.lowerbound -5792331.28859\n",
        "printing  lbound -19715.1964226\n",
        "printing self.lowerbound -5812038.4398\n",
        "printing  lbound"
       ]
      },
      {
       "output_type": "stream",
       "stream": "stdout",
       "text": [
        " -20585.479973\n",
        "printing self.lowerbound -5831753.63622\n",
        "printing  lbound -18676.56591\n",
        "printing self.lowerbound -5852339.11619\n",
        "printing  lbound"
       ]
      },
      {
       "output_type": "stream",
       "stream": "stdout",
       "text": [
        " -18591.5440722\n",
        "printing self.lowerbound -5871015.6821\n",
        "printing  lbound -18880.0726805\n",
        "printing self.lowerbound -5889607.22618\n",
        "printing  lbound"
       ]
      },
      {
       "output_type": "stream",
       "stream": "stdout",
       "text": [
        " -18805.2333925\n",
        "printing self.lowerbound -5908487.29886\n",
        "printing  lbound"
       ]
      },
      {
       "output_type": "stream",
       "stream": "stdout",
       "text": [
        " -19189.6271483\n",
        "printing self.lowerbound -5927292.53225\n",
        "printing  lbound"
       ]
      },
      {
       "output_type": "stream",
       "stream": "stdout",
       "text": [
        " -18333.3208426\n",
        "printing self.lowerbound -5946482.1594\n",
        "printing  lbound"
       ]
      },
      {
       "output_type": "stream",
       "stream": "stdout",
       "text": [
        " -19037.4393717\n",
        "printing self.lowerbound -5964815.48024\n",
        "printing  lbound"
       ]
      },
      {
       "output_type": "stream",
       "stream": "stdout",
       "text": [
        " -20003.8883519\n",
        "printing self.lowerbound -5983852.91961\n",
        "printing  lbound -19506.9172553\n",
        "printing self.lowerbound -6003856.80796\n",
        "printing  lbound"
       ]
      },
      {
       "output_type": "stream",
       "stream": "stdout",
       "text": [
        " -19793.5857391\n",
        "printing self.lowerbound -6023363.72522\n",
        "printing  lbound -19015.7639899\n",
        "printing self.lowerbound -6043157.31096\n",
        "printing  lbound"
       ]
      },
      {
       "output_type": "stream",
       "stream": "stdout",
       "text": [
        " -19618.7741302\n",
        "printing self.lowerbound -6062173.07495\n",
        "printing  lbound -19194.2087156\n",
        "printing self.lowerbound -6081791.84908\n",
        "printing  lbound"
       ]
      },
      {
       "output_type": "stream",
       "stream": "stdout",
       "text": [
        " -20074.370846\n",
        "printing self.lowerbound -6100986.05779\n",
        "printing  lbound -20809.6560529\n",
        "printing self.lowerbound -6121060.42864\n",
        "printing  lbound"
       ]
      },
      {
       "output_type": "stream",
       "stream": "stdout",
       "text": [
        " -19130.1205446\n",
        "printing self.lowerbound -6141870.08469\n",
        "printing  lbound -19028.1985289\n",
        "printing self.lowerbound -6161000.20524\n",
        "printing  lbound"
       ]
      },
      {
       "output_type": "stream",
       "stream": "stdout",
       "text": [
        " -19069.1424979\n",
        "printing self.lowerbound -6180028.40377\n",
        "printing  lbound -19432.0326354\n",
        "printing self.lowerbound -6199097.54626\n",
        "printing  lbound"
       ]
      },
      {
       "output_type": "stream",
       "stream": "stdout",
       "text": [
        " -19182.6573114\n",
        "printing self.lowerbound -6218529.5789\n",
        "printing  lbound -17697.0987299\n",
        "printing self.lowerbound -6237712.23621\n",
        "printing  lbound"
       ]
      },
      {
       "output_type": "stream",
       "stream": "stdout",
       "text": [
        " -18551.3953135\n",
        "printing self.lowerbound -6255409.33494\n",
        "printing  lbound -17861.1382636\n",
        "printing self.lowerbound -6273960.73025\n",
        "printing  lbound"
       ]
      },
      {
       "output_type": "stream",
       "stream": "stdout",
       "text": [
        " -17029.0993821\n",
        "printing self.lowerbound -6291821.86852\n",
        "printing  lbound -18216.7108745\n",
        "printing self.lowerbound -6308850.9679\n",
        "printing  lbound"
       ]
      },
      {
       "output_type": "stream",
       "stream": "stdout",
       "text": [
        " -19749.9422564\n",
        "printing self.lowerbound -6327067.67877\n",
        "printing  lbound -19735.00972\n",
        "printing self.lowerbound -6346817.62103\n",
        "printing  lbound"
       ]
      },
      {
       "output_type": "stream",
       "stream": "stdout",
       "text": [
        " -19141.8608222\n",
        "printing self.lowerbound -6366552.63075\n",
        "printing  lbound -18947.3993651\n",
        "printing self.lowerbound -6385694.49157\n",
        "printing  lbound"
       ]
      },
      {
       "output_type": "stream",
       "stream": "stdout",
       "text": [
        " -19611.8707073\n",
        "printing self.lowerbound -6404641.89094\n",
        "printing  lbound"
       ]
      },
      {
       "output_type": "stream",
       "stream": "stdout",
       "text": [
        " -18595.031743\n",
        "printing self.lowerbound -6424253.76165\n",
        "printing  lbound -17987.5716297\n",
        "printing self.lowerbound -6442848.79339\n",
        "printing  lbound"
       ]
      },
      {
       "output_type": "stream",
       "stream": "stdout",
       "text": [
        " -18022.180165\n",
        "printing self.lowerbound -6460836.36502\n",
        "printing  lbound -18252.69435\n",
        "printing self.lowerbound -6478858.54518\n",
        "printing  lbound"
       ]
      },
      {
       "output_type": "stream",
       "stream": "stdout",
       "text": [
        " -17165.6308842\n",
        "printing self.lowerbound -6497111.23953\n",
        "printing  lbound -18375.4021342\n",
        "printing self.lowerbound -6514276.87042\n",
        "printing  lbound"
       ]
      },
      {
       "output_type": "stream",
       "stream": "stdout",
       "text": [
        " -18547.0252103\n",
        "printing self.lowerbound -6532652.27255\n",
        "printing  lbound"
       ]
      },
      {
       "output_type": "stream",
       "stream": "stdout",
       "text": [
        " -19421.1412245\n",
        "printing self.lowerbound -6551199.29776\n",
        "printing  lbound -18109.5188424\n",
        "printing self.lowerbound -6570620.43899\n",
        "printing  lbound"
       ]
      },
      {
       "output_type": "stream",
       "stream": "stdout",
       "text": [
        " -18834.1050456\n",
        "printing self.lowerbound -6588729.95783\n",
        "printing  lbound -17786.9293504\n",
        "printing self.lowerbound -6607564.06288\n",
        "printing  lbound"
       ]
      },
      {
       "output_type": "stream",
       "stream": "stdout",
       "text": [
        " -19158.6133824\n",
        "printing self.lowerbound -6625350.99223\n",
        "printing  lbound"
       ]
      },
      {
       "output_type": "stream",
       "stream": "stdout",
       "text": [
        " -18854.1527391\n",
        "printing self.lowerbound -6644509.60561\n",
        "printing  lbound -18891.930088\n",
        "printing self.lowerbound -6663363.75835\n",
        "printing  lbound"
       ]
      },
      {
       "output_type": "stream",
       "stream": "stdout",
       "text": [
        " -18497.429496\n",
        "printing self.lowerbound -6682255.68844\n",
        "printing  lbound -18995.0899562\n",
        "printing self.lowerbound -6700753.11793\n",
        "printing  lbound"
       ]
      },
      {
       "output_type": "stream",
       "stream": "stdout",
       "text": [
        " -19600.3842419\n",
        "printing self.lowerbound -6719748.20789\n",
        "printing  lbound -19803.7144837\n",
        "printing self.lowerbound -6739348.59213\n",
        "printing  lbound"
       ]
      },
      {
       "output_type": "stream",
       "stream": "stdout",
       "text": [
        " -19240.4505789\n",
        "printing self.lowerbound -6759152.30661\n",
        "printing  lbound"
       ]
      },
      {
       "output_type": "stream",
       "stream": "stdout",
       "text": [
        " -20414.54154\n",
        "printing self.lowerbound -6778392.75719\n",
        "printing  lbound"
       ]
      },
      {
       "output_type": "stream",
       "stream": "stdout",
       "text": [
        " -19769.5968875\n",
        "printing self.lowerbound -6798807.29873\n",
        "printing  lbound"
       ]
      },
      {
       "output_type": "stream",
       "stream": "stdout",
       "text": [
        " -19272.3495016\n",
        "printing self.lowerbound -6818576.89562\n",
        "printing  lbound -18277.8024177\n",
        "printing self.lowerbound -6837849.24512\n",
        "printing  lbound"
       ]
      },
      {
       "output_type": "stream",
       "stream": "stdout",
       "text": [
        " -17475.9987826\n",
        "printing self.lowerbound -6856127.04754\n",
        "printing  lbound"
       ]
      },
      {
       "output_type": "stream",
       "stream": "stdout",
       "text": [
        " -18964.0423186\n",
        "printing self.lowerbound -6873603.04632\n",
        "printing  lbound"
       ]
      },
      {
       "output_type": "stream",
       "stream": "stdout",
       "text": [
        " -20479.713526\n",
        "printing self.lowerbound -6892567.08864\n",
        "printing  lbound"
       ]
      },
      {
       "output_type": "stream",
       "stream": "stdout",
       "text": [
        " -19054.2564461\n",
        "printing self.lowerbound -6913046.80217\n",
        "printing  lbound"
       ]
      },
      {
       "output_type": "stream",
       "stream": "stdout",
       "text": [
        " -19810.4363634\n",
        "printing self.lowerbound -6932101.05861\n",
        "printing  lbound"
       ]
      },
      {
       "output_type": "stream",
       "stream": "stdout",
       "text": [
        " -19027.6448756\n",
        "printing self.lowerbound -6951911.49498\n",
        "printing  lbound"
       ]
      },
      {
       "output_type": "stream",
       "stream": "stdout",
       "text": [
        " -18723.7718301\n",
        "printing self.lowerbound -6970939.13985\n",
        "printing  lbound -18191.5260684\n",
        "printing self.lowerbound -6989662.91168\n",
        "printing  lbound"
       ]
      },
      {
       "output_type": "stream",
       "stream": "stdout",
       "text": [
        " -17976.6705626\n",
        "printing self.lowerbound -7007854.43775\n",
        "printing  lbound"
       ]
      },
      {
       "output_type": "stream",
       "stream": "stdout",
       "text": [
        " -18087.7066223\n",
        "printing self.lowerbound -7025831.10831\n",
        "printing  lbound"
       ]
      },
      {
       "output_type": "stream",
       "stream": "stdout",
       "text": [
        " -17963.8437294\n",
        "printing self.lowerbound -7043918.81493\n",
        "printing  lbound"
       ]
      },
      {
       "output_type": "stream",
       "stream": "stdout",
       "text": [
        " -18058.1119632\n",
        "printing self.lowerbound -7061882.65866\n",
        "printing  lbound"
       ]
      },
      {
       "output_type": "stream",
       "stream": "stdout",
       "text": [
        " -18629.5402031\n",
        "printing self.lowerbound -7079940.77063\n",
        "printing  lbound"
       ]
      },
      {
       "output_type": "stream",
       "stream": "stdout",
       "text": [
        " -19378.3147175\n",
        "printing self.lowerbound -7098570.31083\n",
        "printing  lbound"
       ]
      },
      {
       "output_type": "stream",
       "stream": "stdout",
       "text": [
        " -18348.8345498\n",
        "printing self.lowerbound -7117948.62555\n",
        "printing  lbound"
       ]
      },
      {
       "output_type": "stream",
       "stream": "stdout",
       "text": [
        " -18580.0526514\n",
        "printing self.lowerbound -7136297.4601\n",
        "printing  lbound"
       ]
      },
      {
       "output_type": "stream",
       "stream": "stdout",
       "text": [
        " -19430.5526466\n",
        "printing self.lowerbound -7154877.51275\n",
        "printing  lbound"
       ]
      },
      {
       "output_type": "stream",
       "stream": "stdout",
       "text": [
        " -19074.5069606\n",
        "printing self.lowerbound -7174308.0654\n",
        "printing  lbound"
       ]
      },
      {
       "output_type": "stream",
       "stream": "stdout",
       "text": [
        " -19773.5388389\n",
        "printing self.lowerbound -7193382.57236\n",
        "printing  lbound"
       ]
      },
      {
       "output_type": "stream",
       "stream": "stdout",
       "text": [
        " -19619.5492955\n",
        "printing self.lowerbound -7213156.11119\n",
        "printing  lbound"
       ]
      },
      {
       "output_type": "stream",
       "stream": "stdout",
       "text": [
        " -19899.7956558\n",
        "printing self.lowerbound -7232775.66049\n",
        "printing  lbound"
       ]
      },
      {
       "output_type": "stream",
       "stream": "stdout",
       "text": [
        " -18334.0960086\n",
        "printing self.lowerbound -7252675.45615\n",
        "printing  lbound -19621.3851287\n",
        "printing self.lowerbound -7271009.55215\n",
        "printing  lbound"
       ]
      },
      {
       "output_type": "stream",
       "stream": "stdout",
       "text": [
        " -18984.5592812\n",
        "printing self.lowerbound -7290630.93728\n",
        "printing  lbound -18554.8640128\n",
        "printing self.lowerbound -7309615.49656\n",
        "printing  lbound"
       ]
      },
      {
       "output_type": "stream",
       "stream": "stdout",
       "text": [
        " -18774.627134\n",
        "printing self.lowerbound -7328170.36058\n",
        "printing  lbound -20648.6416225\n",
        "printing self.lowerbound -7346944.98771\n",
        "printing  lbound"
       ]
      },
      {
       "output_type": "stream",
       "stream": "stdout",
       "text": [
        " -18891.4738532\n",
        "printing self.lowerbound -7367593.62933\n",
        "printing  lbound -19193.3246547\n",
        "printing self.lowerbound -7386485.10319\n",
        "printing  lbound"
       ]
      },
      {
       "output_type": "stream",
       "stream": "stdout",
       "text": [
        " -19062.3077015\n",
        "printing self.lowerbound -7405678.42784\n",
        "printing  lbound -18651.8163884\n",
        "printing self.lowerbound -7424740.73554\n",
        "printing  lbound"
       ]
      },
      {
       "output_type": "stream",
       "stream": "stdout",
       "text": [
        " -18817.1837615\n",
        "printing self.lowerbound -7443392.55193\n",
        "printing  lbound -17800.0534029\n",
        "printing self.lowerbound -7462209.73569\n",
        "printing  lbound"
       ]
      },
      {
       "output_type": "stream",
       "stream": "stdout",
       "text": [
        " -20467.45353\n",
        "printing self.lowerbound -7480009.7891\n",
        "printing  lbound -19773.248886\n",
        "printing self.lowerbound -7500477.24263\n",
        "printing  lbound"
       ]
      },
      {
       "output_type": "stream",
       "stream": "stdout",
       "text": [
        " -19462.8397371\n",
        "printing self.lowerbound -7520250.49151\n",
        "printing  lbound -19258.032494\n",
        "printing self.lowerbound -7539713.33125\n",
        "printing  lbound"
       ]
      },
      {
       "output_type": "stream",
       "stream": "stdout",
       "text": [
        " -19494.9810366\n",
        "printing self.lowerbound -7558971.36374\n",
        "printing  lbound -19077.3290327\n",
        "printing self.lowerbound -7578466.34478\n",
        "printing  lbound"
       ]
      },
      {
       "output_type": "stream",
       "stream": "stdout",
       "text": [
        " -19914.131308\n",
        "printing self.lowerbound -7597543.67381\n",
        "printing  lbound -19206.4854165\n",
        "printing self.lowerbound -7617457.80512\n",
        "printing  lbound"
       ]
      },
      {
       "output_type": "stream",
       "stream": "stdout",
       "text": [
        " -17895.369355\n",
        "printing self.lowerbound -7636664.29054\n",
        "printing  lbound"
       ]
      },
      {
       "output_type": "stream",
       "stream": "stdout",
       "text": [
        " -18455.5093508\n",
        "printing self.lowerbound -7654559.65989\n",
        "printing  lbound -18967.6543597\n",
        "printing self.lowerbound -7673015.16924\n",
        "printing  lbound"
       ]
      },
      {
       "output_type": "stream",
       "stream": "stdout",
       "text": [
        " -19442.3112486\n",
        "printing self.lowerbound -7691982.8236\n",
        "printing  lbound -19485.2331743\n",
        "printing self.lowerbound -7711425.13485\n",
        "printing  lbound"
       ]
      },
      {
       "output_type": "stream",
       "stream": "stdout",
       "text": [
        " -19149.8701813\n",
        "printing self.lowerbound -7730910.36803\n",
        "printing  lbound -19340.7731779\n",
        "printing self.lowerbound -7750060.23821\n",
        "printing  lbound"
       ]
      },
      {
       "output_type": "stream",
       "stream": "stdout",
       "text": [
        " -18815.0440444\n",
        "printing self.lowerbound -7769401.01138\n",
        "printing  lbound -20262.02399\n",
        "printing self.lowerbound -7788216.05543\n",
        "printing  lbound"
       ]
      },
      {
       "output_type": "stream",
       "stream": "stdout",
       "text": [
        " -19403.7224381\n",
        "printing self.lowerbound -7808478.07942\n",
        "printing  lbound -18466.1553385\n",
        "printing self.lowerbound -7827881.80186\n",
        "printing  lbound"
       ]
      },
      {
       "output_type": "stream",
       "stream": "stdout",
       "text": [
        " -17822.8091143\n",
        "printing self.lowerbound -7846347.9572\n",
        "printing  lbound -19968.0272952\n",
        "printing self.lowerbound -7864170.76631\n",
        "printing  lbound"
       ]
      },
      {
       "output_type": "stream",
       "stream": "stdout",
       "text": [
        " -19367.2107605\n",
        "printing self.lowerbound -7884138.7936\n",
        "printing  lbound -18507.0179601\n",
        "printing self.lowerbound -7903506.00437\n",
        "printing  lbound"
       ]
      },
      {
       "output_type": "stream",
       "stream": "stdout",
       "text": [
        " -17743.9495479\n",
        "printing self.lowerbound -7922013.02233\n",
        "printing  lbound -18834.8313391\n",
        "printing self.lowerbound -7939756.97187\n",
        "printing  lbound"
       ]
      },
      {
       "output_type": "stream",
       "stream": "stdout",
       "text": [
        " -20600.9346843\n",
        "printing self.lowerbound -7958591.80321\n",
        "printing  lbound -18953.9970319\n",
        "printing self.lowerbound -7979192.7379\n",
        "printing  lbound"
       ]
      },
      {
       "output_type": "stream",
       "stream": "stdout",
       "text": [
        " -18686.0147515\n",
        "printing self.lowerbound -7998146.73493\n",
        "printing  lbound -18402.7031859\n",
        "printing self.lowerbound -8016832.74968\n",
        "printing  lbound"
       ]
      },
      {
       "output_type": "stream",
       "stream": "stdout",
       "text": [
        " -18026.5459801\n",
        "printing self.lowerbound -8035235.45287\n",
        "printing  lbound -18879.3148767\n",
        "printing self.lowerbound -8053261.99885\n",
        "printing  lbound"
       ]
      },
      {
       "output_type": "stream",
       "stream": "stdout",
       "text": [
        " -19182.662952\n",
        "printing self.lowerbound -8072141.31372\n",
        "printing  lbound -19365.135689\n",
        "printing self.lowerbound -8091323.97667\n",
        "printing  lbound"
       ]
      },
      {
       "output_type": "stream",
       "stream": "stdout",
       "text": [
        " -19104.7798745\n",
        "printing self.lowerbound -8110689.11236\n",
        "printing  lbound -17637.9795402\n",
        "printing self.lowerbound -8129793.89224\n",
        "printing  lbound"
       ]
      },
      {
       "output_type": "stream",
       "stream": "stdout",
       "text": [
        " -18378.4909703\n",
        "printing self.lowerbound -8147431.87178\n",
        "printing  lbound"
       ]
      },
      {
       "output_type": "stream",
       "stream": "stdout",
       "text": [
        " -18845.0925352\n",
        "printing self.lowerbound -8165810.36275\n",
        "printing  lbound"
       ]
      },
      {
       "output_type": "stream",
       "stream": "stdout",
       "text": [
        " -18975.6881586\n",
        "printing self.lowerbound -8184655.45528\n",
        "printing  lbound -18512.8479248\n",
        "printing self.lowerbound -8203631.14344\n",
        "printing  lbound"
       ]
      },
      {
       "output_type": "stream",
       "stream": "stdout",
       "text": [
        " -18054.4001109\n",
        "printing self.lowerbound -8222143.99137\n",
        "printing  lbound -19118.3003264\n",
        "printing self.lowerbound -8240198.39148\n",
        "printing  lbound"
       ]
      },
      {
       "output_type": "stream",
       "stream": "stdout",
       "text": [
        " -18970.7096886\n",
        "printing self.lowerbound -8259316.6918\n",
        "printing  lbound -18368.4434806\n",
        "printing self.lowerbound -8278287.40149\n",
        "printing  lbound"
       ]
      },
      {
       "output_type": "stream",
       "stream": "stdout",
       "text": [
        " -20344.042136\n",
        "printing self.lowerbound -8296655.84497\n",
        "printing  lbound -20319.9795451\n",
        "printing self.lowerbound -8316999.88711\n",
        "printing  lbound"
       ]
      },
      {
       "output_type": "stream",
       "stream": "stdout",
       "text": [
        " -19089.9956869\n",
        "printing self.lowerbound -8337319.86665\n",
        "printing  lbound -18436.5794139\n",
        "printing self.lowerbound -8356409.86234\n",
        "printing  lbound"
       ]
      },
      {
       "output_type": "stream",
       "stream": "stdout",
       "text": [
        " -18934.6808139\n",
        "printing self.lowerbound -8374846.44176\n",
        "printing  lbound -18347.2798734\n",
        "printing self.lowerbound -8393781.12257\n",
        "printing  lbound"
       ]
      },
      {
       "output_type": "stream",
       "stream": "stdout",
       "text": [
        " -18503.0609276\n",
        "printing self.lowerbound -8412128.40244\n",
        "printing  lbound -19371.5549749\n",
        "printing self.lowerbound -8430631.46337\n",
        "printing  lbound"
       ]
      },
      {
       "output_type": "stream",
       "stream": "stdout",
       "text": [
        " -19410.6414834\n",
        "printing self.lowerbound -8450003.01835\n",
        "printing  lbound -20523.8591402\n",
        "printing self.lowerbound -8469413.65983\n",
        "printing  lbound"
       ]
      },
      {
       "output_type": "stream",
       "stream": "stdout",
       "text": [
        " -20211.1213874\n",
        "printing self.lowerbound -8489937.51897\n",
        "printing  lbound -18704.8802083\n",
        "printing self.lowerbound -8510148.64036\n",
        "printing  lbound"
       ]
      },
      {
       "output_type": "stream",
       "stream": "stdout",
       "text": [
        " -18108.2690519\n",
        "printing self.lowerbound -8528853.52056\n",
        "printing  lbound -17185.6565903\n",
        "printing self.lowerbound -8546961.78962\n",
        "printing  lbound"
       ]
      },
      {
       "output_type": "stream",
       "stream": "stdout",
       "text": [
        " -18495.3268352\n",
        "printing self.lowerbound -8564147.44621\n",
        "printing  lbound"
       ]
      },
      {
       "output_type": "stream",
       "stream": "stdout",
       "text": [
        " -19202.0388358\n",
        "printing self.lowerbound -8582642.77304\n",
        "printing  lbound -18705.2543072\n",
        "printing self.lowerbound -8601844.81188\n",
        "printing  lbound"
       ]
      },
      {
       "output_type": "stream",
       "stream": "stdout",
       "text": [
        " -18114.04005\n",
        "printing self.lowerbound -8620550.06619\n",
        "printing  lbound -18743.8058064\n",
        "printing self.lowerbound -8638664.10624\n",
        "printing  lbound"
       ]
      },
      {
       "output_type": "stream",
       "stream": "stdout",
       "text": [
        " -20483.0529186\n",
        "printing self.lowerbound -8657407.91204\n",
        "printing  lbound -19408.5859279\n",
        "printing self.lowerbound -8677890.96496\n",
        "printing  lbound"
       ]
      },
      {
       "output_type": "stream",
       "stream": "stdout",
       "text": [
        " -18902.8530415\n",
        "printing self.lowerbound -8697299.55089\n",
        "printing  lbound -19769.3242161\n",
        "printing self.lowerbound -8716202.40393\n",
        "printing  lbound"
       ]
      },
      {
       "output_type": "stream",
       "stream": "stdout",
       "text": [
        " -19049.7544339\n",
        "printing self.lowerbound -8735971.72815\n",
        "printing  lbound -18384.130391\n",
        "printing self.lowerbound -8755021.48258\n",
        "printing  lbound"
       ]
      },
      {
       "output_type": "stream",
       "stream": "stdout",
       "text": [
        " -18334.5069413\n",
        "printing self.lowerbound -8773405.61297\n",
        "printing  lbound -17071.7587643\n",
        "printing self.lowerbound -8791740.11991\n",
        "printing  lbound"
       ]
      },
      {
       "output_type": "stream",
       "stream": "stdout",
       "text": [
        " -18008.7316932\n",
        "printing self.lowerbound -8808811.87868\n",
        "printing  lbound -18634.4943072\n",
        "printing self.lowerbound -8826820.61037\n",
        "printing  lbound"
       ]
      },
      {
       "output_type": "stream",
       "stream": "stdout",
       "text": [
        " -18752.1851416\n",
        "printing self.lowerbound -8845455.10468\n",
        "printing  lbound -18781.9309107\n",
        "printing self.lowerbound -8864207.28982\n",
        "printing  lbound"
       ]
      },
      {
       "output_type": "stream",
       "stream": "stdout",
       "text": [
        " -18997.1014844\n",
        "printing self.lowerbound -8882989.22073\n",
        "printing  lbound -19072.7407061\n",
        "printing self.lowerbound -8901986.32221\n",
        "printing  lbound"
       ]
      },
      {
       "output_type": "stream",
       "stream": "stdout",
       "text": [
        " -17348.8320049\n",
        "printing self.lowerbound -8921059.06292\n",
        "printing  lbound -18499.1120804\n",
        "printing self.lowerbound -8938407.89492\n",
        "printing  lbound"
       ]
      },
      {
       "output_type": "stream",
       "stream": "stdout",
       "text": [
        " -17159.5577441\n",
        "printing self.lowerbound -8956907.007\n",
        "printing  lbound"
       ]
      },
      {
       "output_type": "stream",
       "stream": "stdout",
       "text": [
        " -18927.5477694\n",
        "printing self.lowerbound -8974066.56475\n",
        "printing  lbound -19435.4151357\n",
        "printing self.lowerbound -8992994.11252\n",
        "printing  lbound"
       ]
      },
      {
       "output_type": "stream",
       "stream": "stdout",
       "text": [
        " -19393.2304156\n",
        "printing self.lowerbound -9012429.52765\n",
        "printing  lbound -19213.0911157\n",
        "printing self.lowerbound -9031822.75807\n",
        "printing  lbound"
       ]
      },
      {
       "output_type": "stream",
       "stream": "stdout",
       "text": [
        " -19568.0884794\n",
        "printing self.lowerbound -9051035.84919\n",
        "printing  lbound -18463.59243\n",
        "printing self.lowerbound -9070603.93766\n",
        "printing  lbound"
       ]
      },
      {
       "output_type": "stream",
       "stream": "stdout",
       "text": [
        " -18016.5749287\n",
        "printing self.lowerbound -9089067.53009\n",
        "printing  lbound -18734.5832465\n",
        "printing self.lowerbound -9107084.10502\n",
        "printing  lbound"
       ]
      },
      {
       "output_type": "stream",
       "stream": "stdout",
       "text": [
        " -18192.7347226\n",
        "printing self.lowerbound -9125818.68827\n",
        "printing  lbound -18364.6153886\n",
        "printing self.lowerbound -9144011.42299\n",
        "printing  lbound"
       ]
      },
      {
       "output_type": "stream",
       "stream": "stdout",
       "text": [
        " -18339.9523381\n",
        "printing self.lowerbound -9162376.03838\n",
        "printing  lbound -19221.5572933\n",
        "printing self.lowerbound -9180715.99072\n",
        "printing  lbound"
       ]
      },
      {
       "output_type": "stream",
       "stream": "stdout",
       "text": [
        " -19465.7901251\n",
        "printing self.lowerbound -9199937.54801\n",
        "printing  lbound -18900.3395699\n",
        "printing self.lowerbound -9219403.33814\n",
        "printing  lbound"
       ]
      },
      {
       "output_type": "stream",
       "stream": "stdout",
       "text": [
        " -18995.6365123\n",
        "printing self.lowerbound -9238303.67771\n",
        "printing  lbound -18299.1422967\n",
        "printing self.lowerbound -9257299.31422\n",
        "printing  lbound"
       ]
      },
      {
       "output_type": "stream",
       "stream": "stdout",
       "text": [
        " -18460.8072867\n",
        "printing self.lowerbound -9275598.45652\n",
        "printing  lbound -18806.4910831\n",
        "printing self.lowerbound -9294059.2638\n",
        "printing  lbound"
       ]
      },
      {
       "output_type": "stream",
       "stream": "stdout",
       "text": [
        " -18717.0921981\n",
        "printing self.lowerbound -9312865.75489\n",
        "printing  lbound -17913.4486278\n",
        "printing self.lowerbound -9331582.84708\n",
        "printing  lbound"
       ]
      },
      {
       "output_type": "stream",
       "stream": "stdout",
       "text": [
        " -18295.9433513\n",
        "printing self.lowerbound -9349496.29571\n",
        "printing  lbound"
       ]
      },
      {
       "output_type": "stream",
       "stream": "stdout",
       "text": [
        " -17563.1815133\n",
        "printing self.lowerbound -9367792.23906\n",
        "printing  lbound -18689.0628761\n",
        "printing self.lowerbound -9385355.42058\n",
        "printing  lbound"
       ]
      },
      {
       "output_type": "stream",
       "stream": "stdout",
       "text": [
        " -19017.2605143\n",
        "printing self.lowerbound -9404044.48345\n",
        "printing  lbound"
       ]
      },
      {
       "output_type": "stream",
       "stream": "stdout",
       "text": [
        " -18885.9489168\n",
        "printing self.lowerbound -9423061.74397\n",
        "printing  lbound -18667.315077\n",
        "printing self.lowerbound -9441947.69288\n",
        "printing  lbound"
       ]
      },
      {
       "output_type": "stream",
       "stream": "stdout",
       "text": [
        " -18822.1494164\n",
        "printing self.lowerbound -9460615.00796\n",
        "printing  lbound -18466.7346779\n",
        "printing self.lowerbound -9479437.15738\n",
        "printing  lbound"
       ]
      },
      {
       "output_type": "stream",
       "stream": "stdout",
       "text": [
        " -19397.9062473\n",
        "printing self.lowerbound -9497903.89206\n",
        "printing  lbound -18469.6756271\n",
        "printing self.lowerbound -9517301.7983\n",
        "printing  lbound"
       ]
      },
      {
       "output_type": "stream",
       "stream": "stdout",
       "text": [
        " -18254.948418\n",
        "printing self.lowerbound -9535771.47393\n",
        "printing  lbound -18315.2817899\n",
        "printing self.lowerbound -9554026.42235\n",
        "printing  lbound"
       ]
      },
      {
       "output_type": "stream",
       "stream": "stdout",
       "text": [
        " -17722.4413363\n",
        "printing self.lowerbound -9572341.70414\n",
        "printing  lbound -17775.8809516\n",
        "printing self.lowerbound -9590064.14547\n",
        "printing  lbound"
       ]
      },
      {
       "output_type": "stream",
       "stream": "stdout",
       "text": [
        " -19472.6841213\n",
        "printing self.lowerbound -9607840.02643\n",
        "printing  lbound -19295.0490673\n",
        "printing self.lowerbound -9627312.71055\n",
        "printing  lbound"
       ]
      },
      {
       "output_type": "stream",
       "stream": "stdout",
       "text": [
        " -20574.7425188\n",
        "printing self.lowerbound -9646607.75961\n",
        "printing  lbound -18841.472893\n",
        "printing self.lowerbound -9667182.50213\n",
        "printing  lbound"
       ]
      },
      {
       "output_type": "stream",
       "stream": "stdout",
       "text": [
        " -18480.1321893\n",
        "printing self.lowerbound -9686023.97503\n",
        "printing  lbound -18074.271697\n",
        "printing self.lowerbound -9704504.10722\n",
        "printing  lbound"
       ]
      },
      {
       "output_type": "stream",
       "stream": "stdout",
       "text": [
        " -18427.2934569\n",
        "printing self.lowerbound -9722578.37891\n",
        "printing  lbound -18716.2492663\n",
        "printing self.lowerbound -9741005.67237\n",
        "printing  lbound"
       ]
      },
      {
       "output_type": "stream",
       "stream": "stdout",
       "text": [
        " -18963.9516405\n",
        "printing self.lowerbound -9759721.92164\n",
        "printing  lbound -18880.4812268\n",
        "printing self.lowerbound -9778685.87328\n",
        "printing  lbound"
       ]
      },
      {
       "output_type": "stream",
       "stream": "stdout",
       "text": [
        " -19061.3610571\n",
        "printing self.lowerbound -9797566.3545\n",
        "printing  lbound -19377.5275082\n",
        "printing self.lowerbound -9816627.71556\n",
        "printing  lbound"
       ]
      },
      {
       "output_type": "stream",
       "stream": "stdout",
       "text": [
        " -18940.6233527\n",
        "printing self.lowerbound -9836005.24307\n",
        "printing  lbound -18512.726634\n",
        "printing self.lowerbound -9854945.86642\n",
        "printing  lbound"
       ]
      },
      {
       "output_type": "stream",
       "stream": "stdout",
       "text": [
        " -18042.283399\n",
        "printing self.lowerbound -9873458.59305\n",
        "printing  lbound"
       ]
      },
      {
       "output_type": "stream",
       "stream": "stdout",
       "text": [
        " -17714.5407464\n",
        "printing self.lowerbound -9891500.87645\n",
        "printing  lbound"
       ]
      },
      {
       "output_type": "stream",
       "stream": "stdout",
       "text": [
        " -18137.1741934\n",
        "printing self.lowerbound -9909215.4172\n",
        "printing  lbound"
       ]
      },
      {
       "output_type": "stream",
       "stream": "stdout",
       "text": [
        " -20242.7833266\n",
        "printing self.lowerbound -9927352.59139\n",
        "printing  lbound"
       ]
      },
      {
       "output_type": "stream",
       "stream": "stdout",
       "text": [
        " -18968.7241217\n",
        "printing self.lowerbound -9947595.37472\n",
        "printing  lbound -17805.6562262\n",
        "printing self.lowerbound -9966564.09884\n",
        "printing  lbound"
       ]
      },
      {
       "output_type": "stream",
       "stream": "stdout",
       "text": [
        " -19278.3405673\n",
        "printing self.lowerbound -9984369.75507\n",
        "printing  lbound -19459.7225604\n",
        "printing self.lowerbound -10003648.0956\n",
        "printing  lbound"
       ]
      },
      {
       "output_type": "stream",
       "stream": "stdout",
       "text": [
        " -18097.2108816\n",
        "printing self.lowerbound -10023107.8182\n",
        "printing  lbound -18669.2182961\n",
        "printing self.lowerbound -10041205.0291\n",
        "printing  lbound"
       ]
      },
      {
       "output_type": "stream",
       "stream": "stdout",
       "text": [
        " -18355.9463249\n",
        "printing self.lowerbound -10059874.2474\n",
        "Iteration 0, lower bound = -201.56, time = 21.58s\n",
        "Calculating test lowerbound\n",
        "Iteration:"
       ]
      },
      {
       "output_type": "stream",
       "stream": "stdout",
       "text": [
        " 1\n",
        "printing  lbound -17712.690331\n",
        "printing self.lowerbound 0\n",
        "printing  lbound"
       ]
      },
      {
       "output_type": "stream",
       "stream": "stdout",
       "text": [
        " -18133.657313\n",
        "printing self.lowerbound -17712.690331\n",
        "printing  lbound -18241.3735035\n",
        "printing self.lowerbound -35846.347644\n",
        "printing  lbound"
       ]
      },
      {
       "output_type": "stream",
       "stream": "stdout",
       "text": [
        " -17194.9675641\n",
        "printing self.lowerbound -54087.7211475\n",
        "printing  lbound -18153.5060691\n",
        "printing self.lowerbound -71282.6887116\n",
        "printing  lbound"
       ]
      },
      {
       "output_type": "stream",
       "stream": "stdout",
       "text": [
        " -18155.3245888\n",
        "printing self.lowerbound -89436.1947807\n",
        "printing  lbound -17908.2532533\n",
        "printing self.lowerbound -107591.51937\n",
        "printing  lbound"
       ]
      },
      {
       "output_type": "stream",
       "stream": "stdout",
       "text": [
        " -18426.7526653\n",
        "printing self.lowerbound -125499.772623\n",
        "printing  lbound -18210.4153073\n",
        "printing self.lowerbound -143926.525288\n",
        "printing  lbound"
       ]
      },
      {
       "output_type": "stream",
       "stream": "stdout",
       "text": [
        " -18497.4106358\n",
        "printing self.lowerbound -162136.940595\n",
        "printing  lbound -17283.6818224\n",
        "printing self.lowerbound -180634.351231\n",
        "printing  lbound"
       ]
      },
      {
       "output_type": "stream",
       "stream": "stdout",
       "text": [
        " -17818.7379124\n",
        "printing self.lowerbound -197918.033054\n",
        "printing  lbound"
       ]
      },
      {
       "output_type": "stream",
       "stream": "stdout",
       "text": [
        " -18676.1705488\n",
        "printing self.lowerbound -215736.770966\n",
        "printing  lbound -18795.7518708\n",
        "printing self.lowerbound -234412.941515\n",
        "printing  lbound"
       ]
      },
      {
       "output_type": "stream",
       "stream": "stdout",
       "text": [
        " -18520.6850388\n",
        "printing self.lowerbound -253208.693386\n",
        "printing  lbound"
       ]
      },
      {
       "output_type": "stream",
       "stream": "stdout",
       "text": [
        " -18510.2745465\n",
        "printing self.lowerbound -271729.378425\n",
        "printing  lbound -17497.8989105\n",
        "printing self.lowerbound -290239.652971\n",
        "printing  lbound"
       ]
      },
      {
       "output_type": "stream",
       "stream": "stdout",
       "text": [
        " -17566.2487253\n",
        "printing self.lowerbound -307737.551882\n",
        "printing  lbound -17856.9550984\n",
        "printing self.lowerbound -325303.800607\n",
        "printing  lbound"
       ]
      },
      {
       "output_type": "stream",
       "stream": "stdout",
       "text": [
        " -17589.6214916\n",
        "printing self.lowerbound -343160.755705\n",
        "printing  lbound -17875.282778\n",
        "printing self.lowerbound -360750.377197\n",
        "printing  lbound"
       ]
      },
      {
       "output_type": "stream",
       "stream": "stdout",
       "text": [
        " -17537.4268159\n",
        "printing self.lowerbound -378625.659975\n",
        "printing  lbound -18862.9622483\n",
        "printing self.lowerbound -396163.086791\n",
        "printing  lbound"
       ]
      },
      {
       "output_type": "stream",
       "stream": "stdout",
       "text": [
        " -18191.3059518\n",
        "printing self.lowerbound -415026.049039\n",
        "printing  lbound -18154.2587219\n",
        "printing self.lowerbound -433217.354991\n",
        "printing  lbound"
       ]
      },
      {
       "output_type": "stream",
       "stream": "stdout",
       "text": [
        " -18514.3352102\n",
        "printing self.lowerbound -451371.613713\n",
        "printing  lbound -18166.7945149\n",
        "printing self.lowerbound -469885.948923\n",
        "printing  lbound"
       ]
      },
      {
       "output_type": "stream",
       "stream": "stdout",
       "text": [
        " -18576.0450203\n",
        "printing self.lowerbound -488052.743438\n",
        "printing  lbound -19036.1291938\n",
        "printing self.lowerbound -506628.788458\n",
        "printing  lbound"
       ]
      },
      {
       "output_type": "stream",
       "stream": "stdout",
       "text": [
        " -17382.992585\n",
        "printing self.lowerbound -525664.917652\n",
        "printing  lbound -18231.1836599\n",
        "printing self.lowerbound -543047.910237\n",
        "printing  lbound"
       ]
      },
      {
       "output_type": "stream",
       "stream": "stdout",
       "text": [
        " -17138.2324476\n",
        "printing self.lowerbound -561279.093897\n",
        "printing  lbound -16249.236687\n",
        "printing self.lowerbound -578417.326344\n",
        "printing  lbound"
       ]
      },
      {
       "output_type": "stream",
       "stream": "stdout",
       "text": [
        " -17636.2194531\n",
        "printing self.lowerbound -594666.563031\n",
        "printing  lbound -16728.6703036\n",
        "printing self.lowerbound -612302.782484\n",
        "printing  lbound"
       ]
      },
      {
       "output_type": "stream",
       "stream": "stdout",
       "text": [
        " -18266.5519293\n",
        "printing self.lowerbound -629031.452788\n",
        "printing  lbound -19660.3056805\n",
        "printing self.lowerbound -647298.004717\n",
        "printing  lbound"
       ]
      },
      {
       "output_type": "stream",
       "stream": "stdout",
       "text": [
        " -18723.9619116\n",
        "printing self.lowerbound -666958.310398\n",
        "printing  lbound -17845.389735\n",
        "printing self.lowerbound -685682.272309\n",
        "printing  lbound"
       ]
      },
      {
       "output_type": "stream",
       "stream": "stdout",
       "text": [
        " -17670.0366282\n",
        "printing self.lowerbound -703527.662044\n",
        "printing  lbound -17992.6168276\n",
        "printing self.lowerbound -721197.698672\n",
        "printing  lbound"
       ]
      },
      {
       "output_type": "stream",
       "stream": "stdout",
       "text": [
        " -17197.3431416\n",
        "printing self.lowerbound -739190.3155\n",
        "printing  lbound -18120.7721467\n",
        "printing self.lowerbound -756387.658642\n",
        "printing  lbound"
       ]
      },
      {
       "output_type": "stream",
       "stream": "stdout",
       "text": [
        " -17499.110075\n",
        "printing self.lowerbound -774508.430788\n",
        "printing  lbound -18252.2561719\n",
        "printing self.lowerbound -792007.540863\n",
        "printing  lbound"
       ]
      },
      {
       "output_type": "stream",
       "stream": "stdout",
       "text": [
        " -17986.3258318\n",
        "printing self.lowerbound -810259.797035\n",
        "printing  lbound -19141.4106804\n",
        "printing self.lowerbound -828246.122867\n",
        "printing  lbound"
       ]
      },
      {
       "output_type": "stream",
       "stream": "stdout",
       "text": [
        " -20015.4625628\n",
        "printing self.lowerbound -847387.533547\n",
        "printing  lbound -21363.4737823\n",
        "printing self.lowerbound -867402.99611\n",
        "printing  lbound"
       ]
      },
      {
       "output_type": "stream",
       "stream": "stdout",
       "text": [
        " -17908.9659602\n",
        "printing self.lowerbound -888766.469892\n",
        "printing  lbound -18670.3066035\n",
        "printing self.lowerbound -906675.435853\n",
        "printing  lbound"
       ]
      },
      {
       "output_type": "stream",
       "stream": "stdout",
       "text": [
        " -19064.6363627\n",
        "printing self.lowerbound -925345.742456\n",
        "printing  lbound -17973.2531661\n",
        "printing self.lowerbound -944410.378819\n",
        "printing  lbound"
       ]
      },
      {
       "output_type": "stream",
       "stream": "stdout",
       "text": [
        " -19544.1923525\n",
        "printing self.lowerbound -962383.631985\n",
        "printing  lbound -18056.3578341\n",
        "printing self.lowerbound -981927.824338\n",
        "printing  lbound"
       ]
      },
      {
       "output_type": "stream",
       "stream": "stdout",
       "text": [
        " -17760.8551815\n",
        "printing self.lowerbound -999984.182172\n",
        "printing  lbound -18570.6092503\n",
        "printing self.lowerbound -1017745.03735\n",
        "printing  lbound"
       ]
      },
      {
       "output_type": "stream",
       "stream": "stdout",
       "text": [
        " -17284.3795995\n",
        "printing self.lowerbound -1036315.6466\n",
        "printing  lbound -17304.1631545\n",
        "printing self.lowerbound -1053600.0262\n",
        "printing  lbound"
       ]
      },
      {
       "output_type": "stream",
       "stream": "stdout",
       "text": [
        " -17963.5050252\n",
        "printing self.lowerbound -1070904.18936\n",
        "printing  lbound"
       ]
      },
      {
       "output_type": "stream",
       "stream": "stdout",
       "text": [
        " -18491.0231916\n",
        "printing self.lowerbound -1088867.69438\n",
        "printing  lbound -18722.2187831\n",
        "printing self.lowerbound -1107358.71757\n",
        "printing  lbound"
       ]
      },
      {
       "output_type": "stream",
       "stream": "stdout",
       "text": [
        " -17376.1718354\n",
        "printing self.lowerbound -1126080.93636\n",
        "printing  lbound -17572.1501374\n",
        "printing self.lowerbound -1143457.10819\n",
        "printing  lbound"
       ]
      },
      {
       "output_type": "stream",
       "stream": "stdout",
       "text": [
        " -18137.5917554\n",
        "printing self.lowerbound -1161029.25833\n",
        "printing  lbound -17471.1820966\n",
        "printing self.lowerbound -1179166.85009\n",
        "printing  lbound"
       ]
      },
      {
       "output_type": "stream",
       "stream": "stdout",
       "text": [
        " -17060.9974213\n",
        "printing self.lowerbound -1196638.03218\n",
        "printing  lbound -16604.0159401\n",
        "printing self.lowerbound -1213699.0296\n",
        "printing  lbound"
       ]
      },
      {
       "output_type": "stream",
       "stream": "stdout",
       "text": [
        " -17405.2254049\n",
        "printing self.lowerbound -1230303.04554\n",
        "printing  lbound -17457.6228662\n",
        "printing self.lowerbound -1247708.27095\n",
        "printing  lbound"
       ]
      },
      {
       "output_type": "stream",
       "stream": "stdout",
       "text": [
        " -17466.7673961\n",
        "printing self.lowerbound -1265165.89381\n",
        "printing  lbound -17299.3582793\n",
        "printing self.lowerbound -1282632.66121\n",
        "printing  lbound"
       ]
      },
      {
       "output_type": "stream",
       "stream": "stdout",
       "text": [
        " -17641.2391002\n",
        "printing self.lowerbound -1299932.01949\n",
        "printing  lbound -16927.9304631\n",
        "printing self.lowerbound -1317573.25859\n",
        "printing  lbound"
       ]
      },
      {
       "output_type": "stream",
       "stream": "stdout",
       "text": [
        " -16870.5925735\n",
        "printing self.lowerbound -1334501.18905\n",
        "printing  lbound -16930.0357573\n",
        "printing self.lowerbound -1351371.78163\n",
        "printing  lbound"
       ]
      },
      {
       "output_type": "stream",
       "stream": "stdout",
       "text": [
        " -17513.5070358\n",
        "printing self.lowerbound -1368301.81738\n",
        "printing  lbound -17948.7226154\n",
        "printing self.lowerbound -1385815.32442\n",
        "printing  lbound"
       ]
      },
      {
       "output_type": "stream",
       "stream": "stdout",
       "text": [
        " -18756.7933538\n",
        "printing self.lowerbound -1403764.04704\n",
        "printing  lbound -18321.132818\n",
        "printing self.lowerbound -1422520.84039\n",
        "printing  lbound"
       ]
      },
      {
       "output_type": "stream",
       "stream": "stdout",
       "text": [
        " -18824.5009377\n",
        "printing self.lowerbound -1440841.97321\n",
        "printing  lbound -16588.3153894\n",
        "printing self.lowerbound -1459666.47414\n",
        "printing  lbound"
       ]
      },
      {
       "output_type": "stream",
       "stream": "stdout",
       "text": [
        " -18013.5470792\n",
        "printing self.lowerbound -1476254.78953\n",
        "printing  lbound -17638.033636\n",
        "printing self.lowerbound -1494268.33661\n",
        "printing  lbound"
       ]
      },
      {
       "output_type": "stream",
       "stream": "stdout",
       "text": [
        " -18288.3459254\n",
        "printing self.lowerbound -1511906.37025\n",
        "printing  lbound"
       ]
      },
      {
       "output_type": "stream",
       "stream": "stdout",
       "text": [
        " -18161.7291198\n",
        "printing self.lowerbound -1530194.71617\n",
        "printing  lbound"
       ]
      },
      {
       "output_type": "stream",
       "stream": "stdout",
       "text": [
        " -18537.7429714\n",
        "printing self.lowerbound -1548356.44529\n",
        "printing  lbound -18152.4260672\n",
        "printing self.lowerbound -1566894.18827\n",
        "printing  lbound"
       ]
      },
      {
       "output_type": "stream",
       "stream": "stdout",
       "text": [
        " -17432.1057255\n",
        "printing self.lowerbound -1585046.61433\n",
        "printing  lbound -17758.6934022\n",
        "printing self.lowerbound -1602478.72006\n",
        "printing  lbound"
       ]
      },
      {
       "output_type": "stream",
       "stream": "stdout",
       "text": [
        " -17663.2632289\n",
        "printing self.lowerbound -1620237.41346\n",
        "printing  lbound -17227.9754972\n",
        "printing self.lowerbound -1637900.67669\n",
        "printing  lbound"
       ]
      },
      {
       "output_type": "stream",
       "stream": "stdout",
       "text": [
        " -16569.0546802\n",
        "printing self.lowerbound -1655128.65219\n",
        "printing  lbound -18785.4374561\n",
        "printing self.lowerbound -1671697.70687\n",
        "printing  lbound"
       ]
      },
      {
       "output_type": "stream",
       "stream": "stdout",
       "text": [
        " -19276.6539561\n",
        "printing self.lowerbound -1690483.14432\n",
        "printing  lbound -18188.1161673\n",
        "printing self.lowerbound -1709759.79828\n",
        "printing  lbound"
       ]
      },
      {
       "output_type": "stream",
       "stream": "stdout",
       "text": [
        " -18426.0894573\n",
        "printing self.lowerbound -1727947.91445\n",
        "printing  lbound -18451.277825\n",
        "printing self.lowerbound -1746374.0039\n",
        "printing  lbound"
       ]
      },
      {
       "output_type": "stream",
       "stream": "stdout",
       "text": [
        " -18518.3157598\n",
        "printing self.lowerbound -1764825.28173\n",
        "printing  lbound -17997.70416\n",
        "printing self.lowerbound -1783343.59749\n",
        "printing  lbound"
       ]
      },
      {
       "output_type": "stream",
       "stream": "stdout",
       "text": [
        " -17896.4995003\n",
        "printing self.lowerbound -1801341.30165\n",
        "printing  lbound -16490.615372\n",
        "printing self.lowerbound -1819237.80115\n",
        "printing  lbound"
       ]
      },
      {
       "output_type": "stream",
       "stream": "stdout",
       "text": [
        " -19672.5906306\n",
        "printing self.lowerbound -1835728.41652\n",
        "printing  lbound -18967.6993631\n",
        "printing self.lowerbound -1855401.00715\n",
        "printing  lbound"
       ]
      },
      {
       "output_type": "stream",
       "stream": "stdout",
       "text": [
        " -18567.2018432\n",
        "printing self.lowerbound -1874368.70651\n",
        "printing  lbound -17944.3623825\n",
        "printing self.lowerbound -1892935.90836\n",
        "printing  lbound"
       ]
      },
      {
       "output_type": "stream",
       "stream": "stdout",
       "text": [
        " -17358.575997\n",
        "printing self.lowerbound -1910880.27074\n",
        "printing  lbound -17873.2916728\n",
        "printing self.lowerbound -1928238.84674\n",
        "printing  lbound"
       ]
      },
      {
       "output_type": "stream",
       "stream": "stdout",
       "text": [
        " -17257.6658277\n",
        "printing self.lowerbound -1946112.13841\n",
        "printing  lbound"
       ]
      },
      {
       "output_type": "stream",
       "stream": "stdout",
       "text": [
        " -17743.9451339\n",
        "printing self.lowerbound -1963369.80424\n",
        "printing  lbound -17801.9396563\n",
        "printing self.lowerbound -1981113.74937\n",
        "printing  lbound"
       ]
      },
      {
       "output_type": "stream",
       "stream": "stdout",
       "text": [
        " -17106.4357335\n",
        "printing self.lowerbound -1998915.68903\n",
        "printing  lbound -17266.4252949\n",
        "printing self.lowerbound -2016022.12476\n",
        "printing  lbound"
       ]
      },
      {
       "output_type": "stream",
       "stream": "stdout",
       "text": [
        " -17063.5666701\n",
        "printing self.lowerbound -2033288.55006\n",
        "printing  lbound -17186.5515746\n",
        "printing self.lowerbound -2050352.11673\n",
        "printing  lbound"
       ]
      },
      {
       "output_type": "stream",
       "stream": "stdout",
       "text": [
        " -17372.1215265\n",
        "printing self.lowerbound -2067538.6683\n",
        "printing  lbound -17182.8147573\n",
        "printing self.lowerbound -2084910.78983\n",
        "printing  lbound"
       ]
      },
      {
       "output_type": "stream",
       "stream": "stdout",
       "text": [
        " -17133.9272887\n",
        "printing self.lowerbound -2102093.60458\n",
        "printing  lbound -16963.5876019\n",
        "printing self.lowerbound -2119227.53187\n",
        "printing  lbound"
       ]
      },
      {
       "output_type": "stream",
       "stream": "stdout",
       "text": [
        " -17183.9629911\n",
        "printing self.lowerbound -2136191.11948\n",
        "printing  lbound -17414.3077214\n",
        "printing self.lowerbound -2153375.08247\n",
        "printing  lbound"
       ]
      },
      {
       "output_type": "stream",
       "stream": "stdout",
       "text": [
        " -17561.6413555\n",
        "printing self.lowerbound -2170789.39019\n",
        "printing  lbound -18578.5779197\n",
        "printing self.lowerbound -2188351.03154\n",
        "printing  lbound"
       ]
      },
      {
       "output_type": "stream",
       "stream": "stdout",
       "text": [
        " -18723.7232064\n",
        "printing self.lowerbound -2206929.60946\n",
        "printing  lbound -18679.3705271\n",
        "printing self.lowerbound -2225653.33267\n",
        "printing  lbound"
       ]
      },
      {
       "output_type": "stream",
       "stream": "stdout",
       "text": [
        " -18586.5743562\n",
        "printing self.lowerbound -2244332.7032\n",
        "printing  lbound -18956.5607259\n",
        "printing self.lowerbound -2262919.27755\n",
        "printing  lbound"
       ]
      },
      {
       "output_type": "stream",
       "stream": "stdout",
       "text": [
        " -18271.6457532\n",
        "printing self.lowerbound -2281875.83828\n",
        "printing  lbound -17593.6548769\n",
        "printing self.lowerbound -2300147.48403\n",
        "printing  lbound"
       ]
      },
      {
       "output_type": "stream",
       "stream": "stdout",
       "text": [
        " -18566.6137903\n",
        "printing self.lowerbound -2317741.13891\n",
        "printing  lbound -18859.5315773\n",
        "printing self.lowerbound -2336307.7527\n",
        "printing  lbound"
       ]
      },
      {
       "output_type": "stream",
       "stream": "stdout",
       "text": [
        " -18037.9704797\n",
        "printing self.lowerbound -2355167.28428\n",
        "printing  lbound -18760.3148259\n",
        "printing self.lowerbound -2373205.25476\n",
        "printing  lbound"
       ]
      },
      {
       "output_type": "stream",
       "stream": "stdout",
       "text": [
        " -18073.2238814\n",
        "printing self.lowerbound -2391965.56958\n",
        "printing  lbound -18079.7777216\n",
        "printing self.lowerbound -2410038.79346\n",
        "printing  lbound"
       ]
      },
      {
       "output_type": "stream",
       "stream": "stdout",
       "text": [
        " -18177.2400437\n",
        "printing self.lowerbound -2428118.57119\n",
        "printing  lbound -17659.8016917\n",
        "printing self.lowerbound -2446295.81123\n",
        "printing  lbound"
       ]
      },
      {
       "output_type": "stream",
       "stream": "stdout",
       "text": [
        " -17243.5268315\n",
        "printing self.lowerbound -2463955.61292\n",
        "printing  lbound -17906.1876996\n",
        "printing self.lowerbound -2481199.13975\n",
        "printing  lbound"
       ]
      },
      {
       "output_type": "stream",
       "stream": "stdout",
       "text": [
        " -18645.2954687\n",
        "printing self.lowerbound -2499105.32745\n",
        "printing  lbound -19050.1383688\n",
        "printing self.lowerbound -2517750.62292\n",
        "printing  lbound"
       ]
      },
      {
       "output_type": "stream",
       "stream": "stdout",
       "text": [
        " -19561.3825639\n",
        "printing self.lowerbound -2536800.76129\n",
        "printing  lbound -18476.1136691\n",
        "printing self.lowerbound -2556362.14385\n",
        "printing  lbound"
       ]
      },
      {
       "output_type": "stream",
       "stream": "stdout",
       "text": [
        " -18980.9717537\n",
        "printing self.lowerbound -2574838.25752\n",
        "printing  lbound -18249.150762\n",
        "printing self.lowerbound -2593819.22928\n",
        "printing  lbound"
       ]
      },
      {
       "output_type": "stream",
       "stream": "stdout",
       "text": [
        " -17341.7948525\n",
        "printing self.lowerbound -2612068.38004\n",
        "printing  lbound -18561.4426881\n",
        "printing self.lowerbound -2629410.17489\n",
        "printing  lbound"
       ]
      },
      {
       "output_type": "stream",
       "stream": "stdout",
       "text": [
        " -18562.5717379\n",
        "printing self.lowerbound -2647971.61758\n",
        "printing  lbound -18613.9521675\n",
        "printing self.lowerbound -2666534.18932\n",
        "printing  lbound"
       ]
      },
      {
       "output_type": "stream",
       "stream": "stdout",
       "text": [
        " -16299.2313957\n",
        "printing self.lowerbound -2685148.14148\n",
        "printing  lbound -17485.2679676\n",
        "printing self.lowerbound -2701447.37288\n",
        "printing  lbound"
       ]
      },
      {
       "output_type": "stream",
       "stream": "stdout",
       "text": [
        " -17967.0637336\n",
        "printing self.lowerbound -2718932.64085\n",
        "printing  lbound -17866.6875492\n",
        "printing self.lowerbound -2736899.70458\n",
        "printing  lbound"
       ]
      },
      {
       "output_type": "stream",
       "stream": "stdout",
       "text": [
        " -16840.5654081\n",
        "printing self.lowerbound -2754766.39213\n",
        "printing  lbound -17485.2738484\n",
        "printing self.lowerbound -2771606.95754\n",
        "printing  lbound"
       ]
      },
      {
       "output_type": "stream",
       "stream": "stdout",
       "text": [
        " -17683.923458\n",
        "printing self.lowerbound -2789092.23139\n",
        "printing  lbound -17767.5569241\n",
        "printing self.lowerbound -2806776.15484\n",
        "printing  lbound"
       ]
      },
      {
       "output_type": "stream",
       "stream": "stdout",
       "text": [
        " -18631.1595145\n",
        "printing self.lowerbound -2824543.71177\n",
        "printing  lbound"
       ]
      },
      {
       "output_type": "stream",
       "stream": "stdout",
       "text": [
        " -18154.3440786\n",
        "printing self.lowerbound -2843174.87128\n",
        "printing  lbound -16958.4874641\n",
        "printing self.lowerbound -2861329.21536\n",
        "printing  lbound"
       ]
      },
      {
       "output_type": "stream",
       "stream": "stdout",
       "text": [
        " -17232.8229215\n",
        "printing self.lowerbound -2878287.70283\n",
        "printing  lbound -18002.453188\n",
        "printing self.lowerbound -2895520.52575\n",
        "printing  lbound"
       ]
      },
      {
       "output_type": "stream",
       "stream": "stdout",
       "text": [
        " -17211.3876621\n",
        "printing self.lowerbound -2913522.97894\n",
        "printing  lbound -17213.963218\n",
        "printing self.lowerbound -2930734.3666\n",
        "printing  lbound"
       ]
      },
      {
       "output_type": "stream",
       "stream": "stdout",
       "text": [
        " -17348.6129134\n",
        "printing self.lowerbound -2947948.32982\n",
        "printing  lbound -17794.3287264\n",
        "printing self.lowerbound -2965296.94273\n",
        "printing  lbound"
       ]
      },
      {
       "output_type": "stream",
       "stream": "stdout",
       "text": [
        " -17039.0814559\n",
        "printing self.lowerbound -2983091.27146\n",
        "printing  lbound -18413.4522485\n",
        "printing self.lowerbound -3000130.35291\n",
        "printing  lbound"
       ]
      },
      {
       "output_type": "stream",
       "stream": "stdout",
       "text": [
        " -18519.9922118\n",
        "printing self.lowerbound -3018543.80516\n",
        "printing  lbound -17176.2499577\n",
        "printing self.lowerbound -3037063.79737\n",
        "printing  lbound"
       ]
      },
      {
       "output_type": "stream",
       "stream": "stdout",
       "text": [
        " -17348.8848276\n",
        "printing self.lowerbound -3054240.04733\n",
        "printing  lbound -18924.2448106\n",
        "printing self.lowerbound -3071588.93216\n",
        "printing  lbound"
       ]
      },
      {
       "output_type": "stream",
       "stream": "stdout",
       "text": [
        " -18844.1328027\n",
        "printing self.lowerbound -3090513.17697\n",
        "printing  lbound"
       ]
      },
      {
       "output_type": "stream",
       "stream": "stdout",
       "text": [
        " -18371.3217702\n",
        "printing self.lowerbound -3109357.30977\n",
        "printing  lbound"
       ]
      },
      {
       "output_type": "stream",
       "stream": "stdout",
       "text": [
        " -17670.5089125\n",
        "printing self.lowerbound -3127728.63154\n",
        "printing  lbound"
       ]
      },
      {
       "output_type": "stream",
       "stream": "stdout",
       "text": [
        " -18704.8611482\n",
        "printing self.lowerbound -3145399.14045\n",
        "printing  lbound -18606.4466023\n",
        "printing self.lowerbound -3164104.0016\n",
        "printing  lbound"
       ]
      },
      {
       "output_type": "stream",
       "stream": "stdout",
       "text": [
        " -16594.981165\n",
        "printing self.lowerbound -3182710.4482\n",
        "printing  lbound -16146.6942557\n",
        "printing self.lowerbound -3199305.42937\n",
        "printing  lbound"
       ]
      },
      {
       "output_type": "stream",
       "stream": "stdout",
       "text": [
        " -17568.0665092\n",
        "printing self.lowerbound -3215452.12362\n",
        "printing  lbound"
       ]
      },
      {
       "output_type": "stream",
       "stream": "stdout",
       "text": [
        " -16952.7909723\n",
        "printing self.lowerbound -3233020.19013\n",
        "printing  lbound -16630.783887\n",
        "printing self.lowerbound -3249972.98111\n",
        "printing  lbound"
       ]
      },
      {
       "output_type": "stream",
       "stream": "stdout",
       "text": [
        " -17127.5904946\n",
        "printing self.lowerbound -3266603.76499\n",
        "printing  lbound -16416.9099609\n",
        "printing self.lowerbound -3283731.35549\n",
        "printing  lbound"
       ]
      },
      {
       "output_type": "stream",
       "stream": "stdout",
       "text": [
        " -16536.9958283\n",
        "printing self.lowerbound -3300148.26545\n",
        "printing  lbound -18542.8909507\n",
        "printing self.lowerbound -3316685.26128\n",
        "printing  lbound"
       ]
      },
      {
       "output_type": "stream",
       "stream": "stdout",
       "text": [
        " -18018.3138194\n",
        "printing self.lowerbound -3335228.15223\n",
        "printing  lbound -17810.9386557\n",
        "printing self.lowerbound -3353246.46605\n",
        "printing  lbound"
       ]
      },
      {
       "output_type": "stream",
       "stream": "stdout",
       "text": [
        " -17454.5952809\n",
        "printing self.lowerbound -3371057.4047\n",
        "printing  lbound -17533.4467558\n",
        "printing self.lowerbound -3388511.99998\n",
        "printing  lbound"
       ]
      },
      {
       "output_type": "stream",
       "stream": "stdout",
       "text": [
        " -17354.107431\n",
        "printing self.lowerbound -3406045.44674\n",
        "printing  lbound -17457.1500755\n",
        "printing self.lowerbound -3423399.55417\n",
        "printing  lbound"
       ]
      },
      {
       "output_type": "stream",
       "stream": "stdout",
       "text": [
        " -18522.1286991\n",
        "printing self.lowerbound -3440856.70425\n",
        "printing  lbound -18865.8207617\n",
        "printing self.lowerbound -3459378.83294\n",
        "printing  lbound"
       ]
      },
      {
       "output_type": "stream",
       "stream": "stdout",
       "text": [
        " -18205.8639035\n",
        "printing self.lowerbound -3478244.65371\n",
        "printing  lbound -17500.5865953\n",
        "printing self.lowerbound -3496450.51761\n",
        "printing  lbound"
       ]
      },
      {
       "output_type": "stream",
       "stream": "stdout",
       "text": [
        " -17506.0043934\n",
        "printing self.lowerbound -3513951.1042\n",
        "printing  lbound -18458.2724424\n",
        "printing self.lowerbound -3531457.1086\n",
        "printing  lbound"
       ]
      },
      {
       "output_type": "stream",
       "stream": "stdout",
       "text": [
        " -18322.6644362\n",
        "printing self.lowerbound -3549915.38104\n",
        "printing  lbound -20280.4714917\n",
        "printing self.lowerbound -3568238.04548\n",
        "printing  lbound"
       ]
      },
      {
       "output_type": "stream",
       "stream": "stdout",
       "text": [
        " -19060.5698533\n",
        "printing self.lowerbound -3588518.51697\n",
        "printing  lbound -18459.7061751\n",
        "printing self.lowerbound -3607579.08682\n",
        "printing  lbound"
       ]
      },
      {
       "output_type": "stream",
       "stream": "stdout",
       "text": [
        " -17841.901654\n",
        "printing self.lowerbound -3626038.793\n",
        "printing  lbound -17708.7850659\n",
        "printing self.lowerbound -3643880.69465\n",
        "printing  lbound"
       ]
      },
      {
       "output_type": "stream",
       "stream": "stdout",
       "text": [
        " -17406.3662831\n",
        "printing self.lowerbound -3661589.47972\n",
        "printing  lbound -17676.794977\n",
        "printing self.lowerbound -3678995.846\n",
        "printing  lbound"
       ]
      },
      {
       "output_type": "stream",
       "stream": "stdout",
       "text": [
        " -17486.7640317\n",
        "printing self.lowerbound -3696672.64098\n",
        "printing  lbound -16921.5086191\n",
        "printing self.lowerbound -3714159.40501\n",
        "printing  lbound"
       ]
      },
      {
       "output_type": "stream",
       "stream": "stdout",
       "text": [
        " -17363.6475029\n",
        "printing self.lowerbound -3731080.91363\n",
        "printing  lbound -17970.8615834\n",
        "printing self.lowerbound -3748444.56113\n",
        "printing  lbound"
       ]
      },
      {
       "output_type": "stream",
       "stream": "stdout",
       "text": [
        " -17238.8273334\n",
        "printing self.lowerbound -3766415.42271\n",
        "printing  lbound -17688.4262618\n",
        "printing self.lowerbound -3783654.25005\n",
        "printing  lbound"
       ]
      },
      {
       "output_type": "stream",
       "stream": "stdout",
       "text": [
        " -18016.6299669\n",
        "printing self.lowerbound -3801342.67631\n",
        "printing  lbound -18897.3315552\n",
        "printing self.lowerbound -3819359.30628\n",
        "printing  lbound"
       ]
      },
      {
       "output_type": "stream",
       "stream": "stdout",
       "text": [
        " -18093.1200345\n",
        "printing self.lowerbound -3838256.63783\n",
        "printing  lbound -17659.3663137\n",
        "printing self.lowerbound -3856349.75787\n",
        "printing  lbound"
       ]
      },
      {
       "output_type": "stream",
       "stream": "stdout",
       "text": [
        " -16878.0965517\n",
        "printing self.lowerbound -3874009.12418\n",
        "printing  lbound -17381.2766745\n",
        "printing self.lowerbound -3890887.22073\n",
        "printing  lbound"
       ]
      },
      {
       "output_type": "stream",
       "stream": "stdout",
       "text": [
        " -18136.8778936\n",
        "printing self.lowerbound -3908268.49741\n",
        "printing  lbound -18014.4979556\n",
        "printing self.lowerbound -3926405.3753\n",
        "printing  lbound"
       ]
      },
      {
       "output_type": "stream",
       "stream": "stdout",
       "text": [
        " -19064.1169346\n",
        "printing self.lowerbound -3944419.87325\n",
        "printing  lbound -19294.1021924\n",
        "printing self.lowerbound -3963483.99019\n",
        "printing  lbound"
       ]
      },
      {
       "output_type": "stream",
       "stream": "stdout",
       "text": [
        " -17688.6998412\n",
        "printing self.lowerbound -3982778.09238\n",
        "printing  lbound -17107.5197009\n",
        "printing self.lowerbound -4000466.79222\n",
        "printing  lbound"
       ]
      },
      {
       "output_type": "stream",
       "stream": "stdout",
       "text": [
        " -17014.6614155\n",
        "printing self.lowerbound -4017574.31192\n",
        "printing  lbound -18043.3289968\n",
        "printing self.lowerbound -4034588.97334\n",
        "printing  lbound"
       ]
      },
      {
       "output_type": "stream",
       "stream": "stdout",
       "text": [
        " -18455.1997424\n",
        "printing self.lowerbound -4052632.30234\n",
        "printing  lbound -18282.0354463\n",
        "printing self.lowerbound -4071087.50208\n",
        "printing  lbound"
       ]
      },
      {
       "output_type": "stream",
       "stream": "stdout",
       "text": [
        " -17631.2927236\n",
        "printing self.lowerbound -4089369.53752\n",
        "printing  lbound"
       ]
      },
      {
       "output_type": "stream",
       "stream": "stdout",
       "text": [
        " -18496.041793\n",
        "printing self.lowerbound -4107000.83025\n",
        "printing  lbound -18288.0205341\n",
        "printing self.lowerbound -4125496.87204\n",
        "printing  lbound"
       ]
      },
      {
       "output_type": "stream",
       "stream": "stdout",
       "text": [
        " -18179.9178648\n",
        "printing self.lowerbound -4143784.89258\n",
        "printing  lbound -17162.7805936\n",
        "printing self.lowerbound -4161964.81044\n",
        "printing  lbound"
       ]
      },
      {
       "output_type": "stream",
       "stream": "stdout",
       "text": [
        " -18056.5062678\n",
        "printing self.lowerbound -4179127.59103\n",
        "printing  lbound -17805.1195584\n",
        "printing self.lowerbound -4197184.0973\n",
        "printing  lbound"
       ]
      },
      {
       "output_type": "stream",
       "stream": "stdout",
       "text": [
        " -17574.8842403\n",
        "printing self.lowerbound -4214989.21686\n",
        "printing  lbound -17621.2744991\n",
        "printing self.lowerbound -4232564.1011\n",
        "printing  lbound"
       ]
      },
      {
       "output_type": "stream",
       "stream": "stdout",
       "text": [
        " -18226.8224574\n",
        "printing self.lowerbound -4250185.3756\n",
        "printing  lbound -18258.1588692\n",
        "printing self.lowerbound -4268412.19806\n",
        "printing  lbound"
       ]
      },
      {
       "output_type": "stream",
       "stream": "stdout",
       "text": [
        " -17565.7322957\n",
        "printing self.lowerbound -4286670.35693\n",
        "printing  lbound -16851.1024619\n",
        "printing self.lowerbound -4304236.08922\n",
        "printing  lbound"
       ]
      },
      {
       "output_type": "stream",
       "stream": "stdout",
       "text": [
        " -16055.7805824\n",
        "printing self.lowerbound -4321087.19168\n",
        "printing  lbound -17713.2563723\n",
        "printing self.lowerbound -4337142.97227\n",
        "printing  lbound"
       ]
      },
      {
       "output_type": "stream",
       "stream": "stdout",
       "text": [
        " -17002.914533\n",
        "printing self.lowerbound -4354856.22864\n",
        "printing  lbound -18682.2266621\n",
        "printing self.lowerbound -4371859.14317\n",
        "printing  lbound"
       ]
      },
      {
       "output_type": "stream",
       "stream": "stdout",
       "text": [
        " -18411.9432628\n",
        "printing self.lowerbound -4390541.36983\n",
        "printing  lbound -17765.8223126\n",
        "printing self.lowerbound -4408953.3131\n",
        "printing  lbound"
       ]
      },
      {
       "output_type": "stream",
       "stream": "stdout",
       "text": [
        " -16594.3729237\n",
        "printing self.lowerbound -4426719.13541\n",
        "printing  lbound -16742.7635528\n",
        "printing self.lowerbound -4443313.50833\n",
        "printing  lbound"
       ]
      },
      {
       "output_type": "stream",
       "stream": "stdout",
       "text": [
        " -15831.1480433\n",
        "printing self.lowerbound -4460056.27189\n",
        "printing  lbound -17247.4581898\n",
        "printing self.lowerbound -4475887.41993\n",
        "printing  lbound"
       ]
      },
      {
       "output_type": "stream",
       "stream": "stdout",
       "text": [
        " -17846.6791327\n",
        "printing self.lowerbound -4493134.87812\n",
        "printing  lbound -17559.028465\n",
        "printing self.lowerbound -4510981.55725\n",
        "printing  lbound"
       ]
      },
      {
       "output_type": "stream",
       "stream": "stdout",
       "text": [
        " -18362.8270207\n",
        "printing self.lowerbound -4528540.58572\n",
        "printing  lbound -17412.1283369\n",
        "printing self.lowerbound -4546903.41274\n",
        "printing  lbound"
       ]
      },
      {
       "output_type": "stream",
       "stream": "stdout",
       "text": [
        " -17276.302416\n",
        "printing self.lowerbound -4564315.54107\n",
        "printing  lbound -17756.5514129\n",
        "printing self.lowerbound -4581591.84349\n",
        "printing  lbound"
       ]
      },
      {
       "output_type": "stream",
       "stream": "stdout",
       "text": [
        " -16972.1366008\n",
        "printing self.lowerbound -4599348.3949\n",
        "printing  lbound -15638.1112288\n",
        "printing self.lowerbound -4616320.5315\n",
        "printing  lbound"
       ]
      },
      {
       "output_type": "stream",
       "stream": "stdout",
       "text": [
        " -17512.5581171\n",
        "printing self.lowerbound -4631958.64273\n",
        "printing  lbound -16868.0065805\n",
        "printing self.lowerbound -4649471.20085\n",
        "printing  lbound"
       ]
      },
      {
       "output_type": "stream",
       "stream": "stdout",
       "text": [
        " -16723.7351934\n",
        "printing self.lowerbound -4666339.20743\n",
        "printing  lbound -16626.4525089\n",
        "printing self.lowerbound -4683062.94262\n",
        "printing  lbound"
       ]
      },
      {
       "output_type": "stream",
       "stream": "stdout",
       "text": [
        " -17070.5761039\n",
        "printing self.lowerbound -4699689.39513\n",
        "printing  lbound -16798.0654155\n",
        "printing self.lowerbound -4716759.97124\n",
        "printing  lbound"
       ]
      },
      {
       "output_type": "stream",
       "stream": "stdout",
       "text": [
        " -16710.2384677\n",
        "printing self.lowerbound -4733558.03665\n",
        "printing  lbound -17479.1476318\n",
        "printing self.lowerbound -4750268.27512\n",
        "printing  lbound"
       ]
      },
      {
       "output_type": "stream",
       "stream": "stdout",
       "text": [
        " -17474.7010154\n",
        "printing self.lowerbound -4767747.42275\n",
        "printing  lbound -16527.8085515\n",
        "printing self.lowerbound -4785222.12377\n",
        "printing  lbound"
       ]
      },
      {
       "output_type": "stream",
       "stream": "stdout",
       "text": [
        " -16627.2293376\n",
        "printing self.lowerbound -4801749.93232\n",
        "printing  lbound -17523.3315982\n",
        "printing self.lowerbound -4818377.16166\n",
        "printing  lbound"
       ]
      },
      {
       "output_type": "stream",
       "stream": "stdout",
       "text": [
        " -19130.392725\n",
        "printing self.lowerbound -4835900.49325\n",
        "printing  lbound -18271.9076075\n",
        "printing self.lowerbound -4855030.88598\n",
        "printing  lbound"
       ]
      },
      {
       "output_type": "stream",
       "stream": "stdout",
       "text": [
        " -18233.6764414\n",
        "printing self.lowerbound -4873302.79359\n",
        "printing  lbound -19055.9898742\n",
        "printing self.lowerbound -4891536.47003\n",
        "printing  lbound"
       ]
      },
      {
       "output_type": "stream",
       "stream": "stdout",
       "text": [
        " -16863.6212662\n",
        "printing self.lowerbound -4910592.4599\n",
        "printing  lbound -16945.0760104\n",
        "printing self.lowerbound -4927456.08117\n",
        "printing  lbound"
       ]
      },
      {
       "output_type": "stream",
       "stream": "stdout",
       "text": [
        " -17491.5036853\n",
        "printing self.lowerbound -4944401.15718\n",
        "printing  lbound"
       ]
      },
      {
       "output_type": "stream",
       "stream": "stdout",
       "text": [
        " -17388.3318709\n",
        "printing self.lowerbound -4961892.66086\n",
        "printing  lbound"
       ]
      },
      {
       "output_type": "stream",
       "stream": "stdout",
       "text": [
        " -17318.611886\n",
        "printing self.lowerbound -4979280.99273\n",
        "printing  lbound -16760.7917638\n",
        "printing self.lowerbound -4996599.60462\n",
        "printing  lbound"
       ]
      },
      {
       "output_type": "stream",
       "stream": "stdout",
       "text": [
        " -17489.6581101\n",
        "printing self.lowerbound -5013360.39638\n",
        "printing  lbound -18382.9875511\n",
        "printing self.lowerbound -5030850.05449\n",
        "printing  lbound"
       ]
      },
      {
       "output_type": "stream",
       "stream": "stdout",
       "text": [
        " -17369.6187733\n",
        "printing self.lowerbound -5049233.04205\n",
        "printing  lbound -17989.6251798\n",
        "printing self.lowerbound -5066602.66082\n",
        "printing  lbound"
       ]
      },
      {
       "output_type": "stream",
       "stream": "stdout",
       "text": [
        " -17205.0742236\n",
        "printing self.lowerbound -5084592.286\n",
        "printing  lbound -17657.1830563\n",
        "printing self.lowerbound -5101797.36022\n",
        "printing  lbound"
       ]
      },
      {
       "output_type": "stream",
       "stream": "stdout",
       "text": [
        " -17255.827685\n",
        "printing self.lowerbound -5119454.54328\n",
        "printing  lbound -17838.3283477\n",
        "printing self.lowerbound -5136710.37096\n",
        "printing  lbound"
       ]
      },
      {
       "output_type": "stream",
       "stream": "stdout",
       "text": [
        " -18903.998331\n",
        "printing self.lowerbound -5154548.69931\n",
        "printing  lbound -17889.8608425\n",
        "printing self.lowerbound -5173452.69764\n",
        "printing  lbound"
       ]
      },
      {
       "output_type": "stream",
       "stream": "stdout",
       "text": [
        " -17702.9539855\n",
        "printing self.lowerbound -5191342.55848\n",
        "printing  lbound -17514.5757192\n",
        "printing self.lowerbound -5209045.51247\n",
        "printing  lbound"
       ]
      },
      {
       "output_type": "stream",
       "stream": "stdout",
       "text": [
        " -17894.8430967\n",
        "printing self.lowerbound -5226560.08819\n",
        "printing  lbound -17393.519558\n",
        "printing self.lowerbound -5244454.93129\n",
        "printing  lbound"
       ]
      },
      {
       "output_type": "stream",
       "stream": "stdout",
       "text": [
        " -16248.2915139\n",
        "printing self.lowerbound -5261848.45084\n",
        "printing  lbound -17025.246953\n",
        "printing self.lowerbound -5278096.74236\n",
        "printing  lbound"
       ]
      },
      {
       "output_type": "stream",
       "stream": "stdout",
       "text": [
        " -16426.7308884\n",
        "printing self.lowerbound -5295121.98931\n",
        "printing  lbound -15706.1229357\n",
        "printing self.lowerbound -5311548.7202\n",
        "printing  lbound"
       ]
      },
      {
       "output_type": "stream",
       "stream": "stdout",
       "text": [
        " -16871.7593198\n",
        "printing self.lowerbound -5327254.84314\n",
        "printing  lbound -18173.3532593\n",
        "printing self.lowerbound -5344126.60246\n",
        "printing  lbound"
       ]
      },
      {
       "output_type": "stream",
       "stream": "stdout",
       "text": [
        " -17586.2996639\n",
        "printing self.lowerbound -5362299.95571\n",
        "printing  lbound -17170.8597598\n",
        "printing self.lowerbound -5379886.25538\n",
        "printing  lbound"
       ]
      },
      {
       "output_type": "stream",
       "stream": "stdout",
       "text": [
        " -17273.6349706\n",
        "printing self.lowerbound -5397057.11514\n",
        "printing  lbound -17717.2775922\n",
        "printing self.lowerbound -5414330.75011\n",
        "printing  lbound"
       ]
      },
      {
       "output_type": "stream",
       "stream": "stdout",
       "text": [
        " -16921.8164301\n",
        "printing self.lowerbound -5432048.0277\n",
        "printing  lbound -16296.5538378\n",
        "printing self.lowerbound -5448969.84413\n",
        "printing  lbound"
       ]
      },
      {
       "output_type": "stream",
       "stream": "stdout",
       "text": [
        " -16655.4895682\n",
        "printing self.lowerbound -5465266.39797\n",
        "printing  lbound -17040.5735052\n",
        "printing self.lowerbound -5481921.88754\n",
        "printing  lbound"
       ]
      },
      {
       "output_type": "stream",
       "stream": "stdout",
       "text": [
        " -15917.9026776\n",
        "printing self.lowerbound -5498962.46104\n",
        "printing  lbound -17002.0298332\n",
        "printing self.lowerbound -5514880.36372\n",
        "printing  lbound"
       ]
      },
      {
       "output_type": "stream",
       "stream": "stdout",
       "text": [
        " -17177.9728739\n",
        "printing self.lowerbound -5531882.39355\n",
        "printing  lbound -17549.7602863\n",
        "printing self.lowerbound -5549060.36643\n",
        "printing  lbound"
       ]
      },
      {
       "output_type": "stream",
       "stream": "stdout",
       "text": [
        " -16339.7140687\n",
        "printing self.lowerbound -5566610.12671\n",
        "printing  lbound -17440.6664088\n",
        "printing self.lowerbound -5582949.84078\n",
        "printing  lbound"
       ]
      },
      {
       "output_type": "stream",
       "stream": "stdout",
       "text": [
        " -16502.6209055\n",
        "printing self.lowerbound -5600390.50719\n",
        "printing  lbound -17712.3380442\n",
        "printing self.lowerbound -5616893.1281\n",
        "printing  lbound"
       ]
      },
      {
       "output_type": "stream",
       "stream": "stdout",
       "text": [
        " -17424.2335692\n",
        "printing self.lowerbound -5634605.46614\n",
        "printing  lbound -16846.0648042\n",
        "printing self.lowerbound -5652029.69971\n",
        "printing  lbound"
       ]
      },
      {
       "output_type": "stream",
       "stream": "stdout",
       "text": [
        " -16967.1595982\n",
        "printing self.lowerbound -5668875.76451\n",
        "printing  lbound -17008.8577338\n",
        "printing self.lowerbound -5685842.92411\n",
        "printing  lbound"
       ]
      },
      {
       "output_type": "stream",
       "stream": "stdout",
       "text": [
        " -17284.5782835\n",
        "printing self.lowerbound -5702851.78185\n",
        "printing  lbound -17546.4697782\n",
        "printing self.lowerbound -5720136.36013\n",
        "printing  lbound"
       ]
      },
      {
       "output_type": "stream",
       "stream": "stdout",
       "text": [
        " -17024.7909716\n",
        "printing self.lowerbound -5737682.82991\n",
        "printing  lbound -17506.1795905\n",
        "printing self.lowerbound -5754707.62088\n",
        "printing  lbound"
       ]
      },
      {
       "output_type": "stream",
       "stream": "stdout",
       "text": [
        " -17696.2716157\n",
        "printing self.lowerbound -5772213.80047\n",
        "printing  lbound"
       ]
      },
      {
       "output_type": "stream",
       "stream": "stdout",
       "text": [
        " -17793.6950068\n",
        "printing self.lowerbound -5789910.07209\n",
        "printing  lbound -16996.237831\n",
        "printing self.lowerbound -5807703.76709\n",
        "printing  lbound"
       ]
      },
      {
       "output_type": "stream",
       "stream": "stdout",
       "text": [
        " -16142.240772\n",
        "printing self.lowerbound -5824700.00492\n",
        "printing  lbound -17488.6203234\n",
        "printing self.lowerbound -5840842.2457\n",
        "printing  lbound"
       ]
      },
      {
       "output_type": "stream",
       "stream": "stdout",
       "text": [
        " -18301.5097667\n",
        "printing self.lowerbound -5858330.86602\n",
        "printing  lbound -16545.7296406\n",
        "printing self.lowerbound -5876632.37579\n",
        "printing  lbound"
       ]
      },
      {
       "output_type": "stream",
       "stream": "stdout",
       "text": [
        " -17789.0789596\n",
        "printing self.lowerbound -5893178.10543\n",
        "printing  lbound -17243.7191617\n",
        "printing self.lowerbound -5910967.18439\n",
        "printing  lbound"
       ]
      },
      {
       "output_type": "stream",
       "stream": "stdout",
       "text": [
        " -17032.8644719\n",
        "printing self.lowerbound -5928210.90355\n",
        "printing  lbound"
       ]
      },
      {
       "output_type": "stream",
       "stream": "stdout",
       "text": [
        " -16806.43546\n",
        "printing self.lowerbound -5945243.76802\n",
        "printing  lbound"
       ]
      },
      {
       "output_type": "stream",
       "stream": "stdout",
       "text": [
        " -16578.0750152\n",
        "printing self.lowerbound -5962050.20348\n",
        "printing  lbound"
       ]
      },
      {
       "output_type": "stream",
       "stream": "stdout",
       "text": [
        " -16370.6682687\n",
        "printing self.lowerbound -5978628.27849\n",
        "printing  lbound"
       ]
      },
      {
       "output_type": "stream",
       "stream": "stdout",
       "text": [
        " -16518.9383428\n",
        "printing self.lowerbound -5994998.94676\n",
        "printing  lbound"
       ]
      },
      {
       "output_type": "stream",
       "stream": "stdout",
       "text": [
        " -16406.9004171\n",
        "printing self.lowerbound -6011517.88511\n",
        "printing  lbound -16636.9501339\n",
        "printing self.lowerbound -6027924.78552\n",
        "printing  lbound"
       ]
      },
      {
       "output_type": "stream",
       "stream": "stdout",
       "text": [
        " -17751.7030815\n",
        "printing self.lowerbound -6044561.73566\n",
        "printing  lbound -16957.6014326\n",
        "printing self.lowerbound -6062313.43874\n",
        "printing  lbound"
       ]
      },
      {
       "output_type": "stream",
       "stream": "stdout",
       "text": [
        " -17050.4716299\n",
        "printing self.lowerbound -6079271.04017\n",
        "printing  lbound -17795.921538\n",
        "printing self.lowerbound -6096321.5118\n",
        "printing  lbound"
       ]
      },
      {
       "output_type": "stream",
       "stream": "stdout",
       "text": [
        " -17360.5835359\n",
        "printing self.lowerbound -6114117.43334\n",
        "printing  lbound -17558.7318507\n",
        "printing self.lowerbound -6131478.01687\n",
        "printing  lbound"
       ]
      },
      {
       "output_type": "stream",
       "stream": "stdout",
       "text": [
        " -17480.8785052\n",
        "printing self.lowerbound -6149036.74873\n",
        "printing  lbound -17618.5210506\n",
        "printing self.lowerbound -6166517.62723\n",
        "printing  lbound"
       ]
      },
      {
       "output_type": "stream",
       "stream": "stdout",
       "text": [
        " -16102.9356705\n",
        "printing self.lowerbound -6184136.14828\n",
        "printing  lbound -17500.6273668\n",
        "printing self.lowerbound -6200239.08395\n",
        "printing  lbound"
       ]
      },
      {
       "output_type": "stream",
       "stream": "stdout",
       "text": [
        " -17110.8820523\n",
        "printing self.lowerbound -6217739.71132\n",
        "printing  lbound -16706.0402009\n",
        "printing self.lowerbound -6234850.59337\n",
        "printing  lbound"
       ]
      },
      {
       "output_type": "stream",
       "stream": "stdout",
       "text": [
        " -16940.3869237\n",
        "printing self.lowerbound -6251556.63357\n",
        "printing  lbound -18356.7239837\n",
        "printing self.lowerbound -6268497.0205\n",
        "printing  lbound"
       ]
      },
      {
       "output_type": "stream",
       "stream": "stdout",
       "text": [
        " -16883.9611796\n",
        "printing self.lowerbound -6286853.74448\n",
        "printing  lbound -17423.8548699\n",
        "printing self.lowerbound -6303737.70566\n",
        "printing  lbound"
       ]
      },
      {
       "output_type": "stream",
       "stream": "stdout",
       "text": [
        " -17071.5303672\n",
        "printing self.lowerbound -6321161.56053\n",
        "printing  lbound -16970.6396511\n",
        "printing self.lowerbound -6338233.0909\n",
        "printing  lbound"
       ]
      },
      {
       "output_type": "stream",
       "stream": "stdout",
       "text": [
        " -17475.9333862\n",
        "printing self.lowerbound -6355203.73055\n",
        "printing  lbound -16727.3065741\n",
        "printing self.lowerbound -6372679.66393\n",
        "printing  lbound"
       ]
      },
      {
       "output_type": "stream",
       "stream": "stdout",
       "text": [
        " -18352.2701922\n",
        "printing self.lowerbound -6389406.97051\n",
        "printing  lbound -18101.5919177\n",
        "printing self.lowerbound -6407759.2407\n",
        "printing  lbound"
       ]
      },
      {
       "output_type": "stream",
       "stream": "stdout",
       "text": [
        " -17779.3842389\n",
        "printing self.lowerbound -6425860.83262\n",
        "printing  lbound -17602.8446767\n",
        "printing self.lowerbound -6443640.21686\n",
        "printing  lbound"
       ]
      },
      {
       "output_type": "stream",
       "stream": "stdout",
       "text": [
        " -17894.5223316\n",
        "printing self.lowerbound -6461243.06153\n",
        "printing  lbound -17480.3521594\n",
        "printing self.lowerbound -6479137.58386\n",
        "printing  lbound"
       ]
      },
      {
       "output_type": "stream",
       "stream": "stdout",
       "text": [
        " -18163.7727061\n",
        "printing self.lowerbound -6496617.93602\n",
        "printing  lbound"
       ]
      },
      {
       "output_type": "stream",
       "stream": "stdout",
       "text": [
        " -18097.9930427\n",
        "printing self.lowerbound -6514781.70873\n",
        "printing  lbound -16724.6215286\n",
        "printing self.lowerbound -6532879.70177\n",
        "printing  lbound"
       ]
      },
      {
       "output_type": "stream",
       "stream": "stdout",
       "text": [
        " -16608.5479179\n",
        "printing self.lowerbound -6549604.3233\n",
        "printing  lbound -16971.6472926\n",
        "printing self.lowerbound -6566212.87122\n",
        "printing  lbound"
       ]
      },
      {
       "output_type": "stream",
       "stream": "stdout",
       "text": [
        " -17445.1671613\n",
        "printing self.lowerbound -6583184.51851\n",
        "printing  lbound -18017.7020609\n",
        "printing self.lowerbound -6600629.68567\n",
        "printing  lbound"
       ]
      },
      {
       "output_type": "stream",
       "stream": "stdout",
       "text": [
        " -17852.7284222\n",
        "printing self.lowerbound -6618647.38773\n",
        "printing  lbound -17643.8088437\n",
        "printing self.lowerbound -6636500.11616\n",
        "printing  lbound"
       ]
      },
      {
       "output_type": "stream",
       "stream": "stdout",
       "text": [
        " -17160.6941873\n",
        "printing self.lowerbound -6654143.925\n",
        "printing  lbound -18597.7674111\n",
        "printing self.lowerbound -6671304.61919\n",
        "printing  lbound"
       ]
      },
      {
       "output_type": "stream",
       "stream": "stdout",
       "text": [
        " -17363.7905885\n",
        "printing self.lowerbound -6689902.3866\n",
        "printing  lbound -16943.5437153\n",
        "printing self.lowerbound -6707266.17719\n",
        "printing  lbound"
       ]
      },
      {
       "output_type": "stream",
       "stream": "stdout",
       "text": [
        " -16337.4853803\n",
        "printing self.lowerbound -6724209.7209\n",
        "printing  lbound -17882.4027843\n",
        "printing self.lowerbound -6740547.20628\n",
        "printing  lbound"
       ]
      },
      {
       "output_type": "stream",
       "stream": "stdout",
       "text": [
        " -17304.0977072\n",
        "printing self.lowerbound -6758429.60907\n",
        "printing  lbound -16954.815295\n",
        "printing self.lowerbound -6775733.70677\n",
        "printing  lbound"
       ]
      },
      {
       "output_type": "stream",
       "stream": "stdout",
       "text": [
        " -16407.1194098\n",
        "printing self.lowerbound -6792688.52207\n",
        "printing  lbound -16833.494979\n",
        "printing self.lowerbound -6809095.64148\n",
        "printing  lbound"
       ]
      },
      {
       "output_type": "stream",
       "stream": "stdout",
       "text": [
        " -18593.6707135\n",
        "printing self.lowerbound -6825929.13646\n",
        "printing  lbound -17285.1165286\n",
        "printing self.lowerbound -6844522.80717\n",
        "printing  lbound"
       ]
      },
      {
       "output_type": "stream",
       "stream": "stdout",
       "text": [
        " -17043.5458596\n",
        "printing self.lowerbound -6861807.9237\n",
        "printing  lbound -16952.3916235\n",
        "printing self.lowerbound -6878851.46956\n",
        "printing  lbound"
       ]
      },
      {
       "output_type": "stream",
       "stream": "stdout",
       "text": [
        " -16566.5592316\n",
        "printing self.lowerbound -6895803.86118\n",
        "printing  lbound -17225.0106021\n",
        "printing self.lowerbound -6912370.42041\n",
        "printing  lbound"
       ]
      },
      {
       "output_type": "stream",
       "stream": "stdout",
       "text": [
        " -17086.5131901\n",
        "printing self.lowerbound -6929595.43102\n",
        "printing  lbound -17437.4986289\n",
        "printing self.lowerbound -6946681.94421\n",
        "printing  lbound"
       ]
      },
      {
       "output_type": "stream",
       "stream": "stdout",
       "text": [
        " -17321.1836725\n",
        "printing self.lowerbound -6964119.44284\n",
        "printing  lbound -16146.6694916\n",
        "printing self.lowerbound -6981440.62651\n",
        "printing  lbound"
       ]
      },
      {
       "output_type": "stream",
       "stream": "stdout",
       "text": [
        " -16630.683724\n",
        "printing self.lowerbound -6997587.296\n",
        "printing  lbound -17332.6868969\n",
        "printing self.lowerbound -7014217.97972\n",
        "printing  lbound"
       ]
      },
      {
       "output_type": "stream",
       "stream": "stdout",
       "text": [
        " -17637.9737316\n",
        "printing self.lowerbound -7031550.66662\n",
        "printing  lbound -16942.1804171\n",
        "printing self.lowerbound -7049188.64035\n",
        "printing  lbound"
       ]
      },
      {
       "output_type": "stream",
       "stream": "stdout",
       "text": [
        " -16350.8417799\n",
        "printing self.lowerbound -7066130.82077\n",
        "printing  lbound -17173.8335207\n",
        "printing self.lowerbound -7082481.66255\n",
        "printing  lbound"
       ]
      },
      {
       "output_type": "stream",
       "stream": "stdout",
       "text": [
        " -17057.8673467\n",
        "printing self.lowerbound -7099655.49607\n",
        "printing  lbound -16783.1816673\n",
        "printing self.lowerbound -7116713.36342\n",
        "printing  lbound"
       ]
      },
      {
       "output_type": "stream",
       "stream": "stdout",
       "text": [
        " -18105.4821275\n",
        "printing self.lowerbound -7133496.54508\n",
        "printing  lbound -17962.3692844\n",
        "printing self.lowerbound -7151602.02721\n",
        "printing  lbound"
       ]
      },
      {
       "output_type": "stream",
       "stream": "stdout",
       "text": [
        " -16959.5310937\n",
        "printing self.lowerbound -7169564.3965\n",
        "printing  lbound -16853.6888409\n",
        "printing self.lowerbound -7186523.92759\n",
        "printing  lbound"
       ]
      },
      {
       "output_type": "stream",
       "stream": "stdout",
       "text": [
        " -17133.2706708\n",
        "printing self.lowerbound -7203377.61643\n",
        "printing  lbound -16718.4325085\n",
        "printing self.lowerbound -7220510.8871\n",
        "printing  lbound"
       ]
      },
      {
       "output_type": "stream",
       "stream": "stdout",
       "text": [
        " -16798.3077822\n",
        "printing self.lowerbound -7237229.31961\n",
        "printing  lbound -17552.8107561\n",
        "printing self.lowerbound -7254027.62739\n",
        "printing  lbound"
       ]
      },
      {
       "output_type": "stream",
       "stream": "stdout",
       "text": [
        " -17486.2502647\n",
        "printing self.lowerbound -7271580.43815\n",
        "printing  lbound -18316.2018029\n",
        "printing self.lowerbound -7289066.68841\n",
        "printing  lbound"
       ]
      },
      {
       "output_type": "stream",
       "stream": "stdout",
       "text": [
        " -18343.3157806\n",
        "printing self.lowerbound -7307382.89022\n",
        "printing  lbound -17138.9077013\n",
        "printing self.lowerbound -7325726.206\n",
        "printing  lbound"
       ]
      },
      {
       "output_type": "stream",
       "stream": "stdout",
       "text": [
        " -16847.2030087\n",
        "printing self.lowerbound -7342865.1137\n",
        "printing  lbound -16142.7100521\n",
        "printing self.lowerbound -7359712.31671\n",
        "printing  lbound"
       ]
      },
      {
       "output_type": "stream",
       "stream": "stdout",
       "text": [
        " -16858.1353803\n",
        "printing self.lowerbound -7375855.02676\n",
        "printing  lbound -17018.7057891\n",
        "printing self.lowerbound -7392713.16214\n",
        "printing  lbound"
       ]
      },
      {
       "output_type": "stream",
       "stream": "stdout",
       "text": [
        " -16857.9017919\n",
        "printing self.lowerbound -7409731.86793\n",
        "printing  lbound -16100.0766636\n",
        "printing self.lowerbound -7426589.76972\n",
        "printing  lbound"
       ]
      },
      {
       "output_type": "stream",
       "stream": "stdout",
       "text": [
        " -16952.9097855\n",
        "printing self.lowerbound -7442689.84638\n",
        "printing  lbound -18514.3373198\n",
        "printing self.lowerbound -7459642.75617\n",
        "printing  lbound"
       ]
      },
      {
       "output_type": "stream",
       "stream": "stdout",
       "text": [
        " -17406.64885\n",
        "printing self.lowerbound -7478157.09349\n",
        "printing  lbound -17265.1423408\n",
        "printing self.lowerbound -7495563.74234\n",
        "printing  lbound"
       ]
      },
      {
       "output_type": "stream",
       "stream": "stdout",
       "text": [
        " -18105.3133456\n",
        "printing self.lowerbound -7512828.88468\n",
        "printing  lbound -17449.3777004\n",
        "printing self.lowerbound -7530934.19803\n",
        "printing  lbound"
       ]
      },
      {
       "output_type": "stream",
       "stream": "stdout",
       "text": [
        " -16775.2895049\n",
        "printing self.lowerbound -7548383.57573\n",
        "printing  lbound -16671.1402786\n",
        "printing self.lowerbound -7565158.86523\n",
        "printing  lbound"
       ]
      },
      {
       "output_type": "stream",
       "stream": "stdout",
       "text": [
        " -15359.3505769\n",
        "printing self.lowerbound -7581830.00551\n",
        "printing  lbound -16269.6656961\n",
        "printing self.lowerbound -7597189.35609\n",
        "printing  lbound"
       ]
      },
      {
       "output_type": "stream",
       "stream": "stdout",
       "text": [
        " -16742.212471\n",
        "printing self.lowerbound -7613459.02178\n",
        "printing  lbound -17053.2358863\n",
        "printing self.lowerbound -7630201.23425\n",
        "printing  lbound"
       ]
      },
      {
       "output_type": "stream",
       "stream": "stdout",
       "text": [
        " -17053.7382365\n",
        "printing self.lowerbound -7647254.47014\n",
        "printing  lbound -17133.3172813\n",
        "printing self.lowerbound -7664308.20838\n",
        "printing  lbound"
       ]
      },
      {
       "output_type": "stream",
       "stream": "stdout",
       "text": [
        " -17046.8034458\n",
        "printing self.lowerbound -7681441.52566\n",
        "printing  lbound -15859.1414696\n",
        "printing self.lowerbound -7698488.3291\n",
        "printing  lbound"
       ]
      },
      {
       "output_type": "stream",
       "stream": "stdout",
       "text": [
        " -17020.7167211\n",
        "printing self.lowerbound -7714347.47057\n",
        "printing  lbound -15600.4809827\n",
        "printing self.lowerbound -7731368.18729\n",
        "printing  lbound"
       ]
      },
      {
       "output_type": "stream",
       "stream": "stdout",
       "text": [
        " -17337.4117889\n",
        "printing self.lowerbound -7746968.66828\n",
        "printing  lbound"
       ]
      },
      {
       "output_type": "stream",
       "stream": "stdout",
       "text": [
        " -17482.8905701\n",
        "printing self.lowerbound -7764306.08007\n",
        "printing  lbound -17679.2588559\n",
        "printing self.lowerbound -7781788.97064\n",
        "printing  lbound"
       ]
      },
      {
       "output_type": "stream",
       "stream": "stdout",
       "text": [
        " -17396.5821062\n",
        "printing self.lowerbound -7799468.22949\n",
        "printing  lbound -17664.5492898\n",
        "printing self.lowerbound -7816864.8116\n",
        "printing  lbound"
       ]
      },
      {
       "output_type": "stream",
       "stream": "stdout",
       "text": [
        " -16811.0313961\n",
        "printing self.lowerbound -7834529.36089\n",
        "printing  lbound -16336.7004273\n",
        "printing self.lowerbound -7851340.39228\n",
        "printing  lbound"
       ]
      },
      {
       "output_type": "stream",
       "stream": "stdout",
       "text": [
        " -17235.3853223\n",
        "printing self.lowerbound -7867677.09271\n",
        "printing  lbound -16845.2040716\n",
        "printing self.lowerbound -7884912.47803\n",
        "printing  lbound"
       ]
      },
      {
       "output_type": "stream",
       "stream": "stdout",
       "text": [
        " -16973.9133336\n",
        "printing self.lowerbound -7901757.6821\n",
        "printing  lbound -16824.5919459\n",
        "printing self.lowerbound -7918731.59544\n",
        "printing  lbound"
       ]
      },
      {
       "output_type": "stream",
       "stream": "stdout",
       "text": [
        " -17612.5367499\n",
        "printing self.lowerbound -7935556.18738\n",
        "printing  lbound -17947.0912299\n",
        "printing self.lowerbound -7953168.72413\n",
        "printing  lbound"
       ]
      },
      {
       "output_type": "stream",
       "stream": "stdout",
       "text": [
        " -17246.6512266\n",
        "printing self.lowerbound -7971115.81536\n",
        "printing  lbound -17316.8054644\n",
        "printing self.lowerbound -7988362.46659\n",
        "printing  lbound"
       ]
      },
      {
       "output_type": "stream",
       "stream": "stdout",
       "text": [
        " -17205.6474442\n",
        "printing self.lowerbound -8005679.27205\n",
        "printing  lbound -17122.9130243\n",
        "printing self.lowerbound -8022884.9195\n",
        "printing  lbound"
       ]
      },
      {
       "output_type": "stream",
       "stream": "stdout",
       "text": [
        " -17239.6239624\n",
        "printing self.lowerbound -8040007.83252\n",
        "printing  lbound -17133.7707535\n",
        "printing self.lowerbound -8057247.45649\n",
        "printing  lbound"
       ]
      },
      {
       "output_type": "stream",
       "stream": "stdout",
       "text": [
        " -16668.6718575\n",
        "printing self.lowerbound -8074381.22724\n",
        "printing  lbound -16897.3085078\n",
        "printing self.lowerbound -8091049.8991\n",
        "printing  lbound"
       ]
      },
      {
       "output_type": "stream",
       "stream": "stdout",
       "text": [
        " -16157.1632553\n",
        "printing self.lowerbound -8107947.2076\n",
        "printing  lbound -17317.5717034\n",
        "printing self.lowerbound -8124104.37086\n",
        "printing  lbound"
       ]
      },
      {
       "output_type": "stream",
       "stream": "stdout",
       "text": [
        " -17326.4446638\n",
        "printing self.lowerbound -8141421.94256\n",
        "printing  lbound -17162.819646\n",
        "printing self.lowerbound -8158748.38723\n",
        "printing  lbound"
       ]
      },
      {
       "output_type": "stream",
       "stream": "stdout",
       "text": [
        " -17167.6682294\n",
        "printing self.lowerbound -8175911.20687\n",
        "printing  lbound -17593.1444587\n",
        "printing self.lowerbound -8193078.8751\n",
        "printing  lbound"
       ]
      },
      {
       "output_type": "stream",
       "stream": "stdout",
       "text": [
        " -17110.7677292\n",
        "printing self.lowerbound -8210672.01956\n",
        "printing  lbound -18176.4442353\n",
        "printing self.lowerbound -8227782.78729\n",
        "printing  lbound"
       ]
      },
      {
       "output_type": "stream",
       "stream": "stdout",
       "text": [
        " -17166.4516888\n",
        "printing self.lowerbound -8245959.23153\n",
        "printing  lbound -17015.9961525\n",
        "printing self.lowerbound -8263125.68321\n",
        "printing  lbound"
       ]
      },
      {
       "output_type": "stream",
       "stream": "stdout",
       "text": [
        " -17285.7979365\n",
        "printing self.lowerbound -8280141.67937\n",
        "printing  lbound -16555.2406909\n",
        "printing self.lowerbound -8297427.4773\n",
        "printing  lbound"
       ]
      },
      {
       "output_type": "stream",
       "stream": "stdout",
       "text": [
        " -16271.9407719\n",
        "printing self.lowerbound -8313982.71799\n",
        "printing  lbound -17630.8350147\n",
        "printing self.lowerbound -8330254.65877\n",
        "printing  lbound"
       ]
      },
      {
       "output_type": "stream",
       "stream": "stdout",
       "text": [
        " -17685.515647\n",
        "printing self.lowerbound -8347885.49378\n",
        "printing  lbound -18874.2840195\n",
        "printing self.lowerbound -8365571.00943\n",
        "printing  lbound"
       ]
      },
      {
       "output_type": "stream",
       "stream": "stdout",
       "text": [
        " -17624.0081415\n",
        "printing self.lowerbound -8384445.29345\n",
        "printing  lbound"
       ]
      },
      {
       "output_type": "stream",
       "stream": "stdout",
       "text": [
        " -16770.9858241\n",
        "printing self.lowerbound -8402069.30159\n",
        "printing  lbound"
       ]
      },
      {
       "output_type": "stream",
       "stream": "stdout",
       "text": [
        " -16607.2286352\n",
        "printing self.lowerbound -8418840.28741\n",
        "printing  lbound"
       ]
      },
      {
       "output_type": "stream",
       "stream": "stdout",
       "text": [
        " -16973.2445606\n",
        "printing self.lowerbound -8435447.51605\n",
        "printing  lbound"
       ]
      },
      {
       "output_type": "stream",
       "stream": "stdout",
       "text": [
        " -17092.7020036\n",
        "printing self.lowerbound -8452420.76061\n",
        "printing  lbound -17769.3054722\n",
        "printing self.lowerbound -8469513.46261\n",
        "printing  lbound"
       ]
      },
      {
       "output_type": "stream",
       "stream": "stdout",
       "text": [
        " -17625.8225593\n",
        "printing self.lowerbound -8487282.76808\n",
        "printing  lbound -17659.870261\n",
        "printing self.lowerbound -8504908.59064\n",
        "printing  lbound"
       ]
      },
      {
       "output_type": "stream",
       "stream": "stdout",
       "text": [
        " -17760.8038604\n",
        "printing self.lowerbound -8522568.4609\n",
        "printing  lbound -17463.7820245\n",
        "printing self.lowerbound -8540329.26477\n",
        "printing  lbound"
       ]
      },
      {
       "output_type": "stream",
       "stream": "stdout",
       "text": [
        " -17191.4989272\n",
        "printing self.lowerbound -8557793.04679\n",
        "printing  lbound -16758.0952229\n",
        "printing self.lowerbound -8574984.54572\n",
        "printing  lbound"
       ]
      },
      {
       "output_type": "stream",
       "stream": "stdout",
       "text": [
        " -16535.2677165\n",
        "printing self.lowerbound -8591742.64094\n",
        "printing  lbound -16605.9399256\n",
        "printing self.lowerbound -8608277.90866\n",
        "printing  lbound"
       ]
      },
      {
       "output_type": "stream",
       "stream": "stdout",
       "text": [
        " -18483.3377869\n",
        "printing self.lowerbound -8624883.84858\n",
        "printing  lbound -17428.4841903\n",
        "printing self.lowerbound -8643367.18637\n",
        "printing  lbound"
       ]
      },
      {
       "output_type": "stream",
       "stream": "stdout",
       "text": [
        " -16544.1111381\n",
        "printing self.lowerbound -8660795.67056\n",
        "printing  lbound -17699.8803567\n",
        "printing self.lowerbound -8677339.7817\n",
        "printing  lbound"
       ]
      },
      {
       "output_type": "stream",
       "stream": "stdout",
       "text": [
        " -17750.5267784\n",
        "printing self.lowerbound -8695039.66205\n",
        "printing  lbound -16697.8109048\n",
        "printing self.lowerbound -8712790.18883\n",
        "printing  lbound"
       ]
      },
      {
       "output_type": "stream",
       "stream": "stdout",
       "text": [
        " -17328.8753273\n",
        "printing self.lowerbound -8729487.99974\n",
        "printing  lbound -17150.8685535\n",
        "printing self.lowerbound -8746816.87506\n",
        "Iteration 1, lower bound = -175.28, time = 22.02s"
       ]
      },
      {
       "output_type": "stream",
       "stream": "stdout",
       "text": [
        "\n",
        "Iteration: 2\n",
        "printing  lbound -16260.7457061\n",
        "printing self.lowerbound 0\n",
        "printing  lbound"
       ]
      },
      {
       "output_type": "stream",
       "stream": "stdout",
       "text": [
        " -16549.699355\n",
        "printing self.lowerbound -16260.7457061\n",
        "printing  lbound -17013.491022\n",
        "printing self.lowerbound -32810.4450611\n",
        "printing  lbound"
       ]
      },
      {
       "output_type": "stream",
       "stream": "stdout",
       "text": [
        " -15973.8324068\n",
        "printing self.lowerbound -49823.9360831\n",
        "printing  lbound -16705.1234455\n",
        "printing self.lowerbound -65797.7684899\n",
        "printing  lbound"
       ]
      },
      {
       "output_type": "stream",
       "stream": "stdout",
       "text": [
        " -16823.2468681\n",
        "printing self.lowerbound -82502.8919354\n",
        "printing  lbound -16408.7924861\n",
        "printing self.lowerbound -99326.1388035\n",
        "printing  lbound"
       ]
      },
      {
       "output_type": "stream",
       "stream": "stdout",
       "text": [
        " -16897.9823274\n",
        "printing self.lowerbound -115734.93129\n",
        "printing  lbound -16988.8167295\n",
        "printing self.lowerbound -132632.913617\n",
        "printing  lbound"
       ]
      },
      {
       "output_type": "stream",
       "stream": "stdout",
       "text": [
        " -16950.1303335\n",
        "printing self.lowerbound -149621.730346\n",
        "printing  lbound -16234.9020612\n",
        "printing self.lowerbound -166571.86068\n",
        "printing  lbound"
       ]
      },
      {
       "output_type": "stream",
       "stream": "stdout",
       "text": [
        " -16576.596968\n",
        "printing self.lowerbound -182806.762741\n",
        "printing  lbound"
       ]
      },
      {
       "output_type": "stream",
       "stream": "stdout",
       "text": [
        " -17067.5273867\n",
        "printing self.lowerbound -199383.359709\n",
        "printing  lbound -17341.1511767\n",
        "printing self.lowerbound -216450.887096\n",
        "printing  lbound"
       ]
      },
      {
       "output_type": "stream",
       "stream": "stdout",
       "text": [
        " -16932.2152581\n",
        "printing self.lowerbound -233792.038273\n",
        "printing  lbound -17136.9736599\n",
        "printing self.lowerbound -250724.253531\n",
        "printing  lbound"
       ]
      },
      {
       "output_type": "stream",
       "stream": "stdout",
       "text": [
        " -16516.6108676\n",
        "printing self.lowerbound -267861.227191\n",
        "printing  lbound -16634.1011718\n",
        "printing self.lowerbound -284377.838058\n",
        "printing  lbound"
       ]
      },
      {
       "output_type": "stream",
       "stream": "stdout",
       "text": [
        " -16570.0040533\n",
        "printing self.lowerbound -301011.93923\n",
        "printing  lbound -16196.8500492\n",
        "printing self.lowerbound -317581.943283\n",
        "printing  lbound"
       ]
      },
      {
       "output_type": "stream",
       "stream": "stdout",
       "text": [
        " -16542.0311985\n",
        "printing self.lowerbound -333778.793333\n",
        "printing  lbound -16221.8902579\n",
        "printing self.lowerbound -350320.824531\n",
        "printing  lbound"
       ]
      },
      {
       "output_type": "stream",
       "stream": "stdout",
       "text": [
        " -17620.3094552\n",
        "printing self.lowerbound -366542.714789\n",
        "printing  lbound -16753.1191131\n",
        "printing self.lowerbound -384163.024244\n",
        "printing  lbound"
       ]
      },
      {
       "output_type": "stream",
       "stream": "stdout",
       "text": [
        " -16554.5516728\n",
        "printing self.lowerbound -400916.143357\n",
        "printing  lbound -16935.5834328\n",
        "printing self.lowerbound -417470.69503\n",
        "printing  lbound"
       ]
      },
      {
       "output_type": "stream",
       "stream": "stdout",
       "text": [
        " -17079.927056\n",
        "printing self.lowerbound -434406.278463\n",
        "printing  lbound -17318.2015655\n",
        "printing self.lowerbound -451486.205519\n",
        "printing  lbound"
       ]
      },
      {
       "output_type": "stream",
       "stream": "stdout",
       "text": [
        " -17594.3047605\n",
        "printing self.lowerbound -468804.407084\n",
        "printing  lbound -16033.6390311\n",
        "printing self.lowerbound -486398.711845\n",
        "printing  lbound"
       ]
      },
      {
       "output_type": "stream",
       "stream": "stdout",
       "text": [
        " -16952.1208502\n",
        "printing self.lowerbound -502432.350876\n",
        "printing  lbound -15815.9029168\n",
        "printing self.lowerbound -519384.471726\n",
        "printing  lbound"
       ]
      },
      {
       "output_type": "stream",
       "stream": "stdout",
       "text": [
        " -15116.9076169\n",
        "printing self.lowerbound -535200.374643\n",
        "printing  lbound -16370.1824409\n",
        "printing self.lowerbound -550317.28226\n",
        "printing  lbound"
       ]
      },
      {
       "output_type": "stream",
       "stream": "stdout",
       "text": [
        " -15460.6298094\n",
        "printing self.lowerbound -566687.464701\n",
        "printing  lbound -17154.0720622\n",
        "printing self.lowerbound -582148.09451\n",
        "printing  lbound"
       ]
      },
      {
       "output_type": "stream",
       "stream": "stdout",
       "text": [
        " -18199.9403953\n",
        "printing self.lowerbound -599302.166572\n",
        "printing  lbound -17486.6954903\n",
        "printing self.lowerbound -617502.106968\n",
        "printing  lbound"
       ]
      },
      {
       "output_type": "stream",
       "stream": "stdout",
       "text": [
        " -16610.7793818\n",
        "printing self.lowerbound -634988.802458\n",
        "printing  lbound -16435.1379336\n",
        "printing self.lowerbound -651599.58184\n",
        "printing  lbound"
       ]
      },
      {
       "output_type": "stream",
       "stream": "stdout",
       "text": [
        " -16739.3358462\n",
        "printing self.lowerbound -668034.719774\n",
        "printing  lbound -15918.3380503\n",
        "printing self.lowerbound -684774.05562\n",
        "printing  lbound"
       ]
      },
      {
       "output_type": "stream",
       "stream": "stdout",
       "text": [
        " -17080.1163345\n",
        "printing self.lowerbound -700692.39367\n",
        "printing  lbound -16136.9768836\n",
        "printing self.lowerbound -717772.510004\n",
        "printing  lbound"
       ]
      },
      {
       "output_type": "stream",
       "stream": "stdout",
       "text": [
        " -16907.4866868\n",
        "printing self.lowerbound -733909.486888\n",
        "printing  lbound -16710.7271451\n",
        "printing self.lowerbound -750816.973575\n",
        "printing  lbound"
       ]
      },
      {
       "output_type": "stream",
       "stream": "stdout",
       "text": [
        " -17585.55244\n",
        "printing self.lowerbound -767527.70072\n",
        "printing  lbound -18545.0692786\n",
        "printing self.lowerbound -785113.25316\n",
        "printing  lbound"
       ]
      },
      {
       "output_type": "stream",
       "stream": "stdout",
       "text": [
        " -18671.1226978\n",
        "printing self.lowerbound -803658.322439\n",
        "printing  lbound -15918.6283499\n",
        "printing self.lowerbound -822329.445136\n",
        "printing  lbound"
       ]
      },
      {
       "output_type": "stream",
       "stream": "stdout",
       "text": [
        " -16511.0796042\n",
        "printing self.lowerbound -838248.073486\n",
        "printing  lbound -17582.2316513\n",
        "printing self.lowerbound -854759.153091\n",
        "printing  lbound"
       ]
      },
      {
       "output_type": "stream",
       "stream": "stdout",
       "text": [
        " -16528.9645804\n",
        "printing self.lowerbound -872341.384742\n",
        "printing  lbound -17964.0773366\n",
        "printing self.lowerbound -888870.349322\n",
        "printing  lbound"
       ]
      },
      {
       "output_type": "stream",
       "stream": "stdout",
       "text": [
        " -16689.7624807\n",
        "printing self.lowerbound -906834.426659\n",
        "printing  lbound -16340.443562\n",
        "printing self.lowerbound -923524.18914\n",
        "printing  lbound"
       ]
      },
      {
       "output_type": "stream",
       "stream": "stdout",
       "text": [
        " -17286.6016074\n",
        "printing self.lowerbound -939864.632702\n",
        "printing  lbound -15935.5924777\n",
        "printing self.lowerbound -957151.234309\n",
        "printing  lbound"
       ]
      },
      {
       "output_type": "stream",
       "stream": "stdout",
       "text": [
        " -16158.3891193\n",
        "printing self.lowerbound -973086.826787\n",
        "printing  lbound -16589.5615884\n",
        "printing self.lowerbound -989245.215906\n",
        "printing  lbound"
       ]
      },
      {
       "output_type": "stream",
       "stream": "stdout",
       "text": [
        " -16951.5941924\n",
        "printing self.lowerbound -1005834.77749\n",
        "printing  lbound"
       ]
      },
      {
       "output_type": "stream",
       "stream": "stdout",
       "text": [
        " -17148.8475372\n",
        "printing self.lowerbound -1022786.37169\n",
        "printing  lbound -16211.4619073\n",
        "printing self.lowerbound -1039935.21922\n",
        "printing  lbound"
       ]
      },
      {
       "output_type": "stream",
       "stream": "stdout",
       "text": [
        " -16458.8531108\n",
        "printing self.lowerbound -1056146.68113\n",
        "printing  lbound -16633.4552815\n",
        "printing self.lowerbound -1072605.53424\n",
        "printing  lbound"
       ]
      },
      {
       "output_type": "stream",
       "stream": "stdout",
       "text": [
        " -16084.7446462\n",
        "printing self.lowerbound -1089238.98952\n",
        "printing  lbound -15609.7006967\n",
        "printing self.lowerbound -1105323.73417\n",
        "printing  lbound"
       ]
      },
      {
       "output_type": "stream",
       "stream": "stdout",
       "text": [
        " -15524.020471\n",
        "printing self.lowerbound -1120933.43487\n",
        "printing  lbound -16218.2464353\n",
        "printing self.lowerbound -1136457.45534\n",
        "printing  lbound"
       ]
      },
      {
       "output_type": "stream",
       "stream": "stdout",
       "text": [
        " -16217.1829261\n",
        "printing self.lowerbound -1152675.70177\n",
        "printing  lbound -16197.512888\n",
        "printing self.lowerbound -1168892.8847\n",
        "printing  lbound"
       ]
      },
      {
       "output_type": "stream",
       "stream": "stdout",
       "text": [
        " -16217.9599287\n",
        "printing self.lowerbound -1185090.39759\n",
        "printing  lbound -16437.7118866\n",
        "printing self.lowerbound -1201308.35752\n",
        "printing  lbound"
       ]
      },
      {
       "output_type": "stream",
       "stream": "stdout",
       "text": [
        " -16118.5908525\n",
        "printing self.lowerbound -1217746.0694\n",
        "printing  lbound -15624.9694683\n",
        "printing self.lowerbound -1233864.66025\n",
        "printing  lbound"
       ]
      },
      {
       "output_type": "stream",
       "stream": "stdout",
       "text": [
        " -15621.54338\n",
        "printing self.lowerbound -1249489.62972\n",
        "printing  lbound -16080.5096105\n",
        "printing self.lowerbound -1265111.1731\n",
        "printing  lbound"
       ]
      },
      {
       "output_type": "stream",
       "stream": "stdout",
       "text": [
        " -16519.9954698\n",
        "printing self.lowerbound -1281191.68271\n",
        "printing  lbound -17032.9377669\n",
        "printing self.lowerbound -1297711.67818\n",
        "printing  lbound"
       ]
      },
      {
       "output_type": "stream",
       "stream": "stdout",
       "text": [
        " -16784.5050567\n",
        "printing self.lowerbound -1314744.61595\n",
        "printing  lbound -17168.572467\n",
        "printing self.lowerbound -1331529.12101\n",
        "printing  lbound"
       ]
      },
      {
       "output_type": "stream",
       "stream": "stdout",
       "text": [
        " -15355.7377764\n",
        "printing self.lowerbound -1348697.69347\n",
        "printing  lbound -16706.9550607\n",
        "printing self.lowerbound -1364053.43125\n",
        "printing  lbound"
       ]
      },
      {
       "output_type": "stream",
       "stream": "stdout",
       "text": [
        " -16204.4394824\n",
        "printing self.lowerbound -1380760.38631\n",
        "printing  lbound -16683.1611088\n",
        "printing self.lowerbound -1396964.82579\n",
        "printing  lbound"
       ]
      },
      {
       "output_type": "stream",
       "stream": "stdout",
       "text": [
        " -16594.9106147\n",
        "printing self.lowerbound -1413647.9869\n",
        "printing  lbound -17086.9400622\n",
        "printing self.lowerbound -1430242.89752\n",
        "printing  lbound"
       ]
      },
      {
       "output_type": "stream",
       "stream": "stdout",
       "text": [
        " -16719.2282942\n",
        "printing self.lowerbound -1447329.83758\n",
        "printing  lbound -16035.9145012\n",
        "printing self.lowerbound -1464049.06587\n",
        "printing  lbound"
       ]
      },
      {
       "output_type": "stream",
       "stream": "stdout",
       "text": [
        " -16359.1810205\n",
        "printing self.lowerbound -1480084.98037\n",
        "printing  lbound -16139.1416607\n",
        "printing self.lowerbound -1496444.1614\n",
        "printing  lbound"
       ]
      },
      {
       "output_type": "stream",
       "stream": "stdout",
       "text": [
        " -16123.4185817\n",
        "printing self.lowerbound -1512583.30306\n",
        "printing  lbound -15379.6899709\n",
        "printing self.lowerbound -1528706.72164\n",
        "printing  lbound"
       ]
      },
      {
       "output_type": "stream",
       "stream": "stdout",
       "text": [
        " -17173.199097\n",
        "printing self.lowerbound -1544086.41161\n",
        "printing  lbound -17537.1805858\n",
        "printing self.lowerbound -1561259.61071\n",
        "printing  lbound"
       ]
      },
      {
       "output_type": "stream",
       "stream": "stdout",
       "text": [
        " -16925.2542734\n",
        "printing self.lowerbound -1578796.79129\n",
        "printing  lbound -17050.1686057\n",
        "printing self.lowerbound -1595722.04556\n",
        "printing  lbound"
       ]
      },
      {
       "output_type": "stream",
       "stream": "stdout",
       "text": [
        " -16887.623546\n",
        "printing self.lowerbound -1612772.21417\n",
        "printing  lbound -16957.7146043\n",
        "printing self.lowerbound -1629659.83772\n",
        "printing  lbound"
       ]
      },
      {
       "output_type": "stream",
       "stream": "stdout",
       "text": [
        " -16478.0739581\n",
        "printing self.lowerbound -1646617.55232\n",
        "printing  lbound -16344.7455872\n",
        "printing self.lowerbound -1663095.62628\n",
        "printing  lbound"
       ]
      },
      {
       "output_type": "stream",
       "stream": "stdout",
       "text": [
        " -15259.3262865\n",
        "printing self.lowerbound -1679440.37187\n",
        "printing  lbound -18107.2231083\n",
        "printing self.lowerbound -1694699.69815\n",
        "printing  lbound"
       ]
      },
      {
       "output_type": "stream",
       "stream": "stdout",
       "text": [
        " -17453.7487603\n",
        "printing self.lowerbound -1712806.92126\n",
        "printing  lbound -17039.9359929\n",
        "printing self.lowerbound -1730260.67002\n",
        "printing  lbound"
       ]
      },
      {
       "output_type": "stream",
       "stream": "stdout",
       "text": [
        " -16462.7445838\n",
        "printing self.lowerbound -1747300.60601\n",
        "printing  lbound -15970.5397327\n",
        "printing self.lowerbound -1763763.3506\n",
        "printing  lbound"
       ]
      },
      {
       "output_type": "stream",
       "stream": "stdout",
       "text": [
        " -16266.692823\n",
        "printing self.lowerbound -1779733.89033\n",
        "printing  lbound -15662.3211795\n",
        "printing self.lowerbound -1796000.58315\n",
        "printing  lbound"
       ]
      },
      {
       "output_type": "stream",
       "stream": "stdout",
       "text": [
        " -16223.1855485\n",
        "printing self.lowerbound -1811662.90433\n",
        "printing  lbound -16237.7461927\n",
        "printing self.lowerbound -1827886.08988\n",
        "printing  lbound"
       ]
      },
      {
       "output_type": "stream",
       "stream": "stdout",
       "text": [
        " -15862.1886216\n",
        "printing self.lowerbound -1844123.83607\n",
        "printing  lbound -15753.1846411\n",
        "printing self.lowerbound -1859986.0247\n",
        "printing  lbound"
       ]
      },
      {
       "output_type": "stream",
       "stream": "stdout",
       "text": [
        " -15749.3036221\n",
        "printing self.lowerbound -1875739.20934\n",
        "printing  lbound -15678.8117723\n",
        "printing self.lowerbound -1891488.51296\n",
        "printing  lbound"
       ]
      },
      {
       "output_type": "stream",
       "stream": "stdout",
       "text": [
        " -15946.3160144\n",
        "printing self.lowerbound -1907167.32473\n",
        "printing  lbound -15684.927375\n",
        "printing self.lowerbound -1923113.64075\n",
        "printing  lbound"
       ]
      },
      {
       "output_type": "stream",
       "stream": "stdout",
       "text": [
        " -15600.4133779\n",
        "printing self.lowerbound -1938798.56812\n",
        "printing  lbound -15565.2299848\n",
        "printing self.lowerbound -1954398.9815\n",
        "printing  lbound"
       ]
      },
      {
       "output_type": "stream",
       "stream": "stdout",
       "text": [
        " -15661.2680429\n",
        "printing self.lowerbound -1969964.21148\n",
        "printing  lbound -15986.4772147\n",
        "printing self.lowerbound -1985625.47953\n",
        "printing  lbound"
       ]
      },
      {
       "output_type": "stream",
       "stream": "stdout",
       "text": [
        " -15977.1770171\n",
        "printing self.lowerbound -2001611.95674\n",
        "printing  lbound -16810.4146014\n",
        "printing self.lowerbound -2017589.13376\n",
        "printing  lbound"
       ]
      },
      {
       "output_type": "stream",
       "stream": "stdout",
       "text": [
        " -17069.3828994\n",
        "printing self.lowerbound -2034399.54836\n",
        "printing  lbound -16993.1767497\n",
        "printing self.lowerbound -2051468.93126\n",
        "printing  lbound"
       ]
      },
      {
       "output_type": "stream",
       "stream": "stdout",
       "text": [
        " -16857.4537422\n",
        "printing self.lowerbound -2068462.10801\n",
        "printing  lbound -17347.726785\n",
        "printing self.lowerbound -2085319.56175\n",
        "printing  lbound"
       ]
      },
      {
       "output_type": "stream",
       "stream": "stdout",
       "text": [
        " -16822.548807\n",
        "printing self.lowerbound -2102667.28854\n",
        "printing  lbound -16160.8236456\n",
        "printing self.lowerbound -2119489.83734\n",
        "printing  lbound"
       ]
      },
      {
       "output_type": "stream",
       "stream": "stdout",
       "text": [
        " -16965.0685877\n",
        "printing self.lowerbound -2135650.66099\n",
        "printing  lbound -17037.2895363\n",
        "printing self.lowerbound -2152615.72958\n",
        "printing  lbound"
       ]
      },
      {
       "output_type": "stream",
       "stream": "stdout",
       "text": [
        " -16403.7639716\n",
        "printing self.lowerbound -2169653.01911\n",
        "printing  lbound -17145.5205358\n",
        "printing self.lowerbound -2186056.78308\n",
        "printing  lbound"
       ]
      },
      {
       "output_type": "stream",
       "stream": "stdout",
       "text": [
        " -16460.7440394\n",
        "printing self.lowerbound -2203202.30362\n",
        "printing  lbound -16409.8060165\n",
        "printing self.lowerbound -2219663.04766\n",
        "printing  lbound"
       ]
      },
      {
       "output_type": "stream",
       "stream": "stdout",
       "text": [
        " -16441.23532\n",
        "printing self.lowerbound -2236072.85368\n",
        "printing  lbound -16236.0252386\n",
        "printing self.lowerbound -2252514.089\n",
        "printing  lbound"
       ]
      },
      {
       "output_type": "stream",
       "stream": "stdout",
       "text": [
        " -15896.0991083\n",
        "printing self.lowerbound -2268750.11423\n",
        "printing  lbound -16362.4393393\n",
        "printing self.lowerbound -2284646.21334\n",
        "printing  lbound"
       ]
      },
      {
       "output_type": "stream",
       "stream": "stdout",
       "text": [
        " -16925.5652875\n",
        "printing self.lowerbound -2301008.65268\n",
        "printing  lbound -17088.3507038\n",
        "printing self.lowerbound -2317934.21797\n",
        "printing  lbound"
       ]
      },
      {
       "output_type": "stream",
       "stream": "stdout",
       "text": [
        " -17631.2903751\n",
        "printing self.lowerbound -2335022.56867\n",
        "printing  lbound -16705.8244725\n",
        "printing self.lowerbound -2352653.85905\n",
        "printing  lbound"
       ]
      },
      {
       "output_type": "stream",
       "stream": "stdout",
       "text": [
        " -17108.0243422\n",
        "printing self.lowerbound -2369359.68352\n",
        "printing  lbound -16535.2811305\n",
        "printing self.lowerbound -2386467.70786\n",
        "printing  lbound"
       ]
      },
      {
       "output_type": "stream",
       "stream": "stdout",
       "text": [
        " -15885.9911513\n",
        "printing self.lowerbound -2403002.98899\n",
        "printing  lbound -17023.4453636\n",
        "printing self.lowerbound -2418888.98014\n",
        "printing  lbound"
       ]
      },
      {
       "output_type": "stream",
       "stream": "stdout",
       "text": [
        " -17105.1294433\n",
        "printing self.lowerbound -2435912.42551\n",
        "printing  lbound -17035.6619671\n",
        "printing self.lowerbound -2453017.55495\n",
        "printing  lbound"
       ]
      },
      {
       "output_type": "stream",
       "stream": "stdout",
       "text": [
        " -14818.8237637\n",
        "printing self.lowerbound -2470053.21692\n",
        "printing  lbound -15882.2309506\n",
        "printing self.lowerbound -2484872.04068\n",
        "printing  lbound"
       ]
      },
      {
       "output_type": "stream",
       "stream": "stdout",
       "text": [
        " -16218.1335055\n",
        "printing self.lowerbound -2500754.27163\n",
        "printing  lbound -16361.3718662\n",
        "printing self.lowerbound -2516972.40514\n",
        "printing  lbound"
       ]
      },
      {
       "output_type": "stream",
       "stream": "stdout",
       "text": [
        " -15426.6122835\n",
        "printing self.lowerbound -2533333.777\n",
        "printing  lbound -15806.3869812\n",
        "printing self.lowerbound -2548760.38929\n",
        "printing  lbound"
       ]
      },
      {
       "output_type": "stream",
       "stream": "stdout",
       "text": [
        " -15918.8477397\n",
        "printing self.lowerbound -2564566.77627\n",
        "printing  lbound -16237.3345865\n",
        "printing self.lowerbound -2580485.62401\n",
        "printing  lbound"
       ]
      },
      {
       "output_type": "stream",
       "stream": "stdout",
       "text": [
        " -16960.3942354\n",
        "printing self.lowerbound -2596722.9586\n",
        "printing  lbound -16592.7814508\n",
        "printing self.lowerbound -2613683.35283\n",
        "printing  lbound"
       ]
      },
      {
       "output_type": "stream",
       "stream": "stdout",
       "text": [
        " -15573.9124532\n",
        "printing self.lowerbound -2630276.13428\n",
        "printing  lbound -15781.4786279\n",
        "printing self.lowerbound -2645850.04674\n",
        "printing  lbound"
       ]
      },
      {
       "output_type": "stream",
       "stream": "stdout",
       "text": [
        " -16520.0083344\n",
        "printing self.lowerbound -2661631.52536\n",
        "printing  lbound -15499.4677489\n",
        "printing self.lowerbound -2678151.5337\n",
        "printing  lbound"
       ]
      },
      {
       "output_type": "stream",
       "stream": "stdout",
       "text": [
        " -15760.6467008\n",
        "printing self.lowerbound -2693651.00145\n",
        "printing  lbound -15418.3081605\n",
        "printing self.lowerbound -2709411.64815\n",
        "printing  lbound"
       ]
      },
      {
       "output_type": "stream",
       "stream": "stdout",
       "text": [
        " -16162.1149261\n",
        "printing self.lowerbound -2724829.95631\n",
        "printing  lbound -15580.7121108\n",
        "printing self.lowerbound -2740992.07123\n",
        "printing  lbound"
       ]
      },
      {
       "output_type": "stream",
       "stream": "stdout",
       "text": [
        " -16658.9195559\n",
        "printing self.lowerbound -2756572.78334\n",
        "printing  lbound -16895.0421121\n",
        "printing self.lowerbound -2773231.7029\n",
        "printing  lbound"
       ]
      },
      {
       "output_type": "stream",
       "stream": "stdout",
       "text": [
        " -15641.0303911\n",
        "printing self.lowerbound -2790126.74501\n",
        "printing  lbound -15785.2174634\n",
        "printing self.lowerbound -2805767.7754\n",
        "printing  lbound"
       ]
      },
      {
       "output_type": "stream",
       "stream": "stdout",
       "text": [
        " -17011.6635853\n",
        "printing self.lowerbound -2821552.99287\n",
        "printing  lbound -17032.5719693\n",
        "printing self.lowerbound -2838564.65645\n",
        "printing  lbound"
       ]
      },
      {
       "output_type": "stream",
       "stream": "stdout",
       "text": [
        " -16701.8284891\n",
        "printing self.lowerbound -2855597.22842\n",
        "printing  lbound -15972.9822593\n",
        "printing self.lowerbound -2872299.05691\n",
        "printing  lbound"
       ]
      },
      {
       "output_type": "stream",
       "stream": "stdout",
       "text": [
        " -16923.7242255\n",
        "printing self.lowerbound -2888272.03917\n",
        "printing  lbound -16935.9022657\n",
        "printing self.lowerbound -2905195.7634\n",
        "printing  lbound"
       ]
      },
      {
       "output_type": "stream",
       "stream": "stdout",
       "text": [
        " -15172.0638237\n",
        "printing self.lowerbound -2922131.66566\n",
        "printing  lbound -14845.9054666\n",
        "printing self.lowerbound -2937303.72948\n",
        "printing  lbound"
       ]
      },
      {
       "output_type": "stream",
       "stream": "stdout",
       "text": [
        " -15834.578671\n",
        "printing self.lowerbound -2952149.63495\n",
        "printing  lbound -15480.3358946\n",
        "printing self.lowerbound -2967984.21362\n",
        "printing  lbound"
       ]
      },
      {
       "output_type": "stream",
       "stream": "stdout",
       "text": [
        " -14716.3870051\n",
        "printing self.lowerbound -2983464.54952\n",
        "printing  lbound"
       ]
      },
      {
       "output_type": "stream",
       "stream": "stdout",
       "text": [
        " -15559.6276156\n",
        "printing self.lowerbound -2998180.93652\n",
        "printing  lbound -15247.3612295\n",
        "printing self.lowerbound -3013740.56414\n",
        "printing  lbound"
       ]
      },
      {
       "output_type": "stream",
       "stream": "stdout",
       "text": [
        " -15309.5472947\n",
        "printing self.lowerbound -3028987.92537\n",
        "printing  lbound -17042.7945947\n",
        "printing self.lowerbound -3044297.47266\n",
        "printing  lbound"
       ]
      },
      {
       "output_type": "stream",
       "stream": "stdout",
       "text": [
        " -16719.3982525\n",
        "printing self.lowerbound -3061340.26726\n",
        "printing  lbound -16206.6124398\n",
        "printing self.lowerbound -3078059.66551\n",
        "printing  lbound"
       ]
      },
      {
       "output_type": "stream",
       "stream": "stdout",
       "text": [
        " -15779.155977\n",
        "printing self.lowerbound -3094266.27795\n",
        "printing  lbound -15820.3691323\n",
        "printing self.lowerbound -3110045.43393\n",
        "printing  lbound"
       ]
      },
      {
       "output_type": "stream",
       "stream": "stdout",
       "text": [
        " -15669.2504935\n",
        "printing self.lowerbound -3125865.80306\n",
        "printing  lbound -15943.7209745\n",
        "printing self.lowerbound -3141535.05355\n",
        "printing  lbound"
       ]
      },
      {
       "output_type": "stream",
       "stream": "stdout",
       "text": [
        " -16751.0574198\n",
        "printing self.lowerbound -3157478.77453\n",
        "printing  lbound -17088.3401793\n",
        "printing self.lowerbound -3174229.83195\n",
        "printing  lbound"
       ]
      },
      {
       "output_type": "stream",
       "stream": "stdout",
       "text": [
        " -16450.2418136\n",
        "printing self.lowerbound -3191318.17213\n",
        "printing  lbound -15843.1209827\n",
        "printing self.lowerbound -3207768.41394\n",
        "printing  lbound"
       ]
      },
      {
       "output_type": "stream",
       "stream": "stdout",
       "text": [
        " -15631.4018301\n",
        "printing self.lowerbound -3223611.53492\n",
        "printing  lbound -16710.3877814\n",
        "printing self.lowerbound -3239242.93675\n",
        "printing  lbound"
       ]
      },
      {
       "output_type": "stream",
       "stream": "stdout",
       "text": [
        " -16398.9374645\n",
        "printing self.lowerbound -3255953.32453\n",
        "printing  lbound -18427.0502601\n",
        "printing self.lowerbound -3272352.262\n",
        "printing  lbound"
       ]
      },
      {
       "output_type": "stream",
       "stream": "stdout",
       "text": [
        " -17340.4913464\n",
        "printing self.lowerbound -3290779.31226\n",
        "printing  lbound -16556.2155208\n",
        "printing self.lowerbound -3308119.8036\n",
        "printing  lbound"
       ]
      },
      {
       "output_type": "stream",
       "stream": "stdout",
       "text": [
        " -16085.1642703\n",
        "printing self.lowerbound -3324676.01913\n",
        "printing  lbound -15887.0808123\n",
        "printing self.lowerbound -3340761.1834\n",
        "printing  lbound"
       ]
      },
      {
       "output_type": "stream",
       "stream": "stdout",
       "text": [
        " -15586.7857386\n",
        "printing self.lowerbound -3356648.26421\n",
        "printing  lbound"
       ]
      },
      {
       "output_type": "stream",
       "stream": "stdout",
       "text": [
        " -15957.2231223\n",
        "printing self.lowerbound -3372235.04995\n",
        "printing  lbound -15713.2764892\n",
        "printing self.lowerbound -3388192.27307\n",
        "printing  lbound"
       ]
      },
      {
       "output_type": "stream",
       "stream": "stdout",
       "text": [
        " -15200.6841781\n",
        "printing self.lowerbound -3403905.54956\n",
        "printing  lbound -15694.956392\n",
        "printing self.lowerbound -3419106.23374\n",
        "printing  lbound"
       ]
      },
      {
       "output_type": "stream",
       "stream": "stdout",
       "text": [
        " -16469.9632169\n",
        "printing self.lowerbound -3434801.19013\n",
        "printing  lbound -15559.9834457\n",
        "printing self.lowerbound -3451271.15334\n",
        "printing  lbound"
       ]
      },
      {
       "output_type": "stream",
       "stream": "stdout",
       "text": [
        " -16111.9380594\n",
        "printing self.lowerbound -3466831.13679\n",
        "printing  lbound -16161.1127453\n",
        "printing self.lowerbound -3482943.07485\n",
        "printing  lbound"
       ]
      },
      {
       "output_type": "stream",
       "stream": "stdout",
       "text": [
        " -16906.611533\n",
        "printing self.lowerbound -3499104.1876\n",
        "printing  lbound -16349.8777435\n",
        "printing self.lowerbound -3516010.79913\n",
        "printing  lbound"
       ]
      },
      {
       "output_type": "stream",
       "stream": "stdout",
       "text": [
        " -15814.9137191\n",
        "printing self.lowerbound -3532360.67687\n",
        "printing  lbound -15398.6700991\n",
        "printing self.lowerbound -3548175.59059\n",
        "printing  lbound"
       ]
      },
      {
       "output_type": "stream",
       "stream": "stdout",
       "text": [
        " -15585.8106498\n",
        "printing self.lowerbound -3563574.26069\n",
        "printing  lbound -16046.7994025\n",
        "printing self.lowerbound -3579160.07134\n",
        "printing  lbound"
       ]
      },
      {
       "output_type": "stream",
       "stream": "stdout",
       "text": [
        " -16057.8975153\n",
        "printing self.lowerbound -3595206.87074\n",
        "printing  lbound -17258.0290689\n",
        "printing self.lowerbound -3611264.76826\n",
        "printing  lbound"
       ]
      },
      {
       "output_type": "stream",
       "stream": "stdout",
       "text": [
        " -17690.2917476\n",
        "printing self.lowerbound -3628522.79733\n",
        "printing  lbound -16095.7262433\n",
        "printing self.lowerbound -3646213.08907\n",
        "printing  lbound"
       ]
      },
      {
       "output_type": "stream",
       "stream": "stdout",
       "text": [
        " -15774.8604193\n",
        "printing self.lowerbound -3662308.81532\n",
        "printing  lbound -15652.8238596\n",
        "printing self.lowerbound -3678083.67574\n",
        "printing  lbound"
       ]
      },
      {
       "output_type": "stream",
       "stream": "stdout",
       "text": [
        " -16545.2322466\n",
        "printing self.lowerbound -3693736.4996\n",
        "printing  lbound -16708.7004626\n",
        "printing self.lowerbound -3710281.73184\n",
        "printing  lbound"
       ]
      },
      {
       "output_type": "stream",
       "stream": "stdout",
       "text": [
        " -16642.7637956\n",
        "printing self.lowerbound -3726990.43231\n",
        "printing  lbound -16012.4325721\n",
        "printing self.lowerbound -3743633.1961\n",
        "printing  lbound"
       ]
      },
      {
       "output_type": "stream",
       "stream": "stdout",
       "text": [
        " -16681.0187372\n",
        "printing self.lowerbound -3759645.62867\n",
        "printing  lbound -16684.8336159\n",
        "printing self.lowerbound -3776326.64741\n",
        "printing  lbound"
       ]
      },
      {
       "output_type": "stream",
       "stream": "stdout",
       "text": [
        " -16518.0218988\n",
        "printing self.lowerbound -3793011.48103\n",
        "printing  lbound -15620.156411\n",
        "printing self.lowerbound -3809529.50292\n",
        "printing  lbound"
       ]
      },
      {
       "output_type": "stream",
       "stream": "stdout",
       "text": [
        " -16303.3176176\n",
        "printing self.lowerbound -3825149.65934\n",
        "printing  lbound -16086.1196956\n",
        "printing self.lowerbound -3841452.97695\n",
        "printing  lbound"
       ]
      },
      {
       "output_type": "stream",
       "stream": "stdout",
       "text": [
        " -15928.8017946\n",
        "printing self.lowerbound -3857539.09665\n",
        "printing  lbound -16024.7789062\n",
        "printing self.lowerbound -3873467.89844\n",
        "printing  lbound"
       ]
      },
      {
       "output_type": "stream",
       "stream": "stdout",
       "text": [
        " -16636.1127232\n",
        "printing self.lowerbound -3889492.67735\n",
        "printing  lbound -16667.8383435\n",
        "printing self.lowerbound -3906128.79007\n",
        "printing  lbound"
       ]
      },
      {
       "output_type": "stream",
       "stream": "stdout",
       "text": [
        " -15863.4121243\n",
        "printing self.lowerbound -3922796.62842\n",
        "printing  lbound -15130.3529076\n",
        "printing self.lowerbound -3938660.04054\n",
        "printing  lbound"
       ]
      },
      {
       "output_type": "stream",
       "stream": "stdout",
       "text": [
        " -14554.0630762\n",
        "printing self.lowerbound -3953790.39345\n",
        "printing  lbound -16020.2414129\n",
        "printing self.lowerbound -3968344.45652\n",
        "printing  lbound"
       ]
      },
      {
       "output_type": "stream",
       "stream": "stdout",
       "text": [
        " -15329.3237699\n",
        "printing self.lowerbound -3984364.69794\n",
        "printing  lbound -16950.8127659\n",
        "printing self.lowerbound -3999694.02171\n",
        "printing  lbound"
       ]
      },
      {
       "output_type": "stream",
       "stream": "stdout",
       "text": [
        " -16961.5064091\n",
        "printing self.lowerbound -4016644.83447\n",
        "printing  lbound -16228.4365344\n",
        "printing self.lowerbound -4033606.34088\n",
        "printing  lbound"
       ]
      },
      {
       "output_type": "stream",
       "stream": "stdout",
       "text": [
        " -15330.0995583\n",
        "printing self.lowerbound -4049834.77742\n",
        "printing  lbound -15379.3634579\n",
        "printing self.lowerbound -4065164.87698\n",
        "printing  lbound"
       ]
      },
      {
       "output_type": "stream",
       "stream": "stdout",
       "text": [
        " -14358.0001699\n",
        "printing self.lowerbound -4080544.24043\n",
        "printing  lbound -15490.6823383\n",
        "printing self.lowerbound -4094902.2406\n",
        "printing  lbound"
       ]
      },
      {
       "output_type": "stream",
       "stream": "stdout",
       "text": [
        " -16106.6935168\n",
        "printing self.lowerbound -4110392.92294\n",
        "printing  lbound -16039.1478162\n",
        "printing self.lowerbound -4126499.61646\n",
        "printing  lbound"
       ]
      },
      {
       "output_type": "stream",
       "stream": "stdout",
       "text": [
        " -16299.1672882\n",
        "printing self.lowerbound -4142538.76427\n",
        "printing  lbound -15541.9778085\n",
        "printing self.lowerbound -4158837.93156\n",
        "printing  lbound"
       ]
      },
      {
       "output_type": "stream",
       "stream": "stdout",
       "text": [
        " -15477.4002981\n",
        "printing self.lowerbound -4174379.90937\n",
        "printing  lbound -16161.5885154\n",
        "printing self.lowerbound -4189857.30967\n",
        "printing  lbound"
       ]
      },
      {
       "output_type": "stream",
       "stream": "stdout",
       "text": [
        " -15357.5739658\n",
        "printing self.lowerbound -4206018.89818\n",
        "printing  lbound -14563.2226\n",
        "printing self.lowerbound -4221376.47215\n",
        "printing  lbound"
       ]
      },
      {
       "output_type": "stream",
       "stream": "stdout",
       "text": [
        " -16198.4129545\n",
        "printing self.lowerbound -4235939.69475\n",
        "printing  lbound -15406.9286886\n",
        "printing self.lowerbound -4252138.1077\n",
        "printing  lbound"
       ]
      },
      {
       "output_type": "stream",
       "stream": "stdout",
       "text": [
        " -15257.9028192\n",
        "printing self.lowerbound -4267545.03639\n",
        "printing  lbound -15136.6770942\n",
        "printing self.lowerbound -4282802.93921\n",
        "printing  lbound"
       ]
      },
      {
       "output_type": "stream",
       "stream": "stdout",
       "text": [
        " -15474.5169544\n",
        "printing self.lowerbound -4297939.61631\n",
        "printing  lbound -15725.9262291\n",
        "printing self.lowerbound -4313414.13326\n",
        "printing  lbound"
       ]
      },
      {
       "output_type": "stream",
       "stream": "stdout",
       "text": [
        " -15320.2726343\n",
        "printing self.lowerbound -4329140.05949\n",
        "printing  lbound -15942.1649692\n",
        "printing self.lowerbound -4344460.33212\n",
        "printing  lbound"
       ]
      },
      {
       "output_type": "stream",
       "stream": "stdout",
       "text": [
        " -15921.0751708\n",
        "printing self.lowerbound -4360402.49709\n",
        "printing  lbound -15124.6915323\n",
        "printing self.lowerbound -4376323.57226\n",
        "printing  lbound"
       ]
      },
      {
       "output_type": "stream",
       "stream": "stdout",
       "text": [
        " -15302.2157864\n",
        "printing self.lowerbound -4391448.2638\n",
        "printing  lbound -16207.1664234\n",
        "printing self.lowerbound -4406750.47958\n",
        "printing  lbound"
       ]
      },
      {
       "output_type": "stream",
       "stream": "stdout",
       "text": [
        " -17467.822324\n",
        "printing self.lowerbound -4422957.64601\n",
        "printing  lbound -16755.7481081\n",
        "printing self.lowerbound -4440425.46833\n",
        "printing  lbound"
       ]
      },
      {
       "output_type": "stream",
       "stream": "stdout",
       "text": [
        " -16393.3371503\n",
        "printing self.lowerbound -4457181.21644\n",
        "printing  lbound -17095.6260089\n",
        "printing self.lowerbound -4473574.55359\n",
        "printing  lbound"
       ]
      },
      {
       "output_type": "stream",
       "stream": "stdout",
       "text": [
        " -15858.9791179\n",
        "printing self.lowerbound -4490670.1796\n",
        "printing  lbound -15811.5780663\n",
        "printing self.lowerbound -4506529.15872\n",
        "printing  lbound"
       ]
      },
      {
       "output_type": "stream",
       "stream": "stdout",
       "text": [
        " -16338.2475784\n",
        "printing self.lowerbound -4522340.73678\n",
        "printing  lbound -16174.0778643\n",
        "printing self.lowerbound -4538678.98436\n",
        "printing  lbound"
       ]
      },
      {
       "output_type": "stream",
       "stream": "stdout",
       "text": [
        " -15783.4509651\n",
        "printing self.lowerbound -4554853.06223\n",
        "printing  lbound -14856.943829\n",
        "printing self.lowerbound -4570636.51319\n",
        "printing  lbound"
       ]
      },
      {
       "output_type": "stream",
       "stream": "stdout",
       "text": [
        " -15830.1005467\n",
        "printing self.lowerbound -4585493.45702\n",
        "printing  lbound -16495.7323151\n",
        "printing self.lowerbound -4601323.55757\n",
        "printing  lbound"
       ]
      },
      {
       "output_type": "stream",
       "stream": "stdout",
       "text": [
        " -15862.7385117\n",
        "printing self.lowerbound -4617819.28988\n",
        "printing  lbound -16327.8962931\n",
        "printing self.lowerbound -4633682.02839\n",
        "printing  lbound"
       ]
      },
      {
       "output_type": "stream",
       "stream": "stdout",
       "text": [
        " -15758.3112796\n",
        "printing self.lowerbound -4650009.92469\n",
        "printing  lbound -15891.4438735\n",
        "printing self.lowerbound -4665768.23597\n",
        "printing  lbound"
       ]
      },
      {
       "output_type": "stream",
       "stream": "stdout",
       "text": [
        " -15814.6976565\n",
        "printing self.lowerbound -4681659.67984\n",
        "printing  lbound -16307.0768382\n",
        "printing self.lowerbound -4697474.3775\n",
        "printing  lbound"
       ]
      },
      {
       "output_type": "stream",
       "stream": "stdout",
       "text": [
        " -17038.443069\n",
        "printing self.lowerbound -4713781.45433\n",
        "printing  lbound -16579.0546558\n",
        "printing self.lowerbound -4730819.8974\n",
        "printing  lbound"
       ]
      },
      {
       "output_type": "stream",
       "stream": "stdout",
       "text": [
        " -16331.8837041\n",
        "printing self.lowerbound -4747398.95206\n",
        "printing  lbound -15960.6267806\n",
        "printing self.lowerbound -4763730.83576\n",
        "printing  lbound"
       ]
      },
      {
       "output_type": "stream",
       "stream": "stdout",
       "text": [
        " -16144.6015133\n",
        "printing self.lowerbound -4779691.46254\n",
        "printing  lbound -15619.775184\n",
        "printing self.lowerbound -4795836.06406\n",
        "printing  lbound"
       ]
      },
      {
       "output_type": "stream",
       "stream": "stdout",
       "text": [
        " -14990.1169879\n",
        "printing self.lowerbound -4811455.83924\n",
        "printing  lbound -15783.3930134\n",
        "printing self.lowerbound -4826445.95623\n",
        "printing  lbound"
       ]
      },
      {
       "output_type": "stream",
       "stream": "stdout",
       "text": [
        " -15338.0345738\n",
        "printing self.lowerbound -4842229.34924\n",
        "printing  lbound -14504.857314\n",
        "printing self.lowerbound -4857567.38382\n",
        "printing  lbound"
       ]
      },
      {
       "output_type": "stream",
       "stream": "stdout",
       "text": [
        " -15563.6517492\n",
        "printing self.lowerbound -4872072.24113\n",
        "printing  lbound -16574.9036168\n",
        "printing self.lowerbound -4887635.89288\n",
        "printing  lbound"
       ]
      },
      {
       "output_type": "stream",
       "stream": "stdout",
       "text": [
        " -16133.643359\n",
        "printing self.lowerbound -4904210.7965\n",
        "printing  lbound"
       ]
      },
      {
       "output_type": "stream",
       "stream": "stdout",
       "text": [
        " -15573.7984026\n",
        "printing self.lowerbound -4920344.43985\n",
        "printing  lbound -15895.7954931\n",
        "printing self.lowerbound -4935918.23826\n",
        "printing  lbound"
       ]
      },
      {
       "output_type": "stream",
       "stream": "stdout",
       "text": [
        " -16734.3198317\n",
        "printing self.lowerbound -4951814.03375\n",
        "printing  lbound -15849.6995124\n",
        "printing self.lowerbound -4968548.35358\n",
        "printing  lbound"
       ]
      },
      {
       "output_type": "stream",
       "stream": "stdout",
       "text": [
        " -15244.4044382\n",
        "printing self.lowerbound -4984398.05309\n",
        "printing  lbound -15317.4280569\n",
        "printing self.lowerbound -4999642.45753\n",
        "printing  lbound"
       ]
      },
      {
       "output_type": "stream",
       "stream": "stdout",
       "text": [
        " -15608.9385711\n",
        "printing self.lowerbound -5014959.88559\n",
        "printing  lbound -14730.4180847\n",
        "printing self.lowerbound -5030568.82416\n",
        "printing  lbound"
       ]
      },
      {
       "output_type": "stream",
       "stream": "stdout",
       "text": [
        " -15856.6819928\n",
        "printing self.lowerbound -5045299.24225\n",
        "printing  lbound -15709.6666089\n",
        "printing self.lowerbound -5061155.92424\n",
        "printing  lbound"
       ]
      },
      {
       "output_type": "stream",
       "stream": "stdout",
       "text": [
        " -16069.0674818\n",
        "printing self.lowerbound -5076865.59085\n",
        "printing  lbound -15174.6119077\n",
        "printing self.lowerbound -5092934.65833\n",
        "printing  lbound"
       ]
      },
      {
       "output_type": "stream",
       "stream": "stdout",
       "text": [
        " -16133.9411047\n",
        "printing self.lowerbound -5108109.27024\n",
        "printing  lbound -15497.5451332\n",
        "printing self.lowerbound -5124243.21134\n",
        "printing  lbound"
       ]
      },
      {
       "output_type": "stream",
       "stream": "stdout",
       "text": [
        " -16537.0780429\n",
        "printing self.lowerbound -5139740.75647\n",
        "printing  lbound -16266.0114091\n",
        "printing self.lowerbound -5156277.83452\n",
        "printing  lbound"
       ]
      },
      {
       "output_type": "stream",
       "stream": "stdout",
       "text": [
        " -15749.2409133\n",
        "printing self.lowerbound -5172543.84593\n",
        "printing  lbound -15597.611156\n",
        "printing self.lowerbound -5188293.08684\n",
        "printing  lbound"
       ]
      },
      {
       "output_type": "stream",
       "stream": "stdout",
       "text": [
        " -15607.9851103\n",
        "printing self.lowerbound -5203890.698\n",
        "printing  lbound -15929.0984139\n",
        "printing self.lowerbound -5219498.68311\n",
        "printing  lbound"
       ]
      },
      {
       "output_type": "stream",
       "stream": "stdout",
       "text": [
        " -16247.4900934\n",
        "printing self.lowerbound -5235427.78152\n",
        "printing  lbound -15717.7249187\n",
        "printing self.lowerbound -5251675.27161\n",
        "printing  lbound"
       ]
      },
      {
       "output_type": "stream",
       "stream": "stdout",
       "text": [
        " -16188.8244636\n",
        "printing self.lowerbound -5267392.99653\n",
        "printing  lbound -16148.3659218\n",
        "printing self.lowerbound -5283581.821\n",
        "printing  lbound"
       ]
      },
      {
       "output_type": "stream",
       "stream": "stdout",
       "text": [
        " -16310.9352191\n",
        "printing self.lowerbound -5299730.18692\n",
        "printing  lbound -15664.9256014\n",
        "printing self.lowerbound -5316041.12214\n",
        "printing  lbound"
       ]
      },
      {
       "output_type": "stream",
       "stream": "stdout",
       "text": [
        " -14859.5786942\n",
        "printing self.lowerbound -5331706.04774\n",
        "printing  lbound -16159.386835\n",
        "printing self.lowerbound -5346565.62643\n",
        "printing  lbound"
       ]
      },
      {
       "output_type": "stream",
       "stream": "stdout",
       "text": [
        " -16663.9832995\n",
        "printing self.lowerbound -5362725.01327\n",
        "printing  lbound -15299.5549615\n",
        "printing self.lowerbound -5379388.99657\n",
        "printing  lbound"
       ]
      },
      {
       "output_type": "stream",
       "stream": "stdout",
       "text": [
        " -16397.3006103\n",
        "printing self.lowerbound -5394688.55153\n",
        "printing  lbound -16123.3244775\n",
        "printing self.lowerbound -5411085.85214\n",
        "printing  lbound"
       ]
      },
      {
       "output_type": "stream",
       "stream": "stdout",
       "text": [
        " -15773.9478691\n",
        "printing self.lowerbound -5427209.17662\n",
        "printing  lbound -15669.0401622\n",
        "printing self.lowerbound -5442983.12449\n",
        "printing  lbound"
       ]
      },
      {
       "output_type": "stream",
       "stream": "stdout",
       "text": [
        " -15258.4182737\n",
        "printing self.lowerbound -5458652.16465\n",
        "printing  lbound -14782.8569825\n",
        "printing self.lowerbound -5473910.58292\n",
        "printing  lbound"
       ]
      },
      {
       "output_type": "stream",
       "stream": "stdout",
       "text": [
        " -14828.1375771\n",
        "printing self.lowerbound -5488693.4399\n",
        "printing  lbound -14838.2083348\n",
        "printing self.lowerbound -5503521.57748\n",
        "printing  lbound"
       ]
      },
      {
       "output_type": "stream",
       "stream": "stdout",
       "text": [
        " -15272.7434848\n",
        "printing self.lowerbound -5518359.78582\n",
        "printing  lbound -16202.7252194\n",
        "printing self.lowerbound -5533632.5293\n",
        "printing  lbound"
       ]
      },
      {
       "output_type": "stream",
       "stream": "stdout",
       "text": [
        " -15648.2123837\n",
        "printing self.lowerbound -5549835.25452\n",
        "printing  lbound -15846.702071\n",
        "printing self.lowerbound -5565483.4669\n",
        "printing  lbound"
       ]
      },
      {
       "output_type": "stream",
       "stream": "stdout",
       "text": [
        " -16436.8877312\n",
        "printing self.lowerbound -5581330.16897\n",
        "printing  lbound -16161.8336155\n",
        "printing self.lowerbound -5597767.05671\n",
        "printing  lbound"
       ]
      },
      {
       "output_type": "stream",
       "stream": "stdout",
       "text": [
        " -15879.5314113\n",
        "printing self.lowerbound -5613928.89032\n",
        "printing  lbound -16009.594877\n",
        "printing self.lowerbound -5629808.42173\n",
        "printing  lbound"
       ]
      },
      {
       "output_type": "stream",
       "stream": "stdout",
       "text": [
        " -16335.7715627\n",
        "printing self.lowerbound -5645818.01661\n",
        "printing  lbound -14935.2107845\n",
        "printing self.lowerbound -5662153.78817\n",
        "printing  lbound"
       ]
      },
      {
       "output_type": "stream",
       "stream": "stdout",
       "text": [
        " -15946.2154132\n",
        "printing self.lowerbound -5677088.99896\n",
        "printing  lbound -15901.2885563\n",
        "printing self.lowerbound -5693035.21437\n",
        "printing  lbound"
       ]
      },
      {
       "output_type": "stream",
       "stream": "stdout",
       "text": [
        " -15596.258567\n",
        "printing self.lowerbound -5708936.50293\n",
        "printing  lbound -15520.8274864\n",
        "printing self.lowerbound -5724532.76149\n",
        "printing  lbound"
       ]
      },
      {
       "output_type": "stream",
       "stream": "stdout",
       "text": [
        " -16806.6637274\n",
        "printing self.lowerbound -5740053.58898\n",
        "printing  lbound -15671.157891\n",
        "printing self.lowerbound -5756860.25271\n",
        "printing  lbound"
       ]
      },
      {
       "output_type": "stream",
       "stream": "stdout",
       "text": [
        " -16088.9419879\n",
        "printing self.lowerbound -5772531.4106\n",
        "printing  lbound -15644.9703669\n",
        "printing self.lowerbound -5788620.35259\n",
        "printing  lbound"
       ]
      },
      {
       "output_type": "stream",
       "stream": "stdout",
       "text": [
        " -15718.6021889\n",
        "printing self.lowerbound -5804265.32295\n",
        "printing  lbound -16159.8930131\n",
        "printing self.lowerbound -5819983.92514\n",
        "printing  lbound"
       ]
      },
      {
       "output_type": "stream",
       "stream": "stdout",
       "text": [
        " -15512.4085763\n",
        "printing self.lowerbound -5836143.81815\n",
        "printing  lbound -16861.9098338\n",
        "printing self.lowerbound -5851656.22673\n",
        "printing  lbound"
       ]
      },
      {
       "output_type": "stream",
       "stream": "stdout",
       "text": [
        " -16249.2985643\n",
        "printing self.lowerbound -5868518.13656\n",
        "printing  lbound -16341.6984324\n",
        "printing self.lowerbound -5884767.43513\n",
        "printing  lbound"
       ]
      },
      {
       "output_type": "stream",
       "stream": "stdout",
       "text": [
        " -16301.9920418\n",
        "printing self.lowerbound -5901109.13356\n",
        "printing  lbound -16384.41525\n",
        "printing self.lowerbound -5917411.1256\n",
        "printing  lbound"
       ]
      },
      {
       "output_type": "stream",
       "stream": "stdout",
       "text": [
        " -16125.8667706\n",
        "printing self.lowerbound -5933795.54085\n",
        "printing  lbound -16543.2775456\n",
        "printing self.lowerbound -5949921.40762\n",
        "printing  lbound"
       ]
      },
      {
       "output_type": "stream",
       "stream": "stdout",
       "text": [
        " -16497.5045695\n",
        "printing self.lowerbound -5966464.68517\n",
        "printing  lbound"
       ]
      },
      {
       "output_type": "stream",
       "stream": "stdout",
       "text": [
        " -15347.0485593\n",
        "printing self.lowerbound -5982962.18974\n",
        "printing  lbound"
       ]
      },
      {
       "output_type": "stream",
       "stream": "stdout",
       "text": [
        " -15775.1807302\n",
        "printing self.lowerbound -5998309.2383\n",
        "printing  lbound"
       ]
      },
      {
       "output_type": "stream",
       "stream": "stdout",
       "text": [
        " -15711.0594837\n",
        "printing self.lowerbound -6014084.41903\n",
        "printing  lbound"
       ]
      },
      {
       "output_type": "stream",
       "stream": "stdout",
       "text": [
        " -16237.0877042\n",
        "printing self.lowerbound -6029795.47851\n",
        "printing  lbound -16641.690408\n",
        "printing self.lowerbound -6046032.56622\n",
        "printing  lbound"
       ]
      },
      {
       "output_type": "stream",
       "stream": "stdout",
       "text": [
        " -16476.7707196\n",
        "printing self.lowerbound -6062674.25662\n",
        "printing  lbound -16425.5881108\n",
        "printing self.lowerbound -6079151.02734\n",
        "printing  lbound"
       ]
      },
      {
       "output_type": "stream",
       "stream": "stdout",
       "text": [
        " -16124.7075718\n",
        "printing self.lowerbound -6095576.61545\n",
        "printing  lbound -17263.7702373\n",
        "printing self.lowerbound -6111701.32303\n",
        "printing  lbound"
       ]
      },
      {
       "output_type": "stream",
       "stream": "stdout",
       "text": [
        " -16254.4250297\n",
        "printing self.lowerbound -6128965.09326\n",
        "printing  lbound -15675.5446241\n",
        "printing self.lowerbound -6145219.51829\n",
        "printing  lbound"
       ]
      },
      {
       "output_type": "stream",
       "stream": "stdout",
       "text": [
        " -15071.9016191\n",
        "printing self.lowerbound -6160895.06292\n",
        "printing  lbound -16297.060493\n",
        "printing self.lowerbound -6175966.96454\n",
        "printing  lbound"
       ]
      },
      {
       "output_type": "stream",
       "stream": "stdout",
       "text": [
        " -16030.024673\n",
        "printing self.lowerbound -6192264.02503\n",
        "printing  lbound -15609.7359241\n",
        "printing self.lowerbound -6208294.0497\n",
        "printing  lbound"
       ]
      },
      {
       "output_type": "stream",
       "stream": "stdout",
       "text": [
        " -15079.7174612\n",
        "printing self.lowerbound -6223903.78563\n",
        "printing  lbound -15481.2281354\n",
        "printing self.lowerbound -6238983.50309\n",
        "printing  lbound"
       ]
      },
      {
       "output_type": "stream",
       "stream": "stdout",
       "text": [
        " -16965.2349885\n",
        "printing self.lowerbound -6254464.73122\n",
        "printing  lbound -15773.2713087\n",
        "printing self.lowerbound -6271429.96621\n",
        "printing  lbound"
       ]
      },
      {
       "output_type": "stream",
       "stream": "stdout",
       "text": [
        " -15544.5244894\n",
        "printing self.lowerbound -6287203.23752\n",
        "printing  lbound -15557.1772578\n",
        "printing self.lowerbound -6302747.76201\n",
        "printing  lbound"
       ]
      },
      {
       "output_type": "stream",
       "stream": "stdout",
       "text": [
        " -15209.3103419\n",
        "printing self.lowerbound -6318304.93927\n",
        "printing  lbound -15670.035085\n",
        "printing self.lowerbound -6333514.24961\n",
        "printing  lbound"
       ]
      },
      {
       "output_type": "stream",
       "stream": "stdout",
       "text": [
        " -15682.7649402\n",
        "printing self.lowerbound -6349184.28469\n",
        "printing  lbound -15822.3032574\n",
        "printing self.lowerbound -6364867.04963\n",
        "printing  lbound"
       ]
      },
      {
       "output_type": "stream",
       "stream": "stdout",
       "text": [
        " -15806.8674838\n",
        "printing self.lowerbound -6380689.35289\n",
        "printing  lbound -14817.41596\n",
        "printing self.lowerbound -6396496.22038\n",
        "printing  lbound"
       ]
      },
      {
       "output_type": "stream",
       "stream": "stdout",
       "text": [
        " -15384.77948\n",
        "printing self.lowerbound -6411313.63634\n",
        "printing  lbound -16038.7466412\n",
        "printing self.lowerbound -6426698.41582\n",
        "printing  lbound"
       ]
      },
      {
       "output_type": "stream",
       "stream": "stdout",
       "text": [
        " -16342.7245577\n",
        "printing self.lowerbound -6442737.16246\n",
        "printing  lbound -15719.6015569\n",
        "printing self.lowerbound -6459079.88701\n",
        "printing  lbound"
       ]
      },
      {
       "output_type": "stream",
       "stream": "stdout",
       "text": [
        " -15138.4409733\n",
        "printing self.lowerbound -6474799.48857\n",
        "printing  lbound -15819.0396124\n",
        "printing self.lowerbound -6489937.92955\n",
        "printing  lbound"
       ]
      },
      {
       "output_type": "stream",
       "stream": "stdout",
       "text": [
        " -15824.7697739\n",
        "printing self.lowerbound -6505756.96916\n",
        "printing  lbound -15510.7576782\n",
        "printing self.lowerbound -6521581.73893\n",
        "printing  lbound"
       ]
      },
      {
       "output_type": "stream",
       "stream": "stdout",
       "text": [
        " -16717.7839721\n",
        "printing self.lowerbound -6537092.49661\n",
        "printing  lbound -16496.0879309\n",
        "printing self.lowerbound -6553810.28058\n",
        "printing  lbound"
       ]
      },
      {
       "output_type": "stream",
       "stream": "stdout",
       "text": [
        " -15764.122357\n",
        "printing self.lowerbound -6570306.36851\n",
        "printing  lbound -15704.75288\n",
        "printing self.lowerbound -6586070.49087\n",
        "printing  lbound"
       ]
      },
      {
       "output_type": "stream",
       "stream": "stdout",
       "text": [
        " -15580.4001158\n",
        "printing self.lowerbound -6601775.24375\n",
        "printing  lbound -15235.1461246\n",
        "printing self.lowerbound -6617355.64387\n",
        "printing  lbound"
       ]
      },
      {
       "output_type": "stream",
       "stream": "stdout",
       "text": [
        " -15527.4754384\n",
        "printing self.lowerbound -6632590.78999\n",
        "printing  lbound -16229.7554793\n",
        "printing self.lowerbound -6648118.26543\n",
        "printing  lbound"
       ]
      },
      {
       "output_type": "stream",
       "stream": "stdout",
       "text": [
        " -16070.6900306\n",
        "printing self.lowerbound -6664348.02091\n",
        "printing  lbound -17026.6868827\n",
        "printing self.lowerbound -6680418.71094\n",
        "printing  lbound"
       ]
      },
      {
       "output_type": "stream",
       "stream": "stdout",
       "text": [
        " -16654.826636\n",
        "printing self.lowerbound -6697445.39782\n",
        "printing  lbound -15698.752454\n",
        "printing self.lowerbound -6714100.22446\n",
        "printing  lbound"
       ]
      },
      {
       "output_type": "stream",
       "stream": "stdout",
       "text": [
        " -15342.1115061\n",
        "printing self.lowerbound -6729798.97691\n",
        "printing  lbound -15147.0094337\n",
        "printing self.lowerbound -6745141.08842\n",
        "printing  lbound"
       ]
      },
      {
       "output_type": "stream",
       "stream": "stdout",
       "text": [
        " -15467.3995815\n",
        "printing self.lowerbound -6760288.09785\n",
        "printing  lbound -15753.1415594\n",
        "printing self.lowerbound -6775755.49743\n",
        "printing  lbound"
       ]
      },
      {
       "output_type": "stream",
       "stream": "stdout",
       "text": [
        " -15437.6481899\n",
        "printing self.lowerbound -6791508.63899\n",
        "printing  lbound -14982.6803786\n",
        "printing self.lowerbound -6806946.28718\n",
        "printing  lbound"
       ]
      },
      {
       "output_type": "stream",
       "stream": "stdout",
       "text": [
        " -15799.10875\n",
        "printing self.lowerbound -6821928.96756\n",
        "printing  lbound -16861.9244482\n",
        "printing self.lowerbound -6837728.07631\n",
        "printing  lbound"
       ]
      },
      {
       "output_type": "stream",
       "stream": "stdout",
       "text": [
        " -16199.6693078\n",
        "printing self.lowerbound -6854590.00076\n",
        "printing  lbound -15925.687424\n",
        "printing self.lowerbound -6870789.67007\n",
        "printing  lbound"
       ]
      },
      {
       "output_type": "stream",
       "stream": "stdout",
       "text": [
        " -16643.6023641\n",
        "printing self.lowerbound -6886715.35749\n",
        "printing  lbound -15924.8941345\n",
        "printing self.lowerbound -6903358.95985\n",
        "printing  lbound"
       ]
      },
      {
       "output_type": "stream",
       "stream": "stdout",
       "text": [
        " -15610.2299235\n",
        "printing self.lowerbound -6919283.85399\n",
        "printing  lbound -15613.6480964\n",
        "printing self.lowerbound -6934894.08391\n",
        "printing  lbound"
       ]
      },
      {
       "output_type": "stream",
       "stream": "stdout",
       "text": [
        " -14512.6848553\n",
        "printing self.lowerbound -6950507.73201\n",
        "printing  lbound -15015.5338802\n",
        "printing self.lowerbound -6965020.41686\n",
        "printing  lbound"
       ]
      },
      {
       "output_type": "stream",
       "stream": "stdout",
       "text": [
        " -15458.1026749\n",
        "printing self.lowerbound -6980035.95074\n",
        "printing  lbound -15364.7593932\n",
        "printing self.lowerbound -6995494.05342\n",
        "printing  lbound"
       ]
      },
      {
       "output_type": "stream",
       "stream": "stdout",
       "text": [
        " -15573.3766664\n",
        "printing self.lowerbound -7010858.81281\n",
        "printing  lbound -16003.5506981\n",
        "printing self.lowerbound -7026432.18948\n",
        "printing  lbound"
       ]
      },
      {
       "output_type": "stream",
       "stream": "stdout",
       "text": [
        " -15442.5830483\n",
        "printing self.lowerbound -7042435.74018\n",
        "printing  lbound -14834.5857528\n",
        "printing self.lowerbound -7057878.32322\n",
        "printing  lbound"
       ]
      },
      {
       "output_type": "stream",
       "stream": "stdout",
       "text": [
        " -15870.585426\n",
        "printing self.lowerbound -7072712.90898\n",
        "printing  lbound -14768.411456\n",
        "printing self.lowerbound -7088583.4944\n",
        "printing  lbound"
       ]
      },
      {
       "output_type": "stream",
       "stream": "stdout",
       "text": [
        " -16322.6480166\n",
        "printing self.lowerbound -7103351.90586\n",
        "printing  lbound -16593.526743\n",
        "printing self.lowerbound -7119674.55388\n",
        "printing  lbound"
       ]
      },
      {
       "output_type": "stream",
       "stream": "stdout",
       "text": [
        " -16459.9563843\n",
        "printing self.lowerbound -7136268.08062\n",
        "printing  lbound -16165.7391838\n",
        "printing self.lowerbound -7152728.037\n",
        "printing  lbound"
       ]
      },
      {
       "output_type": "stream",
       "stream": "stdout",
       "text": [
        " -16341.7863719\n",
        "printing self.lowerbound -7168893.77619\n",
        "printing  lbound -15571.9808608\n",
        "printing self.lowerbound -7185235.56256\n",
        "printing  lbound"
       ]
      },
      {
       "output_type": "stream",
       "stream": "stdout",
       "text": [
        " -15088.7105711\n",
        "printing self.lowerbound -7200807.54342\n",
        "printing  lbound -16073.4880297\n",
        "printing self.lowerbound -7215896.25399\n",
        "printing  lbound"
       ]
      },
      {
       "output_type": "stream",
       "stream": "stdout",
       "text": [
        " -15757.3424171\n",
        "printing self.lowerbound -7231969.74202\n",
        "printing  lbound -15719.9172062\n",
        "printing self.lowerbound -7247727.08444\n",
        "printing  lbound"
       ]
      },
      {
       "output_type": "stream",
       "stream": "stdout",
       "text": [
        " -15595.3207063\n",
        "printing self.lowerbound -7263447.00164\n",
        "printing  lbound -16170.8242188\n",
        "printing self.lowerbound -7279042.32235\n",
        "printing  lbound"
       ]
      },
      {
       "output_type": "stream",
       "stream": "stdout",
       "text": [
        " -16571.1628444\n",
        "printing self.lowerbound -7295213.14657\n",
        "printing  lbound -15966.5636475\n",
        "printing self.lowerbound -7311784.30941\n",
        "printing  lbound"
       ]
      },
      {
       "output_type": "stream",
       "stream": "stdout",
       "text": [
        " -16183.8436777\n",
        "printing self.lowerbound -7327750.87306\n",
        "printing  lbound -15756.5219972\n",
        "printing self.lowerbound -7343934.71674\n",
        "printing  lbound"
       ]
      },
      {
       "output_type": "stream",
       "stream": "stdout",
       "text": [
        " -15989.0956272\n",
        "printing self.lowerbound -7359691.23874\n",
        "printing  lbound -16098.6671583\n",
        "printing self.lowerbound -7375680.33436\n",
        "printing  lbound"
       ]
      },
      {
       "output_type": "stream",
       "stream": "stdout",
       "text": [
        " -16005.158564\n",
        "printing self.lowerbound -7391779.00152\n",
        "printing  lbound -15527.6089894\n",
        "printing self.lowerbound -7407784.16009\n",
        "printing  lbound"
       ]
      },
      {
       "output_type": "stream",
       "stream": "stdout",
       "text": [
        " -15719.5897354\n",
        "printing self.lowerbound -7423311.76908\n",
        "printing  lbound -15330.7117465\n",
        "printing self.lowerbound -7439031.35881\n",
        "printing  lbound"
       ]
      },
      {
       "output_type": "stream",
       "stream": "stdout",
       "text": [
        " -16427.1758937\n",
        "printing self.lowerbound -7454362.07056\n",
        "printing  lbound -16306.4871266\n",
        "printing self.lowerbound -7470789.24645\n",
        "printing  lbound"
       ]
      },
      {
       "output_type": "stream",
       "stream": "stdout",
       "text": [
        " -16016.9526543\n",
        "printing self.lowerbound -7487095.73358\n",
        "printing  lbound -15900.6800363\n",
        "printing self.lowerbound -7503112.68623\n",
        "printing  lbound"
       ]
      },
      {
       "output_type": "stream",
       "stream": "stdout",
       "text": [
        " -16496.7619422\n",
        "printing self.lowerbound -7519013.36627\n",
        "printing  lbound -16189.7260946\n",
        "printing self.lowerbound -7535510.12821\n",
        "printing  lbound"
       ]
      },
      {
       "output_type": "stream",
       "stream": "stdout",
       "text": [
        " -16835.5130457\n",
        "printing self.lowerbound -7551699.8543\n",
        "printing  lbound -15654.0713248\n",
        "printing self.lowerbound -7568535.36735\n",
        "printing  lbound"
       ]
      },
      {
       "output_type": "stream",
       "stream": "stdout",
       "text": [
        " -15477.351903\n",
        "printing self.lowerbound -7584189.43868\n",
        "printing  lbound -15932.4449967\n",
        "printing self.lowerbound -7599666.79058\n",
        "printing  lbound"
       ]
      },
      {
       "output_type": "stream",
       "stream": "stdout",
       "text": [
        " -15451.1806859\n",
        "printing self.lowerbound -7615599.23558\n",
        "printing  lbound -15165.4266045\n",
        "printing self.lowerbound -7631050.41626\n",
        "printing  lbound"
       ]
      },
      {
       "output_type": "stream",
       "stream": "stdout",
       "text": [
        " -16429.2708665\n",
        "printing self.lowerbound -7646215.84287\n",
        "printing  lbound -16341.8144785\n",
        "printing self.lowerbound -7662645.11373\n",
        "printing  lbound"
       ]
      },
      {
       "output_type": "stream",
       "stream": "stdout",
       "text": [
        " -17440.4047789\n",
        "printing self.lowerbound -7678986.92821\n",
        "printing  lbound -16102.5776581\n",
        "printing self.lowerbound -7696427.33299\n",
        "printing  lbound"
       ]
      },
      {
       "output_type": "stream",
       "stream": "stdout",
       "text": [
        " -15533.2300535\n",
        "printing self.lowerbound -7712529.91065\n",
        "printing  lbound -15198.6004944\n",
        "printing self.lowerbound -7728063.1407\n",
        "printing  lbound"
       ]
      },
      {
       "output_type": "stream",
       "stream": "stdout",
       "text": [
        " -15673.0443554\n",
        "printing self.lowerbound -7743261.7412\n",
        "printing  lbound -15420.3173805\n",
        "printing self.lowerbound -7758934.78555\n",
        "printing  lbound"
       ]
      },
      {
       "output_type": "stream",
       "stream": "stdout",
       "text": [
        " -16335.3690266\n",
        "printing self.lowerbound -7774355.10293\n",
        "printing  lbound -16234.7563501\n",
        "printing self.lowerbound -7790690.47196\n",
        "printing  lbound"
       ]
      },
      {
       "output_type": "stream",
       "stream": "stdout",
       "text": [
        " -16342.3202684\n",
        "printing self.lowerbound -7806925.22831\n",
        "printing  lbound -16378.8201157\n",
        "printing self.lowerbound -7823267.54858\n",
        "printing  lbound"
       ]
      },
      {
       "output_type": "stream",
       "stream": "stdout",
       "text": [
        " -16046.5806347\n",
        "printing self.lowerbound -7839646.36869\n",
        "printing  lbound"
       ]
      },
      {
       "output_type": "stream",
       "stream": "stdout",
       "text": [
        " -16156.8462721\n",
        "printing self.lowerbound -7855692.94933\n",
        "printing  lbound"
       ]
      },
      {
       "output_type": "stream",
       "stream": "stdout",
       "text": [
        " -15443.321847\n",
        "printing self.lowerbound -7871849.7956\n",
        "printing  lbound"
       ]
      },
      {
       "output_type": "stream",
       "stream": "stdout",
       "text": [
        " -15567.0640647\n",
        "printing self.lowerbound -7887293.11745\n",
        "printing  lbound"
       ]
      },
      {
       "output_type": "stream",
       "stream": "stdout",
       "text": [
        " -15723.2912036\n",
        "printing self.lowerbound -7902860.18151\n",
        "printing  lbound -17356.3503288\n",
        "printing self.lowerbound -7918583.47271\n",
        "printing  lbound"
       ]
      },
      {
       "output_type": "stream",
       "stream": "stdout",
       "text": [
        " -16382.9087158\n",
        "printing self.lowerbound -7935939.82304\n",
        "printing  lbound"
       ]
      },
      {
       "output_type": "stream",
       "stream": "stdout",
       "text": [
        " -15320.9602859\n",
        "printing self.lowerbound -7952322.73176\n",
        "printing  lbound"
       ]
      },
      {
       "output_type": "stream",
       "stream": "stdout",
       "text": [
        " -16479.0639228\n",
        "printing self.lowerbound -7967643.69204\n",
        "printing  lbound -16893.0615937\n",
        "printing self.lowerbound -7984122.75597\n",
        "printing  lbound"
       ]
      },
      {
       "output_type": "stream",
       "stream": "stdout",
       "text": [
        " -15833.4091733\n",
        "printing self.lowerbound -8001015.81756\n",
        "printing  lbound -16228.579922\n",
        "printing self.lowerbound -8016849.22673\n",
        "printing  lbound"
       ]
      },
      {
       "output_type": "stream",
       "stream": "stdout",
       "text": [
        " -16130.7206235\n",
        "printing self.lowerbound -8033077.80666\n",
        "Iteration 2, lower bound = -160.98, time = 20.97s\n",
        "Iteration: 3\n",
        "printing  lbound -15157.2015892\n",
        "printing self.lowerbound 0\n",
        "printing  lbound"
       ]
      },
      {
       "output_type": "stream",
       "stream": "stdout",
       "text": [
        " -15486.1630335\n",
        "printing self.lowerbound -15157.2015892\n",
        "printing  lbound -15600.5852047\n",
        "printing self.lowerbound -30643.3646228\n",
        "printing  lbound"
       ]
      },
      {
       "output_type": "stream",
       "stream": "stdout",
       "text": [
        " -14690.2706501\n",
        "printing self.lowerbound -46243.9498275\n",
        "printing  lbound -15510.7484365\n",
        "printing self.lowerbound -60934.2204776\n",
        "printing  lbound"
       ]
      },
      {
       "output_type": "stream",
       "stream": "stdout",
       "text": [
        " -15877.1251618\n",
        "printing self.lowerbound -76444.9689142\n",
        "printing  lbound -15446.9073448\n",
        "printing self.lowerbound -92322.094076\n",
        "printing  lbound"
       ]
      },
      {
       "output_type": "stream",
       "stream": "stdout",
       "text": [
        " -15749.8416811\n",
        "printing self.lowerbound -107769.001421\n",
        "printing  lbound -15865.3189555\n",
        "printing self.lowerbound -123518.843102\n",
        "printing  lbound"
       ]
      },
      {
       "output_type": "stream",
       "stream": "stdout",
       "text": [
        " -15877.344497\n",
        "printing self.lowerbound -139384.162057\n",
        "printing  lbound -15246.9042292\n",
        "printing self.lowerbound -155261.506554\n",
        "printing  lbound"
       ]
      },
      {
       "output_type": "stream",
       "stream": "stdout",
       "text": [
        " -15615.9932096\n",
        "printing self.lowerbound -170508.410784\n",
        "printing  lbound -16089.22052\n",
        "printing self.lowerbound -186124.403993\n",
        "printing  lbound"
       ]
      },
      {
       "output_type": "stream",
       "stream": "stdout",
       "text": [
        " -15788.3280879\n",
        "printing self.lowerbound -202213.624513\n",
        "printing  lbound -15904.4100993\n",
        "printing self.lowerbound -218001.952601\n",
        "printing  lbound"
       ]
      },
      {
       "output_type": "stream",
       "stream": "stdout",
       "text": [
        " -15934.2568587\n",
        "printing self.lowerbound -233906.3627\n",
        "printing  lbound -15221.2909902\n",
        "printing self.lowerbound -249840.619559\n",
        "printing  lbound"
       ]
      },
      {
       "output_type": "stream",
       "stream": "stdout",
       "text": [
        " -15377.5965955\n",
        "printing self.lowerbound -265061.910549\n",
        "printing  lbound -15351.3004775\n",
        "printing self.lowerbound -280439.507145\n",
        "printing  lbound"
       ]
      },
      {
       "output_type": "stream",
       "stream": "stdout",
       "text": [
        " -15133.576987\n",
        "printing self.lowerbound -295790.807622\n",
        "printing  lbound -15374.6322014\n",
        "printing self.lowerbound -310924.384609\n",
        "printing  lbound"
       ]
      },
      {
       "output_type": "stream",
       "stream": "stdout",
       "text": [
        " -15079.1593825\n",
        "printing self.lowerbound -326299.016811\n",
        "printing  lbound -16410.7349838\n",
        "printing self.lowerbound -341378.176193\n",
        "printing  lbound"
       ]
      },
      {
       "output_type": "stream",
       "stream": "stdout",
       "text": [
        " -15538.2990701\n",
        "printing self.lowerbound -357788.911177\n",
        "printing  lbound -15482.3577552\n",
        "printing self.lowerbound -373327.210247\n",
        "printing  lbound"
       ]
      },
      {
       "output_type": "stream",
       "stream": "stdout",
       "text": [
        " -15833.150816\n",
        "printing self.lowerbound -388809.568002\n",
        "printing  lbound -15970.9443911\n",
        "printing self.lowerbound -404642.718818\n",
        "printing  lbound"
       ]
      },
      {
       "output_type": "stream",
       "stream": "stdout",
       "text": [
        " -16116.9034152\n",
        "printing self.lowerbound -420613.663209\n",
        "printing  lbound -16407.6375913\n",
        "printing self.lowerbound -436730.566625\n",
        "printing  lbound"
       ]
      },
      {
       "output_type": "stream",
       "stream": "stdout",
       "text": [
        " -15115.2601907\n",
        "printing self.lowerbound -453138.204216\n",
        "printing  lbound -16239.2677281\n",
        "printing self.lowerbound -468253.464407\n",
        "printing  lbound"
       ]
      },
      {
       "output_type": "stream",
       "stream": "stdout",
       "text": [
        " -14920.7339721\n",
        "printing self.lowerbound -484492.732135\n",
        "printing  lbound"
       ]
      },
      {
       "output_type": "stream",
       "stream": "stdout",
       "text": [
        " -14379.5991757\n",
        "printing self.lowerbound -499413.466107\n",
        "printing  lbound"
       ]
      },
      {
       "output_type": "stream",
       "stream": "stdout",
       "text": [
        " -15155.2422551\n",
        "printing self.lowerbound -513793.065282\n",
        "printing  lbound -14579.4394346\n",
        "printing self.lowerbound -528948.307538\n",
        "printing  lbound"
       ]
      },
      {
       "output_type": "stream",
       "stream": "stdout",
       "text": [
        " -16112.283644\n",
        "printing self.lowerbound -543527.746972\n",
        "printing  lbound -16889.3719215\n",
        "printing self.lowerbound -559640.030616\n",
        "printing  lbound"
       ]
      },
      {
       "output_type": "stream",
       "stream": "stdout",
       "text": [
        " -16329.4643234\n",
        "printing self.lowerbound -576529.402538\n",
        "printing  lbound -15594.3862261\n",
        "printing self.lowerbound -592858.866861\n",
        "printing  lbound"
       ]
      },
      {
       "output_type": "stream",
       "stream": "stdout",
       "text": [
        " -15442.9921124\n",
        "printing self.lowerbound -608453.253087\n",
        "printing  lbound -15629.4660662\n",
        "printing self.lowerbound -623896.2452\n",
        "printing  lbound"
       ]
      },
      {
       "output_type": "stream",
       "stream": "stdout",
       "text": [
        " -14999.8424769\n",
        "printing self.lowerbound -639525.711266\n",
        "printing  lbound -15919.4842862\n",
        "printing self.lowerbound -654525.553743\n",
        "printing  lbound"
       ]
      },
      {
       "output_type": "stream",
       "stream": "stdout",
       "text": [
        " -15279.6593843\n",
        "printing self.lowerbound -670445.038029\n",
        "printing  lbound -15987.0878213\n",
        "printing self.lowerbound -685724.697413\n",
        "printing  lbound"
       ]
      },
      {
       "output_type": "stream",
       "stream": "stdout",
       "text": [
        " -15396.6477213\n",
        "printing self.lowerbound -701711.785235\n",
        "printing  lbound -16361.1966209\n",
        "printing self.lowerbound -717108.432956\n",
        "printing  lbound"
       ]
      },
      {
       "output_type": "stream",
       "stream": "stdout",
       "text": [
        " -17399.7834339\n",
        "printing self.lowerbound -733469.629577\n",
        "printing  lbound -17757.7973716\n",
        "printing self.lowerbound -750869.413011\n",
        "printing  lbound"
       ]
      },
      {
       "output_type": "stream",
       "stream": "stdout",
       "text": [
        " -15195.6707953\n",
        "printing self.lowerbound -768627.210382\n",
        "printing  lbound -15513.7669846\n",
        "printing self.lowerbound -783822.881178\n",
        "printing  lbound"
       ]
      },
      {
       "output_type": "stream",
       "stream": "stdout",
       "text": [
        " -16635.5117732\n",
        "printing self.lowerbound -799336.648162\n",
        "printing  lbound -15505.9529327\n",
        "printing self.lowerbound -815972.159935\n",
        "printing  lbound"
       ]
      },
      {
       "output_type": "stream",
       "stream": "stdout",
       "text": [
        " -16717.6471499\n",
        "printing self.lowerbound -831478.112868\n",
        "printing  lbound -15486.2380692\n",
        "printing self.lowerbound -848195.760018\n",
        "printing  lbound"
       ]
      },
      {
       "output_type": "stream",
       "stream": "stdout",
       "text": [
        " -15295.501846\n",
        "printing self.lowerbound -863681.998087\n",
        "printing  lbound -16352.4264382\n",
        "printing self.lowerbound -878977.499933\n",
        "printing  lbound"
       ]
      },
      {
       "output_type": "stream",
       "stream": "stdout",
       "text": [
        " -15199.318978\n",
        "printing self.lowerbound -895329.926371\n",
        "printing  lbound -15181.6174815\n",
        "printing self.lowerbound -910529.245349\n",
        "printing  lbound"
       ]
      },
      {
       "output_type": "stream",
       "stream": "stdout",
       "text": [
        " -15488.8154085\n",
        "printing self.lowerbound -925710.862831\n",
        "printing  lbound -15748.8402953\n",
        "printing self.lowerbound -941199.678239\n",
        "printing  lbound"
       ]
      },
      {
       "output_type": "stream",
       "stream": "stdout",
       "text": [
        " -15798.5748116\n",
        "printing self.lowerbound -956948.518535\n",
        "printing  lbound -15162.4791004\n",
        "printing self.lowerbound -972747.093346\n",
        "printing  lbound"
       ]
      },
      {
       "output_type": "stream",
       "stream": "stdout",
       "text": [
        " -15506.8736472\n",
        "printing self.lowerbound -987909.572447\n",
        "printing  lbound -15613.1786204\n",
        "printing self.lowerbound -1003416.44609\n",
        "printing  lbound"
       ]
      },
      {
       "output_type": "stream",
       "stream": "stdout",
       "text": [
        " -15197.1558511\n",
        "printing self.lowerbound -1019029.62471\n",
        "printing  lbound -14725.1801121\n",
        "printing self.lowerbound -1034226.78057\n",
        "printing  lbound"
       ]
      },
      {
       "output_type": "stream",
       "stream": "stdout",
       "text": [
        " -14669.1936735\n",
        "printing self.lowerbound -1048951.96068\n",
        "printing  lbound -15439.0901843\n",
        "printing self.lowerbound -1063621.15435\n",
        "printing  lbound"
       ]
      },
      {
       "output_type": "stream",
       "stream": "stdout",
       "text": [
        " -15329.1834959\n",
        "printing self.lowerbound -1079060.24454\n",
        "printing  lbound -15281.6059665\n",
        "printing self.lowerbound -1094389.42803\n",
        "printing  lbound"
       ]
      },
      {
       "output_type": "stream",
       "stream": "stdout",
       "text": [
        " -15525.0723519\n",
        "printing self.lowerbound -1109671.034\n",
        "printing  lbound -15847.0316507\n",
        "printing self.lowerbound -1125196.10635\n",
        "printing  lbound"
       ]
      },
      {
       "output_type": "stream",
       "stream": "stdout",
       "text": [
        " -15356.1516074\n",
        "printing self.lowerbound -1141043.138\n",
        "printing  lbound -15055.2854158\n",
        "printing self.lowerbound -1156399.28961\n",
        "printing  lbound"
       ]
      },
      {
       "output_type": "stream",
       "stream": "stdout",
       "text": [
        " -15000.5058916\n",
        "printing self.lowerbound -1171454.57502\n",
        "printing  lbound -15387.6640982\n",
        "printing self.lowerbound -1186455.08091\n",
        "printing  lbound"
       ]
      },
      {
       "output_type": "stream",
       "stream": "stdout",
       "text": [
        " -15811.4590943\n",
        "printing self.lowerbound -1201842.74501\n",
        "printing  lbound -16264.720591\n",
        "printing self.lowerbound -1217654.20411\n",
        "printing  lbound"
       ]
      },
      {
       "output_type": "stream",
       "stream": "stdout",
       "text": [
        " -15838.4557889\n",
        "printing self.lowerbound -1233918.9247\n",
        "printing  lbound -16271.0023659\n",
        "printing self.lowerbound -1249757.38049\n",
        "printing  lbound"
       ]
      },
      {
       "output_type": "stream",
       "stream": "stdout",
       "text": [
        " -14638.6500499\n",
        "printing self.lowerbound -1266028.38285\n",
        "printing  lbound -15679.1091955\n",
        "printing self.lowerbound -1280667.0329\n",
        "printing  lbound"
       ]
      },
      {
       "output_type": "stream",
       "stream": "stdout",
       "text": [
        " -15472.5947462\n",
        "printing self.lowerbound -1296346.1421\n",
        "printing  lbound -15815.0748513\n",
        "printing self.lowerbound -1311818.73684\n",
        "printing  lbound"
       ]
      },
      {
       "output_type": "stream",
       "stream": "stdout",
       "text": [
        " -15665.7143345\n",
        "printing self.lowerbound -1327633.8117\n",
        "printing  lbound -16133.7179846\n",
        "printing self.lowerbound -1343299.52603\n",
        "printing  lbound"
       ]
      },
      {
       "output_type": "stream",
       "stream": "stdout",
       "text": [
        " -15887.9390609\n",
        "printing self.lowerbound -1359433.24402\n",
        "printing  lbound -15194.1994079\n",
        "printing self.lowerbound -1375321.18308\n",
        "printing  lbound"
       ]
      },
      {
       "output_type": "stream",
       "stream": "stdout",
       "text": [
        " -15432.997028\n",
        "printing self.lowerbound -1390515.38248\n",
        "printing  lbound -15373.728792\n",
        "printing self.lowerbound -1405948.37951\n",
        "printing  lbound"
       ]
      },
      {
       "output_type": "stream",
       "stream": "stdout",
       "text": [
        " -15482.2557638\n",
        "printing self.lowerbound -1421322.1083\n",
        "printing  lbound -14675.632415\n",
        "printing self.lowerbound -1436804.36407\n",
        "printing  lbound"
       ]
      },
      {
       "output_type": "stream",
       "stream": "stdout",
       "text": [
        " -16448.2594251\n",
        "printing self.lowerbound -1451479.99648\n",
        "printing  lbound -16591.7770147\n",
        "printing self.lowerbound -1467928.25591\n",
        "printing  lbound"
       ]
      },
      {
       "output_type": "stream",
       "stream": "stdout",
       "text": [
        " -16176.3353824\n",
        "printing self.lowerbound -1484520.03292\n",
        "printing  lbound -16135.4080196\n",
        "printing self.lowerbound -1500696.36831\n",
        "printing  lbound"
       ]
      },
      {
       "output_type": "stream",
       "stream": "stdout",
       "text": [
        " -15907.4849043\n",
        "printing self.lowerbound -1516831.77632\n",
        "printing  lbound -15841.0993226\n",
        "printing self.lowerbound -1532739.26123\n",
        "printing  lbound"
       ]
      },
      {
       "output_type": "stream",
       "stream": "stdout",
       "text": [
        " -15462.7223218\n",
        "printing self.lowerbound -1548580.36055\n",
        "printing  lbound -15585.8869431\n",
        "printing self.lowerbound -1564043.08287\n",
        "printing  lbound"
       ]
      },
      {
       "output_type": "stream",
       "stream": "stdout",
       "text": [
        " -14569.7917196\n",
        "printing self.lowerbound -1579628.96982\n",
        "printing  lbound -17002.4983298\n",
        "printing self.lowerbound -1594198.76154\n",
        "printing  lbound"
       ]
      },
      {
       "output_type": "stream",
       "stream": "stdout",
       "text": [
        " -16227.8070603\n",
        "printing self.lowerbound -1611201.25987\n",
        "printing  lbound -15888.24655\n",
        "printing self.lowerbound -1627429.06693\n",
        "printing  lbound"
       ]
      },
      {
       "output_type": "stream",
       "stream": "stdout",
       "text": [
        " -15326.0911848\n",
        "printing self.lowerbound -1643317.31348\n",
        "printing  lbound -15146.5140502\n",
        "printing self.lowerbound -1658643.40466\n",
        "printing  lbound"
       ]
      },
      {
       "output_type": "stream",
       "stream": "stdout",
       "text": [
        " -15548.8496078\n",
        "printing self.lowerbound -1673789.91871\n",
        "printing  lbound -14767.6229201\n",
        "printing self.lowerbound -1689338.76832\n",
        "printing  lbound"
       ]
      },
      {
       "output_type": "stream",
       "stream": "stdout",
       "text": [
        " -15445.7209994\n",
        "printing self.lowerbound -1704106.39124\n",
        "printing  lbound -15464.7582571\n",
        "printing self.lowerbound -1719552.11224\n",
        "printing  lbound"
       ]
      },
      {
       "output_type": "stream",
       "stream": "stdout",
       "text": [
        " -15174.9699591\n",
        "printing self.lowerbound -1735016.8705\n",
        "printing  lbound -14958.9729895\n",
        "printing self.lowerbound -1750191.84045\n",
        "printing  lbound"
       ]
      },
      {
       "output_type": "stream",
       "stream": "stdout",
       "text": [
        " -15107.9073676\n",
        "printing self.lowerbound -1765150.81344\n",
        "printing  lbound -14962.323129\n",
        "printing self.lowerbound -1780258.72081\n",
        "printing  lbound"
       ]
      },
      {
       "output_type": "stream",
       "stream": "stdout",
       "text": [
        " -15168.2915612\n",
        "printing self.lowerbound -1795221.04394\n",
        "printing  lbound -15218.0987283\n",
        "printing self.lowerbound -1810389.3355\n",
        "printing  lbound"
       ]
      },
      {
       "output_type": "stream",
       "stream": "stdout",
       "text": [
        " -14984.029403\n",
        "printing self.lowerbound -1825607.43423\n",
        "printing  lbound -14922.037377\n",
        "printing self.lowerbound -1840591.46363\n",
        "printing  lbound"
       ]
      },
      {
       "output_type": "stream",
       "stream": "stdout",
       "text": [
        " -14964.4426671\n",
        "printing self.lowerbound -1855513.50101\n",
        "printing  lbound -15345.6031706\n",
        "printing self.lowerbound -1870477.94368\n",
        "printing  lbound"
       ]
      },
      {
       "output_type": "stream",
       "stream": "stdout",
       "text": [
        " -15349.7694764\n",
        "printing self.lowerbound -1885823.54685\n",
        "printing  lbound -16206.5711684\n",
        "printing self.lowerbound -1901173.31632\n",
        "printing  lbound"
       ]
      },
      {
       "output_type": "stream",
       "stream": "stdout",
       "text": [
        " -16358.4485289\n",
        "printing self.lowerbound -1917379.88749\n",
        "printing  lbound -16422.4201356\n",
        "printing self.lowerbound -1933738.33602\n",
        "printing  lbound"
       ]
      },
      {
       "output_type": "stream",
       "stream": "stdout",
       "text": [
        " -16237.0756936\n",
        "printing self.lowerbound -1950160.75616\n",
        "printing  lbound -16937.8920861\n",
        "printing self.lowerbound -1966397.83185\n",
        "printing  lbound"
       ]
      },
      {
       "output_type": "stream",
       "stream": "stdout",
       "text": [
        " -16148.1474221\n",
        "printing self.lowerbound -1983335.72394\n",
        "printing  lbound -15511.3878304\n",
        "printing self.lowerbound -1999483.87136\n",
        "printing  lbound"
       ]
      },
      {
       "output_type": "stream",
       "stream": "stdout",
       "text": [
        " -16436.4428047\n",
        "printing self.lowerbound -2014995.25919\n",
        "printing  lbound -16318.0670119\n",
        "printing self.lowerbound -2031431.70199\n",
        "printing  lbound"
       ]
      },
      {
       "output_type": "stream",
       "stream": "stdout",
       "text": [
        " -15926.9937211\n",
        "printing self.lowerbound -2047749.76901\n",
        "printing  lbound -16331.8560289\n",
        "printing self.lowerbound -2063676.76273\n",
        "printing  lbound"
       ]
      },
      {
       "output_type": "stream",
       "stream": "stdout",
       "text": [
        " -15999.634618\n",
        "printing self.lowerbound -2080008.61876\n",
        "printing  lbound -15790.1076623\n",
        "printing self.lowerbound -2096008.25337\n",
        "printing  lbound"
       ]
      },
      {
       "output_type": "stream",
       "stream": "stdout",
       "text": [
        " -15781.1321958\n",
        "printing self.lowerbound -2111798.36104\n",
        "printing  lbound -15710.1566066\n",
        "printing self.lowerbound -2127579.49323\n",
        "printing  lbound"
       ]
      },
      {
       "output_type": "stream",
       "stream": "stdout",
       "text": [
        " -15155.6102598\n",
        "printing self.lowerbound -2143289.64984\n",
        "printing  lbound -15708.1183799\n",
        "printing self.lowerbound -2158445.2601\n",
        "printing  lbound"
       ]
      },
      {
       "output_type": "stream",
       "stream": "stdout",
       "text": [
        " -16521.742443\n",
        "printing self.lowerbound -2174153.37848\n",
        "printing  lbound -16407.9859424\n",
        "printing self.lowerbound -2190675.12092\n",
        "printing  lbound"
       ]
      },
      {
       "output_type": "stream",
       "stream": "stdout",
       "text": [
        " -17083.2745139\n",
        "printing self.lowerbound -2207083.10686\n",
        "printing  lbound -16287.985083\n",
        "printing self.lowerbound -2224166.38138\n",
        "printing  lbound"
       ]
      },
      {
       "output_type": "stream",
       "stream": "stdout",
       "text": [
        " -16500.0758696\n",
        "printing self.lowerbound -2240454.36646\n",
        "printing  lbound -15770.138465\n",
        "printing self.lowerbound -2256954.44233\n",
        "printing  lbound"
       ]
      },
      {
       "output_type": "stream",
       "stream": "stdout",
       "text": [
        " -15359.4072732\n",
        "printing self.lowerbound -2272724.5808\n",
        "printing  lbound -16564.006489\n",
        "printing self.lowerbound -2288083.98807\n",
        "printing  lbound"
       ]
      },
      {
       "output_type": "stream",
       "stream": "stdout",
       "text": [
        " -16621.4422777\n",
        "printing self.lowerbound -2304647.99456\n",
        "printing  lbound -16563.0370997\n",
        "printing self.lowerbound -2321269.43684\n",
        "printing  lbound"
       ]
      },
      {
       "output_type": "stream",
       "stream": "stdout",
       "text": [
        " -14503.4501888\n",
        "printing self.lowerbound -2337832.47394\n",
        "printing  lbound -15441.1960544\n",
        "printing self.lowerbound -2352335.92412\n",
        "printing  lbound"
       ]
      },
      {
       "output_type": "stream",
       "stream": "stdout",
       "text": [
        " -15783.8108022\n",
        "printing self.lowerbound -2367777.12018\n",
        "printing  lbound -15811.4106694\n",
        "printing self.lowerbound -2383560.93098\n",
        "printing  lbound"
       ]
      },
      {
       "output_type": "stream",
       "stream": "stdout",
       "text": [
        " -14843.0770828\n",
        "printing self.lowerbound -2399372.34165\n",
        "printing  lbound -15297.8487736\n",
        "printing self.lowerbound -2414215.41873\n",
        "printing  lbound"
       ]
      },
      {
       "output_type": "stream",
       "stream": "stdout",
       "text": [
        " -15290.2995137\n",
        "printing self.lowerbound -2429513.26751\n",
        "printing  lbound -15701.1816541\n",
        "printing self.lowerbound -2444803.56702\n",
        "printing  lbound"
       ]
      },
      {
       "output_type": "stream",
       "stream": "stdout",
       "text": [
        " -16457.578011\n",
        "printing self.lowerbound -2460504.74867\n",
        "printing  lbound -16150.3776304\n",
        "printing self.lowerbound -2476962.32669\n",
        "printing  lbound"
       ]
      },
      {
       "output_type": "stream",
       "stream": "stdout",
       "text": [
        " -14945.4054958\n",
        "printing self.lowerbound -2493112.70432\n",
        "printing  lbound -15219.016605\n",
        "printing self.lowerbound -2508058.10981\n",
        "printing  lbound"
       ]
      },
      {
       "output_type": "stream",
       "stream": "stdout",
       "text": [
        " -15892.034489\n",
        "printing self.lowerbound -2523277.12642\n",
        "printing  lbound"
       ]
      },
      {
       "output_type": "stream",
       "stream": "stdout",
       "text": [
        " -14950.8171092\n",
        "printing self.lowerbound -2539169.16091\n",
        "printing  lbound"
       ]
      },
      {
       "output_type": "stream",
       "stream": "stdout",
       "text": [
        " -15042.0587268\n",
        "printing self.lowerbound -2554119.97801\n",
        "printing  lbound"
       ]
      },
      {
       "output_type": "stream",
       "stream": "stdout",
       "text": [
        " -14889.0543562\n",
        "printing self.lowerbound -2569162.03674\n",
        "printing  lbound"
       ]
      },
      {
       "output_type": "stream",
       "stream": "stdout",
       "text": [
        " -15587.9613348\n",
        "printing self.lowerbound -2584051.0911\n",
        "printing  lbound -15102.3663016\n",
        "printing self.lowerbound -2599639.05243\n",
        "printing  lbound"
       ]
      },
      {
       "output_type": "stream",
       "stream": "stdout",
       "text": [
        " -16228.5237143\n",
        "printing self.lowerbound -2614741.41873\n",
        "printing  lbound -16411.972804\n",
        "printing self.lowerbound -2630969.94245\n",
        "printing  lbound"
       ]
      },
      {
       "output_type": "stream",
       "stream": "stdout",
       "text": [
        " -15227.510283\n",
        "printing self.lowerbound -2647381.91525\n",
        "printing  lbound -15321.7780962\n",
        "printing self.lowerbound -2662609.42553\n",
        "printing  lbound"
       ]
      },
      {
       "output_type": "stream",
       "stream": "stdout",
       "text": [
        " -16583.1858178\n",
        "printing self.lowerbound -2677931.20363\n",
        "printing  lbound -16788.4216482\n",
        "printing self.lowerbound -2694514.38945\n",
        "printing  lbound"
       ]
      },
      {
       "output_type": "stream",
       "stream": "stdout",
       "text": [
        " -16352.7586521\n",
        "printing self.lowerbound -2711302.8111\n",
        "printing  lbound -15627.0823351\n",
        "printing self.lowerbound -2727655.56975\n",
        "printing  lbound"
       ]
      },
      {
       "output_type": "stream",
       "stream": "stdout",
       "text": [
        " -16534.0237657\n",
        "printing self.lowerbound -2743282.65208\n",
        "printing  lbound"
       ]
      },
      {
       "output_type": "stream",
       "stream": "stdout",
       "text": [
        " -16600.5181189\n",
        "printing self.lowerbound -2759816.67585\n",
        "printing  lbound"
       ]
      },
      {
       "output_type": "stream",
       "stream": "stdout",
       "text": [
        " -14718.3057277\n",
        "printing self.lowerbound -2776417.19397\n",
        "printing  lbound"
       ]
      },
      {
       "output_type": "stream",
       "stream": "stdout",
       "text": [
        " -14370.5308107\n",
        "printing self.lowerbound -2791135.4997\n",
        "printing  lbound -15311.0804727\n",
        "printing self.lowerbound -2805506.03051\n",
        "printing  lbound"
       ]
      },
      {
       "output_type": "stream",
       "stream": "stdout",
       "text": [
        " -15034.6713612\n",
        "printing self.lowerbound -2820817.11098\n",
        "printing  lbound -14235.8195089\n",
        "printing self.lowerbound -2835851.78234\n",
        "printing  lbound"
       ]
      },
      {
       "output_type": "stream",
       "stream": "stdout",
       "text": [
        " -14969.851337\n",
        "printing self.lowerbound -2850087.60185\n",
        "printing  lbound -14748.2906886\n",
        "printing self.lowerbound -2865057.45319\n",
        "printing  lbound"
       ]
      },
      {
       "output_type": "stream",
       "stream": "stdout",
       "text": [
        " -14795.2632472\n",
        "printing self.lowerbound -2879805.74388\n",
        "printing  lbound -16537.0913811\n",
        "printing self.lowerbound -2894601.00712\n",
        "printing  lbound"
       ]
      },
      {
       "output_type": "stream",
       "stream": "stdout",
       "text": [
        " -16257.7963683\n",
        "printing self.lowerbound -2911138.0985\n",
        "printing  lbound -15729.4943381\n",
        "printing self.lowerbound -2927395.89487\n",
        "printing  lbound"
       ]
      },
      {
       "output_type": "stream",
       "stream": "stdout",
       "text": [
        " -15279.0074611\n",
        "printing self.lowerbound -2943125.38921\n",
        "printing  lbound -15376.0623307\n",
        "printing self.lowerbound -2958404.39667\n",
        "printing  lbound"
       ]
      },
      {
       "output_type": "stream",
       "stream": "stdout",
       "text": [
        " -15385.7734693\n",
        "printing self.lowerbound -2973780.459\n",
        "printing  lbound -15488.5391251\n",
        "printing self.lowerbound -2989166.23247\n",
        "printing  lbound"
       ]
      },
      {
       "output_type": "stream",
       "stream": "stdout",
       "text": [
        " -16303.7960527\n",
        "printing self.lowerbound -3004654.7716\n",
        "printing  lbound -16621.2256191\n",
        "printing self.lowerbound -3020958.56765\n",
        "printing  lbound"
       ]
      },
      {
       "output_type": "stream",
       "stream": "stdout",
       "text": [
        " -15929.3531771\n",
        "printing self.lowerbound -3037579.79327\n",
        "printing  lbound -15354.5928694\n",
        "printing self.lowerbound -3053509.14645\n",
        "printing  lbound"
       ]
      },
      {
       "output_type": "stream",
       "stream": "stdout",
       "text": [
        " -14871.9503342\n",
        "printing self.lowerbound -3068863.73932\n",
        "printing  lbound -16103.4817682\n",
        "printing self.lowerbound -3083735.68965\n",
        "printing  lbound"
       ]
      },
      {
       "output_type": "stream",
       "stream": "stdout",
       "text": [
        " -15884.6803486\n",
        "printing self.lowerbound -3099839.17142\n",
        "printing  lbound -17969.6281801\n",
        "printing self.lowerbound -3115723.85177\n",
        "printing  lbound"
       ]
      },
      {
       "output_type": "stream",
       "stream": "stdout",
       "text": [
        " -16936.2832736\n",
        "printing self.lowerbound -3133693.47995\n",
        "printing  lbound -16138.6866286\n",
        "printing self.lowerbound -3150629.76322\n",
        "printing  lbound"
       ]
      },
      {
       "output_type": "stream",
       "stream": "stdout",
       "text": [
        " -15851.9422311\n",
        "printing self.lowerbound -3166768.44985\n",
        "printing  lbound -15451.5038762\n",
        "printing self.lowerbound -3182620.39208\n",
        "printing  lbound"
       ]
      },
      {
       "output_type": "stream",
       "stream": "stdout",
       "text": [
        " -15150.9595042\n",
        "printing self.lowerbound -3198071.89596\n",
        "printing  lbound -15566.1580757\n",
        "printing self.lowerbound -3213222.85546\n",
        "printing  lbound"
       ]
      },
      {
       "output_type": "stream",
       "stream": "stdout",
       "text": [
        " -15306.1273994\n",
        "printing self.lowerbound -3228789.01354\n",
        "printing  lbound -14754.8012385\n",
        "printing self.lowerbound -3244095.14094\n",
        "printing  lbound"
       ]
      },
      {
       "output_type": "stream",
       "stream": "stdout",
       "text": [
        " -15263.6217742\n",
        "printing self.lowerbound -3258849.94217\n",
        "printing  lbound -16136.8256618\n",
        "printing self.lowerbound -3274113.56395\n",
        "printing  lbound"
       ]
      },
      {
       "output_type": "stream",
       "stream": "stdout",
       "text": [
        " -15070.2572692\n",
        "printing self.lowerbound -3290250.38961\n",
        "printing  lbound -15648.241532\n",
        "printing self.lowerbound -3305320.64688\n",
        "printing  lbound"
       ]
      },
      {
       "output_type": "stream",
       "stream": "stdout",
       "text": [
        " -15785.3862385\n",
        "printing self.lowerbound -3320968.88841\n",
        "printing  lbound"
       ]
      },
      {
       "output_type": "stream",
       "stream": "stdout",
       "text": [
        " -16584.628822\n",
        "printing self.lowerbound -3336754.27465\n",
        "printing  lbound -15991.3878339\n",
        "printing self.lowerbound -3353338.90347\n",
        "printing  lbound"
       ]
      },
      {
       "output_type": "stream",
       "stream": "stdout",
       "text": [
        " -15383.1185692\n",
        "printing self.lowerbound -3369330.29131\n",
        "printing  lbound -15089.0455818\n",
        "printing self.lowerbound -3384713.40987\n",
        "printing  lbound"
       ]
      },
      {
       "output_type": "stream",
       "stream": "stdout",
       "text": [
        " -15143.5254639\n",
        "printing self.lowerbound -3399802.45546\n",
        "printing  lbound -15431.7453156\n",
        "printing self.lowerbound -3414945.98092\n",
        "printing  lbound"
       ]
      },
      {
       "output_type": "stream",
       "stream": "stdout",
       "text": [
        " -15481.2254696\n",
        "printing self.lowerbound -3430377.72624\n",
        "printing  lbound -16869.0716228\n",
        "printing self.lowerbound -3445858.95171\n",
        "printing  lbound"
       ]
      },
      {
       "output_type": "stream",
       "stream": "stdout",
       "text": [
        " -17388.3531349\n",
        "printing self.lowerbound -3462728.02333\n",
        "printing  lbound -15777.3655525\n",
        "printing self.lowerbound -3480116.37646\n",
        "printing  lbound"
       ]
      },
      {
       "output_type": "stream",
       "stream": "stdout",
       "text": [
        " -15422.6950265\n",
        "printing self.lowerbound -3495893.74202\n",
        "printing  lbound"
       ]
      },
      {
       "output_type": "stream",
       "stream": "stdout",
       "text": [
        " -15328.4437072\n",
        "printing self.lowerbound -3511316.43704\n",
        "printing  lbound"
       ]
      },
      {
       "output_type": "stream",
       "stream": "stdout",
       "text": [
        " -16327.2435371\n",
        "printing self.lowerbound -3526644.88075\n",
        "printing  lbound"
       ]
      },
      {
       "output_type": "stream",
       "stream": "stdout",
       "text": [
        " -16461.6879478\n",
        "printing self.lowerbound -3542972.12429\n",
        "printing  lbound -16320.969333\n",
        "printing self.lowerbound -3559433.81223\n",
        "printing  lbound"
       ]
      },
      {
       "output_type": "stream",
       "stream": "stdout",
       "text": [
        " -15885.342405\n",
        "printing self.lowerbound -3575754.78157\n",
        "printing  lbound -16483.7743216\n",
        "printing self.lowerbound -3591640.12397\n",
        "printing  lbound"
       ]
      },
      {
       "output_type": "stream",
       "stream": "stdout",
       "text": [
        " -16550.5799755\n",
        "printing self.lowerbound -3608123.89829\n",
        "printing  lbound -16362.4915184\n",
        "printing self.lowerbound -3624674.47827\n",
        "printing  lbound"
       ]
      },
      {
       "output_type": "stream",
       "stream": "stdout",
       "text": [
        " -15408.3311349\n",
        "printing self.lowerbound -3641036.96979\n",
        "printing  lbound -15994.6136307\n",
        "printing self.lowerbound -3656445.30092\n",
        "printing  lbound"
       ]
      },
      {
       "output_type": "stream",
       "stream": "stdout",
       "text": [
        " -15682.2978977\n",
        "printing self.lowerbound -3672439.91455\n",
        "printing  lbound -15601.273666\n",
        "printing self.lowerbound -3688122.21245\n",
        "printing  lbound"
       ]
      },
      {
       "output_type": "stream",
       "stream": "stdout",
       "text": [
        " -15646.4755608\n",
        "printing self.lowerbound -3703723.48612\n",
        "printing  lbound -16333.9427786\n",
        "printing self.lowerbound -3719369.96168\n",
        "printing  lbound"
       ]
      },
      {
       "output_type": "stream",
       "stream": "stdout",
       "text": [
        " -16401.8421257\n",
        "printing self.lowerbound -3735703.90446\n",
        "printing  lbound -15455.2882455\n",
        "printing self.lowerbound -3752105.74658\n",
        "printing  lbound"
       ]
      },
      {
       "output_type": "stream",
       "stream": "stdout",
       "text": [
        " -14798.6394301\n",
        "printing self.lowerbound -3767561.03483\n",
        "printing  lbound -14111.5170116\n",
        "printing self.lowerbound -3782359.67426\n",
        "printing  lbound"
       ]
      },
      {
       "output_type": "stream",
       "stream": "stdout",
       "text": [
        " -15566.3047927\n",
        "printing self.lowerbound -3796471.19127\n",
        "printing  lbound -14953.0827947\n",
        "printing self.lowerbound -3812037.49606\n",
        "printing  lbound"
       ]
      },
      {
       "output_type": "stream",
       "stream": "stdout",
       "text": [
        " -16599.8627313\n",
        "printing self.lowerbound -3826990.57886\n",
        "printing  lbound -16601.1837109\n",
        "printing self.lowerbound -3843590.44159\n",
        "printing  lbound"
       ]
      },
      {
       "output_type": "stream",
       "stream": "stdout",
       "text": [
        " -15834.8743654\n",
        "printing self.lowerbound -3860191.6253\n",
        "printing  lbound -14880.1341603\n",
        "printing self.lowerbound -3876026.49966\n",
        "printing  lbound"
       ]
      },
      {
       "output_type": "stream",
       "stream": "stdout",
       "text": [
        " -14947.0045289\n",
        "printing self.lowerbound -3890906.63382\n",
        "printing  lbound -13990.2294433\n",
        "printing self.lowerbound -3905853.63835\n",
        "printing  lbound"
       ]
      },
      {
       "output_type": "stream",
       "stream": "stdout",
       "text": [
        " -15132.0290132\n",
        "printing self.lowerbound -3919843.8678\n",
        "printing  lbound -15812.6480553\n",
        "printing self.lowerbound -3934975.89681\n",
        "printing  lbound"
       ]
      },
      {
       "output_type": "stream",
       "stream": "stdout",
       "text": [
        " -15628.6153633\n",
        "printing self.lowerbound -3950788.54487\n",
        "printing  lbound -15778.8584618\n",
        "printing self.lowerbound -3966417.16023\n",
        "printing  lbound"
       ]
      },
      {
       "output_type": "stream",
       "stream": "stdout",
       "text": [
        " -15071.4421938\n",
        "printing self.lowerbound -3982196.01869\n",
        "printing  lbound -14843.290955\n",
        "printing self.lowerbound -3997267.46088\n",
        "printing  lbound"
       ]
      },
      {
       "output_type": "stream",
       "stream": "stdout",
       "text": [
        " -15699.9106691\n",
        "printing self.lowerbound -4012110.75184\n",
        "printing  lbound -14948.8638442\n",
        "printing self.lowerbound -4027810.66251\n",
        "printing  lbound"
       ]
      },
      {
       "output_type": "stream",
       "stream": "stdout",
       "text": [
        " -14290.9276387\n",
        "printing self.lowerbound -4042759.52635\n",
        "printing  lbound -15769.1241289\n",
        "printing self.lowerbound -4057050.45399\n",
        "printing  lbound"
       ]
      },
      {
       "output_type": "stream",
       "stream": "stdout",
       "text": [
        " -14885.0406785\n",
        "printing self.lowerbound -4072819.57812\n",
        "printing  lbound -14912.1590172\n",
        "printing self.lowerbound -4087704.6188\n",
        "printing  lbound"
       ]
      },
      {
       "output_type": "stream",
       "stream": "stdout",
       "text": [
        " -14764.4252517\n",
        "printing self.lowerbound -4102616.77782\n",
        "printing  lbound -15077.8729059\n",
        "printing self.lowerbound -4117381.20307\n",
        "printing  lbound"
       ]
      },
      {
       "output_type": "stream",
       "stream": "stdout",
       "text": [
        " -15349.6411179\n",
        "printing self.lowerbound -4132459.07597\n",
        "printing  lbound -14968.7643375\n",
        "printing self.lowerbound -4147808.71709\n",
        "printing  lbound"
       ]
      },
      {
       "output_type": "stream",
       "stream": "stdout",
       "text": [
        " -15590.0742586\n",
        "printing self.lowerbound -4162777.48143\n",
        "printing  lbound -15537.4366727\n",
        "printing self.lowerbound -4178367.55569\n",
        "printing  lbound"
       ]
      },
      {
       "output_type": "stream",
       "stream": "stdout",
       "text": [
        " -14691.5170404\n",
        "printing self.lowerbound -4193904.99236\n",
        "printing  lbound"
       ]
      },
      {
       "output_type": "stream",
       "stream": "stdout",
       "text": [
        " -14936.8145728\n",
        "printing self.lowerbound -4208596.5094\n",
        "printing  lbound"
       ]
      },
      {
       "output_type": "stream",
       "stream": "stdout",
       "text": [
        " -15974.5193666\n",
        "printing self.lowerbound -4223533.32397\n",
        "printing  lbound"
       ]
      },
      {
       "output_type": "stream",
       "stream": "stdout",
       "text": [
        " -17237.2969874\n",
        "printing self.lowerbound -4239507.84334\n",
        "printing  lbound"
       ]
      },
      {
       "output_type": "stream",
       "stream": "stdout",
       "text": [
        " -16497.4681168\n",
        "printing self.lowerbound -4256745.14033\n",
        "printing  lbound -16109.1449508\n",
        "printing self.lowerbound -4273242.60844\n",
        "printing  lbound"
       ]
      },
      {
       "output_type": "stream",
       "stream": "stdout",
       "text": [
        " -16711.2785879\n",
        "printing self.lowerbound -4289351.75339\n",
        "printing  lbound -15296.216417\n",
        "printing self.lowerbound -4306063.03198\n",
        "printing  lbound"
       ]
      },
      {
       "output_type": "stream",
       "stream": "stdout",
       "text": [
        " -15210.1215118\n",
        "printing self.lowerbound -4321359.2484\n",
        "printing  lbound -15826.9733031\n",
        "printing self.lowerbound -4336569.36991\n",
        "printing  lbound"
       ]
      },
      {
       "output_type": "stream",
       "stream": "stdout",
       "text": [
        " -15847.9225316\n",
        "printing self.lowerbound -4352396.34321\n",
        "printing  lbound -15311.3634803\n",
        "printing self.lowerbound -4368244.26575\n",
        "printing  lbound"
       ]
      },
      {
       "output_type": "stream",
       "stream": "stdout",
       "text": [
        " -14480.502452\n",
        "printing self.lowerbound -4383555.62923\n",
        "printing  lbound -15549.9660798\n",
        "printing self.lowerbound -4398036.13168\n",
        "printing  lbound"
       ]
      },
      {
       "output_type": "stream",
       "stream": "stdout",
       "text": [
        " -16165.8982398\n",
        "printing self.lowerbound -4413586.09776\n",
        "printing  lbound -15623.5440059\n",
        "printing self.lowerbound -4429751.996\n",
        "printing  lbound"
       ]
      },
      {
       "output_type": "stream",
       "stream": "stdout",
       "text": [
        " -15865.4519422\n",
        "printing self.lowerbound -4445375.54\n",
        "printing  lbound -15470.7297181\n",
        "printing self.lowerbound -4461240.99195\n",
        "printing  lbound"
       ]
      },
      {
       "output_type": "stream",
       "stream": "stdout",
       "text": [
        " -15468.0837285\n",
        "printing self.lowerbound -4476711.72166\n",
        "printing  lbound -15387.268277\n",
        "printing self.lowerbound -4492179.80539\n",
        "printing  lbound"
       ]
      },
      {
       "output_type": "stream",
       "stream": "stdout",
       "text": [
        " -15877.3609041\n",
        "printing self.lowerbound -4507567.07367\n",
        "printing  lbound -16648.442124\n",
        "printing self.lowerbound -4523444.43457\n",
        "printing  lbound"
       ]
      },
      {
       "output_type": "stream",
       "stream": "stdout",
       "text": [
        " -16114.7410303\n",
        "printing self.lowerbound -4540092.8767\n",
        "printing  lbound -16042.1044197\n",
        "printing self.lowerbound -4556207.61773\n",
        "printing  lbound"
       ]
      },
      {
       "output_type": "stream",
       "stream": "stdout",
       "text": [
        " -15612.9511449\n",
        "printing self.lowerbound -4572249.72215\n",
        "printing  lbound -15710.775023\n",
        "printing self.lowerbound -4587862.67329\n",
        "printing  lbound"
       ]
      },
      {
       "output_type": "stream",
       "stream": "stdout",
       "text": [
        " -15139.7702433\n",
        "printing self.lowerbound -4603573.44832\n",
        "printing  lbound -14596.112623\n",
        "printing self.lowerbound -4618713.21856\n",
        "printing  lbound"
       ]
      },
      {
       "output_type": "stream",
       "stream": "stdout",
       "text": [
        " -15370.1744042\n",
        "printing self.lowerbound -4633309.33118\n",
        "printing  lbound -15089.7613167\n",
        "printing self.lowerbound -4648679.50559\n",
        "printing  lbound"
       ]
      },
      {
       "output_type": "stream",
       "stream": "stdout",
       "text": [
        " -14302.672202\n",
        "printing self.lowerbound -4663769.2669\n",
        "printing  lbound -15307.4073061\n",
        "printing self.lowerbound -4678071.9391\n",
        "printing  lbound"
       ]
      },
      {
       "output_type": "stream",
       "stream": "stdout",
       "text": [
        " -16379.2556553\n",
        "printing self.lowerbound -4693379.34641\n",
        "printing  lbound -15825.2206138\n",
        "printing self.lowerbound -4709758.60207\n",
        "printing  lbound"
       ]
      },
      {
       "output_type": "stream",
       "stream": "stdout",
       "text": [
        " -15343.4703706\n",
        "printing self.lowerbound -4725583.82268\n",
        "printing  lbound -15356.9999153\n",
        "printing self.lowerbound -4740927.29305\n",
        "printing  lbound"
       ]
      },
      {
       "output_type": "stream",
       "stream": "stdout",
       "text": [
        " -16283.6239524\n",
        "printing self.lowerbound -4756284.29297\n",
        "printing  lbound -15410.697977\n",
        "printing self.lowerbound -4772567.91692\n",
        "printing  lbound"
       ]
      },
      {
       "output_type": "stream",
       "stream": "stdout",
       "text": [
        " -14888.1427753\n",
        "printing self.lowerbound -4787978.6149\n",
        "printing  lbound -15023.2008996\n",
        "printing self.lowerbound -4802866.75767\n",
        "printing  lbound"
       ]
      },
      {
       "output_type": "stream",
       "stream": "stdout",
       "text": [
        " -15205.4090511\n",
        "printing self.lowerbound -4817889.95857\n",
        "printing  lbound -14354.9506664\n",
        "printing self.lowerbound -4833095.36762\n",
        "printing  lbound"
       ]
      },
      {
       "output_type": "stream",
       "stream": "stdout",
       "text": [
        " -15572.6152049\n",
        "printing self.lowerbound -4847450.31829\n",
        "printing  lbound -15379.2721743\n",
        "printing self.lowerbound -4863022.93349\n",
        "printing  lbound"
       ]
      },
      {
       "output_type": "stream",
       "stream": "stdout",
       "text": [
        " -15825.1902824\n",
        "printing self.lowerbound -4878402.20567\n",
        "printing  lbound -14862.6608272\n",
        "printing self.lowerbound -4894227.39595\n",
        "printing  lbound"
       ]
      },
      {
       "output_type": "stream",
       "stream": "stdout",
       "text": [
        " -15858.0185328\n",
        "printing self.lowerbound -4909090.05678\n",
        "printing  lbound -15163.1437866\n",
        "printing self.lowerbound -4924948.07531\n",
        "printing  lbound"
       ]
      },
      {
       "output_type": "stream",
       "stream": "stdout",
       "text": [
        " -16262.0103478\n",
        "printing self.lowerbound -4940111.2191\n",
        "printing  lbound -15889.0033528\n",
        "printing self.lowerbound -4956373.22944\n",
        "printing  lbound"
       ]
      },
      {
       "output_type": "stream",
       "stream": "stdout",
       "text": [
        " -15413.7193502\n",
        "printing self.lowerbound -4972262.2328\n",
        "printing  lbound -15324.2153317\n",
        "printing self.lowerbound -4987675.95215\n",
        "printing  lbound"
       ]
      },
      {
       "output_type": "stream",
       "stream": "stdout",
       "text": [
        " -15329.7235326\n",
        "printing self.lowerbound -5003000.16748\n",
        "printing  lbound -15664.7691238\n",
        "printing self.lowerbound -5018329.89101\n",
        "printing  lbound"
       ]
      },
      {
       "output_type": "stream",
       "stream": "stdout",
       "text": [
        " -15990.5311184\n",
        "printing self.lowerbound -5033994.66013\n",
        "printing  lbound -15531.0659401\n",
        "printing self.lowerbound -5049985.19125\n",
        "printing  lbound"
       ]
      },
      {
       "output_type": "stream",
       "stream": "stdout",
       "text": [
        " -15941.9480641\n",
        "printing self.lowerbound -5065516.25719\n",
        "printing  lbound -15865.4296216\n",
        "printing self.lowerbound -5081458.20526\n",
        "printing  lbound"
       ]
      },
      {
       "output_type": "stream",
       "stream": "stdout",
       "text": [
        " -16097.2462969\n",
        "printing self.lowerbound -5097323.63488\n",
        "printing  lbound -15385.6743701\n",
        "printing self.lowerbound -5113420.88118\n",
        "printing  lbound"
       ]
      },
      {
       "output_type": "stream",
       "stream": "stdout",
       "text": [
        " -14625.1685012\n",
        "printing self.lowerbound -5128806.55555\n",
        "printing  lbound -15750.1683287\n",
        "printing self.lowerbound -5143431.72405\n",
        "printing  lbound"
       ]
      },
      {
       "output_type": "stream",
       "stream": "stdout",
       "text": [
        " -16321.4729903\n",
        "printing self.lowerbound -5159181.89238\n",
        "printing  lbound -14999.4815988\n",
        "printing self.lowerbound -5175503.36537\n",
        "printing  lbound"
       ]
      },
      {
       "output_type": "stream",
       "stream": "stdout",
       "text": [
        " -16092.9150337\n",
        "printing self.lowerbound -5190502.84696\n",
        "printing  lbound -15830.4709623\n",
        "printing self.lowerbound -5206595.762\n",
        "printing  lbound"
       ]
      },
      {
       "output_type": "stream",
       "stream": "stdout",
       "text": [
        " -15610.0324211\n",
        "printing self.lowerbound -5222426.23296\n",
        "printing  lbound -15408.3453376\n",
        "printing self.lowerbound -5238036.26538\n",
        "printing  lbound"
       ]
      },
      {
       "output_type": "stream",
       "stream": "stdout",
       "text": [
        " -15050.4758835\n",
        "printing self.lowerbound -5253444.61072\n",
        "printing  lbound -14402.37215\n",
        "printing self.lowerbound -5268495.0866\n",
        "printing  lbound"
       ]
      },
      {
       "output_type": "stream",
       "stream": "stdout",
       "text": [
        " -14419.1276654\n",
        "printing self.lowerbound -5282897.45875\n",
        "printing  lbound -14580.6941068\n",
        "printing self.lowerbound -5297316.58642\n",
        "printing  lbound"
       ]
      },
      {
       "output_type": "stream",
       "stream": "stdout",
       "text": [
        " -15026.7806691\n",
        "printing self.lowerbound -5311897.28053\n",
        "printing  lbound -15882.5863026\n",
        "printing self.lowerbound -5326924.06119\n",
        "printing  lbound"
       ]
      },
      {
       "output_type": "stream",
       "stream": "stdout",
       "text": [
        " -15393.2096806\n",
        "printing self.lowerbound -5342806.6475\n",
        "printing  lbound -15533.2266376\n",
        "printing self.lowerbound -5358199.85718\n",
        "printing  lbound"
       ]
      },
      {
       "output_type": "stream",
       "stream": "stdout",
       "text": [
        " -16023.4754068\n",
        "printing self.lowerbound -5373733.08382\n",
        "printing  lbound -15838.0680964\n",
        "printing self.lowerbound -5389756.55922\n",
        "printing  lbound"
       ]
      },
      {
       "output_type": "stream",
       "stream": "stdout",
       "text": [
        " -15558.6695602\n",
        "printing self.lowerbound -5405594.62732\n",
        "printing  lbound -15718.5729663\n",
        "printing self.lowerbound -5421153.29688\n",
        "printing  lbound"
       ]
      },
      {
       "output_type": "stream",
       "stream": "stdout",
       "text": [
        " -16094.765276\n",
        "printing self.lowerbound -5436871.86984\n",
        "printing  lbound -14600.3064188\n",
        "printing self.lowerbound -5452966.63512\n",
        "printing  lbound"
       ]
      },
      {
       "output_type": "stream",
       "stream": "stdout",
       "text": [
        " -15522.8708678\n",
        "printing self.lowerbound -5467566.94154\n",
        "printing  lbound -15594.9763253\n",
        "printing self.lowerbound -5483089.81241\n",
        "printing  lbound"
       ]
      },
      {
       "output_type": "stream",
       "stream": "stdout",
       "text": [
        " -15196.0163144\n",
        "printing self.lowerbound -5498684.78873\n",
        "printing  lbound -15255.1167357\n",
        "printing self.lowerbound -5513880.80505\n",
        "printing  lbound"
       ]
      },
      {
       "output_type": "stream",
       "stream": "stdout",
       "text": [
        " -16553.4377151\n",
        "printing self.lowerbound -5529135.92178\n",
        "printing  lbound -15420.8495502\n",
        "printing self.lowerbound -5545689.3595\n",
        "printing  lbound"
       ]
      },
      {
       "output_type": "stream",
       "stream": "stdout",
       "text": [
        " -15688.2097105\n",
        "printing self.lowerbound -5561110.20905\n",
        "printing  lbound"
       ]
      },
      {
       "output_type": "stream",
       "stream": "stdout",
       "text": [
        " -15284.8765697\n",
        "printing self.lowerbound -5576798.41876\n",
        "printing  lbound"
       ]
      },
      {
       "output_type": "stream",
       "stream": "stdout",
       "text": [
        " -15448.8788781\n",
        "printing self.lowerbound -5592083.29533\n",
        "printing  lbound -15913.9093808\n",
        "printing self.lowerbound -5607532.17421\n",
        "printing  lbound"
       ]
      },
      {
       "output_type": "stream",
       "stream": "stdout",
       "text": [
        " -15236.7081095\n",
        "printing self.lowerbound -5623446.08359\n",
        "printing  lbound -16417.6621218\n",
        "printing self.lowerbound -5638682.7917\n",
        "printing  lbound"
       ]
      },
      {
       "output_type": "stream",
       "stream": "stdout",
       "text": [
        " -15921.7657938\n",
        "printing self.lowerbound -5655100.45382\n",
        "printing  lbound -16015.0599385\n",
        "printing self.lowerbound -5671022.21961\n",
        "printing  lbound"
       ]
      },
      {
       "output_type": "stream",
       "stream": "stdout",
       "text": [
        " -16050.4192148\n",
        "printing self.lowerbound -5687037.27955\n",
        "printing  lbound"
       ]
      },
      {
       "output_type": "stream",
       "stream": "stdout",
       "text": [
        " -15972.8705441\n",
        "printing self.lowerbound -5703087.69877\n",
        "printing  lbound -15660.7814049\n",
        "printing self.lowerbound -5719060.56931\n",
        "printing  lbound"
       ]
      },
      {
       "output_type": "stream",
       "stream": "stdout",
       "text": [
        " -16154.7846976\n",
        "printing self.lowerbound -5734721.35071\n",
        "printing  lbound -16115.2516416\n",
        "printing self.lowerbound -5750876.13541\n",
        "printing  lbound"
       ]
      },
      {
       "output_type": "stream",
       "stream": "stdout",
       "text": [
        " -14958.1624717\n",
        "printing self.lowerbound -5766991.38705\n",
        "printing  lbound -15238.594403\n",
        "printing self.lowerbound -5781949.54953\n",
        "printing  lbound"
       ]
      },
      {
       "output_type": "stream",
       "stream": "stdout",
       "text": [
        " -15222.8965571\n",
        "printing self.lowerbound -5797188.14393\n",
        "printing  lbound -15733.6828455\n",
        "printing self.lowerbound -5812411.04049\n",
        "printing  lbound"
       ]
      },
      {
       "output_type": "stream",
       "stream": "stdout",
       "text": [
        " -16221.7258929\n",
        "printing self.lowerbound -5828144.72333\n",
        "printing  lbound -16193.3602118\n",
        "printing self.lowerbound -5844366.44922\n",
        "printing  lbound"
       ]
      },
      {
       "output_type": "stream",
       "stream": "stdout",
       "text": [
        " -16008.0468129\n",
        "printing self.lowerbound -5860559.80944\n",
        "printing  lbound -15547.0821921\n",
        "printing self.lowerbound -5876567.85625\n",
        "printing  lbound"
       ]
      },
      {
       "output_type": "stream",
       "stream": "stdout",
       "text": [
        " -16773.0976455\n",
        "printing self.lowerbound -5892114.93844\n",
        "printing  lbound -15873.2219417\n",
        "printing self.lowerbound -5908888.03609\n",
        "printing  lbound"
       ]
      },
      {
       "output_type": "stream",
       "stream": "stdout",
       "text": [
        " -15380.9209384\n",
        "printing self.lowerbound -5924761.25803\n",
        "printing  lbound -14861.7080827\n",
        "printing self.lowerbound -5940142.17897\n",
        "printing  lbound"
       ]
      },
      {
       "output_type": "stream",
       "stream": "stdout",
       "text": [
        " -16017.9822889\n",
        "printing self.lowerbound -5955003.88705\n",
        "printing  lbound -15776.7021133\n",
        "printing self.lowerbound -5971021.86934\n",
        "printing  lbound"
       ]
      },
      {
       "output_type": "stream",
       "stream": "stdout",
       "text": [
        " -15386.6485813\n",
        "printing self.lowerbound -5986798.57145\n",
        "printing  lbound -14835.3502084\n",
        "printing self.lowerbound -6002185.22003\n",
        "printing  lbound"
       ]
      },
      {
       "output_type": "stream",
       "stream": "stdout",
       "text": [
        " -15187.8513845\n",
        "printing self.lowerbound -6017020.57024\n",
        "printing  lbound -16611.2713771\n",
        "printing self.lowerbound -6032208.42163\n",
        "printing  lbound"
       ]
      },
      {
       "output_type": "stream",
       "stream": "stdout",
       "text": [
        " -15409.421206\n",
        "printing self.lowerbound -6048819.693\n",
        "printing  lbound -15320.8845671\n",
        "printing self.lowerbound -6064229.11421\n",
        "printing  lbound"
       ]
      },
      {
       "output_type": "stream",
       "stream": "stdout",
       "text": [
        " -15306.9649077\n",
        "printing self.lowerbound -6079549.99878\n",
        "printing  lbound -14858.1953458\n",
        "printing self.lowerbound -6094856.96368\n",
        "printing  lbound"
       ]
      },
      {
       "output_type": "stream",
       "stream": "stdout",
       "text": [
        " -15263.2889262\n",
        "printing self.lowerbound -6109715.15903\n",
        "printing  lbound -15436.5672946\n",
        "printing self.lowerbound -6124978.44796\n",
        "printing  lbound"
       ]
      },
      {
       "output_type": "stream",
       "stream": "stdout",
       "text": [
        " -15472.7608398\n",
        "printing self.lowerbound -6140415.01525\n",
        "printing  lbound -15597.4954499\n",
        "printing self.lowerbound -6155887.77609\n",
        "printing  lbound"
       ]
      },
      {
       "output_type": "stream",
       "stream": "stdout",
       "text": [
        " -14609.7877501\n",
        "printing self.lowerbound -6171485.27154\n",
        "printing  lbound -14987.0346707\n",
        "printing self.lowerbound -6186095.05929\n",
        "printing  lbound"
       ]
      },
      {
       "output_type": "stream",
       "stream": "stdout",
       "text": [
        " -15707.6591811\n",
        "printing self.lowerbound -6201082.09396\n",
        "printing  lbound -15970.9077074\n",
        "printing self.lowerbound -6216789.75314\n",
        "printing  lbound"
       ]
      },
      {
       "output_type": "stream",
       "stream": "stdout",
       "text": [
        " -15413.0411754\n",
        "printing self.lowerbound -6232760.66085\n",
        "printing  lbound -14842.629126\n",
        "printing self.lowerbound -6248173.70202\n",
        "printing  lbound"
       ]
      },
      {
       "output_type": "stream",
       "stream": "stdout",
       "text": [
        " -15591.7953625\n",
        "printing self.lowerbound -6263016.33115\n",
        "printing  lbound"
       ]
      },
      {
       "output_type": "stream",
       "stream": "stdout",
       "text": [
        " -15495.2799381\n",
        "printing self.lowerbound -6278608.12651\n",
        "printing  lbound -15206.3790742\n",
        "printing self.lowerbound -6294103.40645\n",
        "printing  lbound"
       ]
      },
      {
       "output_type": "stream",
       "stream": "stdout",
       "text": [
        " -16372.5499207\n",
        "printing self.lowerbound -6309309.78552\n",
        "printing  lbound -16169.1217301\n",
        "printing self.lowerbound -6325682.33545\n",
        "printing  lbound"
       ]
      },
      {
       "output_type": "stream",
       "stream": "stdout",
       "text": [
        " -15457.7550032\n",
        "printing self.lowerbound -6341851.45718\n",
        "printing  lbound -15371.042893\n",
        "printing self.lowerbound -6357309.21218\n",
        "printing  lbound"
       ]
      },
      {
       "output_type": "stream",
       "stream": "stdout",
       "text": [
        " -15170.7685685\n",
        "printing self.lowerbound -6372680.25507\n",
        "printing  lbound -14900.9105406\n",
        "printing self.lowerbound -6387851.02364\n",
        "printing  lbound"
       ]
      },
      {
       "output_type": "stream",
       "stream": "stdout",
       "text": [
        " -15362.6281981\n",
        "printing self.lowerbound -6402751.93418\n",
        "printing  lbound -15992.2550836\n",
        "printing self.lowerbound -6418114.56238\n",
        "printing  lbound"
       ]
      },
      {
       "output_type": "stream",
       "stream": "stdout",
       "text": [
        " -15915.5656169\n",
        "printing self.lowerbound -6434106.81746\n",
        "printing  lbound -16807.488659\n",
        "printing self.lowerbound -6450022.38308\n",
        "printing  lbound"
       ]
      },
      {
       "output_type": "stream",
       "stream": "stdout",
       "text": [
        " -16413.8740904\n",
        "printing self.lowerbound -6466829.87174\n",
        "printing  lbound -15304.4961976\n",
        "printing self.lowerbound -6483243.74583\n",
        "printing  lbound"
       ]
      },
      {
       "output_type": "stream",
       "stream": "stdout",
       "text": [
        " -15027.9887906\n",
        "printing self.lowerbound -6498548.24203\n",
        "printing  lbound -14856.4009711\n",
        "printing self.lowerbound -6513576.23082\n",
        "printing  lbound"
       ]
      },
      {
       "output_type": "stream",
       "stream": "stdout",
       "text": [
        " -15129.0716138\n",
        "printing self.lowerbound -6528432.63179\n",
        "printing  lbound -15471.9752776\n",
        "printing self.lowerbound -6543561.7034\n",
        "printing  lbound"
       ]
      },
      {
       "output_type": "stream",
       "stream": "stdout",
       "text": [
        " -15238.885875\n",
        "printing self.lowerbound -6559033.67868\n",
        "printing  lbound -14784.9448668\n",
        "printing self.lowerbound -6574272.56455\n",
        "printing  lbound"
       ]
      },
      {
       "output_type": "stream",
       "stream": "stdout",
       "text": [
        " -15491.1638149\n",
        "printing self.lowerbound -6589057.50942\n",
        "printing  lbound -16650.3864439\n",
        "printing self.lowerbound -6604548.67324\n",
        "printing  lbound"
       ]
      },
      {
       "output_type": "stream",
       "stream": "stdout",
       "text": [
        " -15889.2199999\n",
        "printing self.lowerbound -6621199.05968\n",
        "printing  lbound"
       ]
      },
      {
       "output_type": "stream",
       "stream": "stdout",
       "text": [
        " -15659.2510842\n",
        "printing self.lowerbound -6637088.27968\n",
        "printing  lbound -16332.9062281\n",
        "printing self.lowerbound -6652747.53076\n",
        "printing  lbound"
       ]
      },
      {
       "output_type": "stream",
       "stream": "stdout",
       "text": [
        " -15714.948702\n",
        "printing self.lowerbound -6669080.43699\n",
        "printing  lbound -15286.7777493\n",
        "printing self.lowerbound -6684795.38569\n",
        "printing  lbound"
       ]
      },
      {
       "output_type": "stream",
       "stream": "stdout",
       "text": [
        " -15344.2719026\n",
        "printing self.lowerbound -6700082.16344\n",
        "printing  lbound -14097.2384044\n",
        "printing self.lowerbound -6715426.43535\n",
        "printing  lbound"
       ]
      },
      {
       "output_type": "stream",
       "stream": "stdout",
       "text": [
        " -14716.428356\n",
        "printing self.lowerbound -6729523.67375\n",
        "printing  lbound -15181.0190085\n",
        "printing self.lowerbound -6744240.10211\n",
        "printing  lbound"
       ]
      },
      {
       "output_type": "stream",
       "stream": "stdout",
       "text": [
        " -15146.1271272\n",
        "printing self.lowerbound -6759421.12112\n",
        "printing  lbound -15330.6302851\n",
        "printing self.lowerbound -6774567.24824\n",
        "printing  lbound"
       ]
      },
      {
       "output_type": "stream",
       "stream": "stdout",
       "text": [
        " -15697.5623307\n",
        "printing self.lowerbound -6789897.87853\n",
        "printing  lbound -15108.3346357\n",
        "printing self.lowerbound -6805595.44086\n",
        "printing  lbound"
       ]
      },
      {
       "output_type": "stream",
       "stream": "stdout",
       "text": [
        " -14544.9458428\n",
        "printing self.lowerbound -6820703.77549\n",
        "printing  lbound -15544.1595707\n",
        "printing self.lowerbound -6835248.72134\n",
        "printing  lbound"
       ]
      },
      {
       "output_type": "stream",
       "stream": "stdout",
       "text": [
        " -14527.3477172\n",
        "printing self.lowerbound -6850792.88091\n",
        "printing  lbound -16049.7606106\n",
        "printing self.lowerbound -6865320.22862\n",
        "printing  lbound"
       ]
      },
      {
       "output_type": "stream",
       "stream": "stdout",
       "text": [
        " -16259.0598117\n",
        "printing self.lowerbound -6881369.98924\n",
        "printing  lbound -16157.0786467\n",
        "printing self.lowerbound -6897629.04905\n",
        "printing  lbound"
       ]
      },
      {
       "output_type": "stream",
       "stream": "stdout",
       "text": [
        " -15756.7949453\n",
        "printing self.lowerbound -6913786.12769\n",
        "printing  lbound -15952.4215194\n",
        "printing self.lowerbound -6929542.92264\n",
        "printing  lbound"
       ]
      },
      {
       "output_type": "stream",
       "stream": "stdout",
       "text": [
        " -15066.0080107\n",
        "printing self.lowerbound -6945495.34416\n",
        "printing  lbound -14783.1490921\n",
        "printing self.lowerbound -6960561.35217\n",
        "printing  lbound"
       ]
      },
      {
       "output_type": "stream",
       "stream": "stdout",
       "text": [
        " -15884.6403461\n",
        "printing self.lowerbound -6975344.50126\n",
        "printing  lbound -15575.7080963\n",
        "printing self.lowerbound -6991229.14161\n",
        "printing  lbound"
       ]
      },
      {
       "output_type": "stream",
       "stream": "stdout",
       "text": [
        " -15468.252625\n",
        "printing self.lowerbound -7006804.8497\n",
        "printing  lbound -15292.3430136\n",
        "printing self.lowerbound -7022273.10233\n",
        "printing  lbound"
       ]
      },
      {
       "output_type": "stream",
       "stream": "stdout",
       "text": [
        " -15955.8195356\n",
        "printing self.lowerbound -7037565.44534\n",
        "printing  lbound -16243.0852497\n",
        "printing self.lowerbound -7053521.26488\n",
        "printing  lbound"
       ]
      },
      {
       "output_type": "stream",
       "stream": "stdout",
       "text": [
        " -15625.5929727\n",
        "printing self.lowerbound -7069764.35013\n",
        "printing  lbound -15820.9547253\n",
        "printing self.lowerbound -7085389.9431\n",
        "printing  lbound"
       ]
      },
      {
       "output_type": "stream",
       "stream": "stdout",
       "text": [
        " -15327.6932921\n",
        "printing self.lowerbound -7101210.89783\n",
        "printing  lbound -15775.8577128\n",
        "printing self.lowerbound -7116538.59112\n",
        "printing  lbound"
       ]
      },
      {
       "output_type": "stream",
       "stream": "stdout",
       "text": [
        " -15913.0121988\n",
        "printing self.lowerbound -7132314.44883\n",
        "printing  lbound -15835.6839311\n",
        "printing self.lowerbound -7148227.46103\n",
        "printing  lbound"
       ]
      },
      {
       "output_type": "stream",
       "stream": "stdout",
       "text": [
        " -15253.5046463\n",
        "printing self.lowerbound -7164063.14496\n",
        "printing  lbound -15518.3127682\n",
        "printing self.lowerbound -7179316.64961\n",
        "printing  lbound"
       ]
      },
      {
       "output_type": "stream",
       "stream": "stdout",
       "text": [
        " -15063.5024282\n",
        "printing self.lowerbound -7194834.96237\n",
        "printing  lbound -16135.8658562\n",
        "printing self.lowerbound -7209898.4648\n",
        "printing  lbound"
       ]
      },
      {
       "output_type": "stream",
       "stream": "stdout",
       "text": [
        " -16026.0998183\n",
        "printing self.lowerbound -7226034.33066\n",
        "printing  lbound -15810.1526143\n",
        "printing self.lowerbound -7242060.43048\n",
        "printing  lbound"
       ]
      },
      {
       "output_type": "stream",
       "stream": "stdout",
       "text": [
        " -15594.5188618\n",
        "printing self.lowerbound -7257870.58309\n",
        "printing  lbound -16037.6257685\n",
        "printing self.lowerbound -7273465.10195\n",
        "printing  lbound"
       ]
      },
      {
       "output_type": "stream",
       "stream": "stdout",
       "text": [
        " -15731.5194669\n",
        "printing self.lowerbound -7289502.72772\n",
        "printing  lbound -16381.0029211\n",
        "printing self.lowerbound -7305234.24719\n",
        "printing  lbound"
       ]
      },
      {
       "output_type": "stream",
       "stream": "stdout",
       "text": [
        " -15147.5047178\n",
        "printing self.lowerbound -7321615.25011\n",
        "printing  lbound -15028.4078383\n",
        "printing self.lowerbound -7336762.75483\n",
        "printing  lbound"
       ]
      },
      {
       "output_type": "stream",
       "stream": "stdout",
       "text": [
        " -15580.7765736\n",
        "printing self.lowerbound -7351791.16267\n",
        "printing  lbound"
       ]
      },
      {
       "output_type": "stream",
       "stream": "stdout",
       "text": [
        " -15211.9284466\n",
        "printing self.lowerbound -7367371.93924\n",
        "printing  lbound"
       ]
      },
      {
       "output_type": "stream",
       "stream": "stdout",
       "text": [
        " -14976.9111603\n",
        "printing self.lowerbound -7382583.86769\n",
        "printing  lbound"
       ]
      },
      {
       "output_type": "stream",
       "stream": "stdout",
       "text": [
        " -16144.5030198\n",
        "printing self.lowerbound -7397560.77885\n",
        "printing  lbound"
       ]
      },
      {
       "output_type": "stream",
       "stream": "stdout",
       "text": [
        " -16056.469924\n",
        "printing self.lowerbound -7413705.28187\n",
        "printing  lbound"
       ]
      },
      {
       "output_type": "stream",
       "stream": "stdout",
       "text": [
        " -17166.7438207\n",
        "printing self.lowerbound -7429761.75179\n",
        "printing  lbound"
       ]
      },
      {
       "output_type": "stream",
       "stream": "stdout",
       "text": [
        " -15850.6342414\n",
        "printing self.lowerbound -7446928.49561\n",
        "printing  lbound -15248.2240778\n",
        "printing self.lowerbound -7462779.12985\n",
        "printing  lbound"
       ]
      },
      {
       "output_type": "stream",
       "stream": "stdout",
       "text": [
        " -14862.8190052\n",
        "printing self.lowerbound -7478027.35393\n",
        "printing  lbound -15427.7563574\n",
        "printing self.lowerbound -7492890.17294\n",
        "printing  lbound"
       ]
      },
      {
       "output_type": "stream",
       "stream": "stdout",
       "text": [
        " -15000.7556232\n",
        "printing self.lowerbound -7508317.92929\n",
        "printing  lbound -16060.0007046\n",
        "printing self.lowerbound -7523318.68492\n",
        "printing  lbound"
       ]
      },
      {
       "output_type": "stream",
       "stream": "stdout",
       "text": [
        " -15866.0403097\n",
        "printing self.lowerbound -7539378.68562\n",
        "printing  lbound -15950.6272032\n",
        "printing self.lowerbound -7555244.72593\n",
        "printing  lbound"
       ]
      },
      {
       "output_type": "stream",
       "stream": "stdout",
       "text": [
        " -16045.1746511\n",
        "printing self.lowerbound -7571195.35313\n",
        "printing  lbound -15757.1133435\n",
        "printing self.lowerbound -7587240.52778\n",
        "printing  lbound"
       ]
      },
      {
       "output_type": "stream",
       "stream": "stdout",
       "text": [
        " -15812.282877\n",
        "printing self.lowerbound -7602997.64113\n",
        "printing  lbound -15153.4074669\n",
        "printing self.lowerbound -7618809.92401\n",
        "printing  lbound"
       ]
      },
      {
       "output_type": "stream",
       "stream": "stdout",
       "text": [
        " -15302.3841803\n",
        "printing self.lowerbound -7633963.33147\n",
        "printing  lbound -15490.3540537\n",
        "printing self.lowerbound -7649265.71565\n",
        "printing  lbound"
       ]
      },
      {
       "output_type": "stream",
       "stream": "stdout",
       "text": [
        " -17050.6728457\n",
        "printing self.lowerbound -7664756.06971\n",
        "printing  lbound -16062.6390508\n",
        "printing self.lowerbound -7681806.74255\n",
        "printing  lbound"
       ]
      },
      {
       "output_type": "stream",
       "stream": "stdout",
       "text": [
        " -14981.2408797\n",
        "printing self.lowerbound -7697869.3816\n",
        "printing  lbound -16291.6232238\n",
        "printing self.lowerbound -7712850.62248\n",
        "printing  lbound"
       ]
      },
      {
       "output_type": "stream",
       "stream": "stdout",
       "text": [
        " -16674.3702437\n",
        "printing self.lowerbound -7729142.24571\n",
        "printing  lbound -15580.280593\n",
        "printing self.lowerbound -7745816.61595\n",
        "printing  lbound"
       ]
      },
      {
       "output_type": "stream",
       "stream": "stdout",
       "text": [
        " -16047.6145528\n",
        "printing self.lowerbound -7761396.89654\n",
        "printing  lbound -15853.1822682\n",
        "printing self.lowerbound -7777444.5111\n",
        "Iteration 3, lower bound = -155.87, time = 21.79s"
       ]
      },
      {
       "output_type": "stream",
       "stream": "stdout",
       "text": [
        "\n",
        "Iteration: 4\n",
        "printing  lbound -14860.5512161\n",
        "printing self.lowerbound 0\n",
        "printing  lbound"
       ]
      },
      {
       "output_type": "stream",
       "stream": "stdout",
       "text": [
        " -15177.6850286\n",
        "printing self.lowerbound -14860.5512161\n",
        "printing  lbound"
       ]
      },
      {
       "output_type": "stream",
       "stream": "stdout",
       "text": [
        " -15305.1309135\n",
        "printing self.lowerbound -30038.2362447\n",
        "printing  lbound"
       ]
      },
      {
       "output_type": "stream",
       "stream": "stdout",
       "text": [
        " -14422.0545784\n",
        "printing self.lowerbound -45343.3671582\n",
        "printing  lbound"
       ]
      },
      {
       "output_type": "stream",
       "stream": "stdout",
       "text": [
        " -15326.7874688\n",
        "printing self.lowerbound -59765.4217366\n",
        "printing  lbound -15648.5219335\n",
        "printing self.lowerbound -75092.2092054\n",
        "printing  lbound"
       ]
      },
      {
       "output_type": "stream",
       "stream": "stdout",
       "text": [
        " -15223.7644934\n",
        "printing self.lowerbound -90740.7311389\n",
        "printing  lbound -15553.678416\n",
        "printing self.lowerbound -105964.495632\n",
        "printing  lbound"
       ]
      },
      {
       "output_type": "stream",
       "stream": "stdout",
       "text": [
        " -15620.1612129\n",
        "printing self.lowerbound -121518.174048\n",
        "printing  lbound -15603.7742776\n",
        "printing self.lowerbound -137138.335261\n",
        "printing  lbound"
       ]
      },
      {
       "output_type": "stream",
       "stream": "stdout",
       "text": [
        " -14918.2368154\n",
        "printing self.lowerbound -152742.109539\n",
        "printing  lbound -15330.2419304\n",
        "printing self.lowerbound -167660.346354\n",
        "printing  lbound"
       ]
      },
      {
       "output_type": "stream",
       "stream": "stdout",
       "text": [
        " -15702.4968713\n",
        "printing self.lowerbound -182990.588285\n",
        "printing  lbound -15383.5997432\n",
        "printing self.lowerbound -198693.085156\n",
        "printing  lbound"
       ]
      },
      {
       "output_type": "stream",
       "stream": "stdout",
       "text": [
        " -15703.5463979\n",
        "printing self.lowerbound -214076.684899\n",
        "printing  lbound -15713.9291344\n",
        "printing self.lowerbound -229780.231297\n",
        "printing  lbound"
       ]
      },
      {
       "output_type": "stream",
       "stream": "stdout",
       "text": [
        " -14954.4012733\n",
        "printing self.lowerbound -245494.160431\n",
        "printing  lbound -14995.1268001\n",
        "printing self.lowerbound -260448.561705\n",
        "printing  lbound"
       ]
      },
      {
       "output_type": "stream",
       "stream": "stdout",
       "text": [
        " -15051.9084724\n",
        "printing self.lowerbound -275443.688505\n",
        "printing  lbound -14749.6789849\n",
        "printing self.lowerbound -290495.596977\n",
        "printing  lbound"
       ]
      },
      {
       "output_type": "stream",
       "stream": "stdout",
       "text": [
        " -15133.0814008\n",
        "printing self.lowerbound -305245.275962\n",
        "printing  lbound -14901.37583\n",
        "printing self.lowerbound -320378.357363\n",
        "printing  lbound"
       ]
      },
      {
       "output_type": "stream",
       "stream": "stdout",
       "text": [
        " -16226.6082234\n",
        "printing self.lowerbound -335279.733193\n",
        "printing  lbound -15257.6195059\n",
        "printing self.lowerbound -351506.341416\n",
        "printing  lbound"
       ]
      },
      {
       "output_type": "stream",
       "stream": "stdout",
       "text": [
        " -15148.8197072\n",
        "printing self.lowerbound -366763.960922\n",
        "printing  lbound -15492.1745232\n",
        "printing self.lowerbound -381912.78063\n",
        "printing  lbound"
       ]
      },
      {
       "output_type": "stream",
       "stream": "stdout",
       "text": [
        " -15703.6306833\n",
        "printing self.lowerbound -397404.955153\n",
        "printing  lbound -15889.8006056\n",
        "printing self.lowerbound -413108.585836\n",
        "printing  lbound"
       ]
      },
      {
       "output_type": "stream",
       "stream": "stdout",
       "text": [
        " -16139.5497676\n",
        "printing self.lowerbound -428998.386442\n",
        "printing  lbound -14707.2593705\n",
        "printing self.lowerbound -445137.936209\n",
        "printing  lbound"
       ]
      },
      {
       "output_type": "stream",
       "stream": "stdout",
       "text": [
        " -15948.6258628\n",
        "printing self.lowerbound -459845.19558\n",
        "printing  lbound -14742.706564\n",
        "printing self.lowerbound -475793.821442\n",
        "printing  lbound"
       ]
      },
      {
       "output_type": "stream",
       "stream": "stdout",
       "text": [
        " -14052.6303528\n",
        "printing self.lowerbound -490536.528006\n",
        "printing  lbound -14912.5921711\n",
        "printing self.lowerbound -504589.158359\n",
        "printing  lbound"
       ]
      },
      {
       "output_type": "stream",
       "stream": "stdout",
       "text": [
        " -14424.569393\n",
        "printing self.lowerbound -519501.75053\n",
        "printing  lbound -15845.1692699\n",
        "printing self.lowerbound -533926.319923\n",
        "printing  lbound"
       ]
      },
      {
       "output_type": "stream",
       "stream": "stdout",
       "text": [
        " -16665.7059231\n",
        "printing self.lowerbound -549771.489193\n",
        "printing  lbound -16107.1786119\n",
        "printing self.lowerbound -566437.195116\n",
        "printing  lbound"
       ]
      },
      {
       "output_type": "stream",
       "stream": "stdout",
       "text": [
        " -15365.3908622\n",
        "printing self.lowerbound -582544.373728\n",
        "printing  lbound"
       ]
      },
      {
       "output_type": "stream",
       "stream": "stdout",
       "text": [
        " -15234.9260108\n",
        "printing self.lowerbound -597909.764591\n",
        "printing  lbound"
       ]
      },
      {
       "output_type": "stream",
       "stream": "stdout",
       "text": [
        " -15361.1993069\n",
        "printing self.lowerbound -613144.690601\n",
        "printing  lbound -14781.4485005\n",
        "printing self.lowerbound -628505.889908\n",
        "printing  lbound"
       ]
      },
      {
       "output_type": "stream",
       "stream": "stdout",
       "text": [
        " -15625.9104214\n",
        "printing self.lowerbound -643287.338409\n",
        "printing  lbound -15002.570532\n",
        "printing self.lowerbound -658913.24883\n",
        "printing  lbound"
       ]
      },
      {
       "output_type": "stream",
       "stream": "stdout",
       "text": [
        " -15772.4834488\n",
        "printing self.lowerbound -673915.819362\n",
        "printing  lbound -15090.118456\n",
        "printing self.lowerbound -689688.302811\n",
        "printing  lbound"
       ]
      },
      {
       "output_type": "stream",
       "stream": "stdout",
       "text": [
        " -16067.6746866\n",
        "printing self.lowerbound -704778.421267\n",
        "printing  lbound"
       ]
      },
      {
       "output_type": "stream",
       "stream": "stdout",
       "text": [
        " -17094.0382336\n",
        "printing self.lowerbound -720846.095954\n",
        "printing  lbound -17444.5156074\n",
        "printing self.lowerbound -737940.134187\n",
        "printing  lbound"
       ]
      },
      {
       "output_type": "stream",
       "stream": "stdout",
       "text": [
        " -14672.8363905\n",
        "printing self.lowerbound -755384.649795\n",
        "printing  lbound -15291.7715261\n",
        "printing self.lowerbound -770057.486185\n",
        "printing  lbound"
       ]
      },
      {
       "output_type": "stream",
       "stream": "stdout",
       "text": [
        " -16335.7710133\n",
        "printing self.lowerbound -785349.257711\n",
        "printing  lbound -15127.6919829\n",
        "printing self.lowerbound -801685.028725\n",
        "printing  lbound"
       ]
      },
      {
       "output_type": "stream",
       "stream": "stdout",
       "text": [
        " -16451.2061141\n",
        "printing self.lowerbound -816812.720707\n",
        "printing  lbound -15237.3632914\n",
        "printing self.lowerbound -833263.926822\n",
        "printing  lbound"
       ]
      },
      {
       "output_type": "stream",
       "stream": "stdout",
       "text": [
        " -14927.5720337\n",
        "printing self.lowerbound -848501.290113\n",
        "printing  lbound -15993.7093951\n",
        "printing self.lowerbound -863428.862147\n",
        "printing  lbound"
       ]
      },
      {
       "output_type": "stream",
       "stream": "stdout",
       "text": [
        " -14814.9389119\n",
        "printing self.lowerbound -879422.571542\n",
        "printing  lbound -14948.3228437\n",
        "printing self.lowerbound -894237.510454\n",
        "printing  lbound"
       ]
      },
      {
       "output_type": "stream",
       "stream": "stdout",
       "text": [
        " -15278.8489986\n",
        "printing self.lowerbound -909185.833297\n",
        "printing  lbound -15528.0522704\n",
        "printing self.lowerbound -924464.682296\n",
        "printing  lbound"
       ]
      },
      {
       "output_type": "stream",
       "stream": "stdout",
       "text": [
        " -15554.766105\n",
        "printing self.lowerbound -939992.734566\n",
        "printing  lbound"
       ]
      },
      {
       "output_type": "stream",
       "stream": "stdout",
       "text": [
        " -14804.7018119\n",
        "printing self.lowerbound -955547.500672\n",
        "printing  lbound"
       ]
      },
      {
       "output_type": "stream",
       "stream": "stdout",
       "text": [
        " -15262.277583\n",
        "printing self.lowerbound -970352.202483\n",
        "printing  lbound -15369.163814\n",
        "printing self.lowerbound -985614.480066\n",
        "printing  lbound"
       ]
      },
      {
       "output_type": "stream",
       "stream": "stdout",
       "text": [
        " -14862.8217538\n",
        "printing self.lowerbound -1000983.64388\n",
        "printing  lbound -14437.4856131\n",
        "printing self.lowerbound -1015846.46563\n",
        "printing  lbound"
       ]
      },
      {
       "output_type": "stream",
       "stream": "stdout",
       "text": [
        " -14447.2514699\n",
        "printing self.lowerbound -1030283.95125\n",
        "printing  lbound -15174.134044\n",
        "printing self.lowerbound -1044731.20272\n",
        "printing  lbound"
       ]
      },
      {
       "output_type": "stream",
       "stream": "stdout",
       "text": [
        " -15111.4771343\n",
        "printing self.lowerbound -1059905.33676\n",
        "printing  lbound -14947.6390773\n",
        "printing self.lowerbound -1075016.8139\n",
        "printing  lbound"
       ]
      },
      {
       "output_type": "stream",
       "stream": "stdout",
       "text": [
        " -15202.3827317\n",
        "printing self.lowerbound -1089964.45297\n",
        "printing  lbound -15676.0875628\n",
        "printing self.lowerbound -1105166.8357\n",
        "printing  lbound"
       ]
      },
      {
       "output_type": "stream",
       "stream": "stdout",
       "text": [
        " -15124.0850075\n",
        "printing self.lowerbound -1120842.92327\n",
        "printing  lbound"
       ]
      },
      {
       "output_type": "stream",
       "stream": "stdout",
       "text": [
        " -14749.9610792\n",
        "printing self.lowerbound -1135967.00827\n",
        "printing  lbound"
       ]
      },
      {
       "output_type": "stream",
       "stream": "stdout",
       "text": [
        " -14698.4785928\n",
        "printing self.lowerbound -1150716.96935\n",
        "printing  lbound"
       ]
      },
      {
       "output_type": "stream",
       "stream": "stdout",
       "text": [
        " -15091.2133412\n",
        "printing self.lowerbound -1165415.44795\n",
        "printing  lbound -15545.993089\n",
        "printing self.lowerbound -1180506.66129\n",
        "printing  lbound"
       ]
      },
      {
       "output_type": "stream",
       "stream": "stdout",
       "text": [
        " -16044.1011272\n",
        "printing self.lowerbound -1196052.65438\n",
        "printing  lbound -15598.7133455\n",
        "printing self.lowerbound -1212096.7555\n",
        "printing  lbound"
       ]
      },
      {
       "output_type": "stream",
       "stream": "stdout",
       "text": [
        " -16034.097577\n",
        "printing self.lowerbound -1227695.46885\n",
        "printing  lbound -14351.1944767\n",
        "printing self.lowerbound -1243729.56643\n",
        "printing  lbound"
       ]
      },
      {
       "output_type": "stream",
       "stream": "stdout",
       "text": [
        " -15395.9827647\n",
        "printing self.lowerbound -1258080.7609\n",
        "printing  lbound -15238.9451079\n",
        "printing self.lowerbound -1273476.74367\n",
        "printing  lbound"
       ]
      },
      {
       "output_type": "stream",
       "stream": "stdout",
       "text": [
        " -15404.9491898\n",
        "printing self.lowerbound -1288715.68878\n",
        "printing  lbound -15382.0542498\n",
        "printing self.lowerbound -1304120.63797\n",
        "printing  lbound"
       ]
      },
      {
       "output_type": "stream",
       "stream": "stdout",
       "text": [
        " -15829.08147\n",
        "printing self.lowerbound -1319502.69222\n",
        "printing  lbound -15695.972773\n",
        "printing self.lowerbound -1335331.77369\n",
        "printing  lbound"
       ]
      },
      {
       "output_type": "stream",
       "stream": "stdout",
       "text": [
        " -14866.7002455\n",
        "printing self.lowerbound -1351027.74646\n",
        "printing  lbound -15256.6347953\n",
        "printing self.lowerbound -1365894.4467\n",
        "printing  lbound"
       ]
      },
      {
       "output_type": "stream",
       "stream": "stdout",
       "text": [
        " -15031.2498849\n",
        "printing self.lowerbound -1381151.0815\n",
        "printing  lbound -15249.7712502\n",
        "printing self.lowerbound -1396182.33138\n",
        "printing  lbound"
       ]
      },
      {
       "output_type": "stream",
       "stream": "stdout",
       "text": [
        " -14437.6118363\n",
        "printing self.lowerbound -1411432.10263\n",
        "printing  lbound -16265.8509462\n",
        "printing self.lowerbound -1425869.71447\n",
        "printing  lbound"
       ]
      },
      {
       "output_type": "stream",
       "stream": "stdout",
       "text": [
        " -16370.1512296\n",
        "printing self.lowerbound -1442135.56542\n",
        "printing  lbound -15986.9366444\n",
        "printing self.lowerbound -1458505.71665\n",
        "printing  lbound"
       ]
      },
      {
       "output_type": "stream",
       "stream": "stdout",
       "text": [
        " -15885.6105174\n",
        "printing self.lowerbound -1474492.65329\n",
        "printing  lbound -15664.2603413\n",
        "printing self.lowerbound -1490378.26381\n",
        "printing  lbound"
       ]
      },
      {
       "output_type": "stream",
       "stream": "stdout",
       "text": [
        " -15651.159262\n",
        "printing self.lowerbound -1506042.52415\n",
        "printing  lbound -15149.4113896\n",
        "printing self.lowerbound -1521693.68341\n",
        "printing  lbound"
       ]
      },
      {
       "output_type": "stream",
       "stream": "stdout",
       "text": [
        " -15235.0122169\n",
        "printing self.lowerbound -1536843.0948\n",
        "printing  lbound -14308.6874533\n",
        "printing self.lowerbound -1552078.10702\n",
        "printing  lbound"
       ]
      },
      {
       "output_type": "stream",
       "stream": "stdout",
       "text": [
        " -16549.2538233\n",
        "printing self.lowerbound -1566386.79447\n",
        "printing  lbound -15934.1925897\n",
        "printing self.lowerbound -1582936.04829\n",
        "printing  lbound"
       ]
      },
      {
       "output_type": "stream",
       "stream": "stdout",
       "text": [
        " -15610.9450123\n",
        "printing self.lowerbound -1598870.24088\n",
        "printing  lbound -15186.6110324\n",
        "printing self.lowerbound -1614481.1859\n",
        "printing  lbound"
       ]
      },
      {
       "output_type": "stream",
       "stream": "stdout",
       "text": [
        " -14898.237296\n",
        "printing self.lowerbound -1629667.79693\n",
        "printing  lbound -15239.9884888\n",
        "printing self.lowerbound -1644566.03423\n",
        "printing  lbound"
       ]
      },
      {
       "output_type": "stream",
       "stream": "stdout",
       "text": [
        " -14440.5620666\n",
        "printing self.lowerbound -1659806.02271\n",
        "printing  lbound -15186.514728\n",
        "printing self.lowerbound -1674246.58478\n",
        "printing  lbound"
       ]
      },
      {
       "output_type": "stream",
       "stream": "stdout",
       "text": [
        " -15122.8350183\n",
        "printing self.lowerbound -1689433.09951\n",
        "printing  lbound -14935.9024021\n",
        "printing self.lowerbound -1704555.93453\n",
        "printing  lbound"
       ]
      },
      {
       "output_type": "stream",
       "stream": "stdout",
       "text": [
        " -14713.0296784\n",
        "printing self.lowerbound -1719491.83693\n",
        "printing  lbound -14810.703848\n",
        "printing self.lowerbound -1734204.86661\n",
        "printing  lbound"
       ]
      },
      {
       "output_type": "stream",
       "stream": "stdout",
       "text": [
        " -14750.9276245\n",
        "printing self.lowerbound -1749015.57046\n",
        "printing  lbound -14896.0313883\n",
        "printing self.lowerbound -1763766.49808\n",
        "printing  lbound"
       ]
      },
      {
       "output_type": "stream",
       "stream": "stdout",
       "text": [
        " -14852.4388728\n",
        "printing self.lowerbound -1778662.52947\n",
        "printing  lbound -14679.5673569\n",
        "printing self.lowerbound -1793514.96834\n",
        "printing  lbound"
       ]
      },
      {
       "output_type": "stream",
       "stream": "stdout",
       "text": [
        " -14775.0203385\n",
        "printing self.lowerbound -1808194.5357\n",
        "printing  lbound -14756.3633326\n",
        "printing self.lowerbound -1822969.55604\n",
        "printing  lbound"
       ]
      },
      {
       "output_type": "stream",
       "stream": "stdout",
       "text": [
        " -15075.7337412\n",
        "printing self.lowerbound -1837725.91937\n",
        "printing  lbound -15034.9957119\n",
        "printing self.lowerbound -1852801.65311\n",
        "printing  lbound"
       ]
      },
      {
       "output_type": "stream",
       "stream": "stdout",
       "text": [
        " -15923.7986814\n",
        "printing self.lowerbound -1867836.64882\n",
        "printing  lbound -16234.5809441\n",
        "printing self.lowerbound -1883760.4475\n",
        "printing  lbound"
       ]
      },
      {
       "output_type": "stream",
       "stream": "stdout",
       "text": [
        " -16178.8436839\n",
        "printing self.lowerbound -1899995.02845\n",
        "printing  lbound -16064.2815476\n",
        "printing self.lowerbound -1916173.87213\n",
        "printing  lbound"
       ]
      },
      {
       "output_type": "stream",
       "stream": "stdout",
       "text": [
        " -16732.699941\n",
        "printing self.lowerbound -1932238.15368\n",
        "printing  lbound -15847.9078601\n",
        "printing self.lowerbound -1948970.85362\n",
        "printing  lbound"
       ]
      },
      {
       "output_type": "stream",
       "stream": "stdout",
       "text": [
        " -15263.1816662\n",
        "printing self.lowerbound -1964818.76148\n",
        "printing  lbound -16136.3489896\n",
        "printing self.lowerbound -1980081.94315\n",
        "printing  lbound"
       ]
      },
      {
       "output_type": "stream",
       "stream": "stdout",
       "text": [
        " -15912.1165178\n",
        "printing self.lowerbound -1996218.29214\n",
        "printing  lbound"
       ]
      },
      {
       "output_type": "stream",
       "stream": "stdout",
       "text": [
        " -15610.6324106\n",
        "printing self.lowerbound -2012130.40865\n",
        "printing  lbound"
       ]
      },
      {
       "output_type": "stream",
       "stream": "stdout",
       "text": [
        " -16153.2845037\n",
        "printing self.lowerbound -2027741.04106\n",
        "printing  lbound"
       ]
      },
      {
       "output_type": "stream",
       "stream": "stdout",
       "text": [
        " -15680.6603714\n",
        "printing self.lowerbound -2043894.32557\n",
        "printing  lbound"
       ]
      },
      {
       "output_type": "stream",
       "stream": "stdout",
       "text": [
        " -15528.7174157\n",
        "printing self.lowerbound -2059574.98594\n",
        "printing  lbound"
       ]
      },
      {
       "output_type": "stream",
       "stream": "stdout",
       "text": [
        " -15400.9280745\n",
        "printing self.lowerbound -2075103.70336\n",
        "printing  lbound"
       ]
      },
      {
       "output_type": "stream",
       "stream": "stdout",
       "text": [
        " -15470.0731438\n",
        "printing self.lowerbound -2090504.63143\n",
        "printing  lbound"
       ]
      },
      {
       "output_type": "stream",
       "stream": "stdout",
       "text": [
        " -14983.4105758\n",
        "printing self.lowerbound -2105974.70457\n",
        "printing  lbound -15444.5795604\n",
        "printing self.lowerbound -2120958.11515\n",
        "printing  lbound"
       ]
      },
      {
       "output_type": "stream",
       "stream": "stdout",
       "text": [
        " -16241.5995654\n",
        "printing self.lowerbound -2136402.69471\n",
        "printing  lbound"
       ]
      },
      {
       "output_type": "stream",
       "stream": "stdout",
       "text": [
        " -16057.0677016\n",
        "printing self.lowerbound -2152644.29428\n",
        "printing  lbound"
       ]
      },
      {
       "output_type": "stream",
       "stream": "stdout",
       "text": [
        " -16844.0359724\n",
        "printing self.lowerbound -2168701.36198\n",
        "printing  lbound"
       ]
      },
      {
       "output_type": "stream",
       "stream": "stdout",
       "text": [
        " -15907.7106776\n",
        "printing self.lowerbound -2185545.39795\n",
        "printing  lbound"
       ]
      },
      {
       "output_type": "stream",
       "stream": "stdout",
       "text": [
        " -16250.4296552\n",
        "printing self.lowerbound -2201453.10863\n",
        "printing  lbound"
       ]
      },
      {
       "output_type": "stream",
       "stream": "stdout",
       "text": [
        " -15613.2317693\n",
        "printing self.lowerbound -2217703.53828\n",
        "printing  lbound"
       ]
      },
      {
       "output_type": "stream",
       "stream": "stdout",
       "text": [
        " -15092.9519224\n",
        "printing self.lowerbound -2233316.77005\n",
        "printing  lbound"
       ]
      },
      {
       "output_type": "stream",
       "stream": "stdout",
       "text": [
        " -16261.4677755\n",
        "printing self.lowerbound -2248409.72197\n",
        "printing  lbound"
       ]
      },
      {
       "output_type": "stream",
       "stream": "stdout",
       "text": [
        " -16304.6767667\n",
        "printing self.lowerbound -2264671.18975\n",
        "printing  lbound"
       ]
      },
      {
       "output_type": "stream",
       "stream": "stdout",
       "text": [
        " -16499.2461502\n",
        "printing self.lowerbound -2280975.86652\n",
        "printing  lbound -14557.7503558\n",
        "printing self.lowerbound -2297475.11267\n",
        "printing  lbound"
       ]
      },
      {
       "output_type": "stream",
       "stream": "stdout",
       "text": [
        " -15167.1741266\n",
        "printing self.lowerbound -2312032.86302\n",
        "printing  lbound -15499.4541341\n",
        "printing self.lowerbound -2327200.03715\n",
        "printing  lbound"
       ]
      },
      {
       "output_type": "stream",
       "stream": "stdout",
       "text": [
        " -15575.6151664\n",
        "printing self.lowerbound -2342699.49128\n",
        "printing  lbound"
       ]
      },
      {
       "output_type": "stream",
       "stream": "stdout",
       "text": [
        " -14677.5775881\n",
        "printing self.lowerbound -2358275.10645\n",
        "printing  lbound"
       ]
      },
      {
       "output_type": "stream",
       "stream": "stdout",
       "text": [
        " -15126.9305044\n",
        "printing self.lowerbound -2372952.68404\n",
        "printing  lbound"
       ]
      },
      {
       "output_type": "stream",
       "stream": "stdout",
       "text": [
        " -15015.6549223\n",
        "printing self.lowerbound -2388079.61454\n",
        "printing  lbound"
       ]
      },
      {
       "output_type": "stream",
       "stream": "stdout",
       "text": [
        " -15422.0093215\n",
        "printing self.lowerbound -2403095.26946\n",
        "printing  lbound"
       ]
      },
      {
       "output_type": "stream",
       "stream": "stdout",
       "text": [
        " -16290.7632916\n",
        "printing self.lowerbound -2418517.27879\n",
        "printing  lbound"
       ]
      },
      {
       "output_type": "stream",
       "stream": "stdout",
       "text": [
        " -15952.8645374\n",
        "printing self.lowerbound -2434808.04208\n",
        "printing  lbound"
       ]
      },
      {
       "output_type": "stream",
       "stream": "stdout",
       "text": [
        " -14766.7138252\n",
        "printing self.lowerbound -2450760.90661\n",
        "printing  lbound"
       ]
      },
      {
       "output_type": "stream",
       "stream": "stdout",
       "text": [
        " -15163.0891274\n",
        "printing self.lowerbound -2465527.62044\n",
        "printing  lbound"
       ]
      },
      {
       "output_type": "stream",
       "stream": "stdout",
       "text": [
        " -15639.2815051\n",
        "printing self.lowerbound -2480690.70957\n",
        "printing  lbound"
       ]
      },
      {
       "output_type": "stream",
       "stream": "stdout",
       "text": [
        " -14782.4676167\n",
        "printing self.lowerbound -2496329.99107\n",
        "printing  lbound"
       ]
      },
      {
       "output_type": "stream",
       "stream": "stdout",
       "text": [
        " -14872.2349266\n",
        "printing self.lowerbound -2511112.45869\n",
        "printing  lbound"
       ]
      },
      {
       "output_type": "stream",
       "stream": "stdout",
       "text": [
        " -14583.5105015\n",
        "printing self.lowerbound -2525984.69362\n",
        "printing  lbound -15341.2425254\n",
        "printing self.lowerbound -2540568.20412\n",
        "printing  lbound"
       ]
      },
      {
       "output_type": "stream",
       "stream": "stdout",
       "text": [
        " -14978.4773011\n",
        "printing self.lowerbound -2555909.44664\n",
        "printing  lbound -16085.0436688\n",
        "printing self.lowerbound -2570887.92394\n",
        "printing  lbound"
       ]
      },
      {
       "output_type": "stream",
       "stream": "stdout",
       "text": [
        " -16240.2916396\n",
        "printing self.lowerbound -2586972.96761\n",
        "printing  lbound"
       ]
      },
      {
       "output_type": "stream",
       "stream": "stdout",
       "text": [
        " -15004.9706024\n",
        "printing self.lowerbound -2603213.25925\n",
        "printing  lbound"
       ]
      },
      {
       "output_type": "stream",
       "stream": "stdout",
       "text": [
        " -15081.2142466\n",
        "printing self.lowerbound -2618218.22985\n",
        "printing  lbound"
       ]
      },
      {
       "output_type": "stream",
       "stream": "stdout",
       "text": [
        " -16301.4418299\n",
        "printing self.lowerbound -2633299.4441\n",
        "printing  lbound"
       ]
      },
      {
       "output_type": "stream",
       "stream": "stdout",
       "text": [
        " -16412.5420975\n",
        "printing self.lowerbound -2649600.88593\n",
        "printing  lbound"
       ]
      },
      {
       "output_type": "stream",
       "stream": "stdout",
       "text": [
        " -15995.67461\n",
        "printing self.lowerbound -2666013.42803\n",
        "printing  lbound"
       ]
      },
      {
       "output_type": "stream",
       "stream": "stdout",
       "text": [
        " -15275.1703934\n",
        "printing self.lowerbound -2682009.10264\n",
        "printing  lbound"
       ]
      },
      {
       "output_type": "stream",
       "stream": "stdout",
       "text": [
        " -16348.6640091\n",
        "printing self.lowerbound -2697284.27303\n",
        "printing  lbound"
       ]
      },
      {
       "output_type": "stream",
       "stream": "stdout",
       "text": [
        " -16398.4928463\n",
        "printing self.lowerbound -2713632.93704\n",
        "printing  lbound"
       ]
      },
      {
       "output_type": "stream",
       "stream": "stdout",
       "text": [
        " -14446.4218105\n",
        "printing self.lowerbound -2730031.42989\n",
        "printing  lbound"
       ]
      },
      {
       "output_type": "stream",
       "stream": "stdout",
       "text": [
        " -14171.1391285\n",
        "printing self.lowerbound -2744477.8517\n",
        "printing  lbound"
       ]
      },
      {
       "output_type": "stream",
       "stream": "stdout",
       "text": [
        " -15058.9652631\n",
        "printing self.lowerbound -2758648.99083\n",
        "printing  lbound"
       ]
      },
      {
       "output_type": "stream",
       "stream": "stdout",
       "text": [
        " -14788.1502942\n",
        "printing self.lowerbound -2773707.95609\n",
        "printing  lbound"
       ]
      },
      {
       "output_type": "stream",
       "stream": "stdout",
       "text": [
        " -14115.5618203\n",
        "printing self.lowerbound -2788496.10638\n",
        "printing  lbound"
       ]
      },
      {
       "output_type": "stream",
       "stream": "stdout",
       "text": [
        " -14769.8535877\n",
        "printing self.lowerbound -2802611.6682\n",
        "printing  lbound"
       ]
      },
      {
       "output_type": "stream",
       "stream": "stdout",
       "text": [
        " -14443.9510166\n",
        "printing self.lowerbound -2817381.52179\n",
        "printing  lbound"
       ]
      },
      {
       "output_type": "stream",
       "stream": "stdout",
       "text": [
        " -14578.2814881\n",
        "printing self.lowerbound -2831825.47281\n",
        "printing  lbound"
       ]
      },
      {
       "output_type": "stream",
       "stream": "stdout",
       "text": [
        " -16221.4131249\n",
        "printing self.lowerbound -2846403.7543\n",
        "printing  lbound"
       ]
      },
      {
       "output_type": "stream",
       "stream": "stdout",
       "text": [
        " -16036.5537964\n",
        "printing self.lowerbound -2862625.16742\n",
        "printing  lbound -15452.7291292\n",
        "printing self.lowerbound -2878661.72122\n",
        "printing  lbound"
       ]
      },
      {
       "output_type": "stream",
       "stream": "stdout",
       "text": [
        " -15095.3270661\n",
        "printing self.lowerbound -2894114.45035\n",
        "printing  lbound"
       ]
      },
      {
       "output_type": "stream",
       "stream": "stdout",
       "text": [
        " -15140.7576945\n",
        "printing self.lowerbound -2909209.77741\n",
        "printing  lbound"
       ]
      },
      {
       "output_type": "stream",
       "stream": "stdout",
       "text": [
        " -15086.3852374\n",
        "printing self.lowerbound -2924350.53511\n",
        "printing  lbound"
       ]
      },
      {
       "output_type": "stream",
       "stream": "stdout",
       "text": [
        " -15269.345906\n",
        "printing self.lowerbound -2939436.92034\n",
        "printing  lbound"
       ]
      },
      {
       "output_type": "stream",
       "stream": "stdout",
       "text": [
        " -16038.2740986\n",
        "printing self.lowerbound -2954706.26625\n",
        "printing  lbound"
       ]
      },
      {
       "output_type": "stream",
       "stream": "stdout",
       "text": [
        " -16354.4210626\n",
        "printing self.lowerbound -2970744.54035\n",
        "printing  lbound"
       ]
      },
      {
       "output_type": "stream",
       "stream": "stdout",
       "text": [
        " -15684.4853803\n",
        "printing self.lowerbound -2987098.96141\n",
        "printing  lbound"
       ]
      },
      {
       "output_type": "stream",
       "stream": "stdout",
       "text": [
        " -15087.3798568\n",
        "printing self.lowerbound -3002783.44679\n",
        "printing  lbound"
       ]
      },
      {
       "output_type": "stream",
       "stream": "stdout",
       "text": [
        " -14710.9811331\n",
        "printing self.lowerbound -3017870.82665\n",
        "printing  lbound -15868.2048866\n",
        "printing self.lowerbound -3032581.80778\n",
        "printing  lbound"
       ]
      },
      {
       "output_type": "stream",
       "stream": "stdout",
       "text": [
        " -15531.1794184\n",
        "printing self.lowerbound -3048450.01267\n",
        "printing  lbound -17584.8959862\n",
        "printing self.lowerbound -3063981.19209\n",
        "printing  lbound"
       ]
      },
      {
       "output_type": "stream",
       "stream": "stdout",
       "text": [
        " -16641.2492234\n",
        "printing self.lowerbound -3081566.08807\n",
        "printing  lbound -15805.2160493\n",
        "printing self.lowerbound -3098207.3373\n",
        "printing  lbound"
       ]
      },
      {
       "output_type": "stream",
       "stream": "stdout",
       "text": [
        " -15415.4947661\n",
        "printing self.lowerbound -3114012.55335\n",
        "printing  lbound -15255.1300365\n",
        "printing self.lowerbound -3129428.04811\n",
        "printing  lbound"
       ]
      },
      {
       "output_type": "stream",
       "stream": "stdout",
       "text": [
        " -14872.303777\n",
        "printing self.lowerbound -3144683.17815\n",
        "printing  lbound -15325.0872253\n",
        "printing self.lowerbound -3159555.48192\n",
        "printing  lbound"
       ]
      },
      {
       "output_type": "stream",
       "stream": "stdout",
       "text": [
        " -15042.8789998\n",
        "printing self.lowerbound -3174880.56915\n",
        "printing  lbound -14524.8886228\n",
        "printing self.lowerbound -3189923.44815\n",
        "printing  lbound"
       ]
      },
      {
       "output_type": "stream",
       "stream": "stdout",
       "text": [
        " -14990.5228556\n",
        "printing self.lowerbound -3204448.33677\n",
        "printing  lbound -15859.6557592\n",
        "printing self.lowerbound -3219438.85963\n",
        "printing  lbound"
       ]
      },
      {
       "output_type": "stream",
       "stream": "stdout",
       "text": [
        " -14790.39066\n",
        "printing self.lowerbound -3235298.51539\n",
        "printing  lbound -15435.1067284\n",
        "printing self.lowerbound -3250088.90605\n",
        "printing  lbound"
       ]
      },
      {
       "output_type": "stream",
       "stream": "stdout",
       "text": [
        " -15505.2630051\n",
        "printing self.lowerbound -3265524.01278\n",
        "printing  lbound -16220.2836785\n",
        "printing self.lowerbound -3281029.27578\n",
        "printing  lbound"
       ]
      },
      {
       "output_type": "stream",
       "stream": "stdout",
       "text": [
        " -15726.5625083\n",
        "printing self.lowerbound -3297249.55946\n",
        "printing  lbound -15080.3584592\n",
        "printing self.lowerbound -3312976.12197\n",
        "printing  lbound"
       ]
      },
      {
       "output_type": "stream",
       "stream": "stdout",
       "text": [
        " -14928.4063179\n",
        "printing self.lowerbound -3328056.48043\n",
        "printing  lbound"
       ]
      },
      {
       "output_type": "stream",
       "stream": "stdout",
       "text": [
        " -14841.1786989\n",
        "printing self.lowerbound -3342984.88675\n",
        "printing  lbound"
       ]
      },
      {
       "output_type": "stream",
       "stream": "stdout",
       "text": [
        " -15213.4481548\n",
        "printing self.lowerbound -3357826.06544\n",
        "printing  lbound"
       ]
      },
      {
       "output_type": "stream",
       "stream": "stdout",
       "text": [
        " -15288.2722539\n",
        "printing self.lowerbound -3373039.5136\n",
        "printing  lbound"
       ]
      },
      {
       "output_type": "stream",
       "stream": "stdout",
       "text": [
        " -16697.9830565\n",
        "printing self.lowerbound -3388327.78585\n",
        "printing  lbound -17329.241456\n",
        "printing self.lowerbound -3405025.76891\n",
        "printing  lbound"
       ]
      },
      {
       "output_type": "stream",
       "stream": "stdout",
       "text": [
        " -15648.6960651\n",
        "printing self.lowerbound -3422355.01037\n",
        "printing  lbound -15197.0717765\n",
        "printing self.lowerbound -3438003.70643\n",
        "printing  lbound"
       ]
      },
      {
       "output_type": "stream",
       "stream": "stdout",
       "text": [
        " -15075.6967782\n",
        "printing self.lowerbound -3453200.77821\n",
        "printing  lbound -15945.9016645\n",
        "printing self.lowerbound -3468276.47499\n",
        "printing  lbound"
       ]
      },
      {
       "output_type": "stream",
       "stream": "stdout",
       "text": [
        " -16061.8351949\n",
        "printing self.lowerbound -3484222.37665\n",
        "printing  lbound"
       ]
      },
      {
       "output_type": "stream",
       "stream": "stdout",
       "text": [
        " -15893.3712094\n",
        "printing self.lowerbound -3500284.21184\n",
        "printing  lbound -15422.7976987\n",
        "printing self.lowerbound -3516177.58305\n",
        "printing  lbound"
       ]
      },
      {
       "output_type": "stream",
       "stream": "stdout",
       "text": [
        " -16112.252885\n",
        "printing self.lowerbound -3531600.38075\n",
        "printing  lbound -15918.2255903\n",
        "printing self.lowerbound -3547712.63364\n",
        "printing  lbound"
       ]
      },
      {
       "output_type": "stream",
       "stream": "stdout",
       "text": [
        " -15838.5543895\n",
        "printing self.lowerbound -3563630.85923\n",
        "printing  lbound -15007.227956\n",
        "printing self.lowerbound -3579469.41362\n",
        "printing  lbound"
       ]
      },
      {
       "output_type": "stream",
       "stream": "stdout",
       "text": [
        " -15663.4761238\n",
        "printing self.lowerbound -3594476.64157\n",
        "printing  lbound -15535.4733614\n",
        "printing self.lowerbound -3610140.1177\n",
        "printing  lbound"
       ]
      },
      {
       "output_type": "stream",
       "stream": "stdout",
       "text": [
        " -15230.2696138\n",
        "printing self.lowerbound -3625675.59106\n",
        "printing  lbound -15357.9032154\n",
        "printing self.lowerbound -3640905.86067\n",
        "printing  lbound"
       ]
      },
      {
       "output_type": "stream",
       "stream": "stdout",
       "text": [
        " -16073.3015905\n",
        "printing self.lowerbound -3656263.76389\n",
        "printing  lbound -16140.9432372\n",
        "printing self.lowerbound -3672337.06548\n",
        "printing  lbound"
       ]
      },
      {
       "output_type": "stream",
       "stream": "stdout",
       "text": [
        " -15209.4150412\n",
        "printing self.lowerbound -3688478.00872\n",
        "printing  lbound -14625.4129111\n",
        "printing self.lowerbound -3703687.42376\n",
        "printing  lbound"
       ]
      },
      {
       "output_type": "stream",
       "stream": "stdout",
       "text": [
        " -13928.1730345\n",
        "printing self.lowerbound -3718312.83667\n",
        "printing  lbound -15325.6347635\n",
        "printing self.lowerbound -3732241.0097\n",
        "printing  lbound"
       ]
      },
      {
       "output_type": "stream",
       "stream": "stdout",
       "text": [
        " -14709.2030802\n",
        "printing self.lowerbound -3747566.64447\n",
        "printing  lbound"
       ]
      },
      {
       "output_type": "stream",
       "stream": "stdout",
       "text": [
        " -16307.0645753\n",
        "printing self.lowerbound -3762275.84755\n",
        "printing  lbound"
       ]
      },
      {
       "output_type": "stream",
       "stream": "stdout",
       "text": [
        " -16306.9398814\n",
        "printing self.lowerbound -3778582.91212\n",
        "printing  lbound"
       ]
      },
      {
       "output_type": "stream",
       "stream": "stdout",
       "text": [
        " -15539.4957175\n",
        "printing self.lowerbound -3794889.852\n",
        "printing  lbound"
       ]
      },
      {
       "output_type": "stream",
       "stream": "stdout",
       "text": [
        " -14708.6170478\n",
        "printing self.lowerbound -3810429.34772\n",
        "printing  lbound"
       ]
      },
      {
       "output_type": "stream",
       "stream": "stdout",
       "text": [
        " -14649.9972259\n",
        "printing self.lowerbound -3825137.96477\n",
        "printing  lbound"
       ]
      },
      {
       "output_type": "stream",
       "stream": "stdout",
       "text": [
        " -13741.5166002\n",
        "printing self.lowerbound -3839787.96199\n",
        "printing  lbound"
       ]
      },
      {
       "output_type": "stream",
       "stream": "stdout",
       "text": [
        " -14883.1887629\n",
        "printing self.lowerbound -3853529.47859\n",
        "printing  lbound"
       ]
      },
      {
       "output_type": "stream",
       "stream": "stdout",
       "text": [
        " -15567.2059376\n",
        "printing self.lowerbound -3868412.66736\n",
        "printing  lbound -15388.5418198\n",
        "printing self.lowerbound -3883979.87329\n",
        "printing  lbound"
       ]
      },
      {
       "output_type": "stream",
       "stream": "stdout",
       "text": [
        " -15462.3122945\n",
        "printing self.lowerbound -3899368.41511\n",
        "printing  lbound -14733.7025207\n",
        "printing self.lowerbound -3914830.72741\n",
        "printing  lbound"
       ]
      },
      {
       "output_type": "stream",
       "stream": "stdout",
       "text": [
        " -14630.7659568\n",
        "printing self.lowerbound -3929564.42993\n",
        "printing  lbound -15440.164016\n",
        "printing self.lowerbound -3944195.19589\n",
        "printing  lbound"
       ]
      },
      {
       "output_type": "stream",
       "stream": "stdout",
       "text": [
        " -14650.8846592\n",
        "printing self.lowerbound -3959635.3599\n",
        "printing  lbound -14044.9065662\n",
        "printing self.lowerbound -3974286.24456\n",
        "printing  lbound"
       ]
      },
      {
       "output_type": "stream",
       "stream": "stdout",
       "text": [
        " -15514.6678101\n",
        "printing self.lowerbound -3988331.15113\n",
        "printing  lbound -14619.2324289\n",
        "printing self.lowerbound -4003845.81894\n",
        "printing  lbound"
       ]
      },
      {
       "output_type": "stream",
       "stream": "stdout",
       "text": [
        " -14654.2464027\n",
        "printing self.lowerbound -4018465.05137\n",
        "printing  lbound -14561.4812495\n",
        "printing self.lowerbound -4033119.29777\n",
        "printing  lbound"
       ]
      },
      {
       "output_type": "stream",
       "stream": "stdout",
       "text": [
        " -14785.9875696\n",
        "printing self.lowerbound -4047680.77902\n",
        "printing  lbound -15093.2279056\n",
        "printing self.lowerbound -4062466.76659\n",
        "printing  lbound"
       ]
      },
      {
       "output_type": "stream",
       "stream": "stdout",
       "text": [
        " -14790.2667929\n",
        "printing self.lowerbound -4077559.99449\n",
        "printing  lbound -15391.1240231\n",
        "printing self.lowerbound -4092350.26129\n",
        "printing  lbound"
       ]
      },
      {
       "output_type": "stream",
       "stream": "stdout",
       "text": [
        " -15253.0534938\n",
        "printing self.lowerbound -4107741.38531\n",
        "printing  lbound -14395.1234767\n",
        "printing self.lowerbound -4122994.4388\n",
        "printing  lbound"
       ]
      },
      {
       "output_type": "stream",
       "stream": "stdout",
       "text": [
        " -14657.3686857\n",
        "printing self.lowerbound -4137389.56228\n",
        "printing  lbound -15770.3094323\n",
        "printing self.lowerbound -4152046.93097\n",
        "printing  lbound"
       ]
      },
      {
       "output_type": "stream",
       "stream": "stdout",
       "text": [
        " -16917.9442951\n",
        "printing self.lowerbound -4167817.2404\n",
        "printing  lbound -16146.068407\n",
        "printing self.lowerbound -4184735.18469\n",
        "printing  lbound"
       ]
      },
      {
       "output_type": "stream",
       "stream": "stdout",
       "text": [
        " -15748.7388188\n",
        "printing self.lowerbound -4200881.2531\n",
        "printing  lbound -16356.4410372\n",
        "printing self.lowerbound -4216629.99192\n",
        "printing  lbound"
       ]
      },
      {
       "output_type": "stream",
       "stream": "stdout",
       "text": [
        " -14829.8732129\n",
        "printing self.lowerbound -4232986.43296\n",
        "printing  lbound -14902.2104605\n",
        "printing self.lowerbound -4247816.30617\n",
        "printing  lbound"
       ]
      },
      {
       "output_type": "stream",
       "stream": "stdout",
       "text": [
        " -15650.3050941\n",
        "printing self.lowerbound -4262718.51663\n",
        "printing  lbound -15652.3605665\n",
        "printing self.lowerbound -4278368.82172\n",
        "printing  lbound"
       ]
      },
      {
       "output_type": "stream",
       "stream": "stdout",
       "text": [
        " -15058.37544\n",
        "printing self.lowerbound -4294021.18229\n",
        "printing  lbound -14156.1453105\n",
        "printing self.lowerbound -4309079.55773\n",
        "printing  lbound"
       ]
      },
      {
       "output_type": "stream",
       "stream": "stdout",
       "text": [
        " -15372.0198516\n",
        "printing self.lowerbound -4323235.70304\n",
        "printing  lbound -15849.0115919\n",
        "printing self.lowerbound -4338607.72289\n",
        "printing  lbound"
       ]
      },
      {
       "output_type": "stream",
       "stream": "stdout",
       "text": [
        " -15269.185594\n",
        "printing self.lowerbound -4354456.73449\n",
        "printing  lbound -15517.2389388\n",
        "printing self.lowerbound -4369725.92008\n",
        "printing  lbound"
       ]
      },
      {
       "output_type": "stream",
       "stream": "stdout",
       "text": [
        " -15107.6778616\n",
        "printing self.lowerbound -4385243.15902\n",
        "printing  lbound -15251.9673196\n",
        "printing self.lowerbound -4400350.83688\n",
        "printing  lbound"
       ]
      },
      {
       "output_type": "stream",
       "stream": "stdout",
       "text": [
        " -15174.2647842\n",
        "printing self.lowerbound -4415602.8042\n",
        "printing  lbound -15614.1189302\n",
        "printing self.lowerbound -4430777.06898\n",
        "printing  lbound"
       ]
      },
      {
       "output_type": "stream",
       "stream": "stdout",
       "text": [
        " -16372.915492\n",
        "printing self.lowerbound -4446391.18791\n",
        "printing  lbound -15816.2749772\n",
        "printing self.lowerbound -4462764.10341\n",
        "printing  lbound"
       ]
      },
      {
       "output_type": "stream",
       "stream": "stdout",
       "text": [
        " -15776.0261244\n",
        "printing self.lowerbound -4478580.37838\n",
        "printing  lbound -15312.04838\n",
        "printing self.lowerbound -4494356.40451\n",
        "printing  lbound"
       ]
      },
      {
       "output_type": "stream",
       "stream": "stdout",
       "text": [
        " -15362.9758467\n",
        "printing self.lowerbound -4509668.45289\n",
        "printing  lbound"
       ]
      },
      {
       "output_type": "stream",
       "stream": "stdout",
       "text": [
        " -14865.6598724\n",
        "printing self.lowerbound -4525031.42873\n",
        "printing  lbound -14286.5037951\n",
        "printing self.lowerbound -4539897.08861\n",
        "printing  lbound"
       ]
      },
      {
       "output_type": "stream",
       "stream": "stdout",
       "text": [
        " -15204.1659632\n",
        "printing self.lowerbound -4554183.5924\n",
        "printing  lbound -14754.7907015\n",
        "printing self.lowerbound -4569387.75836\n",
        "printing  lbound"
       ]
      },
      {
       "output_type": "stream",
       "stream": "stdout",
       "text": [
        " -14007.1033543\n",
        "printing self.lowerbound -4584142.54907\n",
        "printing  lbound -14944.8849495\n",
        "printing self.lowerbound -4598149.65242\n",
        "printing  lbound"
       ]
      },
      {
       "output_type": "stream",
       "stream": "stdout",
       "text": [
        " -16091.3528119\n",
        "printing self.lowerbound -4613094.53737\n",
        "printing  lbound -15540.7614067\n",
        "printing self.lowerbound -4629185.89018\n",
        "printing  lbound"
       ]
      },
      {
       "output_type": "stream",
       "stream": "stdout",
       "text": [
        " -15026.131524\n",
        "printing self.lowerbound -4644726.65159\n",
        "printing  lbound -15140.402337\n",
        "printing self.lowerbound -4659752.78311\n",
        "printing  lbound"
       ]
      },
      {
       "output_type": "stream",
       "stream": "stdout",
       "text": [
        " -15950.5870188\n",
        "printing self.lowerbound -4674893.18545\n",
        "printing  lbound -15201.748338\n",
        "printing self.lowerbound -4690843.77247\n",
        "printing  lbound"
       ]
      },
      {
       "output_type": "stream",
       "stream": "stdout",
       "text": [
        " -14669.1517108\n",
        "printing self.lowerbound -4706045.52081\n",
        "printing  lbound -14772.688254\n",
        "printing self.lowerbound -4720714.67252\n",
        "printing  lbound"
       ]
      },
      {
       "output_type": "stream",
       "stream": "stdout",
       "text": [
        " -15010.1453651\n",
        "printing self.lowerbound -4735487.36077\n",
        "printing  lbound -14170.9803744\n",
        "printing self.lowerbound -4750497.50614\n",
        "printing  lbound"
       ]
      },
      {
       "output_type": "stream",
       "stream": "stdout",
       "text": [
        " -15288.384898\n",
        "printing self.lowerbound -4764668.48651\n",
        "printing  lbound -15092.1598216\n",
        "printing self.lowerbound -4779956.87141\n",
        "printing  lbound"
       ]
      },
      {
       "output_type": "stream",
       "stream": "stdout",
       "text": [
        " -15529.5955266\n",
        "printing self.lowerbound -4795049.03123\n",
        "printing  lbound -14564.697202\n",
        "printing self.lowerbound -4810578.62676\n",
        "printing  lbound"
       ]
      },
      {
       "output_type": "stream",
       "stream": "stdout",
       "text": [
        " -15524.497611\n",
        "printing self.lowerbound -4825143.32396\n",
        "printing  lbound -14993.5840951\n",
        "printing self.lowerbound -4840667.82157\n",
        "printing  lbound"
       ]
      },
      {
       "output_type": "stream",
       "stream": "stdout",
       "text": [
        " -16012.2831767\n",
        "printing self.lowerbound -4855661.40566\n",
        "printing  lbound"
       ]
      },
      {
       "output_type": "stream",
       "stream": "stdout",
       "text": [
        " -15718.1697249\n",
        "printing self.lowerbound -4871673.68884\n",
        "printing  lbound -15134.7574244\n",
        "printing self.lowerbound -4887391.85857\n",
        "printing  lbound"
       ]
      },
      {
       "output_type": "stream",
       "stream": "stdout",
       "text": [
        " -15019.0489549\n",
        "printing self.lowerbound -4902526.61599\n",
        "printing  lbound -15130.0484913\n",
        "printing self.lowerbound -4917545.66495\n",
        "printing  lbound"
       ]
      },
      {
       "output_type": "stream",
       "stream": "stdout",
       "text": [
        " -15419.3253237\n",
        "printing self.lowerbound -4932675.71344\n",
        "printing  lbound -15710.8240081\n",
        "printing self.lowerbound -4948095.03876\n",
        "printing  lbound"
       ]
      },
      {
       "output_type": "stream",
       "stream": "stdout",
       "text": [
        " -15310.8788578\n",
        "printing self.lowerbound -4963805.86277\n",
        "printing  lbound -15555.4256105\n",
        "printing self.lowerbound -4979116.74163\n",
        "printing  lbound"
       ]
      },
      {
       "output_type": "stream",
       "stream": "stdout",
       "text": [
        " -15767.0542614\n",
        "printing self.lowerbound -4994672.16724\n",
        "printing  lbound -15923.9502403\n",
        "printing self.lowerbound -5010439.2215\n",
        "printing  lbound"
       ]
      },
      {
       "output_type": "stream",
       "stream": "stdout",
       "text": [
        " -15075.8238136\n",
        "printing self.lowerbound -5026363.17174\n",
        "printing  lbound -14301.2187917\n",
        "printing self.lowerbound -5041438.99555\n",
        "printing  lbound"
       ]
      },
      {
       "output_type": "stream",
       "stream": "stdout",
       "text": [
        " -15515.8641433\n",
        "printing self.lowerbound -5055740.21434\n",
        "printing  lbound -16030.5595737\n",
        "printing self.lowerbound -5071256.07849\n",
        "printing  lbound"
       ]
      },
      {
       "output_type": "stream",
       "stream": "stdout",
       "text": [
        " -14665.2595111\n",
        "printing self.lowerbound -5087286.63806\n",
        "printing  lbound -15832.5790605\n",
        "printing self.lowerbound -5101951.89757\n",
        "printing  lbound"
       ]
      },
      {
       "output_type": "stream",
       "stream": "stdout",
       "text": [
        " -15609.8766353\n",
        "printing self.lowerbound -5117784.47663\n",
        "printing  lbound -15349.5772377\n",
        "printing self.lowerbound -5133394.35327\n",
        "printing  lbound"
       ]
      },
      {
       "output_type": "stream",
       "stream": "stdout",
       "text": [
        " -15155.5861089\n",
        "printing self.lowerbound -5148743.93051\n",
        "printing  lbound -14770.5238434\n",
        "printing self.lowerbound -5163899.51661\n",
        "printing  lbound"
       ]
      },
      {
       "output_type": "stream",
       "stream": "stdout",
       "text": [
        " -14039.8116931\n",
        "printing self.lowerbound -5178670.04046\n",
        "printing  lbound -14119.8426798\n",
        "printing self.lowerbound -5192709.85215\n",
        "printing  lbound"
       ]
      },
      {
       "output_type": "stream",
       "stream": "stdout",
       "text": [
        " -14280.5660711\n",
        "printing self.lowerbound -5206829.69483\n",
        "printing  lbound"
       ]
      },
      {
       "output_type": "stream",
       "stream": "stdout",
       "text": [
        " -14729.8983258\n",
        "printing self.lowerbound -5221110.2609\n",
        "printing  lbound -15555.1870473\n",
        "printing self.lowerbound -5235840.15923\n",
        "printing  lbound"
       ]
      },
      {
       "output_type": "stream",
       "stream": "stdout",
       "text": [
        " -15083.8702573\n",
        "printing self.lowerbound -5251395.34627\n",
        "printing  lbound -15290.1725545\n",
        "printing self.lowerbound -5266479.21653\n",
        "printing  lbound"
       ]
      },
      {
       "output_type": "stream",
       "stream": "stdout",
       "text": [
        " -15722.243344\n",
        "printing self.lowerbound -5281769.38909\n",
        "printing  lbound -15562.2886758\n",
        "printing self.lowerbound -5297491.63243\n",
        "printing  lbound"
       ]
      },
      {
       "output_type": "stream",
       "stream": "stdout",
       "text": [
        " -15330.4089885\n",
        "printing self.lowerbound -5313053.92111\n",
        "printing  lbound -15551.3116804\n",
        "printing self.lowerbound -5328384.3301\n",
        "printing  lbound"
       ]
      },
      {
       "output_type": "stream",
       "stream": "stdout",
       "text": [
        " -15819.7813043\n",
        "printing self.lowerbound -5343935.64178\n",
        "printing  lbound -14381.2896632\n",
        "printing self.lowerbound -5359755.42308\n",
        "printing  lbound"
       ]
      },
      {
       "output_type": "stream",
       "stream": "stdout",
       "text": [
        " -15183.589789\n",
        "printing self.lowerbound -5374136.71274\n",
        "printing  lbound -15326.9802647\n",
        "printing self.lowerbound -5389320.30253\n",
        "printing  lbound"
       ]
      },
      {
       "output_type": "stream",
       "stream": "stdout",
       "text": [
        " -15028.2556439\n",
        "printing self.lowerbound -5404647.2828\n",
        "printing  lbound -14979.897555\n",
        "printing self.lowerbound -5419675.53844\n",
        "printing  lbound"
       ]
      },
      {
       "output_type": "stream",
       "stream": "stdout",
       "text": [
        " -16300.1074371\n",
        "printing self.lowerbound -5434655.436\n",
        "printing  lbound -15153.3734831\n",
        "printing self.lowerbound -5450955.54343\n",
        "printing  lbound"
       ]
      },
      {
       "output_type": "stream",
       "stream": "stdout",
       "text": [
        " -15447.3253539\n",
        "printing self.lowerbound -5466108.91692\n",
        "printing  lbound -15039.2879569\n",
        "printing self.lowerbound -5481556.24227\n",
        "printing  lbound"
       ]
      },
      {
       "output_type": "stream",
       "stream": "stdout",
       "text": [
        " -15215.7872615\n",
        "printing self.lowerbound -5496595.53023\n",
        "printing  lbound -15616.9522911\n",
        "printing self.lowerbound -5511811.31749\n",
        "printing  lbound"
       ]
      },
      {
       "output_type": "stream",
       "stream": "stdout",
       "text": [
        " -15123.8708383\n",
        "printing self.lowerbound -5527428.26978\n",
        "printing  lbound -16193.9763959\n",
        "printing self.lowerbound -5542552.14062\n",
        "printing  lbound"
       ]
      },
      {
       "output_type": "stream",
       "stream": "stdout",
       "text": [
        " -15665.7339464\n",
        "printing self.lowerbound -5558746.11701\n",
        "printing  lbound"
       ]
      },
      {
       "output_type": "stream",
       "stream": "stdout",
       "text": [
        " -15767.8047184\n",
        "printing self.lowerbound -5574411.85096\n",
        "printing  lbound -15711.8834649\n",
        "printing self.lowerbound -5590179.65568\n",
        "printing  lbound"
       ]
      },
      {
       "output_type": "stream",
       "stream": "stdout",
       "text": [
        " -15741.7733078\n",
        "printing self.lowerbound -5605891.53914\n",
        "printing  lbound -15275.5086093\n",
        "printing self.lowerbound -5621633.31245\n",
        "printing  lbound"
       ]
      },
      {
       "output_type": "stream",
       "stream": "stdout",
       "text": [
        " -15806.5042721\n",
        "printing self.lowerbound -5636908.82106\n",
        "printing  lbound -15807.2030902\n",
        "printing self.lowerbound -5652715.32533\n",
        "printing  lbound"
       ]
      },
      {
       "output_type": "stream",
       "stream": "stdout",
       "text": [
        " -14708.8702201\n",
        "printing self.lowerbound -5668522.52842\n",
        "printing  lbound -15072.4339743\n",
        "printing self.lowerbound -5683231.39864\n",
        "printing  lbound"
       ]
      },
      {
       "output_type": "stream",
       "stream": "stdout",
       "text": [
        " -14899.9076813\n",
        "printing self.lowerbound -5698303.83262\n",
        "printing  lbound -15335.1776425\n",
        "printing self.lowerbound -5713203.7403\n",
        "printing  lbound"
       ]
      },
      {
       "output_type": "stream",
       "stream": "stdout",
       "text": [
        " -15916.2930128\n",
        "printing self.lowerbound -5728538.91794\n",
        "printing  lbound -15903.7311811\n",
        "printing self.lowerbound -5744455.21095\n",
        "printing  lbound"
       ]
      },
      {
       "output_type": "stream",
       "stream": "stdout",
       "text": [
        " -15757.2254814\n",
        "printing self.lowerbound -5760358.94213\n",
        "printing  lbound -15235.7625434\n",
        "printing self.lowerbound -5776116.16762\n",
        "printing  lbound"
       ]
      },
      {
       "output_type": "stream",
       "stream": "stdout",
       "text": [
        " -16557.3352376\n",
        "printing self.lowerbound -5791351.93016\n",
        "printing  lbound -15652.6678182\n",
        "printing self.lowerbound -5807909.2654\n",
        "printing  lbound"
       ]
      },
      {
       "output_type": "stream",
       "stream": "stdout",
       "text": [
        " -15027.506355\n",
        "printing self.lowerbound -5823561.93322\n",
        "printing  lbound -14582.6840463\n",
        "printing self.lowerbound -5838589.43957\n",
        "printing  lbound"
       ]
      },
      {
       "output_type": "stream",
       "stream": "stdout",
       "text": [
        " -15775.0088639\n",
        "printing self.lowerbound -5853172.12362\n",
        "printing  lbound -15501.286636\n",
        "printing self.lowerbound -5868947.13248\n",
        "printing  lbound"
       ]
      },
      {
       "output_type": "stream",
       "stream": "stdout",
       "text": [
        " -15134.9434011\n",
        "printing self.lowerbound -5884448.41912\n",
        "printing  lbound -14489.759694\n",
        "printing self.lowerbound -5899583.36252\n",
        "printing  lbound"
       ]
      },
      {
       "output_type": "stream",
       "stream": "stdout",
       "text": [
        " -14955.5463434\n",
        "printing self.lowerbound -5914073.12221\n",
        "printing  lbound -16331.6947425\n",
        "printing self.lowerbound -5929028.66855\n",
        "printing  lbound"
       ]
      },
      {
       "output_type": "stream",
       "stream": "stdout",
       "text": [
        " -15121.3447296\n",
        "printing self.lowerbound -5945360.3633\n",
        "printing  lbound -15106.1999698\n",
        "printing self.lowerbound -5960481.70803\n",
        "printing  lbound"
       ]
      },
      {
       "output_type": "stream",
       "stream": "stdout",
       "text": [
        " -15041.3801698\n",
        "printing self.lowerbound -5975587.908\n",
        "printing  lbound -14676.8862738\n",
        "printing self.lowerbound -5990629.28817\n",
        "printing  lbound"
       ]
      },
      {
       "output_type": "stream",
       "stream": "stdout",
       "text": [
        " -14964.2143021\n",
        "printing self.lowerbound -6005306.17444\n",
        "printing  lbound -15170.0231077\n",
        "printing self.lowerbound -6020270.38874\n",
        "printing  lbound"
       ]
      },
      {
       "output_type": "stream",
       "stream": "stdout",
       "text": [
        " -15214.5715066\n",
        "printing self.lowerbound -6035440.41185\n",
        "printing  lbound -15407.6545967\n",
        "printing self.lowerbound -6050654.98336\n",
        "printing  lbound"
       ]
      },
      {
       "output_type": "stream",
       "stream": "stdout",
       "text": [
        " -14332.5487553\n",
        "printing self.lowerbound -6066062.63795\n",
        "printing  lbound -14805.540529\n",
        "printing self.lowerbound -6080395.18671\n",
        "printing  lbound"
       ]
      },
      {
       "output_type": "stream",
       "stream": "stdout",
       "text": [
        " -15463.2680928\n",
        "printing self.lowerbound -6095200.72724\n",
        "printing  lbound -15734.9384478\n",
        "printing self.lowerbound -6110663.99533\n",
        "printing  lbound"
       ]
      },
      {
       "output_type": "stream",
       "stream": "stdout",
       "text": [
        " -15238.8942101\n",
        "printing self.lowerbound -6126398.93378\n",
        "printing  lbound -14575.8115392\n",
        "printing self.lowerbound -6141637.82799\n",
        "printing  lbound"
       ]
      },
      {
       "output_type": "stream",
       "stream": "stdout",
       "text": [
        " -15277.793073\n",
        "printing self.lowerbound -6156213.63953\n",
        "printing  lbound -15256.3291281\n",
        "printing self.lowerbound -6171491.4326\n",
        "printing  lbound"
       ]
      },
      {
       "output_type": "stream",
       "stream": "stdout",
       "text": [
        " -14957.647648\n",
        "printing self.lowerbound -6186747.76173\n",
        "printing  lbound -16174.3167553\n",
        "printing self.lowerbound -6201705.40938\n",
        "printing  lbound"
       ]
      },
      {
       "output_type": "stream",
       "stream": "stdout",
       "text": [
        " -15923.17284\n",
        "printing self.lowerbound -6217879.72613\n",
        "printing  lbound -15291.9296432\n",
        "printing self.lowerbound -6233802.89897\n",
        "printing  lbound"
       ]
      },
      {
       "output_type": "stream",
       "stream": "stdout",
       "text": [
        " -15143.2234517\n",
        "printing self.lowerbound -6249094.82862\n",
        "printing  lbound -14941.9827429\n",
        "printing self.lowerbound -6264238.05207\n",
        "printing  lbound"
       ]
      },
      {
       "output_type": "stream",
       "stream": "stdout",
       "text": [
        " -14615.427652\n",
        "printing self.lowerbound -6279180.03481\n",
        "printing  lbound"
       ]
      },
      {
       "output_type": "stream",
       "stream": "stdout",
       "text": [
        " -14973.3556016\n",
        "printing self.lowerbound -6293795.46246\n",
        "printing  lbound -15666.8144311\n",
        "printing self.lowerbound -6308768.81806\n",
        "printing  lbound"
       ]
      },
      {
       "output_type": "stream",
       "stream": "stdout",
       "text": [
        " -15515.5120931\n",
        "printing self.lowerbound -6324435.63249\n",
        "printing  lbound -16473.7596861\n",
        "printing self.lowerbound -6339951.14459\n",
        "printing  lbound"
       ]
      },
      {
       "output_type": "stream",
       "stream": "stdout",
       "text": [
        " -16198.212031\n",
        "printing self.lowerbound -6356424.90427\n",
        "printing  lbound -15115.0811337\n",
        "printing self.lowerbound -6372623.1163\n",
        "printing  lbound"
       ]
      },
      {
       "output_type": "stream",
       "stream": "stdout",
       "text": [
        " -14821.5275392\n",
        "printing self.lowerbound -6387738.19744\n",
        "printing  lbound -14648.1785893\n",
        "printing self.lowerbound -6402559.72498\n",
        "printing  lbound"
       ]
      },
      {
       "output_type": "stream",
       "stream": "stdout",
       "text": [
        " -14912.7660027\n",
        "printing self.lowerbound -6417207.90357\n",
        "printing  lbound -15159.3803982\n",
        "printing self.lowerbound -6432120.66957\n",
        "printing  lbound"
       ]
      },
      {
       "output_type": "stream",
       "stream": "stdout",
       "text": [
        " -14866.4316405\n",
        "printing self.lowerbound -6447280.04997\n",
        "printing  lbound -14410.8949056\n",
        "printing self.lowerbound -6462146.48161\n",
        "printing  lbound"
       ]
      },
      {
       "output_type": "stream",
       "stream": "stdout",
       "text": [
        " -15144.7934328\n",
        "printing self.lowerbound -6476557.37651\n",
        "printing  lbound -16410.4840476\n",
        "printing self.lowerbound -6491702.16995\n",
        "printing  lbound"
       ]
      },
      {
       "output_type": "stream",
       "stream": "stdout",
       "text": [
        " -15589.4265928\n",
        "printing self.lowerbound -6508112.65399\n",
        "printing  lbound -15352.5992608\n",
        "printing self.lowerbound -6523702.08059\n",
        "printing  lbound"
       ]
      },
      {
       "output_type": "stream",
       "stream": "stdout",
       "text": [
        " -16017.7948051\n",
        "printing self.lowerbound -6539054.67985\n",
        "printing  lbound -15494.3007282\n",
        "printing self.lowerbound -6555072.47465\n",
        "printing  lbound"
       ]
      },
      {
       "output_type": "stream",
       "stream": "stdout",
       "text": [
        " -15109.4866289\n",
        "printing self.lowerbound -6570566.77538\n",
        "printing  lbound -15089.0326046\n",
        "printing self.lowerbound -6585676.26201\n",
        "printing  lbound"
       ]
      },
      {
       "output_type": "stream",
       "stream": "stdout",
       "text": [
        " -13977.8978183\n",
        "printing self.lowerbound -6600765.29461\n",
        "printing  lbound -14399.4586642\n",
        "printing self.lowerbound -6614743.19243\n",
        "printing  lbound"
       ]
      },
      {
       "output_type": "stream",
       "stream": "stdout",
       "text": [
        " -14887.7202981\n",
        "printing self.lowerbound -6629142.6511\n",
        "printing  lbound"
       ]
      },
      {
       "output_type": "stream",
       "stream": "stdout",
       "text": [
        " -14863.5650795\n",
        "printing self.lowerbound -6644030.3714\n",
        "printing  lbound"
       ]
      },
      {
       "output_type": "stream",
       "stream": "stdout",
       "text": [
        " -14987.789045\n",
        "printing self.lowerbound -6658893.93647\n",
        "printing  lbound"
       ]
      },
      {
       "output_type": "stream",
       "stream": "stdout",
       "text": [
        " -15388.9453735\n",
        "printing self.lowerbound -6673881.72552\n",
        "printing  lbound"
       ]
      },
      {
       "output_type": "stream",
       "stream": "stdout",
       "text": [
        " -14772.2932976\n",
        "printing self.lowerbound -6689270.67089\n",
        "printing  lbound -14368.9362536\n",
        "printing self.lowerbound -6704042.96419\n",
        "printing  lbound"
       ]
      },
      {
       "output_type": "stream",
       "stream": "stdout",
       "text": [
        " -15318.3614808\n",
        "printing self.lowerbound -6718411.90044\n",
        "printing  lbound "
       ]
      },
      {
       "output_type": "stream",
       "stream": "stdout",
       "text": [
        "-14260.2794191\n",
        "printing self.lowerbound -6733730.26193\n",
        "printing  lbound"
       ]
      },
      {
       "output_type": "stream",
       "stream": "stdout",
       "text": [
        " -15766.330138\n",
        "printing self.lowerbound -6747990.54134\n",
        "printing  lbound"
       ]
      },
      {
       "output_type": "stream",
       "stream": "stdout",
       "text": [
        " -16013.0201342\n",
        "printing self.lowerbound -6763756.87148\n",
        "printing  lbound"
       ]
      },
      {
       "output_type": "stream",
       "stream": "stdout",
       "text": [
        " -15951.5989054\n",
        "printing self.lowerbound -6779769.89162\n",
        "printing  lbound"
       ]
      },
      {
       "output_type": "stream",
       "stream": "stdout",
       "text": [
        " -15520.5910678\n",
        "printing self.lowerbound -6795721.49052\n",
        "printing  lbound -15644.8619684\n",
        "printing self.lowerbound -6811242.08159\n",
        "printing  lbound"
       ]
      },
      {
       "output_type": "stream",
       "stream": "stdout",
       "text": [
        " -14789.4885507\n",
        "printing self.lowerbound -6826886.94356\n",
        "printing  lbound"
       ]
      },
      {
       "output_type": "stream",
       "stream": "stdout",
       "text": [
        " -14515.9190169\n",
        "printing self.lowerbound -6841676.43211\n",
        "printing  lbound"
       ]
      },
      {
       "output_type": "stream",
       "stream": "stdout",
       "text": [
        " -15587.5000796\n",
        "printing self.lowerbound -6856192.35113\n",
        "printing  lbound -15300.4612922\n",
        "printing self.lowerbound -6871779.85121\n",
        "printing  lbound"
       ]
      },
      {
       "output_type": "stream",
       "stream": "stdout",
       "text": [
        " -15211.6255041\n",
        "printing self.lowerbound -6887080.3125\n",
        "printing  lbound -15025.8380179\n",
        "printing self.lowerbound -6902291.938\n",
        "printing  lbound"
       ]
      },
      {
       "output_type": "stream",
       "stream": "stdout",
       "text": [
        " -15641.5112465\n",
        "printing self.lowerbound -6917317.77602\n",
        "printing  lbound -16058.9970241\n",
        "printing self.lowerbound -6932959.28727\n",
        "printing  lbound"
       ]
      },
      {
       "output_type": "stream",
       "stream": "stdout",
       "text": [
        " -15328.3291863\n",
        "printing self.lowerbound -6949018.28429\n",
        "printing  lbound -15553.4535775\n",
        "printing self.lowerbound -6964346.61348\n",
        "printing  lbound"
       ]
      },
      {
       "output_type": "stream",
       "stream": "stdout",
       "text": [
        " -14992.9778911\n",
        "printing self.lowerbound -6979900.06705\n",
        "printing  lbound -15384.8458982\n",
        "printing self.lowerbound -6994893.04494\n",
        "printing  lbound"
       ]
      },
      {
       "output_type": "stream",
       "stream": "stdout",
       "text": [
        " -15579.511484\n",
        "printing self.lowerbound -7010277.89084\n",
        "printing  lbound -15486.0404211\n",
        "printing self.lowerbound -7025857.40233\n",
        "printing  lbound"
       ]
      },
      {
       "output_type": "stream",
       "stream": "stdout",
       "text": [
        " -14935.8539112\n",
        "printing self.lowerbound -7041343.44275\n",
        "printing  lbound -15303.3823216\n",
        "printing self.lowerbound -7056279.29666\n",
        "printing  lbound"
       ]
      },
      {
       "output_type": "stream",
       "stream": "stdout",
       "text": [
        " -14857.1513268\n",
        "printing self.lowerbound -7071582.67898\n",
        "printing  lbound -15819.8382977\n",
        "printing self.lowerbound -7086439.83031\n",
        "printing  lbound"
       ]
      },
      {
       "output_type": "stream",
       "stream": "stdout",
       "text": [
        " -15726.1173399\n",
        "printing self.lowerbound -7102259.66861\n",
        "printing  lbound -15557.7776596\n",
        "printing self.lowerbound -7117985.78595\n",
        "printing  lbound"
       ]
      },
      {
       "output_type": "stream",
       "stream": "stdout",
       "text": [
        " -15315.5915715\n",
        "printing self.lowerbound -7133543.56361\n",
        "printing  lbound -15770.5152928\n",
        "printing self.lowerbound -7148859.15518\n",
        "printing  lbound"
       ]
      },
      {
       "output_type": "stream",
       "stream": "stdout",
       "text": [
        " -15418.052825\n",
        "printing self.lowerbound -7164629.67047\n",
        "printing  lbound -16157.9980335\n",
        "printing self.lowerbound -7180047.72329\n",
        "printing  lbound"
       ]
      },
      {
       "output_type": "stream",
       "stream": "stdout",
       "text": [
        " -15049.029935\n",
        "printing self.lowerbound -7196205.72133\n",
        "printing  lbound -14865.28506\n",
        "printing self.lowerbound -7211254.75126\n",
        "printing  lbound"
       ]
      },
      {
       "output_type": "stream",
       "stream": "stdout",
       "text": [
        " -15407.0821958\n",
        "printing self.lowerbound -7226120.03632\n",
        "printing  lbound -14957.4809768\n",
        "printing self.lowerbound -7241527.11852\n",
        "printing  lbound"
       ]
      },
      {
       "output_type": "stream",
       "stream": "stdout",
       "text": [
        " -14699.2192058\n",
        "printing self.lowerbound -7256484.5995\n",
        "printing  lbound"
       ]
      },
      {
       "output_type": "stream",
       "stream": "stdout",
       "text": [
        " -15804.3259738\n",
        "printing self.lowerbound -7271183.8187\n",
        "printing  lbound -15662.5347074\n",
        "printing self.lowerbound -7286988.14468\n",
        "printing  lbound"
       ]
      },
      {
       "output_type": "stream",
       "stream": "stdout",
       "text": [
        " -16732.6414322\n",
        "printing self.lowerbound -7302650.67938\n",
        "printing  lbound -15453.9294687\n",
        "printing self.lowerbound -7319383.32081\n",
        "printing  lbound"
       ]
      },
      {
       "output_type": "stream",
       "stream": "stdout",
       "text": [
        " -14954.5959159\n",
        "printing self.lowerbound -7334837.25028\n",
        "printing  lbound -14668.1602641\n",
        "printing self.lowerbound -7349791.8462\n",
        "printing  lbound"
       ]
      },
      {
       "output_type": "stream",
       "stream": "stdout",
       "text": [
        " -15149.9468561\n",
        "printing self.lowerbound -7364460.00646\n",
        "printing  lbound"
       ]
      },
      {
       "output_type": "stream",
       "stream": "stdout",
       "text": [
        " -14699.5135657\n",
        "printing self.lowerbound -7379609.95332\n",
        "printing  lbound"
       ]
      },
      {
       "output_type": "stream",
       "stream": "stdout",
       "text": [
        " -15685.3327615\n",
        "printing self.lowerbound -7394309.46689\n",
        "printing  lbound"
       ]
      },
      {
       "output_type": "stream",
       "stream": "stdout",
       "text": [
        " -15498.4355691\n",
        "printing self.lowerbound -7409994.79965\n",
        "printing  lbound -15623.2828157\n",
        "printing self.lowerbound -7425493.23522\n",
        "printing  lbound"
       ]
      },
      {
       "output_type": "stream",
       "stream": "stdout",
       "text": [
        " -15736.7419949\n",
        "printing self.lowerbound -7441116.51803\n",
        "printing  lbound -15499.2664216\n",
        "printing self.lowerbound -7456853.26003\n",
        "printing  lbound"
       ]
      },
      {
       "output_type": "stream",
       "stream": "stdout",
       "text": [
        " -15533.5791453\n",
        "printing self.lowerbound -7472352.52645\n",
        "printing  lbound -14832.5229183\n",
        "printing self.lowerbound -7487886.10559\n",
        "printing  lbound"
       ]
      },
      {
       "output_type": "stream",
       "stream": "stdout",
       "text": [
        " -14998.392408\n",
        "printing self.lowerbound -7502718.62851\n",
        "printing  lbound -15182.4190668\n",
        "printing self.lowerbound -7517717.02092\n",
        "printing  lbound"
       ]
      },
      {
       "output_type": "stream",
       "stream": "stdout",
       "text": [
        " -16674.3141168\n",
        "printing self.lowerbound -7532899.43999\n",
        "printing  lbound -15745.6618653\n",
        "printing self.lowerbound -7549573.7541\n",
        "printing  lbound"
       ]
      },
      {
       "output_type": "stream",
       "stream": "stdout",
       "text": [
        " -14728.7656309\n",
        "printing self.lowerbound -7565319.41597\n",
        "printing  lbound"
       ]
      },
      {
       "output_type": "stream",
       "stream": "stdout",
       "text": [
        " -15989.7532167\n",
        "printing self.lowerbound -7580048.1816\n",
        "printing  lbound -16381.3636176\n",
        "printing self.lowerbound -7596037.93482\n",
        "printing  lbound"
       ]
      },
      {
       "output_type": "stream",
       "stream": "stdout",
       "text": [
        " -15253.1828787\n",
        "printing self.lowerbound -7612419.29843\n",
        "printing  lbound -15756.8848255\n",
        "printing self.lowerbound -7627672.48131\n",
        "printing  lbound"
       ]
      },
      {
       "output_type": "stream",
       "stream": "stdout",
       "text": [
        " -15512.3289341\n",
        "printing self.lowerbound -7643429.36614\n",
        "Iteration 4, lower bound = -153.18, time = 23.95s\n",
        "Iteration: 5\n",
        "printing  lbound -14541.6976054\n",
        "printing self.lowerbound 0\n",
        "printing  lbound"
       ]
      },
      {
       "output_type": "stream",
       "stream": "stdout",
       "text": [
        " -14889.2729885\n",
        "printing self.lowerbound -14541.6976054\n",
        "printing  lbound -14981.2940022\n",
        "printing self.lowerbound -29430.970594\n",
        "printing  lbound"
       ]
      },
      {
       "output_type": "stream",
       "stream": "stdout",
       "text": [
        " -14132.0754338\n",
        "printing self.lowerbound -44412.2645961\n",
        "printing  lbound -14950.5283251\n",
        "printing self.lowerbound -58544.34003\n",
        "printing  lbound"
       ]
      },
      {
       "output_type": "stream",
       "stream": "stdout",
       "text": [
        " -15330.4519382\n",
        "printing self.lowerbound -73494.8683551\n",
        "printing  lbound -14874.0947495\n",
        "printing self.lowerbound -88825.3202933\n",
        "printing  lbound"
       ]
      },
      {
       "output_type": "stream",
       "stream": "stdout",
       "text": [
        " -15114.6840647\n",
        "printing self.lowerbound -103699.415043\n",
        "printing  lbound -15224.383861\n",
        "printing self.lowerbound -118814.099107\n",
        "printing  lbound"
       ]
      },
      {
       "output_type": "stream",
       "stream": "stdout",
       "text": [
        " -15346.2201622\n",
        "printing self.lowerbound -134038.482968\n",
        "printing  lbound -14575.9089143\n",
        "printing self.lowerbound -149384.703131\n",
        "printing  lbound"
       ]
      },
      {
       "output_type": "stream",
       "stream": "stdout",
       "text": [
        " -15021.7465254\n",
        "printing self.lowerbound -163960.612045\n",
        "printing  lbound -15335.3520845\n",
        "printing self.lowerbound -178982.35857\n",
        "printing  lbound"
       ]
      },
      {
       "output_type": "stream",
       "stream": "stdout",
       "text": [
        " -14995.9120121\n",
        "printing self.lowerbound -194317.710655\n",
        "printing  lbound -15328.0873394\n",
        "printing self.lowerbound -209313.622667\n",
        "printing  lbound"
       ]
      },
      {
       "output_type": "stream",
       "stream": "stdout",
       "text": [
        " -15397.9571278\n",
        "printing self.lowerbound -224641.710006\n",
        "printing  lbound -14570.7953743\n",
        "printing self.lowerbound -240039.667134\n",
        "printing  lbound"
       ]
      },
      {
       "output_type": "stream",
       "stream": "stdout",
       "text": [
        " -14713.4601989\n",
        "printing self.lowerbound -254610.462508\n",
        "printing  lbound -14606.6547619\n",
        "printing self.lowerbound -269323.922707\n",
        "printing  lbound"
       ]
      },
      {
       "output_type": "stream",
       "stream": "stdout",
       "text": [
        " -14394.3143985\n",
        "printing self.lowerbound -283930.577469\n",
        "printing  lbound -14695.132673\n",
        "printing self.lowerbound -298324.891868\n",
        "printing  lbound"
       ]
      },
      {
       "output_type": "stream",
       "stream": "stdout",
       "text": [
        " -14437.355569\n",
        "printing self.lowerbound -313020.024541\n",
        "printing  lbound -15958.8419602\n",
        "printing self.lowerbound -327457.38011\n",
        "printing  lbound"
       ]
      },
      {
       "output_type": "stream",
       "stream": "stdout",
       "text": [
        " -14992.8116454\n",
        "printing self.lowerbound -343416.22207\n",
        "printing  lbound -14822.3100877\n",
        "printing self.lowerbound -358409.033715\n",
        "printing  lbound"
       ]
      },
      {
       "output_type": "stream",
       "stream": "stdout",
       "text": [
        " -15269.6797465\n",
        "printing self.lowerbound -373231.343803\n",
        "printing  lbound -15414.2397358\n",
        "printing self.lowerbound -388501.023549\n",
        "printing  lbound"
       ]
      },
      {
       "output_type": "stream",
       "stream": "stdout",
       "text": [
        " -15534.9830136\n",
        "printing self.lowerbound -403915.263285\n",
        "printing  lbound -15868.0506213\n",
        "printing self.lowerbound -419450.246299\n",
        "printing  lbound"
       ]
      },
      {
       "output_type": "stream",
       "stream": "stdout",
       "text": [
        " -14569.2599518\n",
        "printing self.lowerbound -435318.29692\n",
        "printing  lbound -15769.2767629\n",
        "printing self.lowerbound -449887.556872\n",
        "printing  lbound"
       ]
      },
      {
       "output_type": "stream",
       "stream": "stdout",
       "text": [
        " -14377.2274843\n",
        "printing self.lowerbound -465656.833635\n",
        "printing  lbound -13759.8444838\n",
        "printing self.lowerbound -480034.061119\n",
        "printing  lbound"
       ]
      },
      {
       "output_type": "stream",
       "stream": "stdout",
       "text": [
        " -14615.8114976\n",
        "printing self.lowerbound -493793.905603\n",
        "printing  lbound -14110.5488119\n",
        "printing self.lowerbound -508409.7171\n",
        "printing  lbound"
       ]
      },
      {
       "output_type": "stream",
       "stream": "stdout",
       "text": [
        " -15520.6623607\n",
        "printing self.lowerbound -522520.265912\n",
        "printing  lbound -16266.5360428\n",
        "printing self.lowerbound -538040.928273\n",
        "printing  lbound"
       ]
      },
      {
       "output_type": "stream",
       "stream": "stdout",
       "text": [
        " -15691.875811\n",
        "printing self.lowerbound -554307.464316\n",
        "printing  lbound"
       ]
      },
      {
       "output_type": "stream",
       "stream": "stdout",
       "text": [
        " -15020.0678062\n",
        "printing self.lowerbound -569999.340127\n",
        "printing  lbound -14900.8018459\n",
        "printing self.lowerbound -585019.407933\n",
        "printing  lbound"
       ]
      },
      {
       "output_type": "stream",
       "stream": "stdout",
       "text": [
        " -15068.3896271\n",
        "printing self.lowerbound -599920.209779\n",
        "printing  lbound -14437.7341321\n",
        "printing self.lowerbound -614988.599406\n",
        "printing  lbound"
       ]
      },
      {
       "output_type": "stream",
       "stream": "stdout",
       "text": [
        " -15311.2826354\n",
        "printing self.lowerbound -629426.333538\n",
        "printing  lbound -14702.2886154\n",
        "printing self.lowerbound -644737.616174\n",
        "printing  lbound"
       ]
      },
      {
       "output_type": "stream",
       "stream": "stdout",
       "text": [
        " -15391.3106138\n",
        "printing self.lowerbound -659439.904789\n",
        "printing  lbound -14706.2165347\n",
        "printing self.lowerbound -674831.215403\n",
        "printing  lbound"
       ]
      },
      {
       "output_type": "stream",
       "stream": "stdout",
       "text": [
        " -15693.5277495\n",
        "printing self.lowerbound -689537.431937\n",
        "printing  lbound -16729.8316334\n",
        "printing self.lowerbound -705230.959687\n",
        "printing  lbound"
       ]
      },
      {
       "output_type": "stream",
       "stream": "stdout",
       "text": [
        " -17237.8289012\n",
        "printing self.lowerbound -721960.79132\n",
        "printing  lbound -14735.6378523\n",
        "printing self.lowerbound -739198.620222\n",
        "printing  lbound"
       ]
      },
      {
       "output_type": "stream",
       "stream": "stdout",
       "text": [
        " -14997.7513524\n",
        "printing self.lowerbound -753934.258074\n",
        "printing  lbound -15929.243357\n",
        "printing self.lowerbound -768932.009426\n",
        "printing  lbound"
       ]
      },
      {
       "output_type": "stream",
       "stream": "stdout",
       "text": [
        " -14778.4207328\n",
        "printing self.lowerbound -784861.252783\n",
        "printing  lbound -16039.5537593\n",
        "printing self.lowerbound -799639.673516\n",
        "printing  lbound"
       ]
      },
      {
       "output_type": "stream",
       "stream": "stdout",
       "text": [
        " -14843.764251\n",
        "printing self.lowerbound -815679.227275\n",
        "printing  lbound"
       ]
      },
      {
       "output_type": "stream",
       "stream": "stdout",
       "text": [
        " -14597.942281\n",
        "printing self.lowerbound -830522.991527\n",
        "printing  lbound"
       ]
      },
      {
       "output_type": "stream",
       "stream": "stdout",
       "text": [
        " -15740.6568516\n",
        "printing self.lowerbound -845120.933807\n",
        "printing  lbound"
       ]
      },
      {
       "output_type": "stream",
       "stream": "stdout",
       "text": [
        " -14482.4078018\n",
        "printing self.lowerbound -860861.590659\n",
        "printing  lbound -14603.5756579\n",
        "printing self.lowerbound -875343.998461\n",
        "printing  lbound"
       ]
      },
      {
       "output_type": "stream",
       "stream": "stdout",
       "text": [
        " -14910.680991\n",
        "printing self.lowerbound -889947.574119\n",
        "printing  lbound -15101.2009747\n",
        "printing self.lowerbound -904858.25511\n",
        "printing  lbound"
       ]
      },
      {
       "output_type": "stream",
       "stream": "stdout",
       "text": [
        " -15060.1528635\n",
        "printing self.lowerbound -919959.456084\n",
        "printing  lbound -14512.2955674\n",
        "printing self.lowerbound -935019.608948\n",
        "printing  lbound"
       ]
      },
      {
       "output_type": "stream",
       "stream": "stdout",
       "text": [
        " -14793.0348357\n",
        "printing self.lowerbound -949531.904515\n",
        "printing  lbound -14990.0613828\n",
        "printing self.lowerbound -964324.939351\n",
        "printing  lbound"
       ]
      },
      {
       "output_type": "stream",
       "stream": "stdout",
       "text": [
        " -14453.3041139\n",
        "printing self.lowerbound -979315.000734\n",
        "printing  lbound -14151.5664396\n",
        "printing self.lowerbound -993768.304848\n",
        "printing  lbound"
       ]
      },
      {
       "output_type": "stream",
       "stream": "stdout",
       "text": [
        " -14111.7900389\n",
        "printing self.lowerbound -1007919.87129\n",
        "printing  lbound -14932.5218039\n",
        "printing self.lowerbound -1022031.66133\n",
        "printing  lbound"
       ]
      },
      {
       "output_type": "stream",
       "stream": "stdout",
       "text": [
        " -14723.2639541\n",
        "printing self.lowerbound -1036964.18313\n",
        "printing  lbound -14579.6128557\n",
        "printing self.lowerbound -1051687.44708\n",
        "printing  lbound"
       ]
      },
      {
       "output_type": "stream",
       "stream": "stdout",
       "text": [
        " -14883.5424425\n",
        "printing self.lowerbound -1066267.05994\n",
        "printing  lbound -15303.217621\n",
        "printing self.lowerbound -1081150.60238\n",
        "printing  lbound"
       ]
      },
      {
       "output_type": "stream",
       "stream": "stdout",
       "text": [
        " -14788.9964248\n",
        "printing self.lowerbound -1096453.82\n",
        "printing  lbound -14384.2765829\n",
        "printing self.lowerbound -1111242.81643\n",
        "printing  lbound"
       ]
      },
      {
       "output_type": "stream",
       "stream": "stdout",
       "text": [
        " -14411.9487426\n",
        "printing self.lowerbound -1125627.09301\n",
        "printing  lbound -14756.983841\n",
        "printing self.lowerbound -1140039.04175\n",
        "printing  lbound"
       ]
      },
      {
       "output_type": "stream",
       "stream": "stdout",
       "text": [
        " -15125.2798801\n",
        "printing self.lowerbound -1154796.02559\n",
        "printing  lbound -15600.1170601\n",
        "printing self.lowerbound -1169921.30547\n",
        "printing  lbound"
       ]
      },
      {
       "output_type": "stream",
       "stream": "stdout",
       "text": [
        " -15114.0341704\n",
        "printing self.lowerbound -1185521.42253\n",
        "printing  lbound -15615.0973497\n",
        "printing self.lowerbound -1200635.45671\n",
        "printing  lbound"
       ]
      },
      {
       "output_type": "stream",
       "stream": "stdout",
       "text": [
        " -13995.9351931\n",
        "printing self.lowerbound -1216250.55405\n",
        "printing  lbound -15095.6658448\n",
        "printing self.lowerbound -1230246.48925\n",
        "printing  lbound"
       ]
      },
      {
       "output_type": "stream",
       "stream": "stdout",
       "text": [
        " -14878.3653599\n",
        "printing self.lowerbound -1245342.15509\n",
        "printing  lbound -14920.5369719\n",
        "printing self.lowerbound -1260220.52045\n",
        "printing  lbound"
       ]
      },
      {
       "output_type": "stream",
       "stream": "stdout",
       "text": [
        " -14830.979052\n",
        "printing self.lowerbound -1275141.05742\n",
        "printing  lbound"
       ]
      },
      {
       "output_type": "stream",
       "stream": "stdout",
       "text": [
        " -15391.5685992\n",
        "printing self.lowerbound -1289972.03648\n",
        "printing  lbound"
       ]
      },
      {
       "output_type": "stream",
       "stream": "stdout",
       "text": [
        " -15355.0721931\n",
        "printing self.lowerbound -1305363.60508\n",
        "printing  lbound"
       ]
      },
      {
       "output_type": "stream",
       "stream": "stdout",
       "text": [
        " -14537.0132157\n",
        "printing self.lowerbound -1320718.67727\n",
        "printing  lbound -14773.542071\n",
        "printing self.lowerbound -1335255.69048\n",
        "printing  lbound"
       ]
      },
      {
       "output_type": "stream",
       "stream": "stdout",
       "text": [
        " -14719.1490634\n",
        "printing self.lowerbound -1350029.23256\n",
        "printing  lbound -14834.9954624\n",
        "printing self.lowerbound -1364748.38162\n",
        "printing  lbound"
       ]
      },
      {
       "output_type": "stream",
       "stream": "stdout",
       "text": [
        " -14129.6796943\n",
        "printing self.lowerbound -1379583.37708\n",
        "printing  lbound -15812.9023468\n",
        "printing self.lowerbound -1393713.05678\n",
        "printing  lbound"
       ]
      },
      {
       "output_type": "stream",
       "stream": "stdout",
       "text": [
        " -15870.3181731\n",
        "printing self.lowerbound -1409525.95912\n",
        "printing  lbound -15632.703594\n",
        "printing self.lowerbound -1425396.2773\n",
        "printing  lbound"
       ]
      },
      {
       "output_type": "stream",
       "stream": "stdout",
       "text": [
        " -15514.0514709\n",
        "printing self.lowerbound -1441028.98089\n",
        "printing  lbound -15279.7769283\n",
        "printing self.lowerbound -1456543.03236\n",
        "printing  lbound"
       ]
      },
      {
       "output_type": "stream",
       "stream": "stdout",
       "text": [
        " -15364.1712423\n",
        "printing self.lowerbound -1471822.80929\n",
        "printing  lbound -14889.6185745\n",
        "printing self.lowerbound -1487186.98053\n",
        "printing  lbound"
       ]
      },
      {
       "output_type": "stream",
       "stream": "stdout",
       "text": [
        " -14955.9122356\n",
        "printing self.lowerbound -1502076.59911\n",
        "printing  lbound -13894.1799003\n",
        "printing self.lowerbound -1517032.51134\n",
        "printing  lbound"
       ]
      },
      {
       "output_type": "stream",
       "stream": "stdout",
       "text": [
        " -15728.0659527\n",
        "printing self.lowerbound -1530926.69124\n",
        "printing  lbound -15408.3488658\n",
        "printing self.lowerbound "
       ]
      },
      {
       "output_type": "stream",
       "stream": "stdout",
       "text": [
        "-1546654.75719\n",
        "printing  lbound -15157.7733059\n",
        "printing self.lowerbound -1562063.10606\n",
        "printing  lbound"
       ]
      },
      {
       "output_type": "stream",
       "stream": "stdout",
       "text": [
        " -14695.9877359\n",
        "printing self.lowerbound -1577220.87937\n",
        "printing  lbound -14467.5671209\n",
        "printing self.lowerbound -1591916.8671\n",
        "printing  lbound"
       ]
      },
      {
       "output_type": "stream",
       "stream": "stdout",
       "text": [
        " -14911.900921\n",
        "printing self.lowerbound -1606384.43422\n",
        "printing  lbound"
       ]
      },
      {
       "output_type": "stream",
       "stream": "stdout",
       "text": [
        " -14070.1019094\n",
        "printing self.lowerbound -1621296.33514\n",
        "printing  lbound -14721.3241434\n",
        "printing self.lowerbound -1635366.43705\n",
        "printing  lbound"
       ]
      },
      {
       "output_type": "stream",
       "stream": "stdout",
       "text": [
        " -14675.7388039\n",
        "printing self.lowerbound -1650087.7612\n",
        "printing  lbound -14603.7329279\n",
        "printing self.lowerbound -1664763.5\n",
        "printing  lbound"
       ]
      },
      {
       "output_type": "stream",
       "stream": "stdout",
       "text": [
        " -14286.6716627\n",
        "printing self.lowerbound -1679367.23293\n",
        "printing  lbound -14469.5061122\n",
        "printing self.lowerbound -1693653.90459\n",
        "printing  lbound"
       ]
      },
      {
       "output_type": "stream",
       "stream": "stdout",
       "text": [
        " -14309.5155189\n",
        "printing self.lowerbound -1708123.4107\n",
        "printing  lbound -14512.5235047\n",
        "printing self.lowerbound -1722432.92622\n",
        "printing  lbound"
       ]
      },
      {
       "output_type": "stream",
       "stream": "stdout",
       "text": [
        " -14344.8072431\n",
        "printing self.lowerbound -1736945.44973\n",
        "printing  lbound -14316.3483425\n",
        "printing self.lowerbound -1751290.25697\n",
        "printing  lbound"
       ]
      },
      {
       "output_type": "stream",
       "stream": "stdout",
       "text": [
        " -14316.7749988\n",
        "printing self.lowerbound -1765606.60531\n",
        "printing  lbound -14259.9722394\n",
        "printing self.lowerbound -1779923.38031\n",
        "printing  lbound"
       ]
      },
      {
       "output_type": "stream",
       "stream": "stdout",
       "text": [
        " -14639.8489646\n",
        "printing self.lowerbound -1794183.35255\n",
        "printing  lbound -14571.553311\n",
        "printing self.lowerbound -1808823.20152\n",
        "printing  lbound"
       ]
      },
      {
       "output_type": "stream",
       "stream": "stdout",
       "text": [
        " -15389.6589945\n",
        "printing self.lowerbound -1823394.75483\n",
        "printing  lbound -15650.8555823\n",
        "printing self.lowerbound -1838784.41382\n",
        "printing  lbound"
       ]
      },
      {
       "output_type": "stream",
       "stream": "stdout",
       "text": [
        " -15671.0151306\n",
        "printing self.lowerbound -1854435.2694\n",
        "printing  lbound -15577.0212732\n",
        "printing self.lowerbound -1870106.28453\n",
        "printing  lbound"
       ]
      },
      {
       "output_type": "stream",
       "stream": "stdout",
       "text": [
        " -16270.3877015\n",
        "printing self.lowerbound -1885683.30581\n",
        "printing  lbound -15381.6918553\n",
        "printing self.lowerbound -1901953.69351\n",
        "printing  lbound"
       ]
      },
      {
       "output_type": "stream",
       "stream": "stdout",
       "text": [
        " -14845.9807815\n",
        "printing self.lowerbound -1917335.38536\n",
        "printing  lbound -15699.045106\n",
        "printing self.lowerbound -1932181.36614\n",
        "printing  lbound"
       ]
      },
      {
       "output_type": "stream",
       "stream": "stdout",
       "text": [
        " -15457.6312338\n",
        "printing self.lowerbound -1947880.41125\n",
        "printing  lbound -15040.9469783\n",
        "printing self.lowerbound -1963338.04248\n",
        "printing  lbound"
       ]
      },
      {
       "output_type": "stream",
       "stream": "stdout",
       "text": [
        " -15622.95288\n",
        "printing self.lowerbound -1978378.98946\n",
        "printing  lbound -15079.4757531\n",
        "printing self.lowerbound -1994001.94234\n",
        "printing  lbound"
       ]
      },
      {
       "output_type": "stream",
       "stream": "stdout",
       "text": [
        " -15076.4299478\n",
        "printing self.lowerbound -2009081.4181\n",
        "printing  lbound -14899.00941\n",
        "printing self.lowerbound -2024157.84804\n",
        "printing  lbound"
       ]
      },
      {
       "output_type": "stream",
       "stream": "stdout",
       "text": [
        " -14982.5250312\n",
        "printing self.lowerbound -2039056.85745\n",
        "printing  lbound -14586.2647785\n",
        "printing self.lowerbound -2054039.38249\n",
        "printing  lbound"
       ]
      },
      {
       "output_type": "stream",
       "stream": "stdout",
       "text": [
        " -15037.4971744\n",
        "printing self.lowerbound -2068625.64726\n",
        "printing  lbound -15780.4611059\n",
        "printing self.lowerbound -2083663.14444\n",
        "printing  lbound"
       ]
      },
      {
       "output_type": "stream",
       "stream": "stdout",
       "text": [
        " -15583.9061176\n",
        "printing self.lowerbound -2099443.60554\n",
        "printing  lbound -16247.0233224\n",
        "printing self.lowerbound -2115027.51166\n",
        "printing  lbound"
       ]
      },
      {
       "output_type": "stream",
       "stream": "stdout",
       "text": [
        " -15508.2751441\n",
        "printing self.lowerbound -2131274.53498\n",
        "printing  lbound -15748.3198439\n",
        "printing self.lowerbound -2146782.81013\n",
        "printing  lbound"
       ]
      },
      {
       "output_type": "stream",
       "stream": "stdout",
       "text": [
        " -15106.1250747\n",
        "printing self.lowerbound -2162531.12997\n",
        "printing  lbound -14619.6571385\n",
        "printing self.lowerbound -2177637.25505\n",
        "printing  lbound"
       ]
      },
      {
       "output_type": "stream",
       "stream": "stdout",
       "text": [
        " -15786.6665576\n",
        "printing self.lowerbound -2192256.91219\n",
        "printing  lbound -15778.2383307\n",
        "printing self.lowerbound -2208043.57874\n",
        "printing  lbound"
       ]
      },
      {
       "output_type": "stream",
       "stream": "stdout",
       "text": [
        " -15670.0059049\n",
        "printing self.lowerbound -2223821.81707\n",
        "printing  lbound -13765.2787223\n",
        "printing self.lowerbound -2239491.82298\n",
        "printing  lbound"
       ]
      },
      {
       "output_type": "stream",
       "stream": "stdout",
       "text": [
        " -14670.1215342\n",
        "printing self.lowerbound -2253257.1017\n",
        "printing  lbound -15136.3326865\n",
        "printing self.lowerbound -2267927.22324\n",
        "printing  lbound"
       ]
      },
      {
       "output_type": "stream",
       "stream": "stdout",
       "text": [
        " -15123.2177761\n",
        "printing self.lowerbound -2283063.55592\n",
        "printing  lbound -14289.6027044\n",
        "printing self.lowerbound -2298186.7737\n",
        "printing  lbound"
       ]
      },
      {
       "output_type": "stream",
       "stream": "stdout",
       "text": [
        " -14620.4371104\n",
        "printing self.lowerbound -2312476.3764\n",
        "printing  lbound -14617.9737689\n",
        "printing self.lowerbound -2327096.81351\n",
        "printing  lbound"
       ]
      },
      {
       "output_type": "stream",
       "stream": "stdout",
       "text": [
        " -15011.302988\n",
        "printing self.lowerbound -2341714.78728\n",
        "printing  lbound -16111.9895263\n",
        "printing self.lowerbound -2356726.09027\n",
        "printing  lbound"
       ]
      },
      {
       "output_type": "stream",
       "stream": "stdout",
       "text": [
        " -15514.0161657\n",
        "printing self.lowerbound -2372838.0798\n",
        "printing  lbound -14286.7086326\n",
        "printing self.lowerbound -2388352.09596\n",
        "printing  lbound"
       ]
      },
      {
       "output_type": "stream",
       "stream": "stdout",
       "text": [
        " -14522.4265376\n",
        "printing self.lowerbound -2402638.80459\n",
        "printing  lbound -15122.0355588\n",
        "printing self.lowerbound -2417161.23113\n",
        "printing  lbound"
       ]
      },
      {
       "output_type": "stream",
       "stream": "stdout",
       "text": [
        " -14344.6684704\n",
        "printing self.lowerbound -2432283.26669\n",
        "printing  lbound -14413.5613406\n",
        "printing self.lowerbound -2446627.93516\n",
        "printing  lbound"
       ]
      },
      {
       "output_type": "stream",
       "stream": "stdout",
       "text": [
        " -14197.8206929\n",
        "printing self.lowerbound -2461041.4965\n",
        "printing  lbound -14885.3654198\n",
        "printing self.lowerbound -2475239.31719\n",
        "printing  lbound"
       ]
      },
      {
       "output_type": "stream",
       "stream": "stdout",
       "text": [
        " -14418.8657216\n",
        "printing self.lowerbound -2490124.68261\n",
        "printing  lbound -15693.6355241\n",
        "printing self.lowerbound -2504543.54834\n",
        "printing  lbound"
       ]
      },
      {
       "output_type": "stream",
       "stream": "stdout",
       "text": [
        " -15819.7066884\n",
        "printing self.lowerbound -2520237.18386\n",
        "printing  lbound -14519.1652927\n",
        "printing self.lowerbound -2536056.89055\n",
        "printing  lbound"
       ]
      },
      {
       "output_type": "stream",
       "stream": "stdout",
       "text": [
        " -14650.768768\n",
        "printing self.lowerbound -2550576.05584\n",
        "printing  lbound -15743.9345078\n",
        "printing self.lowerbound -2565226.82461\n",
        "printing  lbound"
       ]
      },
      {
       "output_type": "stream",
       "stream": "stdout",
       "text": [
        " -15864.5632154\n",
        "printing self.lowerbound -2580970.75912\n",
        "printing  lbound -15417.7930018\n",
        "printing self.lowerbound -2596835.32233\n",
        "printing  lbound"
       ]
      },
      {
       "output_type": "stream",
       "stream": "stdout",
       "text": [
        " -14782.0257009\n",
        "printing self.lowerbound -2612253.11533\n",
        "printing  lbound -15886.6106488\n",
        "printing self.lowerbound -2627035.14103\n",
        "printing  lbound"
       ]
      },
      {
       "output_type": "stream",
       "stream": "stdout",
       "text": [
        " -15792.9657309\n",
        "printing self.lowerbound -2642921.75168\n",
        "printing  lbound -14055.5093435\n",
        "printing self.lowerbound -2658714.71741\n",
        "printing  lbound"
       ]
      },
      {
       "output_type": "stream",
       "stream": "stdout",
       "text": [
        " -13788.9772791\n",
        "printing self.lowerbound -2672770.22676\n",
        "printing  lbound -14657.3321096\n",
        "printing self.lowerbound -2686559.20404\n",
        "printing  lbound"
       ]
      },
      {
       "output_type": "stream",
       "stream": "stdout",
       "text": [
        " -14407.0440575\n",
        "printing self.lowerbound -2701216.53615\n",
        "printing  lbound -13741.4411742\n",
        "printing self.lowerbound -2715623.5802\n",
        "printing  lbound"
       ]
      },
      {
       "output_type": "stream",
       "stream": "stdout",
       "text": [
        " -14219.7454656\n",
        "printing self.lowerbound -2729365.02138\n",
        "printing  lbound -13971.7059858\n",
        "printing self.lowerbound -2743584.76684\n",
        "printing  lbound"
       ]
      },
      {
       "output_type": "stream",
       "stream": "stdout",
       "text": [
        " -14198.9657118\n",
        "printing self.lowerbound -2757556.47283\n",
        "printing  lbound -15724.0559882\n",
        "printing self.lowerbound -2771755.43854\n",
        "printing  lbound"
       ]
      },
      {
       "output_type": "stream",
       "stream": "stdout",
       "text": [
        " -15601.9113504\n",
        "printing self.lowerbound -2787479.49453\n",
        "printing  lbound -15158.564611\n",
        "printing self.lowerbound -2803081.40588\n",
        "printing  lbound"
       ]
      },
      {
       "output_type": "stream",
       "stream": "stdout",
       "text": [
        " -14595.2198173\n",
        "printing self.lowerbound -2818239.97049\n",
        "printing  lbound -14787.5453952\n",
        "printing self.lowerbound -2832835.19031\n",
        "printing  lbound"
       ]
      },
      {
       "output_type": "stream",
       "stream": "stdout",
       "text": [
        " -14604.5197298\n",
        "printing self.lowerbound -2847622.7357\n",
        "printing  lbound -14845.6671434\n",
        "printing self.lowerbound -2862227.25543\n",
        "printing  lbound"
       ]
      },
      {
       "output_type": "stream",
       "stream": "stdout",
       "text": [
        " -15480.0372341\n",
        "printing self.lowerbound -2877072.92258\n",
        "printing  lbound -15834.6609934\n",
        "printing self.lowerbound -2892552.95981\n",
        "printing  lbound"
       ]
      },
      {
       "output_type": "stream",
       "stream": "stdout",
       "text": [
        " -15098.044148\n",
        "printing self.lowerbound -2908387.6208\n",
        "printing  lbound -14556.9520593\n",
        "printing self.lowerbound -2923485.66495\n",
        "printing  lbound"
       ]
      },
      {
       "output_type": "stream",
       "stream": "stdout",
       "text": [
        " -14179.0925254\n",
        "printing self.lowerbound -2938042.61701\n",
        "printing  lbound -15297.8183967\n",
        "printing self.lowerbound -2952221.70954\n",
        "printing  lbound"
       ]
      },
      {
       "output_type": "stream",
       "stream": "stdout",
       "text": [
        " -15137.7000095\n",
        "printing self.lowerbound -2967519.52793\n",
        "printing  lbound -17014.670021\n",
        "printing self.lowerbound -2982657.22794\n",
        "printing  lbound"
       ]
      },
      {
       "output_type": "stream",
       "stream": "stdout",
       "text": [
        " -16559.9809931\n",
        "printing self.lowerbound -2999671.89796\n",
        "printing  lbound"
       ]
      },
      {
       "output_type": "stream",
       "stream": "stdout",
       "text": [
        " -16563.7440604\n",
        "printing self.lowerbound -3016231.87896\n",
        "printing  lbound"
       ]
      },
      {
       "output_type": "stream",
       "stream": "stdout",
       "text": [
        " -14992.2454052\n",
        "printing self.lowerbound -3032795.62302\n",
        "printing  lbound -14770.3163166\n",
        "printing self.lowerbound -3047787.86842\n",
        "printing  lbound"
       ]
      },
      {
       "output_type": "stream",
       "stream": "stdout",
       "text": [
        " -14453.9362438\n",
        "printing self.lowerbound -3062558.18474\n",
        "printing  lbound -14925.7628021\n",
        "printing self.lowerbound -3077012.12098\n",
        "printing  lbound"
       ]
      },
      {
       "output_type": "stream",
       "stream": "stdout",
       "text": [
        " -14563.5939444\n",
        "printing self.lowerbound -3091937.88379\n",
        "printing  lbound -14101.4501983\n",
        "printing self.lowerbound -3106501.47773\n",
        "printing  lbound"
       ]
      },
      {
       "output_type": "stream",
       "stream": "stdout",
       "text": [
        " -14511.3434311\n",
        "printing self.lowerbound -3120602.92793\n",
        "printing  lbound -15286.9323994\n",
        "printing self.lowerbound -3135114.27136\n",
        "printing  lbound"
       ]
      },
      {
       "output_type": "stream",
       "stream": "stdout",
       "text": [
        " -14333.5256914\n",
        "printing self.lowerbound -3150401.20376\n",
        "printing  lbound -14954.1642761\n",
        "printing self.lowerbound -3164734.72945\n",
        "printing  lbound"
       ]
      },
      {
       "output_type": "stream",
       "stream": "stdout",
       "text": [
        " -14997.518584\n",
        "printing self.lowerbound -3179688.89373\n",
        "printing  lbound -15758.6011044\n",
        "printing self.lowerbound -3194686.41231\n",
        "printing  lbound"
       ]
      },
      {
       "output_type": "stream",
       "stream": "stdout",
       "text": [
        " -15190.4453859\n",
        "printing self.lowerbound -3210445.01341\n",
        "printing  lbound -14557.3485226\n",
        "printing self.lowerbound -3225635.4588\n",
        "printing  lbound"
       ]
      },
      {
       "output_type": "stream",
       "stream": "stdout",
       "text": [
        " -14370.6859531\n",
        "printing self.lowerbound -3240192.80732\n",
        "printing  lbound -14280.1323793\n",
        "printing self.lowerbound -3254563.49328\n",
        "printing  lbound"
       ]
      },
      {
       "output_type": "stream",
       "stream": "stdout",
       "text": [
        " -14491.1531349\n",
        "printing self.lowerbound -3268843.62566\n",
        "printing  lbound -14546.4918116\n",
        "printing self.lowerbound -3283334.77879\n",
        "printing  lbound"
       ]
      },
      {
       "output_type": "stream",
       "stream": "stdout",
       "text": [
        " -16054.9851372\n",
        "printing self.lowerbound -3297881.2706\n",
        "printing  lbound -16671.7731372\n",
        "printing self.lowerbound -3313936.25574\n",
        "printing  lbound"
       ]
      },
      {
       "output_type": "stream",
       "stream": "stdout",
       "text": [
        " -14940.6753671\n",
        "printing self.lowerbound -3330608.02888\n",
        "printing  lbound -14660.4473621\n",
        "printing self.lowerbound -3345548.70424\n",
        "printing  lbound"
       ]
      },
      {
       "output_type": "stream",
       "stream": "stdout",
       "text": [
        " -14678.3828846\n",
        "printing self.lowerbound -3360209.15161\n",
        "printing  lbound -15465.1938551\n",
        "printing self.lowerbound -3374887.53449\n",
        "printing  lbound"
       ]
      },
      {
       "output_type": "stream",
       "stream": "stdout",
       "text": [
        " -15495.1031126\n",
        "printing self.lowerbound -3390352.72835\n",
        "printing  lbound -15345.7455373\n",
        "printing self.lowerbound -3405847.83146\n",
        "printing  lbound"
       ]
      },
      {
       "output_type": "stream",
       "stream": "stdout",
       "text": [
        " -15093.0523296\n",
        "printing self.lowerbound -3421193.577\n",
        "printing  lbound -15608.2449405\n",
        "printing self.lowerbound -3436286.62932\n",
        "printing  lbound"
       ]
      },
      {
       "output_type": "stream",
       "stream": "stdout",
       "text": [
        " -15469.9105386\n",
        "printing self.lowerbound -3451894.87427\n",
        "printing  lbound -15265.1087287\n",
        "printing self.lowerbound -3467364.7848\n",
        "printing  lbound"
       ]
      },
      {
       "output_type": "stream",
       "stream": "stdout",
       "text": [
        " -14403.6841682\n",
        "printing self.lowerbound -3482629.89353\n",
        "printing  lbound -14974.4195375\n",
        "printing self.lowerbound -3497033.5777\n",
        "printing  lbound"
       ]
      },
      {
       "output_type": "stream",
       "stream": "stdout",
       "text": [
        " -14968.3782132\n",
        "printing self.lowerbound -3512007.99724\n",
        "printing  lbound -14787.2320629\n",
        "printing self.lowerbound -3526976.37545\n",
        "printing  lbound"
       ]
      },
      {
       "output_type": "stream",
       "stream": "stdout",
       "text": [
        " -14983.5594053\n",
        "printing self.lowerbound -3541763.60751\n",
        "printing  lbound -15583.841233\n",
        "printing self.lowerbound -3556747.16692\n",
        "printing  lbound"
       ]
      },
      {
       "output_type": "stream",
       "stream": "stdout",
       "text": [
        " -15651.3762881\n",
        "printing self.lowerbound -3572331.00815\n",
        "printing  lbound -14745.9324679\n",
        "printing self.lowerbound -3587982.38444\n",
        "printing  lbound"
       ]
      },
      {
       "output_type": "stream",
       "stream": "stdout",
       "text": [
        " -14089.2558224\n",
        "printing self.lowerbound -3602728.31691\n",
        "printing  lbound -13487.3042462\n",
        "printing self.lowerbound -3616817.57273\n",
        "printing  lbound"
       ]
      },
      {
       "output_type": "stream",
       "stream": "stdout",
       "text": [
        " -14745.3741516\n",
        "printing self.lowerbound -3630304.87698\n",
        "printing  lbound -14179.7265514\n",
        "printing self.lowerbound -3645050.25113\n",
        "printing  lbound"
       ]
      },
      {
       "output_type": "stream",
       "stream": "stdout",
       "text": [
        " -15675.312858\n",
        "printing self.lowerbound -3659229.97768\n",
        "printing  lbound -15807.9856662\n",
        "printing self.lowerbound -3674905.29054\n",
        "printing  lbound"
       ]
      },
      {
       "output_type": "stream",
       "stream": "stdout",
       "text": [
        " -14957.2542716\n",
        "printing self.lowerbound -3690713.2762\n",
        "printing  lbound"
       ]
      },
      {
       "output_type": "stream",
       "stream": "stdout",
       "text": [
        " -14280.0864883\n",
        "printing self.lowerbound -3705670.53048\n",
        "printing  lbound"
       ]
      },
      {
       "output_type": "stream",
       "stream": "stdout",
       "text": [
        " -14237.3723087\n",
        "printing self.lowerbound -3719950.61696\n",
        "printing  lbound"
       ]
      },
      {
       "output_type": "stream",
       "stream": "stdout",
       "text": [
        " -13301.9274619\n",
        "printing self.lowerbound -3734187.98927\n",
        "printing  lbound"
       ]
      },
      {
       "output_type": "stream",
       "stream": "stdout",
       "text": [
        " -14416.3762469\n",
        "printing self.lowerbound -3747489.91674\n",
        "printing  lbound -15101.663787\n",
        "printing self.lowerbound -3761906.29298\n",
        "printing  lbound"
       ]
      },
      {
       "output_type": "stream",
       "stream": "stdout",
       "text": [
        " -14834.9397215\n",
        "printing self.lowerbound -3777007.95677\n",
        "printing  lbound -14994.1926111\n",
        "printing self.lowerbound -3791842.89649\n",
        "printing  lbound"
       ]
      },
      {
       "output_type": "stream",
       "stream": "stdout",
       "text": [
        " -14279.2206922\n",
        "printing self.lowerbound -3806837.0891\n",
        "printing  lbound -14179.732871\n",
        "printing self.lowerbound -3821116.30979\n",
        "printing  lbound"
       ]
      },
      {
       "output_type": "stream",
       "stream": "stdout",
       "text": [
        " -14933.574495\n",
        "printing self.lowerbound -3835296.04266\n",
        "printing  lbound -14238.216721\n",
        "printing self.lowerbound -3850229.61716\n",
        "printing  lbound"
       ]
      },
      {
       "output_type": "stream",
       "stream": "stdout",
       "text": [
        " -13695.8777051\n",
        "printing self.lowerbound -3864467.83388\n",
        "printing  lbound -15056.4794745\n",
        "printing self.lowerbound -3878163.71159\n",
        "printing  lbound"
       ]
      },
      {
       "output_type": "stream",
       "stream": "stdout",
       "text": [
        " -14101.5563866\n",
        "printing self.lowerbound -3893220.19106\n",
        "printing  lbound -14227.5701616\n",
        "printing self.lowerbound -3907321.74745\n",
        "printing  lbound"
       ]
      },
      {
       "output_type": "stream",
       "stream": "stdout",
       "text": [
        " -14104.6548003\n",
        "printing self.lowerbound -3921549.31761\n",
        "printing  lbound -14384.0549395\n",
        "printing self.lowerbound -3935653.97241\n",
        "printing  lbound"
       ]
      },
      {
       "output_type": "stream",
       "stream": "stdout",
       "text": [
        " -14670.374085\n",
        "printing self.lowerbound -3950038.02735\n",
        "printing  lbound -14274.5693906\n",
        "printing self.lowerbound -3964708.40143\n",
        "printing  lbound"
       ]
      },
      {
       "output_type": "stream",
       "stream": "stdout",
       "text": [
        " -14819.9977965\n",
        "printing self.lowerbound -3978982.97082\n",
        "printing  lbound -14739.1425343\n",
        "printing self.lowerbound -3993802.96862\n",
        "printing  lbound"
       ]
      },
      {
       "output_type": "stream",
       "stream": "stdout",
       "text": [
        " -13932.3603447\n",
        "printing self.lowerbound -4008542.11115\n",
        "printing  lbound -14321.6579067\n",
        "printing self.lowerbound -4022474.4715\n",
        "printing  lbound"
       ]
      },
      {
       "output_type": "stream",
       "stream": "stdout",
       "text": [
        " -15154.0038606\n",
        "printing self.lowerbound -4036796.12941\n",
        "printing  lbound -16317.5220734\n",
        "printing self.lowerbound -4051950.13327\n",
        "printing  lbound"
       ]
      },
      {
       "output_type": "stream",
       "stream": "stdout",
       "text": [
        " -15554.3371398\n",
        "printing self.lowerbound -4068267.65534\n",
        "printing  lbound -15360.0365634\n",
        "printing self.lowerbound -4083821.99248\n",
        "printing  lbound"
       ]
      },
      {
       "output_type": "stream",
       "stream": "stdout",
       "text": [
        " -16029.7305386\n",
        "printing self.lowerbound -4099182.02904\n",
        "printing  lbound -14599.0236\n",
        "printing self.lowerbound -4115211.75958\n",
        "printing  lbound"
       ]
      },
      {
       "output_type": "stream",
       "stream": "stdout",
       "text": [
        " -14502.581049\n",
        "printing self.lowerbound -4129810.78318\n",
        "printing  lbound -15111.1059474\n",
        "printing self.lowerbound -4144313.36423\n",
        "printing  lbound"
       ]
      },
      {
       "output_type": "stream",
       "stream": "stdout",
       "text": [
        " -14991.3149403\n",
        "printing self.lowerbound -4159424.47018\n",
        "printing  lbound -14440.9111343\n",
        "printing self.lowerbound -4174415.78512\n",
        "printing  lbound"
       ]
      },
      {
       "output_type": "stream",
       "stream": "stdout",
       "text": [
        " -13566.3026888\n",
        "printing self.lowerbound -4188856.69625\n",
        "printing  lbound -14787.106619\n",
        "printing self.lowerbound -4202422.99894\n",
        "printing  lbound"
       ]
      },
      {
       "output_type": "stream",
       "stream": "stdout",
       "text": [
        " -15193.0830477\n",
        "printing self.lowerbound -4217210.10556\n",
        "printing  lbound -14562.1449753\n",
        "printing self.lowerbound -4232403.18861\n",
        "printing  lbound"
       ]
      },
      {
       "output_type": "stream",
       "stream": "stdout",
       "text": [
        " -14788.9264692\n",
        "printing self.lowerbound -4246965.33358\n",
        "printing  lbound -14448.9823276\n",
        "printing self.lowerbound -4261754.26005\n",
        "printing  lbound"
       ]
      },
      {
       "output_type": "stream",
       "stream": "stdout",
       "text": [
        " -14646.9061725\n",
        "printing self.lowerbound -4276203.24238\n",
        "printing  lbound -14773.5330592\n",
        "printing self.lowerbound -4290850.14855\n",
        "printing  lbound"
       ]
      },
      {
       "output_type": "stream",
       "stream": "stdout",
       "text": [
        " -15074.2048037\n",
        "printing self.lowerbound -4305623.68161\n",
        "printing  lbound -15809.0627528\n",
        "printing self.lowerbound -4320697.88642\n",
        "printing  lbound"
       ]
      },
      {
       "output_type": "stream",
       "stream": "stdout",
       "text": [
        " -15298.575221\n",
        "printing self.lowerbound -4336506.94917\n",
        "printing  lbound"
       ]
      },
      {
       "output_type": "stream",
       "stream": "stdout",
       "text": [
        " -15231.7146283\n",
        "printing self.lowerbound -4351805.52439\n",
        "printing  lbound -14633.7973026\n",
        "printing self.lowerbound -4367037.23902\n",
        "printing  lbound"
       ]
      },
      {
       "output_type": "stream",
       "stream": "stdout",
       "text": [
        " -14683.5154499\n",
        "printing self.lowerbound -4381671.03632\n",
        "printing  lbound -14214.6152391\n",
        "printing self.lowerbound -4396354.55177\n",
        "printing  lbound"
       ]
      },
      {
       "output_type": "stream",
       "stream": "stdout",
       "text": [
        " -13899.5680475\n",
        "printing self.lowerbound -4410569.16701\n",
        "printing  lbound -14750.7141685\n",
        "printing self.lowerbound -4424468.73506\n",
        "printing  lbound"
       ]
      },
      {
       "output_type": "stream",
       "stream": "stdout",
       "text": [
        " -14276.580725\n",
        "printing self.lowerbound -4439219.44923\n",
        "printing  lbound -13581.4598832\n",
        "printing self.lowerbound -4453496.02995\n",
        "printing  lbound"
       ]
      },
      {
       "output_type": "stream",
       "stream": "stdout",
       "text": [
        " -14436.9822515\n",
        "printing self.lowerbound -4467077.48983\n",
        "printing  lbound -15437.3814057\n",
        "printing self.lowerbound -4481514.47209\n",
        "printing  lbound"
       ]
      },
      {
       "output_type": "stream",
       "stream": "stdout",
       "text": [
        " -14974.0768436\n",
        "printing self.lowerbound -4496951.85349\n",
        "printing  lbound -14575.7268715\n",
        "printing self.lowerbound -4511925.93033\n",
        "printing  lbound"
       ]
      },
      {
       "output_type": "stream",
       "stream": "stdout",
       "text": [
        " -14709.4239888\n",
        "printing self.lowerbound -4526501.65721\n",
        "printing  lbound -15582.3054476\n",
        "printing self.lowerbound -4541211.08119\n",
        "printing  lbound"
       ]
      },
      {
       "output_type": "stream",
       "stream": "stdout",
       "text": [
        " -14742.1487568\n",
        "printing self.lowerbound -4556793.38664\n",
        "printing  lbound -14098.1282988\n",
        "printing self.lowerbound -4571535.5354\n",
        "printing  lbound"
       ]
      },
      {
       "output_type": "stream",
       "stream": "stdout",
       "text": [
        " -14370.9242841\n",
        "printing self.lowerbound -4585633.6637\n",
        "printing  lbound -14652.0218474\n",
        "printing self.lowerbound -4600004.58798\n",
        "printing  lbound"
       ]
      },
      {
       "output_type": "stream",
       "stream": "stdout",
       "text": [
        " -13745.3027797\n",
        "printing self.lowerbound -4614656.60983\n",
        "printing  lbound -14809.2626517\n",
        "printing self.lowerbound -4628401.91261\n",
        "printing  lbound"
       ]
      },
      {
       "output_type": "stream",
       "stream": "stdout",
       "text": [
        " -14582.8157906\n",
        "printing self.lowerbound -4643211.17526\n",
        "printing  lbound -14972.2619097\n",
        "printing self.lowerbound -4657793.99105\n",
        "printing  lbound"
       ]
      },
      {
       "output_type": "stream",
       "stream": "stdout",
       "text": [
        " -14189.2133086\n",
        "printing self.lowerbound -4672766.25296\n",
        "printing  lbound"
       ]
      },
      {
       "output_type": "stream",
       "stream": "stdout",
       "text": [
        " -14992.7647195\n",
        "printing self.lowerbound -4686955.46627\n",
        "printing  lbound"
       ]
      },
      {
       "output_type": "stream",
       "stream": "stdout",
       "text": [
        " -14456.9147855\n",
        "printing self.lowerbound -4701948.23099\n",
        "printing  lbound"
       ]
      },
      {
       "output_type": "stream",
       "stream": "stdout",
       "text": [
        " -15511.5866229\n",
        "printing self.lowerbound -4716405.14577\n",
        "printing  lbound -15229.0494776\n",
        "printing self.lowerbound -4731916.7324\n",
        "printing  lbound"
       ]
      },
      {
       "output_type": "stream",
       "stream": "stdout",
       "text": [
        " -14609.9071158\n",
        "printing self.lowerbound -4747145.78188\n",
        "printing  lbound -14461.5867302\n",
        "printing self.lowerbound -4761755.68899\n",
        "printing  lbound"
       ]
      },
      {
       "output_type": "stream",
       "stream": "stdout",
       "text": [
        " -14699.4746178\n",
        "printing self.lowerbound -4776217.27572\n",
        "printing  lbound -14878.8734711\n",
        "printing self.lowerbound -4790916.75034\n",
        "printing  lbound"
       ]
      },
      {
       "output_type": "stream",
       "stream": "stdout",
       "text": [
        " -15249.606377\n",
        "printing self.lowerbound -4805795.62381\n",
        "printing  lbound -14654.2327085\n",
        "printing self.lowerbound -4821045.23019\n",
        "printing  lbound"
       ]
      },
      {
       "output_type": "stream",
       "stream": "stdout",
       "text": [
        " -15169.6544219\n",
        "printing self.lowerbound -4835699.4629\n",
        "printing  lbound -15230.2469143\n",
        "printing self.lowerbound -4850869.11732\n",
        "printing  lbound"
       ]
      },
      {
       "output_type": "stream",
       "stream": "stdout",
       "text": [
        " -15554.271165\n",
        "printing self.lowerbound -4866099.36423\n",
        "printing  lbound -14841.2203382\n",
        "printing self.lowerbound -4881653.6354\n",
        "printing  lbound"
       ]
      },
      {
       "output_type": "stream",
       "stream": "stdout",
       "text": [
        " -13881.5787077\n",
        "printing self.lowerbound -4896494.85574\n",
        "printing  lbound -15060.7632845\n",
        "printing self.lowerbound -4910376.43444\n",
        "printing  lbound"
       ]
      },
      {
       "output_type": "stream",
       "stream": "stdout",
       "text": [
        " -15485.3702694\n",
        "printing self.lowerbound -4925437.19773\n",
        "printing  lbound -14388.6525672\n",
        "printing self.lowerbound -4940922.568\n",
        "printing  lbound"
       ]
      },
      {
       "output_type": "stream",
       "stream": "stdout",
       "text": [
        " -15280.4797802\n",
        "printing self.lowerbound -4955311.22056\n",
        "printing  lbound -15113.7783934\n",
        "printing self.lowerbound -4970591.70034\n",
        "printing  lbound"
       ]
      },
      {
       "output_type": "stream",
       "stream": "stdout",
       "text": [
        " -14825.2554055\n",
        "printing self.lowerbound -4985705.47874\n",
        "printing  lbound -14639.2648011\n",
        "printing self.lowerbound -5000530.73414\n",
        "printing  lbound"
       ]
      },
      {
       "output_type": "stream",
       "stream": "stdout",
       "text": [
        " -14216.5007261\n",
        "printing self.lowerbound -5015169.99894\n",
        "printing  lbound"
       ]
      },
      {
       "output_type": "stream",
       "stream": "stdout",
       "text": [
        " -13422.2510728\n",
        "printing self.lowerbound -5029386.49967\n",
        "printing  lbound"
       ]
      },
      {
       "output_type": "stream",
       "stream": "stdout",
       "text": [
        " -13401.8218235\n",
        "printing self.lowerbound -5042808.75074\n",
        "printing  lbound"
       ]
      },
      {
       "output_type": "stream",
       "stream": "stdout",
       "text": [
        " -13724.4520566\n",
        "printing self.lowerbound -5056210.57257\n",
        "printing  lbound"
       ]
      },
      {
       "output_type": "stream",
       "stream": "stdout",
       "text": [
        " -14248.2698375\n",
        "printing self.lowerbound -5069935.02462\n",
        "printing  lbound -15072.3072641\n",
        "printing self.lowerbound -5084183.29446\n",
        "printing  lbound"
       ]
      },
      {
       "output_type": "stream",
       "stream": "stdout",
       "text": [
        " -14577.0948164\n",
        "printing self.lowerbound -5099255.60172\n",
        "printing  lbound -14707.2813627\n",
        "printing self.lowerbound -5113832.69654\n",
        "printing  lbound"
       ]
      },
      {
       "output_type": "stream",
       "stream": "stdout",
       "text": [
        " -15105.3526469\n",
        "printing self.lowerbound -5128539.9779\n",
        "printing  lbound -15121.1941184\n",
        "printing self.lowerbound -5143645.33055\n",
        "printing  lbound"
       ]
      },
      {
       "output_type": "stream",
       "stream": "stdout",
       "text": [
        " -14841.5578421\n",
        "printing self.lowerbound -5158766.52467\n",
        "printing  lbound -14897.8412095\n",
        "printing self.lowerbound -5173608.08251\n",
        "printing  lbound"
       ]
      },
      {
       "output_type": "stream",
       "stream": "stdout",
       "text": [
        " -15329.6577708\n",
        "printing self.lowerbound -5188505.92372\n",
        "printing  lbound -13840.1031215\n",
        "printing self.lowerbound -5203835.58149\n",
        "printing  lbound"
       ]
      },
      {
       "output_type": "stream",
       "stream": "stdout",
       "text": [
        " -14801.2473917\n",
        "printing self.lowerbound -5217675.68461\n",
        "printing  lbound -14899.4662529\n",
        "printing self.lowerbound -5232476.932\n",
        "printing  lbound"
       ]
      },
      {
       "output_type": "stream",
       "stream": "stdout",
       "text": [
        " -14486.3467435\n",
        "printing self.lowerbound -5247376.39826\n",
        "printing  lbound -14436.821522\n",
        "printing self.lowerbound -5261862.745\n",
        "printing  lbound"
       ]
      },
      {
       "output_type": "stream",
       "stream": "stdout",
       "text": [
        " -15580.7777732\n",
        "printing self.lowerbound -5276299.56652\n",
        "printing  lbound -14772.0770668\n",
        "printing self.lowerbound -5291880.3443\n",
        "printing  lbound"
       ]
      },
      {
       "output_type": "stream",
       "stream": "stdout",
       "text": [
        " -14993.0270837\n",
        "printing self.lowerbound -5306652.42136\n",
        "printing  lbound -14555.3997371\n",
        "printing self.lowerbound -5321645.44845\n",
        "printing  lbound"
       ]
      },
      {
       "output_type": "stream",
       "stream": "stdout",
       "text": [
        " -14782.9676755\n",
        "printing self.lowerbound -5336200.84818\n",
        "printing  lbound"
       ]
      },
      {
       "output_type": "stream",
       "stream": "stdout",
       "text": [
        " -15052.666571\n",
        "printing self.lowerbound -5350983.81586\n",
        "printing  lbound"
       ]
      },
      {
       "output_type": "stream",
       "stream": "stdout",
       "text": [
        " -14656.9122855\n",
        "printing self.lowerbound -5366036.48243\n",
        "printing  lbound -15462.4511777\n",
        "printing self.lowerbound -5380693.39472\n",
        "printing  lbound"
       ]
      },
      {
       "output_type": "stream",
       "stream": "stdout",
       "text": [
        " -14948.188666\n",
        "printing self.lowerbound -5396155.84589\n",
        "printing  lbound -15101.9626387\n",
        "printing self.lowerbound -5411104.03456\n",
        "printing  lbound"
       ]
      },
      {
       "output_type": "stream",
       "stream": "stdout",
       "text": [
        " -15148.6245689\n",
        "printing self.lowerbound -5426205.9972\n",
        "printing  lbound -15120.7531888\n",
        "printing self.lowerbound -5441354.62177\n",
        "printing  lbound"
       ]
      },
      {
       "output_type": "stream",
       "stream": "stdout",
       "text": [
        " -14536.4964423\n",
        "printing self.lowerbound -5456475.37496\n",
        "printing  lbound -14999.5557061\n",
        "printing self.lowerbound -5471011.8714\n",
        "printing  lbound"
       ]
      },
      {
       "output_type": "stream",
       "stream": "stdout",
       "text": [
        " -15203.738486\n",
        "printing self.lowerbound -5486011.4271\n",
        "printing  lbound -14122.6877022\n",
        "printing self.lowerbound -5501215.16559\n",
        "printing  lbound"
       ]
      },
      {
       "output_type": "stream",
       "stream": "stdout",
       "text": [
        " -14537.7853273\n",
        "printing self.lowerbound -5515337.85329\n",
        "printing  lbound -14149.8809116\n",
        "printing self.lowerbound -5529875.63862\n",
        "printing  lbound"
       ]
      },
      {
       "output_type": "stream",
       "stream": "stdout",
       "text": [
        " -14716.122523\n",
        "printing self.lowerbound -5544025.51953\n",
        "printing  lbound -15325.6497399\n",
        "printing self.lowerbound -5558741.64205\n",
        "printing  lbound"
       ]
      },
      {
       "output_type": "stream",
       "stream": "stdout",
       "text": [
        " -15199.8058423\n",
        "printing self.lowerbound -5574067.29179\n",
        "printing  lbound -15247.9451387\n",
        "printing self.lowerbound -5589267.09764\n",
        "printing  lbound"
       ]
      },
      {
       "output_type": "stream",
       "stream": "stdout",
       "text": [
        " -14660.3900856\n",
        "printing self.lowerbound -5604515.04278\n",
        "printing  lbound -15980.2286825\n",
        "printing self.lowerbound -5619175.43286\n",
        "printing  lbound"
       ]
      },
      {
       "output_type": "stream",
       "stream": "stdout",
       "text": [
        " -15203.521341\n",
        "printing self.lowerbound -5635155.66154\n",
        "printing  lbound -14501.536685\n",
        "printing self.lowerbound -5650359.18288\n",
        "printing  lbound"
       ]
      },
      {
       "output_type": "stream",
       "stream": "stdout",
       "text": [
        " -14159.9323884\n",
        "printing self.lowerbound -5664860.71957\n",
        "printing  lbound -15168.4226151\n",
        "printing self.lowerbound -5679020.65196\n",
        "printing  lbound"
       ]
      },
      {
       "output_type": "stream",
       "stream": "stdout",
       "text": [
        " -14873.6259268\n",
        "printing self.lowerbound -5694189.07457\n",
        "printing  lbound -14641.8599749\n",
        "printing self.lowerbound -5709062.7005\n",
        "printing  lbound"
       ]
      },
      {
       "output_type": "stream",
       "stream": "stdout",
       "text": [
        " -14084.60811\n",
        "printing self.lowerbound -5723704.56047\n",
        "printing  lbound -14533.5341523\n",
        "printing self.lowerbound -5737789.16858\n",
        "printing  lbound"
       ]
      },
      {
       "output_type": "stream",
       "stream": "stdout",
       "text": [
        " -15856.3192828\n",
        "printing self.lowerbound -5752322.70274\n",
        "printing  lbound -14673.4742909\n",
        "printing self.lowerbound -5768179.02202\n",
        "printing  lbound"
       ]
      },
      {
       "output_type": "stream",
       "stream": "stdout",
       "text": [
        " -14587.7615344\n",
        "printing self.lowerbound -5782852.49631\n",
        "printing  lbound -14527.9100259\n",
        "printing self.lowerbound -5797440.25785\n",
        "printing  lbound"
       ]
      },
      {
       "output_type": "stream",
       "stream": "stdout",
       "text": [
        " -14053.8694898\n",
        "printing self.lowerbound -5811968.16787\n",
        "printing  lbound -14289.5743642\n",
        "printing self.lowerbound -5826022.03736\n",
        "printing  lbound"
       ]
      },
      {
       "output_type": "stream",
       "stream": "stdout",
       "text": [
        " -14447.007421\n",
        "printing self.lowerbound -5840311.61172\n",
        "printing  lbound -14499.5458356\n",
        "printing self.lowerbound -5854758.61915\n",
        "printing  lbound"
       ]
      },
      {
       "output_type": "stream",
       "stream": "stdout",
       "text": [
        " -14579.4834457\n",
        "printing self.lowerbound -5869258.16498\n",
        "printing  lbound -13772.9866761\n",
        "printing self.lowerbound -5883837.64843\n",
        "printing  lbound"
       ]
      },
      {
       "output_type": "stream",
       "stream": "stdout",
       "text": [
        " -14321.6076583\n",
        "printing self.lowerbound -5897610.6351\n",
        "printing  lbound -14854.5426248\n",
        "printing self.lowerbound -5911932.24276\n",
        "printing  lbound"
       ]
      },
      {
       "output_type": "stream",
       "stream": "stdout",
       "text": [
        " -15167.8531062\n",
        "printing self.lowerbound -5926786.78539\n",
        "printing  lbound -14789.1183497\n",
        "printing self.lowerbound -5941954.63849\n",
        "printing  lbound"
       ]
      },
      {
       "output_type": "stream",
       "stream": "stdout",
       "text": [
        " -14027.0963138\n",
        "printing self.lowerbound -5956743.75684\n",
        "printing  lbound -14738.8638201\n",
        "printing self.lowerbound -5970770.85316\n",
        "printing  lbound"
       ]
      },
      {
       "output_type": "stream",
       "stream": "stdout",
       "text": [
        " -14685.9966533\n",
        "printing self.lowerbound -5985509.71698\n",
        "printing  lbound -14316.2278626\n",
        "printing self.lowerbound -6000195.71363\n",
        "printing  lbound"
       ]
      },
      {
       "output_type": "stream",
       "stream": "stdout",
       "text": [
        " -15583.8225618\n",
        "printing self.lowerbound -6014511.94149\n",
        "printing  lbound -15254.8938549\n",
        "printing self.lowerbound -6030095.76405\n",
        "printing  lbound"
       ]
      },
      {
       "output_type": "stream",
       "stream": "stdout",
       "text": [
        " -14674.0168126\n",
        "printing self.lowerbound -6045350.65791\n",
        "printing  lbound -14629.5579401\n",
        "printing self.lowerbound -6060024.67472\n",
        "printing  lbound"
       ]
      },
      {
       "output_type": "stream",
       "stream": "stdout",
       "text": [
        " -14402.3269846\n",
        "printing self.lowerbound -6074654.23266\n",
        "printing  lbound -14184.6853426\n",
        "printing self.lowerbound -6089056.55965\n",
        "printing  lbound"
       ]
      },
      {
       "output_type": "stream",
       "stream": "stdout",
       "text": [
        " -14502.1983831\n",
        "printing self.lowerbound -6103241.24499\n",
        "printing  lbound -15133.7120522\n",
        "printing self.lowerbound -6117743.44337\n",
        "printing  lbound"
       ]
      },
      {
       "output_type": "stream",
       "stream": "stdout",
       "text": [
        " -14981.1476345\n",
        "printing self.lowerbound -6132877.15542\n",
        "printing  lbound -15826.1134895\n",
        "printing self.lowerbound -6147858.30306\n",
        "printing  lbound"
       ]
      },
      {
       "output_type": "stream",
       "stream": "stdout",
       "text": [
        " -15528.9826528\n",
        "printing self.lowerbound -6163684.41655\n",
        "printing  lbound -14447.1647456\n",
        "printing self.lowerbound -6179213.3992\n",
        "printing  lbound"
       ]
      },
      {
       "output_type": "stream",
       "stream": "stdout",
       "text": [
        " -14162.6640952\n",
        "printing self.lowerbound -6193660.56395\n",
        "printing  lbound -14146.0527268\n",
        "printing self.lowerbound -6207823.22804\n",
        "printing  lbound"
       ]
      },
      {
       "output_type": "stream",
       "stream": "stdout",
       "text": [
        " -14329.634878\n",
        "printing self.lowerbound -6221969.28077\n",
        "printing  lbound -14575.3174419\n",
        "printing self.lowerbound -6236298.91565\n",
        "printing  lbound"
       ]
      },
      {
       "output_type": "stream",
       "stream": "stdout",
       "text": [
        " -14276.6461096\n",
        "printing self.lowerbound -6250874.23309\n",
        "printing  lbound -13634.7571956\n",
        "printing self.lowerbound -6265150.8792\n",
        "printing  lbound"
       ]
      },
      {
       "output_type": "stream",
       "stream": "stdout",
       "text": [
        " -14604.1155088\n",
        "printing self.lowerbound -6278785.63639\n",
        "printing  lbound -15693.495107\n",
        "printing self.lowerbound -6293389.7519\n",
        "printing  lbound"
       ]
      },
      {
       "output_type": "stream",
       "stream": "stdout",
       "text": [
        " -14898.9532731\n",
        "printing self.lowerbound -6309083.24701\n",
        "printing  lbound -14678.2411036\n",
        "printing self.lowerbound -6323982.20028\n",
        "printing  lbound"
       ]
      },
      {
       "output_type": "stream",
       "stream": "stdout",
       "text": [
        " -15225.7569794\n",
        "printing self.lowerbound -6338660.44139\n",
        "printing  lbound -14730.8379119\n",
        "printing self.lowerbound -6353886.19837\n",
        "printing  lbound"
       ]
      },
      {
       "output_type": "stream",
       "stream": "stdout",
       "text": [
        " -14532.8821863\n",
        "printing self.lowerbound -6368617.03628\n",
        "printing  lbound -14659.8708411\n",
        "printing self.lowerbound -6383149.91846\n",
        "printing  lbound"
       ]
      },
      {
       "output_type": "stream",
       "stream": "stdout",
       "text": [
        " -13467.0858403\n",
        "printing self.lowerbound -6397809.7893\n",
        "printing  lbound -13948.3973048\n",
        "printing self.lowerbound -6411276.87514\n",
        "printing  lbound"
       ]
      },
      {
       "output_type": "stream",
       "stream": "stdout",
       "text": [
        " -14337.3456576\n",
        "printing self.lowerbound -6425225.27245\n",
        "printing  lbound -14238.933129\n",
        "printing self.lowerbound -6439562.61811\n",
        "printing  lbound"
       ]
      },
      {
       "output_type": "stream",
       "stream": "stdout",
       "text": [
        " -14428.9633886\n",
        "printing self.lowerbound -6453801.55124\n",
        "printing  lbound -14953.2685519\n",
        "printing self.lowerbound -6468230.51462\n",
        "printing  lbound"
       ]
      },
      {
       "output_type": "stream",
       "stream": "stdout",
       "text": [
        " -14204.5020741\n",
        "printing self.lowerbound -6483183.78318\n",
        "printing  lbound -13825.4234324\n",
        "printing self.lowerbound -6497388.28525\n",
        "printing  lbound"
       ]
      },
      {
       "output_type": "stream",
       "stream": "stdout",
       "text": [
        " -14872.2929964\n",
        "printing self.lowerbound -6511213.70868\n",
        "printing  lbound -13748.5223375\n",
        "printing self.lowerbound -6526086.00168\n",
        "printing  lbound"
       ]
      },
      {
       "output_type": "stream",
       "stream": "stdout",
       "text": [
        " -15247.2461785\n",
        "printing self.lowerbound -6539834.52402\n",
        "printing  lbound -15386.7848799\n",
        "printing self.lowerbound -6555081.7702\n",
        "printing  lbound"
       ]
      },
      {
       "output_type": "stream",
       "stream": "stdout",
       "text": [
        " -15414.0634271\n",
        "printing self.lowerbound -6570468.55508\n",
        "printing  lbound -14945.5737347\n",
        "printing self.lowerbound -6585882.6185\n",
        "printing  lbound"
       ]
      },
      {
       "output_type": "stream",
       "stream": "stdout",
       "text": [
        " -15038.01571\n",
        "printing self.lowerbound -6600828.19224\n",
        "printing  lbound -14292.7323889\n",
        "printing self.lowerbound -6615866.20795\n",
        "printing  lbound"
       ]
      },
      {
       "output_type": "stream",
       "stream": "stdout",
       "text": [
        " -13937.7696591\n",
        "printing self.lowerbound -6630158.94034\n",
        "printing  lbound -14992.9604853\n",
        "printing self.lowerbound -6644096.71\n",
        "printing  lbound"
       ]
      },
      {
       "output_type": "stream",
       "stream": "stdout",
       "text": [
        " -14774.6425438\n",
        "printing self.lowerbound -6659089.67048\n",
        "printing  lbound -14764.7622634\n",
        "printing self.lowerbound -6673864.31302\n",
        "printing  lbound"
       ]
      },
      {
       "output_type": "stream",
       "stream": "stdout",
       "text": [
        " -14445.5050273\n",
        "printing self.lowerbound -6688629.07529\n",
        "printing  lbound -15055.6467445\n",
        "printing self.lowerbound -6703074.58032\n",
        "printing  lbound"
       ]
      },
      {
       "output_type": "stream",
       "stream": "stdout",
       "text": [
        " -15303.6009873\n",
        "printing self.lowerbound -6718130.22706\n",
        "printing  lbound -14688.1302357\n",
        "printing self.lowerbound -6733433.82805\n",
        "printing  lbound"
       ]
      },
      {
       "output_type": "stream",
       "stream": "stdout",
       "text": [
        " -15056.942479\n",
        "printing self.lowerbound -6748121.95828\n",
        "printing  lbound"
       ]
      },
      {
       "output_type": "stream",
       "stream": "stdout",
       "text": [
        " -14587.0639826\n",
        "printing self.lowerbound -6763178.90076\n",
        "printing  lbound"
       ]
      },
      {
       "output_type": "stream",
       "stream": "stdout",
       "text": [
        " -14863.9886927\n",
        "printing self.lowerbound -6777765.96474\n",
        "printing  lbound"
       ]
      },
      {
       "output_type": "stream",
       "stream": "stdout",
       "text": [
        " -15013.5737496\n",
        "printing self.lowerbound -6792629.95344\n",
        "printing  lbound -15044.6955696\n",
        "printing self.lowerbound -6807643.52719\n",
        "printing  lbound"
       ]
      },
      {
       "output_type": "stream",
       "stream": "stdout",
       "text": [
        " -14407.3941046\n",
        "printing self.lowerbound -6822688.22276\n",
        "printing  lbound"
       ]
      },
      {
       "output_type": "stream",
       "stream": "stdout",
       "text": [
        " -14791.7289429\n",
        "printing self.lowerbound -6837095.61686\n",
        "printing  lbound -14264.0991407\n",
        "printing self.lowerbound -6851887.3458\n",
        "printing  lbound"
       ]
      },
      {
       "output_type": "stream",
       "stream": "stdout",
       "text": [
        " -15265.0558099\n",
        "printing self.lowerbound -6866151.44494\n",
        "printing  lbound"
       ]
      },
      {
       "output_type": "stream",
       "stream": "stdout",
       "text": [
        " -15220.9616343\n",
        "printing self.lowerbound -6881416.50075\n",
        "printing  lbound"
       ]
      },
      {
       "output_type": "stream",
       "stream": "stdout",
       "text": [
        " -14988.1556602\n",
        "printing self.lowerbound -6896637.46239\n",
        "printing  lbound -14641.3833782\n",
        "printing self.lowerbound -6911625.61805\n",
        "printing  lbound"
       ]
      },
      {
       "output_type": "stream",
       "stream": "stdout",
       "text": [
        " -15227.4766006\n",
        "printing self.lowerbound -6926267.00143\n",
        "printing  lbound -14713.0197168\n",
        "printing self.lowerbound -6941494.47803\n",
        "printing  lbound"
       ]
      },
      {
       "output_type": "stream",
       "stream": "stdout",
       "text": [
        " -15622.0434193\n",
        "printing self.lowerbound -6956207.49774\n",
        "printing  lbound -14351.5609554\n",
        "printing self.lowerbound -6971829.54116\n",
        "printing  lbound"
       ]
      },
      {
       "output_type": "stream",
       "stream": "stdout",
       "text": [
        " -14179.2709859\n",
        "printing self.lowerbound -6986181.10212\n",
        "printing  lbound"
       ]
      },
      {
       "output_type": "stream",
       "stream": "stdout",
       "text": [
        " -14712.5253045\n",
        "printing self.lowerbound -7000360.3731\n",
        "printing  lbound"
       ]
      },
      {
       "output_type": "stream",
       "stream": "stdout",
       "text": [
        " -14479.8084391\n",
        "printing self.lowerbound -7015072.89841\n",
        "printing  lbound"
       ]
      },
      {
       "output_type": "stream",
       "stream": "stdout",
       "text": [
        " -14213.1672277\n",
        "printing self.lowerbound -7029552.70685\n",
        "printing  lbound"
       ]
      },
      {
       "output_type": "stream",
       "stream": "stdout",
       "text": [
        " -15275.0636707\n",
        "printing self.lowerbound -7043765.87408\n",
        "printing  lbound -15222.8060043\n",
        "printing self.lowerbound -7059040.93775\n",
        "printing  lbound"
       ]
      },
      {
       "output_type": "stream",
       "stream": "stdout",
       "text": [
        " -16104.1244534\n",
        "printing self.lowerbound -7074263.74375\n",
        "printing  lbound -14923.1305484\n",
        "printing self.lowerbound -7090367.8682\n",
        "printing  lbound"
       ]
      },
      {
       "output_type": "stream",
       "stream": "stdout",
       "text": [
        " -14270.4353242\n",
        "printing self.lowerbound -7105290.99875\n",
        "printing  lbound -14061.9338153\n",
        "printing self.lowerbound -7119561.43408\n",
        "printing  lbound"
       ]
      },
      {
       "output_type": "stream",
       "stream": "stdout",
       "text": [
        " -14536.6362102\n",
        "printing self.lowerbound -7133623.36789\n",
        "printing  lbound"
       ]
      },
      {
       "output_type": "stream",
       "stream": "stdout",
       "text": [
        " -14103.6264985\n",
        "printing self.lowerbound -7148160.0041\n",
        "printing  lbound"
       ]
      },
      {
       "output_type": "stream",
       "stream": "stdout",
       "text": [
        " -15058.1550821\n",
        "printing self.lowerbound -7162263.6306\n",
        "printing  lbound -14902.8068699\n",
        "printing self.lowerbound -7177321.78568\n",
        "printing  lbound"
       ]
      },
      {
       "output_type": "stream",
       "stream": "stdout",
       "text": [
        " -15093.9566582\n",
        "printing self.lowerbound -7192224.59255\n",
        "printing  lbound"
       ]
      },
      {
       "output_type": "stream",
       "stream": "stdout",
       "text": [
        " -15382.5418795\n",
        "printing self.lowerbound -7207318.54921\n",
        "printing  lbound"
       ]
      },
      {
       "output_type": "stream",
       "stream": "stdout",
       "text": [
        " -14959.2717188\n",
        "printing self.lowerbound -7222701.09109\n",
        "printing  lbound -14943.6506645\n",
        "printing self.lowerbound -7237660.36281\n",
        "printing  lbound"
       ]
      },
      {
       "output_type": "stream",
       "stream": "stdout",
       "text": [
        " -14269.2198334\n",
        "printing self.lowerbound -7252604.01347\n",
        "printing  lbound -14436.1352479"
       ]
      },
      {
       "output_type": "stream",
       "stream": "stdout",
       "text": [
        "\n",
        "printing self.lowerbound -7266873.23331\n",
        "printing  lbound -14649.6175513\n",
        "printing self.lowerbound -7281309.36856\n",
        "printing  lbound"
       ]
      },
      {
       "output_type": "stream",
       "stream": "stdout",
       "text": [
        " -15996.3663934\n",
        "printing self.lowerbound -7295958.98611\n",
        "printing  lbound -15230.2660635\n",
        "printing self.lowerbound -7311955.3525\n",
        "printing  lbound"
       ]
      },
      {
       "output_type": "stream",
       "stream": "stdout",
       "text": [
        " -14096.2820974\n",
        "printing self.lowerbound -7327185.61856\n",
        "printing  lbound -15403.2213969\n",
        "printing self.lowerbound -7341281.90066\n",
        "printing  lbound"
       ]
      },
      {
       "output_type": "stream",
       "stream": "stdout",
       "text": [
        " -15727.3782973\n",
        "printing self.lowerbound -7356685.12206\n",
        "printing  lbound -14820.7869329\n",
        "printing self.lowerbound -7372412.50036\n",
        "printing  lbound"
       ]
      },
      {
       "output_type": "stream",
       "stream": "stdout",
       "text": [
        " -15293.4605254\n",
        "printing self.lowerbound -7387233.28729\n",
        "printing  lbound -15023.428116\n",
        "printing self.lowerbound -7402526.74781\n",
        "Iteration 5, lower bound = -148.35, time = 22.48s"
       ]
      },
      {
       "output_type": "stream",
       "stream": "stdout",
       "text": [
        "\n",
        "Calculating test lowerbound\n",
        "Iteration:"
       ]
      },
      {
       "output_type": "stream",
       "stream": "stdout",
       "text": [
        " 6\n",
        "printing  lbound -13983.8510241\n",
        "printing self.lowerbound 0\n",
        "printing  lbound"
       ]
      },
      {
       "output_type": "stream",
       "stream": "stdout",
       "text": [
        " -14438.3044161\n",
        "printing self.lowerbound -13983.8510241\n",
        "printing  lbound -14478.5104306\n",
        "printing self.lowerbound -28422.1554402\n",
        "printing  lbound"
       ]
      },
      {
       "output_type": "stream",
       "stream": "stdout",
       "text": [
        " -13709.2283337\n",
        "printing self.lowerbound -42900.6658708\n",
        "printing  lbound"
       ]
      },
      {
       "output_type": "stream",
       "stream": "stdout",
       "text": [
        " -14599.7953963\n",
        "printing self.lowerbound -56609.8942045\n",
        "printing  lbound"
       ]
      },
      {
       "output_type": "stream",
       "stream": "stdout",
       "text": [
        " -14876.4071693\n",
        "printing self.lowerbound -71209.6896008\n",
        "printing  lbound -14322.1874839\n",
        "printing self.lowerbound -86086.0967701\n",
        "printing  lbound"
       ]
      },
      {
       "output_type": "stream",
       "stream": "stdout",
       "text": [
        " -14589.0340151\n",
        "printing self.lowerbound -100408.284254\n",
        "printing  lbound"
       ]
      },
      {
       "output_type": "stream",
       "stream": "stdout",
       "text": [
        " -14644.877469\n",
        "printing self.lowerbound -114997.318269\n",
        "printing  lbound"
       ]
      },
      {
       "output_type": "stream",
       "stream": "stdout",
       "text": [
        " -14622.1664237\n",
        "printing self.lowerbound -129642.195738\n",
        "printing  lbound -14101.8844414\n",
        "printing self.lowerbound -144264.362162\n",
        "printing  lbound"
       ]
      },
      {
       "output_type": "stream",
       "stream": "stdout",
       "text": [
        " -14462.2968383\n",
        "printing self.lowerbound -158366.246603\n",
        "printing  lbound"
       ]
      },
      {
       "output_type": "stream",
       "stream": "stdout",
       "text": [
        " -14555.6106885\n",
        "printing self.lowerbound -172828.543441\n",
        "printing  lbound -14375.4081167\n",
        "printing self.lowerbound -187384.15413\n",
        "printing  lbound"
       ]
      },
      {
       "output_type": "stream",
       "stream": "stdout",
       "text": [
        " -14730.3475736\n",
        "printing self.lowerbound -201759.562247\n",
        "printing  lbound -14796.8695996\n",
        "printing self.lowerbound -216489.90982\n",
        "printing  lbound"
       ]
      },
      {
       "output_type": "stream",
       "stream": "stdout",
       "text": [
        " -14090.1529581\n",
        "printing self.lowerbound -231286.77942\n",
        "printing  lbound -14109.1169804\n",
        "printing self.lowerbound -245376.932378\n",
        "printing  lbound"
       ]
      },
      {
       "output_type": "stream",
       "stream": "stdout",
       "text": [
        " -14112.1294906\n",
        "printing self.lowerbound -259486.049358\n",
        "printing  lbound -13893.4984825\n",
        "printing self.lowerbound -273598.178849\n",
        "printing  lbound"
       ]
      },
      {
       "output_type": "stream",
       "stream": "stdout",
       "text": [
        " -14010.2232516\n",
        "printing self.lowerbound -287491.677331\n",
        "printing  lbound -13950.883263\n",
        "printing self.lowerbound -301501.900583\n",
        "printing  lbound"
       ]
      },
      {
       "output_type": "stream",
       "stream": "stdout",
       "text": [
        " -15336.5937354\n",
        "printing self.lowerbound -315452.783846\n",
        "printing  lbound -14583.7482147\n",
        "printing self.lowerbound -330789.377581\n",
        "printing  lbound"
       ]
      },
      {
       "output_type": "stream",
       "stream": "stdout",
       "text": [
        " -14392.324835\n",
        "printing self.lowerbound -345373.125796\n",
        "printing  lbound -14795.5983027\n",
        "printing self.lowerbound -359765.450631\n",
        "printing  lbound"
       ]
      },
      {
       "output_type": "stream",
       "stream": "stdout",
       "text": [
        " -14919.8257034\n",
        "printing self.lowerbound -374561.048934\n",
        "printing  lbound -15007.3007382\n",
        "printing self.lowerbound -389480.874637\n",
        "printing  lbound"
       ]
      },
      {
       "output_type": "stream",
       "stream": "stdout",
       "text": [
        " -15120.9324331\n",
        "printing self.lowerbound -404488.175375\n",
        "printing  lbound -14028.5337482\n",
        "printing self.lowerbound -419609.107808\n",
        "printing  lbound"
       ]
      },
      {
       "output_type": "stream",
       "stream": "stdout",
       "text": [
        " -15216.4838244\n",
        "printing self.lowerbound -433637.641557\n",
        "printing  lbound -13980.8394023\n",
        "printing self.lowerbound -448854.125381\n",
        "printing  lbound"
       ]
      },
      {
       "output_type": "stream",
       "stream": "stdout",
       "text": [
        " -13265.0139218\n",
        "printing self.lowerbound -462834.964783\n",
        "printing  lbound -14090.8966296\n",
        "printing self.lowerbound -476099.978705\n",
        "printing  lbound"
       ]
      },
      {
       "output_type": "stream",
       "stream": "stdout",
       "text": [
        " -13557.4273495\n",
        "printing self.lowerbound -490190.875335\n",
        "printing  lbound -14998.0552143\n",
        "printing self.lowerbound -503748.302684\n",
        "printing  lbound"
       ]
      },
      {
       "output_type": "stream",
       "stream": "stdout",
       "text": [
        " -15765.6315433\n",
        "printing self.lowerbound -518746.357899\n",
        "printing  lbound"
       ]
      },
      {
       "output_type": "stream",
       "stream": "stdout",
       "text": [
        " -15228.9235249\n",
        "printing self.lowerbound -534511.989442\n",
        "printing  lbound -14493.6605206\n",
        "printing self.lowerbound -549740.912967\n",
        "printing  lbound"
       ]
      },
      {
       "output_type": "stream",
       "stream": "stdout",
       "text": [
        " -14410.5885895\n",
        "printing self.lowerbound -564234.573487\n",
        "printing  lbound"
       ]
      },
      {
       "output_type": "stream",
       "stream": "stdout",
       "text": [
        " -14460.7502926\n",
        "printing self.lowerbound -578645.162077\n",
        "printing  lbound"
       ]
      },
      {
       "output_type": "stream",
       "stream": "stdout",
       "text": [
        " -13948.8512429\n",
        "printing self.lowerbound -593105.912369\n",
        "printing  lbound"
       ]
      },
      {
       "output_type": "stream",
       "stream": "stdout",
       "text": [
        " -14674.3229345\n",
        "printing self.lowerbound -607054.763612\n",
        "printing  lbound -14281.031712\n",
        "printing self.lowerbound -621729.086547\n",
        "printing  lbound"
       ]
      },
      {
       "output_type": "stream",
       "stream": "stdout",
       "text": [
        " -14944.4219272\n",
        "printing self.lowerbound -636010.118259\n",
        "printing  lbound"
       ]
      },
      {
       "output_type": "stream",
       "stream": "stdout",
       "text": [
        " -14229.4663707\n",
        "printing self.lowerbound -650954.540186\n",
        "printing  lbound -14952.881938\n",
        "printing self.lowerbound -665184.006557\n",
        "printing  lbound"
       ]
      },
      {
       "output_type": "stream",
       "stream": "stdout",
       "text": [
        " -16001.1548031\n",
        "printing self.lowerbound -680136.888495\n",
        "printing  lbound"
       ]
      },
      {
       "output_type": "stream",
       "stream": "stdout",
       "text": [
        " -16347.7905379\n",
        "printing self.lowerbound -696138.043298\n",
        "printing  lbound -13756.3536824\n",
        "printing self.lowerbound -712485.833836\n",
        "printing  lbound"
       ]
      },
      {
       "output_type": "stream",
       "stream": "stdout",
       "text": [
        " -14514.1470477\n",
        "printing self.lowerbound -726242.187518\n",
        "printing  lbound"
       ]
      },
      {
       "output_type": "stream",
       "stream": "stdout",
       "text": [
        " -15405.0992554\n",
        "printing self.lowerbound -740756.334566\n",
        "printing  lbound"
       ]
      },
      {
       "output_type": "stream",
       "stream": "stdout",
       "text": [
        " -14236.2982524\n",
        "printing self.lowerbound -756161.433821\n",
        "printing  lbound"
       ]
      },
      {
       "output_type": "stream",
       "stream": "stdout",
       "text": [
        " -15260.965755\n",
        "printing self.lowerbound -770397.732073\n",
        "printing  lbound"
       ]
      },
      {
       "output_type": "stream",
       "stream": "stdout",
       "text": [
        " -14208.9330723\n",
        "printing self.lowerbound -785658.697828\n",
        "printing  lbound -14180.9568747\n",
        "printing self.lowerbound -799867.630901\n",
        "printing  lbound"
       ]
      },
      {
       "output_type": "stream",
       "stream": "stdout",
       "text": [
        " -15116.2385007\n",
        "printing self.lowerbound -814048.587775\n",
        "printing  lbound -13940.9513047\n",
        "printing self.lowerbound -829164.826276\n",
        "printing  lbound"
       ]
      },
      {
       "output_type": "stream",
       "stream": "stdout",
       "text": [
        " -14220.9415233\n",
        "printing self.lowerbound -843105.777581\n",
        "printing  lbound"
       ]
      },
      {
       "output_type": "stream",
       "stream": "stdout",
       "text": [
        " -14225.1273885\n",
        "printing self.lowerbound -857326.719104\n",
        "printing  lbound -14248.5590764\n",
        "printing self.lowerbound -871551.846493\n",
        "printing  lbound"
       ]
      },
      {
       "output_type": "stream",
       "stream": "stdout",
       "text": [
        " -14391.3689122\n",
        "printing self.lowerbound -885800.405569\n",
        "printing  lbound -13991.7316085\n",
        "printing self.lowerbound -900191.774481\n",
        "printing  lbound"
       ]
      },
      {
       "output_type": "stream",
       "stream": "stdout",
       "text": [
        " -14345.5019756\n",
        "printing self.lowerbound -914183.50609\n",
        "printing  lbound -14343.6735403\n",
        "printing self.lowerbound -928529.008065\n",
        "printing  lbound"
       ]
      },
      {
       "output_type": "stream",
       "stream": "stdout",
       "text": [
        " -13913.017717\n",
        "printing self.lowerbound -942872.681606\n",
        "printing  lbound -13726.0599437\n",
        "printing self.lowerbound -956785.699323\n",
        "printing  lbound"
       ]
      },
      {
       "output_type": "stream",
       "stream": "stdout",
       "text": [
        " -13694.7409144\n",
        "printing self.lowerbound -970511.759266\n",
        "printing  lbound -14498.4453632\n",
        "printing self.lowerbound -984206.500181\n",
        "printing  lbound"
       ]
      },
      {
       "output_type": "stream",
       "stream": "stdout",
       "text": [
        " -14308.1666568\n",
        "printing self.lowerbound -998704.945544\n",
        "printing  lbound -14118.7440468\n",
        "printing self.lowerbound -1013013.1122\n",
        "printing  lbound"
       ]
      },
      {
       "output_type": "stream",
       "stream": "stdout",
       "text": [
        " -14419.57413\n",
        "printing self.lowerbound -1027131.85625\n",
        "printing  lbound -14852.5778766\n",
        "printing self.lowerbound -1041551.43038\n",
        "printing  lbound"
       ]
      },
      {
       "output_type": "stream",
       "stream": "stdout",
       "text": [
        " -14318.8265978\n",
        "printing self.lowerbound -1056404.00825\n",
        "printing  lbound -13982.1824026\n",
        "printing self.lowerbound -1070722.83485\n",
        "printing  lbound"
       ]
      },
      {
       "output_type": "stream",
       "stream": "stdout",
       "text": [
        " -13990.008998\n",
        "printing self.lowerbound -1084705.01725\n",
        "printing  lbound -14202.8108829\n",
        "printing self.lowerbound -1098695.02625\n",
        "printing  lbound"
       ]
      },
      {
       "output_type": "stream",
       "stream": "stdout",
       "text": [
        " -14656.676664\n",
        "printing self.lowerbound -1112897.83714\n",
        "printing  lbound -15044.6684727\n",
        "printing self.lowerbound -1127554.5138\n",
        "printing  lbound"
       ]
      },
      {
       "output_type": "stream",
       "stream": "stdout",
       "text": [
        " -14541.2279031\n",
        "printing self.lowerbound -1142599.18227\n",
        "printing  lbound -15070.6806505\n",
        "printing self.lowerbound -1157140.41018\n",
        "printing  lbound"
       ]
      },
      {
       "output_type": "stream",
       "stream": "stdout",
       "text": [
        " -13559.9295166\n",
        "printing self.lowerbound -1172211.09083\n",
        "printing  lbound -14557.3634063\n",
        "printing self.lowerbound -1185771.02034\n",
        "printing  lbound"
       ]
      },
      {
       "output_type": "stream",
       "stream": "stdout",
       "text": [
        " -14312.6386265\n",
        "printing self.lowerbound -1200328.38375\n",
        "printing  lbound -14414.4900732\n",
        "printing self.lowerbound -1214641.02238\n",
        "printing  lbound"
       ]
      },
      {
       "output_type": "stream",
       "stream": "stdout",
       "text": [
        " -14245.6812557\n",
        "printing self.lowerbound -1229055.51245\n",
        "printing  lbound -14754.3793668\n",
        "printing self.lowerbound -1243301.1937\n",
        "printing  lbound"
       ]
      },
      {
       "output_type": "stream",
       "stream": "stdout",
       "text": [
        " -14794.3477503\n",
        "printing self.lowerbound -1258055.57307\n",
        "printing  lbound -14058.7581777\n",
        "printing self.lowerbound -1272849.92082\n",
        "printing  lbound"
       ]
      },
      {
       "output_type": "stream",
       "stream": "stdout",
       "text": [
        " -14329.3274482\n",
        "printing self.lowerbound -1286908.679\n",
        "printing  lbound -14252.9810256\n",
        "printing self.lowerbound -1301238.00645\n",
        "printing  lbound"
       ]
      },
      {
       "output_type": "stream",
       "stream": "stdout",
       "text": [
        " -14397.7613129\n",
        "printing self.lowerbound -1315490.98747\n",
        "printing  lbound -13684.7344001\n",
        "printing self.lowerbound -1329888.74879\n",
        "printing  lbound"
       ]
      },
      {
       "output_type": "stream",
       "stream": "stdout",
       "text": [
        " -15356.8947794\n",
        "printing self.lowerbound -1343573.48319\n",
        "printing  lbound -15321.5882699\n",
        "printing self.lowerbound -1358930.37797\n",
        "printing  lbound"
       ]
      },
      {
       "output_type": "stream",
       "stream": "stdout",
       "text": [
        " -15097.2347445\n",
        "printing self.lowerbound -1374251.96624\n",
        "printing  lbound -14975.8571047\n",
        "printing self.lowerbound -1389349.20098\n",
        "printing  lbound"
       ]
      },
      {
       "output_type": "stream",
       "stream": "stdout",
       "text": [
        " -14798.6487152\n",
        "printing self.lowerbound -1404325.05808\n",
        "printing  lbound -14953.8942935\n",
        "printing self.lowerbound -1419123.7068\n",
        "printing  lbound"
       ]
      },
      {
       "output_type": "stream",
       "stream": "stdout",
       "text": [
        " -14412.1183634\n",
        "printing self.lowerbound -1434077.60109\n",
        "printing  lbound -14397.1014701\n",
        "printing self.lowerbound -1448489.71946\n",
        "printing  lbound"
       ]
      },
      {
       "output_type": "stream",
       "stream": "stdout",
       "text": [
        " -13436.1609663\n",
        "printing self.lowerbound -1462886.82093\n",
        "printing  lbound -14849.5360491\n",
        "printing self.lowerbound -1476322.98189\n",
        "printing  lbound"
       ]
      },
      {
       "output_type": "stream",
       "stream": "stdout",
       "text": [
        " -14729.1915198\n",
        "printing self.lowerbound -1491172.51794\n",
        "printing  lbound -14739.2560395\n",
        "printing self.lowerbound -1505901.70946\n",
        "printing  lbound"
       ]
      },
      {
       "output_type": "stream",
       "stream": "stdout",
       "text": [
        " -14342.1775249\n",
        "printing self.lowerbound -1520640.9655\n",
        "printing  lbound -14155.0302336\n",
        "printing self.lowerbound -1534983.14303\n",
        "printing  lbound"
       ]
      },
      {
       "output_type": "stream",
       "stream": "stdout",
       "text": [
        " -14540.5562343\n",
        "printing self.lowerbound -1549138.17326\n",
        "printing  lbound"
       ]
      },
      {
       "output_type": "stream",
       "stream": "stdout",
       "text": [
        " -13610.8419416\n",
        "printing self.lowerbound -1563678.72949\n",
        "printing  lbound"
       ]
      },
      {
       "output_type": "stream",
       "stream": "stdout",
       "text": [
        " -14064.5549545\n",
        "printing self.lowerbound -1577289.57144\n",
        "printing  lbound -14139.706269\n",
        "printing self.lowerbound -1591354.12639\n",
        "printing  lbound"
       ]
      },
      {
       "output_type": "stream",
       "stream": "stdout",
       "text": [
        " -14154.3124811\n",
        "printing self.lowerbound -1605493.83266\n",
        "printing  lbound -13830.0746162\n",
        "printing self.lowerbound -1619648.14514\n",
        "printing  lbound"
       ]
      },
      {
       "output_type": "stream",
       "stream": "stdout",
       "text": [
        " -13963.043351\n",
        "printing self.lowerbound -1633478.21976\n",
        "printing  lbound -13854.7346878\n",
        "printing self.lowerbound -1647441.26311\n",
        "printing  lbound"
       ]
      },
      {
       "output_type": "stream",
       "stream": "stdout",
       "text": [
        " -14107.6297342\n",
        "printing self.lowerbound -1661295.9978\n",
        "printing  lbound -13778.4743218\n",
        "printing self.lowerbound -1675403.62753\n",
        "printing  lbound"
       ]
      },
      {
       "output_type": "stream",
       "stream": "stdout",
       "text": [
        " -13818.4223877\n",
        "printing self.lowerbound -1689182.10185\n",
        "printing  lbound -13815.5927631\n",
        "printing self.lowerbound -1703000.52424\n",
        "printing  lbound"
       ]
      },
      {
       "output_type": "stream",
       "stream": "stdout",
       "text": [
        " -13797.8290532\n",
        "printing self.lowerbound -1716816.117\n",
        "printing  lbound -14054.7348102\n",
        "printing self.lowerbound -1730613.94606\n",
        "printing  lbound"
       ]
      },
      {
       "output_type": "stream",
       "stream": "stdout",
       "text": [
        " -14148.0738163\n",
        "printing self.lowerbound -1744668.68087\n",
        "printing  lbound -14956.2908883\n",
        "printing self.lowerbound -1758816.75468\n",
        "printing  lbound"
       ]
      },
      {
       "output_type": "stream",
       "stream": "stdout",
       "text": [
        " -15058.5739387\n",
        "printing self.lowerbound -1773773.04557\n",
        "printing  lbound -15129.6051944\n",
        "printing self.lowerbound -1788831.61951\n",
        "printing  lbound"
       ]
      },
      {
       "output_type": "stream",
       "stream": "stdout",
       "text": [
        " -15198.1879098\n",
        "printing self.lowerbound -1803961.2247\n",
        "printing  lbound -15894.1877359\n",
        "printing self.lowerbound -1819159.41261\n",
        "printing  lbound"
       ]
      },
      {
       "output_type": "stream",
       "stream": "stdout",
       "text": [
        " -15005.6692495\n",
        "printing self.lowerbound -1835053.60035\n",
        "printing  lbound -14621.4412447\n",
        "printing self.lowerbound -1850059.2696\n",
        "printing  lbound"
       ]
      },
      {
       "output_type": "stream",
       "stream": "stdout",
       "text": [
        " -15216.8776289\n",
        "printing self.lowerbound -1864680.71084\n",
        "printing  lbound -14960.837495\n",
        "printing self.lowerbound -1879897.58847\n",
        "printing  lbound"
       ]
      },
      {
       "output_type": "stream",
       "stream": "stdout",
       "text": [
        " -14688.8401679\n",
        "printing self.lowerbound -1894858.42597\n",
        "printing  lbound"
       ]
      },
      {
       "output_type": "stream",
       "stream": "stdout",
       "text": [
        " -15370.2868539\n",
        "printing self.lowerbound -1909547.26613\n",
        "printing  lbound"
       ]
      },
      {
       "output_type": "stream",
       "stream": "stdout",
       "text": [
        " -14925.484927\n",
        "printing self.lowerbound -1924917.55299\n",
        "printing  lbound"
       ]
      },
      {
       "output_type": "stream",
       "stream": "stdout",
       "text": [
        " -14858.7267558\n",
        "printing self.lowerbound -1939843.03792\n",
        "printing  lbound"
       ]
      },
      {
       "output_type": "stream",
       "stream": "stdout",
       "text": [
        " -14462.5412446\n",
        "printing self.lowerbound -1954701.76467\n",
        "printing  lbound"
       ]
      },
      {
       "output_type": "stream",
       "stream": "stdout",
       "text": [
        " -14428.1521502\n",
        "printing self.lowerbound -1969164.30592\n",
        "printing  lbound -14148.6049719\n",
        "printing self.lowerbound -1983592.45807\n",
        "printing  lbound"
       ]
      },
      {
       "output_type": "stream",
       "stream": "stdout",
       "text": [
        " -14673.0083388\n",
        "printing self.lowerbound -1997741.06304\n",
        "printing  lbound -15260.7655709\n",
        "printing self.lowerbound -2012414.07138\n",
        "printing  lbound"
       ]
      },
      {
       "output_type": "stream",
       "stream": "stdout",
       "text": [
        " -14783.8987252\n",
        "printing self.lowerbound -2027674.83695\n",
        "printing  lbound"
       ]
      },
      {
       "output_type": "stream",
       "stream": "stdout",
       "text": [
        " -15587.2759317\n",
        "printing self.lowerbound -2042458.73567\n",
        "printing  lbound -14706.5306195\n",
        "printing self.lowerbound -2058046.0116\n",
        "printing  lbound"
       ]
      },
      {
       "output_type": "stream",
       "stream": "stdout",
       "text": [
        " -15204.0812865\n",
        "printing self.lowerbound -2072752.54222\n",
        "printing  lbound"
       ]
      },
      {
       "output_type": "stream",
       "stream": "stdout",
       "text": [
        " -14763.0012983\n",
        "printing self.lowerbound -2087956.62351\n",
        "printing  lbound"
       ]
      },
      {
       "output_type": "stream",
       "stream": "stdout",
       "text": [
        " -14213.3412766\n",
        "printing self.lowerbound -2102719.62481\n",
        "printing  lbound"
       ]
      },
      {
       "output_type": "stream",
       "stream": "stdout",
       "text": [
        " -15503.093929\n",
        "printing self.lowerbound -2116932.96609\n",
        "printing  lbound"
       ]
      },
      {
       "output_type": "stream",
       "stream": "stdout",
       "text": [
        " -15422.4388818\n",
        "printing self.lowerbound -2132436.06001\n",
        "printing  lbound"
       ]
      },
      {
       "output_type": "stream",
       "stream": "stdout",
       "text": [
        " -15320.2803569\n",
        "printing self.lowerbound -2147858.4989\n",
        "printing  lbound"
       ]
      },
      {
       "output_type": "stream",
       "stream": "stdout",
       "text": [
        " -13416.4878764\n",
        "printing self.lowerbound -2163178.77925\n",
        "printing  lbound"
       ]
      },
      {
       "output_type": "stream",
       "stream": "stdout",
       "text": [
        " -14257.2350209\n",
        "printing self.lowerbound -2176595.26713\n",
        "printing  lbound"
       ]
      },
      {
       "output_type": "stream",
       "stream": "stdout",
       "text": [
        " -14711.6477358\n",
        "printing self.lowerbound -2190852.50215\n",
        "printing  lbound"
       ]
      },
      {
       "output_type": "stream",
       "stream": "stdout",
       "text": [
        " -14753.3944939\n",
        "printing self.lowerbound -2205564.14989\n",
        "printing  lbound"
       ]
      },
      {
       "output_type": "stream",
       "stream": "stdout",
       "text": [
        " -13892.5382038\n",
        "printing self.lowerbound -2220317.54438\n",
        "printing  lbound"
       ]
      },
      {
       "output_type": "stream",
       "stream": "stdout",
       "text": [
        " -14258.9713704\n",
        "printing self.lowerbound -2234210.08258\n",
        "printing  lbound"
       ]
      },
      {
       "output_type": "stream",
       "stream": "stdout",
       "text": [
        " -14241.7241836\n",
        "printing self.lowerbound -2248469.05395\n",
        "printing  lbound"
       ]
      },
      {
       "output_type": "stream",
       "stream": "stdout",
       "text": [
        " -14716.2522552\n",
        "printing self.lowerbound -2262710.77814\n",
        "printing  lbound -15722.2775225\n",
        "printing self.lowerbound -2277427.03039\n"
       ]
      },
      {
       "ename": "KeyboardInterrupt",
       "evalue": "",
       "output_type": "pyerr",
       "traceback": [
        "\u001b[0;31m---------------------------------------------------------------------------\u001b[0m\n\u001b[0;31mKeyboardInterrupt\u001b[0m                         Traceback (most recent call last)",
        "\u001b[0;32m/Users/roryjbeard/DPhil/Code/Variational-Autoencoder/Theano/demo/trainmnist.py\u001b[0m in \u001b[0;36m<module>\u001b[0;34m()\u001b[0m\n\u001b[1;32m     64\u001b[0m     \u001b[0mencoder\u001b[0m\u001b[0;34m.\u001b[0m\u001b[0mlowerbound\u001b[0m \u001b[0;34m=\u001b[0m \u001b[0;36m0\u001b[0m\u001b[0;34m\u001b[0m\u001b[0m\n\u001b[1;32m     65\u001b[0m     \u001b[0;32mprint\u001b[0m \u001b[0;34m'Iteration:'\u001b[0m\u001b[0;34m,\u001b[0m \u001b[0mj\u001b[0m\u001b[0;34m\u001b[0m\u001b[0m\n\u001b[0;32m---> 66\u001b[0;31m     \u001b[0mencoder\u001b[0m\u001b[0;34m.\u001b[0m\u001b[0miterate\u001b[0m\u001b[0;34m(\u001b[0m\u001b[0mdata\u001b[0m\u001b[0;34m)\u001b[0m\u001b[0;34m\u001b[0m\u001b[0m\n\u001b[0m\u001b[1;32m     67\u001b[0m     \u001b[0mend\u001b[0m \u001b[0;34m=\u001b[0m \u001b[0mtime\u001b[0m\u001b[0;34m.\u001b[0m\u001b[0mtime\u001b[0m\u001b[0;34m(\u001b[0m\u001b[0;34m)\u001b[0m\u001b[0;34m\u001b[0m\u001b[0m\n\u001b[1;32m     68\u001b[0m     print(\"Iteration %d, lower bound = %.2f,\"\n",
        "\u001b[0;32m/Users/roryjbeard/DPhil/Code/Variational-Autoencoder/Theano/VariationalAutoencoder.py\u001b[0m in \u001b[0;36miterate\u001b[0;34m(self, data)\u001b[0m\n\u001b[1;32m    124\u001b[0m             \u001b[0mminiBatch\u001b[0m \u001b[0;34m=\u001b[0m \u001b[0mdata\u001b[0m\u001b[0;34m[\u001b[0m\u001b[0mbatches\u001b[0m\u001b[0;34m[\u001b[0m\u001b[0mi\u001b[0m\u001b[0;34m]\u001b[0m\u001b[0;34m:\u001b[0m\u001b[0mbatches\u001b[0m\u001b[0;34m[\u001b[0m\u001b[0mi\u001b[0m\u001b[0;34m+\u001b[0m\u001b[0;36m1\u001b[0m\u001b[0;34m]\u001b[0m\u001b[0;34m]\u001b[0m\u001b[0;34m\u001b[0m\u001b[0m\n\u001b[1;32m    125\u001b[0m             \u001b[0mtotalGradients\u001b[0m \u001b[0;34m=\u001b[0m \u001b[0mself\u001b[0m\u001b[0;34m.\u001b[0m\u001b[0mgetGradients\u001b[0m\u001b[0;34m(\u001b[0m\u001b[0mminiBatch\u001b[0m\u001b[0;34m.\u001b[0m\u001b[0mT\u001b[0m\u001b[0;34m)\u001b[0m\u001b[0;34m\u001b[0m\u001b[0m\n\u001b[0;32m--> 126\u001b[0;31m             \u001b[0mself\u001b[0m\u001b[0;34m.\u001b[0m\u001b[0mupdateParams\u001b[0m\u001b[0;34m(\u001b[0m\u001b[0mtotalGradients\u001b[0m\u001b[0;34m,\u001b[0m\u001b[0mN\u001b[0m\u001b[0;34m,\u001b[0m\u001b[0mminiBatch\u001b[0m\u001b[0;34m.\u001b[0m\u001b[0mshape\u001b[0m\u001b[0;34m[\u001b[0m\u001b[0;36m0\u001b[0m\u001b[0;34m]\u001b[0m\u001b[0;34m)\u001b[0m\u001b[0;34m\u001b[0m\u001b[0m\n\u001b[0m\u001b[1;32m    127\u001b[0m \u001b[0;34m\u001b[0m\u001b[0m\n\u001b[1;32m    128\u001b[0m         \u001b[0mself\u001b[0m\u001b[0;34m.\u001b[0m\u001b[0mall_bounds\u001b[0m\u001b[0;34m.\u001b[0m\u001b[0mappend\u001b[0m\u001b[0;34m(\u001b[0m\u001b[0mself\u001b[0m\u001b[0;34m.\u001b[0m\u001b[0mlowerbound\u001b[0m\u001b[0;34m/\u001b[0m\u001b[0mN\u001b[0m\u001b[0;34m)\u001b[0m\u001b[0;34m\u001b[0m\u001b[0m\n",
        "\u001b[0;32m/Users/roryjbeard/DPhil/Code/Variational-Autoencoder/Theano/VariationalAutoencoder.py\u001b[0m in \u001b[0;36mupdateParams\u001b[0;34m(self, totalGradients, N, current_batch_size)\u001b[0m\n\u001b[1;32m    174\u001b[0m                 \u001b[0mprior\u001b[0m \u001b[0;34m=\u001b[0m \u001b[0;36m0\u001b[0m\u001b[0;34m\u001b[0m\u001b[0m\n\u001b[1;32m    175\u001b[0m \u001b[0;34m\u001b[0m\u001b[0m\n\u001b[0;32m--> 176\u001b[0;31m             \u001b[0mself\u001b[0m\u001b[0;34m.\u001b[0m\u001b[0mparams\u001b[0m\u001b[0;34m[\u001b[0m\u001b[0mi\u001b[0m\u001b[0;34m]\u001b[0m \u001b[0;34m+=\u001b[0m \u001b[0mself\u001b[0m\u001b[0;34m.\u001b[0m\u001b[0mlearning_rate\u001b[0m\u001b[0;34m/\u001b[0m\u001b[0mnp\u001b[0m\u001b[0;34m.\u001b[0m\u001b[0msqrt\u001b[0m\u001b[0;34m(\u001b[0m\u001b[0mself\u001b[0m\u001b[0;34m.\u001b[0m\u001b[0mh\u001b[0m\u001b[0;34m[\u001b[0m\u001b[0mi\u001b[0m\u001b[0;34m]\u001b[0m\u001b[0;34m)\u001b[0m \u001b[0;34m*\u001b[0m \u001b[0;34m(\u001b[0m\u001b[0mtotalGradients\u001b[0m\u001b[0;34m[\u001b[0m\u001b[0mi\u001b[0m\u001b[0;34m]\u001b[0m \u001b[0;34m-\u001b[0m \u001b[0mprior\u001b[0m\u001b[0;34m*\u001b[0m\u001b[0;34m(\u001b[0m\u001b[0mcurrent_batch_size\u001b[0m\u001b[0;34m/\u001b[0m\u001b[0mN\u001b[0m\u001b[0;34m)\u001b[0m\u001b[0;34m)\u001b[0m\u001b[0;34m\u001b[0m\u001b[0m\n\u001b[0m\u001b[1;32m    177\u001b[0m \u001b[0;34m\u001b[0m\u001b[0m\n\u001b[1;32m    178\u001b[0m \u001b[0;34m\u001b[0m\u001b[0m\n",
        "\u001b[0;31mKeyboardInterrupt\u001b[0m: "
       ]
      }
     ],
     "prompt_number": 1
    },
    {
     "cell_type": "code",
     "collapsed": false,
     "input": [
      "%matplotlib inline"
     ],
     "language": "python",
     "metadata": {},
     "outputs": [],
     "prompt_number": 2
    },
    {
     "cell_type": "code",
     "collapsed": false,
     "input": [
      "import matplotlib\n",
      "from matplotlib import pyplot as plt"
     ],
     "language": "python",
     "metadata": {},
     "outputs": [],
     "prompt_number": 3
    },
    {
     "cell_type": "code",
     "collapsed": false,
     "input": [
      "plt.plot(encoder.all_bounds)"
     ],
     "language": "python",
     "metadata": {},
     "outputs": [
      {
       "metadata": {},
       "output_type": "pyout",
       "prompt_number": 4,
       "text": [
        "[<matplotlib.lines.Line2D at 0x126091090>]"
       ]
      },
      {
       "metadata": {},
       "output_type": "display_data",
       "png": "[encoded data removed]",
       "text": [
        "<matplotlib.figure.Figure at 0x108e645d0>"
       ]
      }
     ],
     "prompt_number": 4
    },
    {
     "cell_type": "code",
     "collapsed": false,
     "input": [
      "encoder.all_z[1].shape"
     ],
     "language": "python",
     "metadata": {},
     "outputs": [
      {
       "metadata": {},
       "output_type": "pyout",
       "prompt_number": 5,
       "text": [
        "(20, 100)"
       ]
      }
     ],
     "prompt_number": 5
    },
    {
     "cell_type": "code",
     "collapsed": false,
     "input": [
      "len(encoder.all_params)"
     ],
     "language": "python",
     "metadata": {},
     "outputs": [
      {
       "metadata": {},
       "output_type": "pyout",
       "prompt_number": 6,
       "text": [
        "5"
       ]
      }
     ],
     "prompt_number": 6
    },
    {
     "cell_type": "code",
     "collapsed": false,
     "input": [
      "encoder.all_params[99799][0].shape"
     ],
     "language": "python",
     "metadata": {},
     "outputs": [
      {
       "metadata": {},
       "output_type": "pyout",
       "prompt_number": 28,
       "text": [
        "(400, 784)"
       ]
      }
     ],
     "prompt_number": 28
    },
    {
     "cell_type": "code",
     "collapsed": false,
     "input": [
      "encoder.all_params[0]"
     ],
     "language": "python",
     "metadata": {},
     "outputs": [
      {
       "metadata": {},
       "output_type": "pyout",
       "prompt_number": 8,
       "text": [
        "[array([[-0.03073897,  0.01275276,  0.01744476, ..., -0.01051506,\n",
        "          0.00970974, -0.00682022],\n",
        "        [-0.00568972, -0.01928145, -0.00088835, ..., -0.00955658,\n",
        "         -0.00126581, -0.00076127],\n",
        "        [ 0.01311927, -0.01248326,  0.0228291 , ...,  0.01182595,\n",
        "          0.00996761, -0.00164501],\n",
        "        ..., \n",
        "        [ 0.00143749, -0.00079411, -0.00770282, ..., -0.03173827,\n",
        "          0.00604455, -0.01539512],\n",
        "        [ 0.01588851, -0.014463  , -0.00552698, ...,  0.00212849,\n",
        "          0.00328354,  0.00190923],\n",
        "        [ 0.02374283, -0.00505454,  0.01013752, ...,  0.00350386,\n",
        "         -0.00859937,  0.00228836]]),\n",
        " array([[ 0.01249088, -0.03685335,  0.00195884, ..., -0.02913638,\n",
        "         -0.01113019, -0.01581526],\n",
        "        [ 0.07900561, -0.0152806 , -0.029332  , ...,  0.00235539,\n",
        "         -0.01924587, -0.00232824],\n",
        "        [ 0.00401803,  0.02879192,  0.04052303, ...,  0.00835003,\n",
        "          0.01020513,  0.00138891],\n",
        "        ..., \n",
        "        [-0.00385013,  0.00340024,  0.01254672, ...,  0.0257104 ,\n",
        "          0.01547052,  0.00366256],\n",
        "        [-0.02315576, -0.02236504,  0.0190877 , ...,  0.0168929 ,\n",
        "         -0.03032111,  0.07898412],\n",
        "        [ 0.00504928,  0.01296109,  0.02904799, ...,  0.00954049,\n",
        "         -0.00747719,  0.00360501]]),\n",
        " array([[-0.00501535,  0.02549242, -0.00930486, ..., -0.00905107,\n",
        "          0.01500704,  0.02222492],\n",
        "        [ 0.01750869,  0.02114758,  0.01378714, ...,  0.00803683,\n",
        "         -0.00878008, -0.00114165],\n",
        "        [-0.00666376,  0.03155751,  0.00348201, ..., -0.00329664,\n",
        "          0.0020179 ,  0.02603617],\n",
        "        ..., \n",
        "        [ 0.0017033 ,  0.00617137,  0.006967  , ..., -0.01151952,\n",
        "          0.00422835, -0.0088296 ],\n",
        "        [-0.00517805,  0.0086935 ,  0.02573502, ..., -0.00256232,\n",
        "          0.0200339 , -0.00066634],\n",
        "        [-0.01007403,  0.00065878,  0.00331363, ..., -0.01329626,\n",
        "         -0.00258539,  0.03310072]]),\n",
        " array([[-0.02985004, -0.07473903, -0.02117094, ..., -0.00074683,\n",
        "         -0.00540654,  0.0297037 ],\n",
        "        [-0.01222833, -0.01988907, -0.06323616, ...,  0.02112373,\n",
        "         -0.05151647,  0.03152516],\n",
        "        [ 0.00204218, -0.01678486, -0.01360446, ...,  0.01943321,\n",
        "         -0.04566967, -0.00606472],\n",
        "        ..., \n",
        "        [-0.00327833,  0.08278822, -0.20570535, ..., -0.01124144,\n",
        "         -0.07879268, -0.0213468 ],\n",
        "        [ 0.00840172,  0.04686402,  0.03157137, ..., -0.03036656,\n",
        "          0.01681847, -0.04241352],\n",
        "        [-0.02212374,  0.05763836, -0.00575501, ...,  0.01410364,\n",
        "         -0.00359615, -0.01465904]]),\n",
        " array([[-0.12000769,  0.07039966, -0.14950847, ..., -0.01142455,\n",
        "          0.12464921, -0.11079349],\n",
        "        [-0.13503914,  0.08090118, -0.13413847, ..., -0.00294814,\n",
        "          0.14039115, -0.11463107],\n",
        "        [-0.13263447,  0.07407657, -0.14399576, ...,  0.00372838,\n",
        "          0.12533588, -0.11472568],\n",
        "        ..., \n",
        "        [-0.13636811,  0.08964326, -0.18399872, ...,  0.00376622,\n",
        "          0.13282958, -0.12078039],\n",
        "        [-0.12773354,  0.06933225, -0.13969029, ...,  0.00400752,\n",
        "          0.12167268, -0.09900834],\n",
        "        [-0.12113619,  0.07822259, -0.16432618, ...,  0.01066099,\n",
        "          0.13739674, -0.12140991]]),\n",
        " array([[ -5.09874804e-02],\n",
        "        [ -3.79684760e-02],\n",
        "        [  4.32976458e-03],\n",
        "        [ -2.17791276e-02],\n",
        "        [  2.12867398e-02],\n",
        "        [ -3.27429166e-02],\n",
        "        [  2.11941589e-02],\n",
        "        [ -5.66699511e-02],\n",
        "        [  3.03460596e-02],\n",
        "        [ -1.52402033e-01],\n",
        "        [  3.32676336e-02],\n",
        "        [  3.86935042e-02],\n",
        "        [ -8.84722987e-02],\n",
        "        [ -4.01169142e-02],\n",
        "        [ -5.54648349e-02],\n",
        "        [ -6.57559512e-02],\n",
        "        [ -1.30292785e-02],\n",
        "        [  1.00917027e-02],\n",
        "        [  7.13285339e-02],\n",
        "        [ -7.72554297e-02],\n",
        "        [ -4.08738455e-02],\n",
        "        [  5.37157873e-02],\n",
        "        [  5.06488141e-02],\n",
        "        [ -7.76016090e-02],\n",
        "        [ -4.78151972e-02],\n",
        "        [  2.34287981e-02],\n",
        "        [ -7.77786161e-02],\n",
        "        [ -4.62158073e-02],\n",
        "        [  8.04575112e-02],\n",
        "        [  6.75880970e-02],\n",
        "        [ -3.55644663e-02],\n",
        "        [ -5.22441363e-02],\n",
        "        [  5.65010027e-02],\n",
        "        [  5.52614064e-02],\n",
        "        [ -1.05572889e-01],\n",
        "        [  8.55562138e-02],\n",
        "        [ -4.68760481e-02],\n",
        "        [  6.82746855e-02],\n",
        "        [  6.56702323e-03],\n",
        "        [ -4.04199512e-02],\n",
        "        [ -4.90764915e-02],\n",
        "        [ -6.11083712e-02],\n",
        "        [  3.24318850e-02],\n",
        "        [  3.94447618e-02],\n",
        "        [ -1.88176334e-02],\n",
        "        [ -3.50925953e-02],\n",
        "        [ -9.82475268e-03],\n",
        "        [ -4.92158958e-02],\n",
        "        [ -3.95861132e-02],\n",
        "        [  2.76744054e-02],\n",
        "        [  7.45386207e-02],\n",
        "        [ -8.75281117e-03],\n",
        "        [ -5.90747108e-02],\n",
        "        [  1.92396236e-02],\n",
        "        [ -6.96895776e-02],\n",
        "        [ -3.87916155e-02],\n",
        "        [ -3.36431184e-02],\n",
        "        [ -8.40809627e-02],\n",
        "        [ -4.24736802e-02],\n",
        "        [ -1.98537310e-02],\n",
        "        [ -6.20439765e-02],\n",
        "        [ -5.90758282e-02],\n",
        "        [  5.88408902e-02],\n",
        "        [  5.46869010e-02],\n",
        "        [  9.60065690e-02],\n",
        "        [ -4.75785496e-02],\n",
        "        [  5.48343297e-02],\n",
        "        [ -1.48658408e-05],\n",
        "        [  3.70804865e-02],\n",
        "        [ -2.05028558e-02],\n",
        "        [ -2.77820611e-02],\n",
        "        [  4.58130528e-02],\n",
        "        [ -6.38257440e-02],\n",
        "        [  7.07395589e-02],\n",
        "        [ -6.71317540e-02],\n",
        "        [ -2.94048985e-02],\n",
        "        [ -7.05289740e-03],\n",
        "        [ -4.59239585e-02],\n",
        "        [  3.40420944e-03],\n",
        "        [ -5.21433649e-02],\n",
        "        [ -4.37827767e-04],\n",
        "        [  4.64234409e-05],\n",
        "        [  7.67612559e-02],\n",
        "        [  7.93660954e-02],\n",
        "        [  5.63572270e-02],\n",
        "        [ -5.67876099e-03],\n",
        "        [  2.66520921e-02],\n",
        "        [ -4.01082035e-02],\n",
        "        [ -1.95430939e-03],\n",
        "        [ -7.62989237e-02],\n",
        "        [  4.87224803e-02],\n",
        "        [ -3.94415524e-03],\n",
        "        [  8.90245031e-02],\n",
        "        [ -6.33042257e-02],\n",
        "        [  8.89723735e-02],\n",
        "        [ -5.05163957e-02],\n",
        "        [  1.23933391e-02],\n",
        "        [  3.05653875e-02],\n",
        "        [ -1.49101914e-02],\n",
        "        [  3.94546550e-02],\n",
        "        [  9.67163363e-02],\n",
        "        [  5.57201002e-02],\n",
        "        [  3.02868296e-02],\n",
        "        [ -5.04603060e-02],\n",
        "        [  7.60745905e-03],\n",
        "        [ -7.03100659e-02],\n",
        "        [  1.42157003e-02],\n",
        "        [  5.76713179e-02],\n",
        "        [  6.76254983e-02],\n",
        "        [ -7.42222570e-02],\n",
        "        [  6.42693415e-03],\n",
        "        [ -1.76451330e-02],\n",
        "        [  6.90589508e-02],\n",
        "        [  8.11914904e-02],\n",
        "        [ -4.59036969e-02],\n",
        "        [  3.33793575e-02],\n",
        "        [  5.27865717e-02],\n",
        "        [ -7.27634443e-03],\n",
        "        [ -1.79614700e-02],\n",
        "        [ -5.96536419e-02],\n",
        "        [  5.05136558e-02],\n",
        "        [  1.01864506e-02],\n",
        "        [ -4.02265671e-02],\n",
        "        [ -3.06722489e-02],\n",
        "        [  4.65349804e-03],\n",
        "        [  6.11539024e-02],\n",
        "        [ -1.17868638e-01],\n",
        "        [  3.41293842e-02],\n",
        "        [ -1.97679745e-02],\n",
        "        [ -3.93418861e-02],\n",
        "        [ -4.20516557e-02],\n",
        "        [ -9.33878675e-02],\n",
        "        [ -1.36470626e-01],\n",
        "        [ -4.62329029e-02],\n",
        "        [ -2.00530661e-02],\n",
        "        [ -6.88662385e-02],\n",
        "        [ -3.30956149e-02],\n",
        "        [  2.49018390e-02],\n",
        "        [  8.30012594e-02],\n",
        "        [  2.31356231e-02],\n",
        "        [ -1.06414756e-01],\n",
        "        [ -2.63585311e-02],\n",
        "        [  7.35184883e-02],\n",
        "        [ -7.44593055e-02],\n",
        "        [ -9.27942487e-02],\n",
        "        [  7.04777806e-02],\n",
        "        [ -4.09663228e-02],\n",
        "        [ -7.01202619e-02],\n",
        "        [  1.17264399e-02],\n",
        "        [  3.57384483e-02],\n",
        "        [ -2.06721583e-02],\n",
        "        [  8.24709317e-02],\n",
        "        [  4.41389465e-02],\n",
        "        [  5.74451798e-02],\n",
        "        [  1.20918241e-01],\n",
        "        [  2.84564316e-02],\n",
        "        [  9.26063070e-02],\n",
        "        [  5.94543651e-02],\n",
        "        [  1.88518763e-03],\n",
        "        [  9.88251190e-03],\n",
        "        [  2.89366757e-02],\n",
        "        [  4.19245730e-02],\n",
        "        [ -3.56753989e-02],\n",
        "        [  2.73023055e-02],\n",
        "        [  1.12301828e-02],\n",
        "        [ -7.29641097e-03],\n",
        "        [ -8.83194485e-02],\n",
        "        [ -7.42803712e-03],\n",
        "        [ -4.06628628e-02],\n",
        "        [ -6.40760595e-02],\n",
        "        [ -2.79556368e-03],\n",
        "        [ -2.56920849e-02],\n",
        "        [ -3.79305365e-02],\n",
        "        [ -6.64309278e-02],\n",
        "        [ -4.73600139e-02],\n",
        "        [  2.59140170e-04],\n",
        "        [ -8.94692228e-02],\n",
        "        [  1.15312414e-02],\n",
        "        [ -3.20798423e-02],\n",
        "        [ -4.09159203e-02],\n",
        "        [ -7.11404279e-02],\n",
        "        [  4.36100122e-02],\n",
        "        [  1.13092555e-01],\n",
        "        [ -2.75619635e-02],\n",
        "        [  2.97713988e-02],\n",
        "        [  6.65653585e-02],\n",
        "        [  1.00875020e-02],\n",
        "        [ -1.74101184e-02],\n",
        "        [ -7.69827077e-02],\n",
        "        [  2.84873795e-02],\n",
        "        [ -1.40265101e-01],\n",
        "        [  6.67752486e-02],\n",
        "        [  8.52030816e-02],\n",
        "        [  9.60524226e-02],\n",
        "        [  5.41975585e-02],\n",
        "        [  6.12938030e-02],\n",
        "        [ -8.45756269e-02],\n",
        "        [ -2.03935404e-02],\n",
        "        [  9.52465550e-03],\n",
        "        [  7.07341618e-02],\n",
        "        [  1.39088060e-03],\n",
        "        [ -7.49151978e-02],\n",
        "        [  7.35903797e-02],\n",
        "        [  2.31584545e-02],\n",
        "        [  7.96369220e-02],\n",
        "        [  1.40442350e-02],\n",
        "        [ -4.56658742e-02],\n",
        "        [ -5.22871483e-02],\n",
        "        [ -8.43313190e-03],\n",
        "        [ -5.62793890e-02],\n",
        "        [  3.09811986e-02],\n",
        "        [  4.78136219e-02],\n",
        "        [  7.27234628e-03],\n",
        "        [  6.07496000e-02],\n",
        "        [ -1.95260715e-02],\n",
        "        [ -8.12773488e-02],\n",
        "        [  7.17838325e-02],\n",
        "        [ -2.11281828e-02],\n",
        "        [ -6.42213423e-03],\n",
        "        [  8.73137077e-02],\n",
        "        [ -1.31444468e-02],\n",
        "        [ -2.61455299e-02],\n",
        "        [  5.00263339e-02],\n",
        "        [  2.74027950e-02],\n",
        "        [  5.77989665e-02],\n",
        "        [ -4.00217297e-02],\n",
        "        [ -2.22595081e-02],\n",
        "        [ -1.82300531e-05],\n",
        "        [ -7.43485595e-02],\n",
        "        [  2.29792479e-02],\n",
        "        [ -3.29481936e-02],\n",
        "        [ -3.07429357e-02],\n",
        "        [  6.87750271e-02],\n",
        "        [  8.20971562e-02],\n",
        "        [  8.14196061e-02],\n",
        "        [ -9.05118217e-03],\n",
        "        [ -2.94268701e-02],\n",
        "        [  7.28675760e-03],\n",
        "        [ -1.67506299e-02],\n",
        "        [ -4.77039248e-02],\n",
        "        [ -2.32250073e-02],\n",
        "        [ -4.28673208e-02],\n",
        "        [ -8.51832996e-02],\n",
        "        [  1.54287531e-01],\n",
        "        [  4.44719575e-02],\n",
        "        [  6.03815166e-02],\n",
        "        [  3.74714692e-02],\n",
        "        [  9.59843760e-02],\n",
        "        [ -4.87235147e-02],\n",
        "        [  4.52673233e-02],\n",
        "        [  1.48968427e-02],\n",
        "        [  1.60003065e-02],\n",
        "        [  6.03275206e-02],\n",
        "        [ -7.51012726e-02],\n",
        "        [  8.64609408e-02],\n",
        "        [  3.53797551e-02],\n",
        "        [ -4.34465090e-02],\n",
        "        [  4.47865086e-02],\n",
        "        [ -2.45766089e-02],\n",
        "        [  7.63412089e-02],\n",
        "        [  8.00277382e-02],\n",
        "        [ -6.43709782e-02],\n",
        "        [  3.03067220e-02],\n",
        "        [  1.20818691e-02],\n",
        "        [ -8.40471027e-02],\n",
        "        [ -8.16252755e-02],\n",
        "        [  1.84036990e-02],\n",
        "        [  2.25850305e-02],\n",
        "        [ -7.32373315e-02],\n",
        "        [  5.60042791e-02],\n",
        "        [ -7.98634253e-02],\n",
        "        [ -3.93815005e-02],\n",
        "        [  4.87577893e-02],\n",
        "        [ -6.26418019e-02],\n",
        "        [  2.72007499e-02],\n",
        "        [ -7.13618600e-02],\n",
        "        [  1.26784959e-01],\n",
        "        [ -5.26255728e-02],\n",
        "        [  3.90180369e-02],\n",
        "        [  2.59743873e-02],\n",
        "        [  8.63265009e-02],\n",
        "        [ -1.63501252e-02],\n",
        "        [ -2.88356958e-02],\n",
        "        [  7.65898546e-02],\n",
        "        [  1.66647663e-02],\n",
        "        [ -4.00608630e-02],\n",
        "        [  2.78177028e-02],\n",
        "        [ -6.17107237e-02],\n",
        "        [ -2.23314274e-04],\n",
        "        [ -2.87372711e-02],\n",
        "        [  4.71788855e-03],\n",
        "        [ -2.08086862e-02],\n",
        "        [  8.00777179e-03],\n",
        "        [  3.95943697e-02],\n",
        "        [ -2.70202328e-02],\n",
        "        [  3.92170940e-02],\n",
        "        [  3.00051431e-02],\n",
        "        [ -1.10008803e-02],\n",
        "        [ -6.29612576e-02],\n",
        "        [ -4.10242059e-02],\n",
        "        [  4.53583437e-02],\n",
        "        [ -1.62054681e-02],\n",
        "        [  2.85016286e-02],\n",
        "        [  1.90023370e-03],\n",
        "        [  8.55984660e-03],\n",
        "        [  7.02635005e-04],\n",
        "        [ -1.96735893e-02],\n",
        "        [ -5.82627002e-02],\n",
        "        [  2.18878465e-02],\n",
        "        [  5.27333935e-02],\n",
        "        [ -1.24628972e-01],\n",
        "        [  8.21395050e-02],\n",
        "        [ -6.56174371e-02],\n",
        "        [ -4.81868605e-03],\n",
        "        [  3.06264242e-02],\n",
        "        [ -6.89742274e-02],\n",
        "        [  2.40307939e-02],\n",
        "        [  3.70144765e-02],\n",
        "        [ -3.81612329e-02],\n",
        "        [ -5.42878526e-02],\n",
        "        [  1.38789631e-01],\n",
        "        [ -7.12423409e-02],\n",
        "        [ -1.16136588e-02],\n",
        "        [ -6.97511559e-02],\n",
        "        [ -1.65514949e-02],\n",
        "        [ -1.99978754e-02],\n",
        "        [  7.41183991e-02],\n",
        "        [ -2.08465121e-02],\n",
        "        [ -3.51407753e-02],\n",
        "        [  5.96430660e-02],\n",
        "        [  5.62296084e-02],\n",
        "        [  5.71858837e-02],\n",
        "        [  4.72511474e-03],\n",
        "        [  6.61857430e-02],\n",
        "        [  1.42214680e-02],\n",
        "        [  5.83090976e-02],\n",
        "        [ -7.43432199e-02],\n",
        "        [ -6.79328380e-02],\n",
        "        [  4.10558443e-02],\n",
        "        [  4.52803928e-03],\n",
        "        [ -2.99319843e-02],\n",
        "        [  8.73228197e-02],\n",
        "        [ -5.16139859e-02],\n",
        "        [  1.97306403e-03],\n",
        "        [ -1.73421946e-01],\n",
        "        [ -1.40349742e-02],\n",
        "        [  2.10567802e-02],\n",
        "        [  1.63013896e-02],\n",
        "        [  7.94983466e-02],\n",
        "        [  1.56602963e-03],\n",
        "        [ -1.81102518e-02],\n",
        "        [ -5.26364966e-02],\n",
        "        [ -3.92748283e-02],\n",
        "        [  1.40150523e-02],\n",
        "        [  7.32379009e-02],\n",
        "        [ -7.43764692e-02],\n",
        "        [  4.77843845e-02],\n",
        "        [  5.86255320e-02],\n",
        "        [ -3.73923630e-02],\n",
        "        [  2.28641758e-03],\n",
        "        [  9.80536239e-02],\n",
        "        [ -9.06441167e-03],\n",
        "        [  3.00675219e-02],\n",
        "        [ -1.72262845e-02],\n",
        "        [ -4.70066885e-02],\n",
        "        [ -2.72559906e-02],\n",
        "        [ -5.94559219e-03],\n",
        "        [ -5.83668751e-02],\n",
        "        [  3.26405207e-02],\n",
        "        [  2.34111616e-02],\n",
        "        [ -7.15230787e-02],\n",
        "        [ -1.27372116e-01],\n",
        "        [  3.21590038e-02],\n",
        "        [  5.48215915e-02],\n",
        "        [ -1.02533249e-02],\n",
        "        [  6.91897547e-02],\n",
        "        [  2.69225569e-02],\n",
        "        [  6.85661456e-02],\n",
        "        [ -7.19977366e-02],\n",
        "        [  1.18244072e-02],\n",
        "        [  5.26732220e-02],\n",
        "        [ -6.17200665e-02],\n",
        "        [ -1.39369586e-02],\n",
        "        [  8.62684534e-02],\n",
        "        [ -7.37769194e-02],\n",
        "        [  8.36376492e-03],\n",
        "        [ -5.40769233e-02],\n",
        "        [ -1.17724822e-02],\n",
        "        [ -4.78477213e-02],\n",
        "        [ -2.30791366e-02],\n",
        "        [ -4.65131884e-02],\n",
        "        [  8.21149206e-02],\n",
        "        [ -1.41952330e-02],\n",
        "        [  1.22630948e-02],\n",
        "        [  6.18022842e-02],\n",
        "        [ -7.37904313e-02],\n",
        "        [ -4.96506148e-04],\n",
        "        [ -1.18571728e-01],\n",
        "        [  2.53442541e-02],\n",
        "        [ -1.87916841e-02]]),\n",
        " array([[-0.0113143 ],\n",
        "        [-0.02843876],\n",
        "        [-0.01375554],\n",
        "        [ 0.02633558],\n",
        "        [ 0.01876466],\n",
        "        [-0.01841082],\n",
        "        [-0.00372675],\n",
        "        [-0.0284406 ],\n",
        "        [ 0.00437804],\n",
        "        [ 0.0061048 ],\n",
        "        [ 0.00050927],\n",
        "        [ 0.0011777 ],\n",
        "        [ 0.00356154],\n",
        "        [-0.00117599],\n",
        "        [ 0.02685403],\n",
        "        [ 0.02740213],\n",
        "        [-0.02088304],\n",
        "        [ 0.00293847],\n",
        "        [ 0.00128489],\n",
        "        [ 0.02116327]]),\n",
        " array([[ 0.00936119],\n",
        "        [-0.01926693],\n",
        "        [-0.04108708],\n",
        "        [-0.01985244],\n",
        "        [ 0.00517009],\n",
        "        [ 0.0098456 ],\n",
        "        [ 0.00286614],\n",
        "        [-0.04054378],\n",
        "        [-0.01816639],\n",
        "        [-0.02154695],\n",
        "        [-0.0072714 ],\n",
        "        [-0.00571929],\n",
        "        [-0.01225979],\n",
        "        [-0.01920835],\n",
        "        [-0.02719264],\n",
        "        [-0.01264305],\n",
        "        [-0.02471163],\n",
        "        [-0.00604381],\n",
        "        [-0.01731984],\n",
        "        [ 0.00281336]]),\n",
        " array([[ 0.32813331],\n",
        "        [-0.24164759],\n",
        "        [ 0.34508904],\n",
        "        [ 0.09300147],\n",
        "        [-0.11510557],\n",
        "        [-0.08189543],\n",
        "        [-0.29260322],\n",
        "        [-0.21678771],\n",
        "        [ 0.29193335],\n",
        "        [ 0.26517984],\n",
        "        [-0.22354327],\n",
        "        [-0.11992581],\n",
        "        [-0.2475592 ],\n",
        "        [-0.49033849],\n",
        "        [ 0.30754138],\n",
        "        [-0.31853752],\n",
        "        [-0.21987492],\n",
        "        [ 0.76745015],\n",
        "        [-0.29839742],\n",
        "        [ 0.25879442],\n",
        "        [-0.27240638],\n",
        "        [ 0.2934926 ],\n",
        "        [-0.31015498],\n",
        "        [-0.35038173],\n",
        "        [-0.29281608],\n",
        "        [-0.21923985],\n",
        "        [ 0.31676602],\n",
        "        [-0.10488858],\n",
        "        [ 0.12416112],\n",
        "        [-0.10157261],\n",
        "        [-0.00513999],\n",
        "        [ 0.36761222],\n",
        "        [-0.29827022],\n",
        "        [ 0.18940075],\n",
        "        [ 0.33493718],\n",
        "        [ 0.32027303],\n",
        "        [-0.24451574],\n",
        "        [-0.1933821 ],\n",
        "        [-0.33401851],\n",
        "        [-0.2916213 ],\n",
        "        [ 0.33244778],\n",
        "        [ 0.33913491],\n",
        "        [ 0.31653691],\n",
        "        [ 0.47590111],\n",
        "        [-0.33579637],\n",
        "        [ 0.30578324],\n",
        "        [ 0.55174736],\n",
        "        [-0.34914836],\n",
        "        [-0.03186892],\n",
        "        [ 0.3063549 ],\n",
        "        [-0.04117362],\n",
        "        [-0.22025074],\n",
        "        [-0.2851226 ],\n",
        "        [-0.14848435],\n",
        "        [-0.13298578],\n",
        "        [-0.40677545],\n",
        "        [ 0.25410242],\n",
        "        [ 0.13106822],\n",
        "        [-0.30729471],\n",
        "        [-0.46110997],\n",
        "        [ 0.38180576],\n",
        "        [ 0.30826038],\n",
        "        [-0.2806851 ],\n",
        "        [-0.39682299],\n",
        "        [-0.31326438],\n",
        "        [-0.29574473],\n",
        "        [ 0.22331391],\n",
        "        [-0.29579927],\n",
        "        [ 0.33485235],\n",
        "        [-0.26869939],\n",
        "        [ 0.34004508],\n",
        "        [-0.73897876],\n",
        "        [-0.19769735],\n",
        "        [ 0.2912525 ],\n",
        "        [-0.45320946],\n",
        "        [-0.37112625],\n",
        "        [-0.35469786],\n",
        "        [-0.00723132],\n",
        "        [ 0.30224132],\n",
        "        [-0.30772009],\n",
        "        [-0.35970969],\n",
        "        [ 0.35441565],\n",
        "        [ 0.18376678],\n",
        "        [ 0.3498703 ],\n",
        "        [ 0.34956433],\n",
        "        [-0.3464225 ],\n",
        "        [ 0.18204133],\n",
        "        [ 0.27264267],\n",
        "        [ 0.04955671],\n",
        "        [ 0.30709795],\n",
        "        [ 0.30926218],\n",
        "        [-0.28676171],\n",
        "        [ 0.28547522],\n",
        "        [-0.34792491],\n",
        "        [ 0.77701213],\n",
        "        [ 0.24116539],\n",
        "        [ 0.36007792],\n",
        "        [ 0.27751877],\n",
        "        [-0.25907513],\n",
        "        [ 0.60279764],\n",
        "        [-0.32685915],\n",
        "        [ 0.0456064 ],\n",
        "        [ 0.06466626],\n",
        "        [-0.18274394],\n",
        "        [-0.36860187],\n",
        "        [-0.32482253],\n",
        "        [ 0.07012901],\n",
        "        [ 0.28395357],\n",
        "        [ 0.33534738],\n",
        "        [ 0.34704281],\n",
        "        [-0.34946251],\n",
        "        [-0.00184152],\n",
        "        [ 0.30242786],\n",
        "        [-0.09256978],\n",
        "        [-0.01683747],\n",
        "        [ 0.20152481],\n",
        "        [ 0.02674062],\n",
        "        [-0.24044865],\n",
        "        [ 0.12454524],\n",
        "        [ 0.19251296],\n",
        "        [ 0.18507338],\n",
        "        [-0.29664238],\n",
        "        [ 0.09503778],\n",
        "        [ 0.28742621],\n",
        "        [ 0.19449496],\n",
        "        [ 0.11581926],\n",
        "        [ 0.19790719],\n",
        "        [ 0.18625827],\n",
        "        [ 0.26759642],\n",
        "        [-0.31558665],\n",
        "        [ 0.34251744],\n",
        "        [-0.39252039],\n",
        "        [ 0.53166584],\n",
        "        [ 0.44989203],\n",
        "        [ 0.36008349],\n",
        "        [ 0.45386991],\n",
        "        [ 0.02480805],\n",
        "        [-0.26722676],\n",
        "        [ 0.26386498],\n",
        "        [-0.02835967],\n",
        "        [-0.02240124],\n",
        "        [-0.11530249],\n",
        "        [-0.31667635],\n",
        "        [-0.25172736],\n",
        "        [ 0.02974825],\n",
        "        [ 0.3237531 ],\n",
        "        [-0.02960128],\n",
        "        [ 0.36217209],\n",
        "        [-0.22881771],\n",
        "        [ 0.14854396],\n",
        "        [ 0.33011444],\n",
        "        [-0.07542633],\n",
        "        [ 0.05660003],\n",
        "        [ 0.18527221],\n",
        "        [-0.26746408],\n",
        "        [ 0.35921381],\n",
        "        [ 0.30093033],\n",
        "        [ 0.33708797],\n",
        "        [ 0.39284456],\n",
        "        [-0.34204659],\n",
        "        [ 0.32166627],\n",
        "        [-0.32470862],\n",
        "        [-0.31495941],\n",
        "        [ 0.05367451],\n",
        "        [-0.35168923],\n",
        "        [ 0.23432838],\n",
        "        [ 0.33660925],\n",
        "        [ 0.09341912],\n",
        "        [-0.23272659],\n",
        "        [ 0.33885303],\n",
        "        [-0.29781291],\n",
        "        [ 0.29592747],\n",
        "        [-0.32236868],\n",
        "        [ 0.18810702],\n",
        "        [-0.16302656],\n",
        "        [ 0.27741422],\n",
        "        [ 0.33010331],\n",
        "        [ 0.30267881],\n",
        "        [-0.28635291],\n",
        "        [-0.08757164],\n",
        "        [-0.17866224],\n",
        "        [ 0.29072816],\n",
        "        [ 0.33791666],\n",
        "        [-0.36962814],\n",
        "        [ 0.33146409],\n",
        "        [-0.28453798],\n",
        "        [-0.52219545],\n",
        "        [-0.27150865],\n",
        "        [ 0.08689126],\n",
        "        [-0.31818016],\n",
        "        [-0.28774132],\n",
        "        [-0.28698768],\n",
        "        [-0.1522368 ],\n",
        "        [ 0.35754111],\n",
        "        [-0.04528191],\n",
        "        [-0.29627205],\n",
        "        [-0.31635561],\n",
        "        [ 0.32048302],\n",
        "        [ 0.13076473],\n",
        "        [ 0.09735706],\n",
        "        [ 0.20342551],\n",
        "        [ 0.30788651],\n",
        "        [ 0.27991575],\n",
        "        [ 0.40355098],\n",
        "        [ 0.35105934],\n",
        "        [-0.28107731],\n",
        "        [ 0.03824857],\n",
        "        [-0.31839892],\n",
        "        [ 0.29353803],\n",
        "        [-0.08007871],\n",
        "        [-0.43295154],\n",
        "        [ 0.30779059],\n",
        "        [-0.31589116],\n",
        "        [ 0.16954951],\n",
        "        [ 0.09284545],\n",
        "        [ 0.31030895],\n",
        "        [ 0.18679785],\n",
        "        [-0.15201626],\n",
        "        [ 0.28893498],\n",
        "        [ 0.29899284],\n",
        "        [ 0.252993  ],\n",
        "        [-0.19405207],\n",
        "        [ 0.34596389],\n",
        "        [ 0.33053547],\n",
        "        [ 0.34590918],\n",
        "        [-0.32354301],\n",
        "        [-0.063398  ],\n",
        "        [-0.28736432],\n",
        "        [-0.27992511],\n",
        "        [ 0.33028464],\n",
        "        [ 0.56508518],\n",
        "        [ 0.28914549],\n",
        "        [ 0.26659258],\n",
        "        [-0.30745926],\n",
        "        [ 0.30084246],\n",
        "        [ 0.3255043 ],\n",
        "        [ 0.00917655],\n",
        "        [-0.35940661],\n",
        "        [ 0.33372591],\n",
        "        [-0.32038789],\n",
        "        [ 0.11781805],\n",
        "        [ 0.28986224],\n",
        "        [-0.28815752],\n",
        "        [ 0.33279591],\n",
        "        [ 0.30942977],\n",
        "        [ 0.52893264],\n",
        "        [ 0.08809247],\n",
        "        [-0.35721241],\n",
        "        [-0.06992138],\n",
        "        [-0.15945569],\n",
        "        [ 0.11619815],\n",
        "        [ 0.07621881],\n",
        "        [-0.42828176],\n",
        "        [ 0.41710938],\n",
        "        [-0.2586961 ],\n",
        "        [ 0.21026723],\n",
        "        [ 0.31358545],\n",
        "        [-0.50417423],\n",
        "        [-0.42399742],\n",
        "        [-0.04073349],\n",
        "        [-0.33050817],\n",
        "        [-0.20476812],\n",
        "        [ 0.25187674],\n",
        "        [-0.34896408],\n",
        "        [-0.36336219],\n",
        "        [-0.30261812],\n",
        "        [ 0.32188583],\n",
        "        [ 0.06248889],\n",
        "        [ 0.28638909],\n",
        "        [ 0.05094485],\n",
        "        [-0.32347855],\n",
        "        [-0.30529815],\n",
        "        [-0.3162911 ],\n",
        "        [-0.6937733 ],\n",
        "        [ 0.34626036],\n",
        "        [ 0.04762204],\n",
        "        [ 0.637855  ],\n",
        "        [-0.04763387],\n",
        "        [ 0.31586752],\n",
        "        [ 0.29631547],\n",
        "        [ 0.296871  ],\n",
        "        [ 0.28725171],\n",
        "        [ 0.32361497],\n",
        "        [ 0.32093309],\n",
        "        [ 0.08021088],\n",
        "        [ 0.06631044],\n",
        "        [ 0.25294087],\n",
        "        [-0.3338131 ],\n",
        "        [ 0.28590043],\n",
        "        [-0.14813333],\n",
        "        [ 0.28794108],\n",
        "        [ 0.28719175],\n",
        "        [ 0.30356908],\n",
        "        [-0.37214152],\n",
        "        [-0.31234187],\n",
        "        [ 0.0823497 ],\n",
        "        [ 0.37873482],\n",
        "        [-0.15067795],\n",
        "        [ 0.04371261],\n",
        "        [-0.2691604 ],\n",
        "        [-0.15445622],\n",
        "        [ 0.33331723],\n",
        "        [-0.01049495],\n",
        "        [ 0.22685256],\n",
        "        [ 0.28328568],\n",
        "        [-0.28082681],\n",
        "        [-0.63427797],\n",
        "        [ 0.24506244],\n",
        "        [-0.26093777],\n",
        "        [-0.4898642 ],\n",
        "        [ 0.2770512 ],\n",
        "        [-0.16890938],\n",
        "        [-0.20599923],\n",
        "        [ 0.13887772],\n",
        "        [ 0.26422107],\n",
        "        [ 0.29806667],\n",
        "        [-0.06944552],\n",
        "        [-0.09675782],\n",
        "        [-0.1969262 ],\n",
        "        [-0.16810866],\n",
        "        [ 0.32073688],\n",
        "        [ 0.06877572],\n",
        "        [-0.47077668],\n",
        "        [-0.26770129],\n",
        "        [ 0.4849598 ],\n",
        "        [ 0.38665859],\n",
        "        [-0.11218143],\n",
        "        [ 0.41211346],\n",
        "        [ 0.19370268],\n",
        "        [ 0.26192979],\n",
        "        [ 0.13109274],\n",
        "        [ 0.34613287],\n",
        "        [ 0.04661839],\n",
        "        [-0.25575707],\n",
        "        [ 0.32256966],\n",
        "        [ 0.26758284],\n",
        "        [ 0.10663854],\n",
        "        [ 0.46097559],\n",
        "        [-0.36004842],\n",
        "        [-0.33795248],\n",
        "        [-0.32175422],\n",
        "        [-0.39639753],\n",
        "        [ 0.28077879],\n",
        "        [-0.0595379 ],\n",
        "        [-0.52846396],\n",
        "        [ 0.05821843],\n",
        "        [-0.23495931],\n",
        "        [-0.00214784],\n",
        "        [-0.0906031 ],\n",
        "        [-0.54889826],\n",
        "        [ 0.22969323],\n",
        "        [ 0.2007416 ],\n",
        "        [ 0.32085722],\n",
        "        [-0.35712704],\n",
        "        [ 0.32426824],\n",
        "        [-0.03234191],\n",
        "        [-0.65869907],\n",
        "        [-0.62036045],\n",
        "        [-0.10430056],\n",
        "        [ 0.4116841 ],\n",
        "        [ 0.26048066],\n",
        "        [-0.48542586],\n",
        "        [ 0.02307985],\n",
        "        [ 0.2982976 ],\n",
        "        [ 0.18506574],\n",
        "        [-0.31181118],\n",
        "        [ 0.46839286],\n",
        "        [-0.0429867 ],\n",
        "        [-0.38840711],\n",
        "        [ 0.60690839],\n",
        "        [-0.29336629],\n",
        "        [ 0.24272459],\n",
        "        [ 0.23115053],\n",
        "        [ 0.33092622],\n",
        "        [ 0.40484825],\n",
        "        [-0.32156857],\n",
        "        [ 0.33613066],\n",
        "        [ 0.35543819],\n",
        "        [ 0.37589321],\n",
        "        [ 0.37843934],\n",
        "        [-0.10722685],\n",
        "        [-0.33726836],\n",
        "        [ 0.34099282],\n",
        "        [ 0.28798868],\n",
        "        [-0.34772731],\n",
        "        [ 0.09698486],\n",
        "        [ 0.19863849],\n",
        "        [-0.31301656],\n",
        "        [ 0.32043073],\n",
        "        [ 0.26462599],\n",
        "        [-0.36916013],\n",
        "        [-0.22860603],\n",
        "        [ 0.29712416],\n",
        "        [-0.06149541],\n",
        "        [-0.31023048],\n",
        "        [-0.3403555 ],\n",
        "        [-0.31823302],\n",
        "        [-0.03432409],\n",
        "        [-0.34702736],\n",
        "        [ 0.29568493]]),\n",
        " array([[ -4.64303904e-02],\n",
        "        [ -6.14930156e-02],\n",
        "        [ -3.91125054e-02],\n",
        "        [ -6.11711610e-02],\n",
        "        [ -4.17935691e-02],\n",
        "        [ -6.34710501e-02],\n",
        "        [ -4.17470159e-02],\n",
        "        [ -4.37573378e-02],\n",
        "        [ -5.77180688e-02],\n",
        "        [ -5.09996299e-02],\n",
        "        [ -4.25812327e-02],\n",
        "        [ -6.44078452e-02],\n",
        "        [ -5.83239896e-02],\n",
        "        [ -5.57289087e-02],\n",
        "        [ -5.57181286e-02],\n",
        "        [ -4.75826309e-02],\n",
        "        [ -6.19671977e-02],\n",
        "        [ -6.02948165e-02],\n",
        "        [ -4.27188781e-02],\n",
        "        [ -5.48545606e-02],\n",
        "        [ -7.09506853e-02],\n",
        "        [ -5.94238925e-02],\n",
        "        [ -5.32934632e-02],\n",
        "        [ -4.26689217e-02],\n",
        "        [ -3.34717294e-02],\n",
        "        [ -7.10801384e-02],\n",
        "        [ -5.40097677e-02],\n",
        "        [ -4.18709435e-02],\n",
        "        [ -5.22885168e-02],\n",
        "        [ -6.27592866e-02],\n",
        "        [ -5.72282097e-02],\n",
        "        [ -7.14914797e-02],\n",
        "        [ -4.19396322e-02],\n",
        "        [ -6.04572936e-02],\n",
        "        [ -6.23109598e-02],\n",
        "        [ -6.12242958e-02],\n",
        "        [ -6.68735369e-02],\n",
        "        [ -4.48693460e-02],\n",
        "        [ -5.62382350e-02],\n",
        "        [ -8.20706528e-02],\n",
        "        [ -7.34640193e-02],\n",
        "        [ -7.38936269e-02],\n",
        "        [ -7.61203498e-02],\n",
        "        [ -7.57516505e-02],\n",
        "        [ -8.17513297e-02],\n",
        "        [ -7.20734612e-02],\n",
        "        [ -7.59529299e-02],\n",
        "        [ -6.68875542e-02],\n",
        "        [ -5.91404530e-02],\n",
        "        [ -4.58198917e-02],\n",
        "        [ -4.74284474e-02],\n",
        "        [ -6.44356323e-02],\n",
        "        [ -5.62064203e-02],\n",
        "        [ -5.43266688e-02],\n",
        "        [ -5.20040825e-02],\n",
        "        [ -5.73804592e-02],\n",
        "        [ -5.06551325e-02],\n",
        "        [ -5.74853981e-02],\n",
        "        [ -5.28743683e-02],\n",
        "        [ -6.17121961e-02],\n",
        "        [ -7.28437964e-02],\n",
        "        [ -5.27253854e-02],\n",
        "        [ -6.34487719e-02],\n",
        "        [ -8.05590225e-02],\n",
        "        [ -7.01870368e-02],\n",
        "        [ -8.17838320e-02],\n",
        "        [ -1.13666114e-01],\n",
        "        [ -1.23191149e-01],\n",
        "        [ -1.38694548e-01],\n",
        "        [ -1.91456488e-01],\n",
        "        [ -2.12001291e-01],\n",
        "        [ -2.48924274e-01],\n",
        "        [ -2.73457219e-01],\n",
        "        [ -2.31891683e-01],\n",
        "        [ -2.06985681e-01],\n",
        "        [ -1.97966258e-01],\n",
        "        [ -1.48909953e-01],\n",
        "        [ -9.85658391e-02],\n",
        "        [ -8.48522879e-02],\n",
        "        [ -6.30780702e-02],\n",
        "        [ -6.20646103e-02],\n",
        "        [ -6.64303064e-02],\n",
        "        [ -5.08348247e-02],\n",
        "        [ -5.90971636e-02],\n",
        "        [ -7.41925536e-02],\n",
        "        [ -4.99822525e-02],\n",
        "        [ -5.97910394e-02],\n",
        "        [ -5.59326254e-02],\n",
        "        [ -4.61199131e-02],\n",
        "        [ -6.30601693e-02],\n",
        "        [ -6.26232479e-02],\n",
        "        [ -5.18378432e-02],\n",
        "        [ -9.41951480e-02],\n",
        "        [ -8.98802916e-02],\n",
        "        [ -1.38058606e-01],\n",
        "        [ -1.85004816e-01],\n",
        "        [ -2.30160477e-01],\n",
        "        [ -2.93397993e-01],\n",
        "        [ -3.21237566e-01],\n",
        "        [ -3.62865544e-01],\n",
        "        [ -3.54273335e-01],\n",
        "        [ -3.34739752e-01],\n",
        "        [ -3.31267832e-01],\n",
        "        [ -2.71774283e-01],\n",
        "        [ -1.88872456e-01],\n",
        "        [ -1.40639605e-01],\n",
        "        [ -1.07846869e-01],\n",
        "        [ -7.51063543e-02],\n",
        "        [ -3.73479349e-02],\n",
        "        [ -2.83446330e-02],\n",
        "        [ -4.77490670e-02],\n",
        "        [ -5.57177334e-02],\n",
        "        [ -4.36252734e-02],\n",
        "        [ -5.35883773e-02],\n",
        "        [ -7.34671283e-02],\n",
        "        [ -7.58007927e-02],\n",
        "        [ -6.36494589e-02],\n",
        "        [ -5.42827779e-02],\n",
        "        [ -5.10728977e-02],\n",
        "        [ -6.90221178e-02],\n",
        "        [ -8.98694991e-02],\n",
        "        [ -1.38809956e-01],\n",
        "        [ -1.27214507e-01],\n",
        "        [ -2.10739842e-01],\n",
        "        [ -2.55719105e-01],\n",
        "        [ -3.01431208e-01],\n",
        "        [ -3.33139387e-01],\n",
        "        [ -3.62543072e-01],\n",
        "        [ -3.54132562e-01],\n",
        "        [ -3.84245146e-01],\n",
        "        [ -3.69320304e-01],\n",
        "        [ -3.14386040e-01],\n",
        "        [ -2.72988050e-01],\n",
        "        [ -1.95296746e-01],\n",
        "        [ -1.38016292e-01],\n",
        "        [ -1.14935309e-01],\n",
        "        [ -5.81509112e-02],\n",
        "        [ -6.97064634e-02],\n",
        "        [ -5.13506142e-02],\n",
        "        [ -5.94051221e-02],\n",
        "        [ -5.33380247e-02],\n",
        "        [ -6.53179906e-02],\n",
        "        [ -5.46180568e-02],\n",
        "        [ -6.19842223e-02],\n",
        "        [ -3.85015694e-02],\n",
        "        [ -6.68719546e-02],\n",
        "        [ -2.21491493e-02],\n",
        "        [ -3.62981682e-02],\n",
        "        [ -4.63185412e-02],\n",
        "        [ -7.21478824e-02],\n",
        "        [ -1.06355441e-01],\n",
        "        [ -1.12569837e-01],\n",
        "        [ -1.44844182e-01],\n",
        "        [ -1.61582593e-01],\n",
        "        [ -1.62801243e-01],\n",
        "        [ -1.99978069e-01],\n",
        "        [ -1.94238874e-01],\n",
        "        [ -2.29962065e-01],\n",
        "        [ -2.22694859e-01],\n",
        "        [ -1.97825181e-01],\n",
        "        [ -1.58315319e-01],\n",
        "        [ -1.22923074e-01],\n",
        "        [ -1.10024783e-01],\n",
        "        [ -1.32272684e-01],\n",
        "        [ -1.04517131e-01],\n",
        "        [ -6.92199604e-02],\n",
        "        [ -6.74046826e-02],\n",
        "        [ -6.97457439e-02],\n",
        "        [ -5.92083507e-02],\n",
        "        [ -5.29609355e-02],\n",
        "        [ -4.96729764e-02],\n",
        "        [ -4.28122924e-02],\n",
        "        [ -6.00216698e-02],\n",
        "        [ -2.94947161e-02],\n",
        "        [ -6.48079555e-03],\n",
        "        [ -9.90529057e-03],\n",
        "        [  5.75394199e-03],\n",
        "        [ -1.24759450e-02],\n",
        "        [ -1.59271397e-02],\n",
        "        [ -2.33085578e-02],\n",
        "        [ -4.85161931e-03],\n",
        "        [ -5.02282160e-02],\n",
        "        [ -6.28141130e-02],\n",
        "        [ -6.54325692e-02],\n",
        "        [ -7.67203218e-02],\n",
        "        [ -1.19912942e-01],\n",
        "        [ -1.31184574e-01],\n",
        "        [ -9.41245880e-02],\n",
        "        [ -6.07533138e-02],\n",
        "        [ -5.01947256e-02],\n",
        "        [ -3.52345049e-02],\n",
        "        [ -6.64510965e-02],\n",
        "        [ -1.08810007e-01],\n",
        "        [ -1.04029179e-01],\n",
        "        [ -7.89189190e-02],\n",
        "        [ -4.72393210e-02],\n",
        "        [ -7.66552089e-02],\n",
        "        [ -4.17634245e-02],\n",
        "        [ -6.61786366e-02],\n",
        "        [ -6.82187696e-02],\n",
        "        [ -4.38135996e-02],\n",
        "        [ -2.81815331e-02],\n",
        "        [  1.99017244e-03],\n",
        "        [  2.53937985e-02],\n",
        "        [  4.22536676e-02],\n",
        "        [  1.93684720e-02],\n",
        "        [  2.75059478e-02],\n",
        "        [ -2.62207890e-03],\n",
        "        [  1.15759577e-02],\n",
        "        [  2.40395384e-02],\n",
        "        [  5.79312392e-02],\n",
        "        [  7.98855929e-02],\n",
        "        [  5.21084626e-02],\n",
        "        [ -2.47326804e-02],\n",
        "        [ -2.60873319e-02],\n",
        "        [ -2.80429956e-02],\n",
        "        [  1.05262929e-02],\n",
        "        [  3.91422501e-02],\n",
        "        [  1.29723909e-02],\n",
        "        [ -3.76236607e-02],\n",
        "        [ -1.02285469e-01],\n",
        "        [ -1.03681200e-01],\n",
        "        [ -5.69788626e-02],\n",
        "        [ -7.06282254e-02],\n",
        "        [ -5.92165795e-02],\n",
        "        [ -5.39729663e-02],\n",
        "        [ -7.11622419e-02],\n",
        "        [ -5.04062042e-02],\n",
        "        [ -6.61881980e-02],\n",
        "        [ -6.33820790e-03],\n",
        "        [  1.06412461e-02],\n",
        "        [  4.78309722e-02],\n",
        "        [  4.18833621e-02],\n",
        "        [  3.29122983e-02],\n",
        "        [  1.17572381e-02],\n",
        "        [ -1.72788343e-02],\n",
        "        [ -2.63756243e-02],\n",
        "        [  4.81932590e-02],\n",
        "        [  8.88033637e-02],\n",
        "        [  1.07305703e-01],\n",
        "        [  8.25906319e-02],\n",
        "        [  1.43465867e-02],\n",
        "        [ -2.35821004e-02],\n",
        "        [ -5.38505107e-03],\n",
        "        [  3.36694116e-02],\n",
        "        [  6.89278037e-02],\n",
        "        [  2.93441234e-02],\n",
        "        [ -5.34386194e-03],\n",
        "        [ -8.57884203e-02],\n",
        "        [ -8.56952013e-02],\n",
        "        [ -7.86981682e-02],\n",
        "        [ -6.00497528e-02],\n",
        "        [ -6.44979461e-02],\n",
        "        [ -5.29658635e-02],\n",
        "        [ -5.71244292e-02],\n",
        "        [ -7.90699580e-02],\n",
        "        [ -5.63984834e-02],\n",
        "        [ -1.76213283e-02],\n",
        "        [  2.39049834e-02],\n",
        "        [  5.05240987e-02],\n",
        "        [  3.86639371e-02],\n",
        "        [  9.62195984e-03],\n",
        "        [ -4.70209481e-02],\n",
        "        [ -6.77073585e-02],\n",
        "        [ -5.31478618e-02],\n",
        "        [  3.20208679e-02],\n",
        "        [  7.53956403e-02],\n",
        "        [  6.25838215e-02],\n",
        "        [  1.30137275e-02],\n",
        "        [ -3.38266956e-02],\n",
        "        [ -4.30450415e-02],\n",
        "        [ -2.96302274e-02],\n",
        "        [  2.80066241e-03],\n",
        "        [  5.50734507e-02],\n",
        "        [  4.27094279e-02],\n",
        "        [ -2.68570696e-03],\n",
        "        [ -5.55152095e-02],\n",
        "        [ -8.02736962e-02],\n",
        "        [ -5.52708015e-02],\n",
        "        [ -4.51994012e-02],\n",
        "        [ -6.32699914e-02],\n",
        "        [ -8.09839714e-02],\n",
        "        [ -8.28012738e-02],\n",
        "        [ -7.18256538e-02],\n",
        "        [ -5.03148418e-02],\n",
        "        [ -2.06370073e-02],\n",
        "        [  2.83038453e-03],\n",
        "        [  3.30462376e-02],\n",
        "        [  1.09187894e-02],\n",
        "        [ -3.09674825e-02],\n",
        "        [ -7.72780607e-02],\n",
        "        [ -1.10407171e-01],\n",
        "        [ -5.80250554e-02],\n",
        "        [  1.75872996e-02],\n",
        "        [  2.12966751e-02],\n",
        "        [  9.87134041e-03],\n",
        "        [ -6.05502182e-03],\n",
        "        [ -5.98681865e-02],\n",
        "        [ -7.54800073e-02],\n",
        "        [ -3.84279510e-02],\n",
        "        [ -8.05421723e-03],\n",
        "        [  4.10938081e-02],\n",
        "        [  2.12492736e-02],\n",
        "        [ -3.05187100e-03],\n",
        "        [ -5.26790393e-02],\n",
        "        [ -5.74148718e-02],\n",
        "        [ -5.02812236e-02],\n",
        "        [ -4.84505585e-02],\n",
        "        [ -6.13533268e-02],\n",
        "        [ -3.78820500e-02],\n",
        "        [ -6.46203508e-02],\n",
        "        [ -6.56566797e-02],\n",
        "        [ -4.87211057e-02],\n",
        "        [ -2.93271323e-02],\n",
        "        [  2.20362528e-03],\n",
        "        [ -7.79346818e-03],\n",
        "        [ -3.48061336e-02],\n",
        "        [ -1.00565798e-01],\n",
        "        [ -1.21806696e-01],\n",
        "        [ -1.14315504e-01],\n",
        "        [ -4.65707048e-02],\n",
        "        [  2.68443421e-02],\n",
        "        [ -1.29508994e-02],\n",
        "        [ -3.48109176e-02],\n",
        "        [ -4.87367540e-02],\n",
        "        [ -7.13692665e-02],\n",
        "        [ -5.39539724e-02],\n",
        "        [ -4.06468949e-02],\n",
        "        [ -2.05304188e-02],\n",
        "        [ -2.60394491e-02],\n",
        "        [ -1.20313045e-02],\n",
        "        [ -5.49931206e-02],\n",
        "        [ -5.12711116e-02],\n",
        "        [ -5.44356345e-02],\n",
        "        [ -5.49497771e-02],\n",
        "        [ -3.93267094e-02],\n",
        "        [ -4.48508616e-02],\n",
        "        [ -6.03816528e-02],\n",
        "        [ -6.58318769e-02],\n",
        "        [ -6.02841489e-02],\n",
        "        [ -5.31061861e-02],\n",
        "        [ -4.54904713e-02],\n",
        "        [ -4.40333870e-02],\n",
        "        [ -6.54812964e-02],\n",
        "        [ -8.81712965e-02],\n",
        "        [ -1.28865810e-01],\n",
        "        [ -1.25103087e-01],\n",
        "        [ -7.24507632e-02],\n",
        "        [ -2.32126577e-03],\n",
        "        [ -3.64306564e-03],\n",
        "        [ -2.19226830e-02],\n",
        "        [ -3.61531787e-02],\n",
        "        [ -4.53891963e-02],\n",
        "        [ -2.30024137e-02],\n",
        "        [ -1.23865578e-03],\n",
        "        [ -1.55108661e-02],\n",
        "        [ -3.89182430e-02],\n",
        "        [ -6.18896278e-02],\n",
        "        [ -5.16858323e-02],\n",
        "        [ -6.29953952e-02],\n",
        "        [ -9.71315002e-02],\n",
        "        [ -4.34520163e-02],\n",
        "        [ -5.68352201e-02],\n",
        "        [ -5.75762855e-02],\n",
        "        [ -4.72060141e-02],\n",
        "        [ -4.80148301e-02],\n",
        "        [ -6.12934599e-02],\n",
        "        [ -6.15233847e-02],\n",
        "        [ -5.02147009e-02],\n",
        "        [ -6.61363944e-02],\n",
        "        [ -4.78946239e-02],\n",
        "        [ -7.83733502e-02],\n",
        "        [ -1.04304940e-01],\n",
        "        [ -1.55164305e-01],\n",
        "        [ -8.67415817e-02],\n",
        "        [ -2.01276489e-02],\n",
        "        [  3.60984941e-02],\n",
        "        [  2.27234001e-02],\n",
        "        [ -1.04090579e-02],\n",
        "        [  2.52633492e-02],\n",
        "        [  5.51120398e-02],\n",
        "        [  3.85841865e-02],\n",
        "        [  3.52438500e-02],\n",
        "        [ -3.89917443e-04],\n",
        "        [ -5.33717910e-02],\n",
        "        [ -8.37704370e-02],\n",
        "        [ -8.08913478e-02],\n",
        "        [ -7.16988945e-02],\n",
        "        [ -7.30497278e-02],\n",
        "        [ -5.95059469e-02],\n",
        "        [ -6.21625566e-02],\n",
        "        [ -2.53834238e-02],\n",
        "        [ -4.73681954e-02],\n",
        "        [ -4.52851423e-02],\n",
        "        [ -6.04380185e-02],\n",
        "        [ -7.21160178e-02],\n",
        "        [ -7.75174358e-02],\n",
        "        [ -6.55674728e-02],\n",
        "        [ -6.86777498e-02],\n",
        "        [ -1.02935723e-01],\n",
        "        [ -1.50285329e-01],\n",
        "        [ -1.50932256e-01],\n",
        "        [ -8.67863834e-02],\n",
        "        [ -2.58772010e-02],\n",
        "        [  3.96667503e-02],\n",
        "        [  5.24396434e-02],\n",
        "        [  4.12597872e-02],\n",
        "        [  5.82571899e-02],\n",
        "        [  9.61640537e-02],\n",
        "        [  6.29393665e-02],\n",
        "        [  5.25671615e-02],\n",
        "        [ -3.82146721e-04],\n",
        "        [ -4.20951124e-02],\n",
        "        [ -9.74671403e-02],\n",
        "        [ -8.14220930e-02],\n",
        "        [ -7.54277856e-02],\n",
        "        [ -8.26813869e-02],\n",
        "        [ -6.11190539e-02],\n",
        "        [ -7.38916198e-02],\n",
        "        [ -5.11235233e-02],\n",
        "        [ -3.31246714e-02],\n",
        "        [ -6.15449680e-02],\n",
        "        [ -4.22763009e-02],\n",
        "        [ -6.41698822e-02],\n",
        "        [ -6.32968938e-02],\n",
        "        [ -8.74430812e-02],\n",
        "        [ -6.28465024e-02],\n",
        "        [ -1.13837099e-01],\n",
        "        [ -1.61835514e-01],\n",
        "        [ -1.64673926e-01],\n",
        "        [ -1.01759996e-01],\n",
        "        [ -1.68957909e-02],\n",
        "        [  3.94317492e-02],\n",
        "        [  3.98902148e-02],\n",
        "        [  5.05547757e-02],\n",
        "        [  1.16902116e-01],\n",
        "        [  8.61763926e-02],\n",
        "        [  5.40665739e-02],\n",
        "        [  4.24208009e-02],\n",
        "        [ -1.02810062e-02],\n",
        "        [ -4.61658901e-02],\n",
        "        [ -7.16758927e-02],\n",
        "        [ -4.04070942e-02],\n",
        "        [ -5.01058631e-02],\n",
        "        [ -7.20346926e-02],\n",
        "        [ -6.49786142e-02],\n",
        "        [ -5.60535923e-02],\n",
        "        [ -4.73267690e-02],\n",
        "        [ -5.81450597e-02],\n",
        "        [ -6.03639688e-02],\n",
        "        [ -5.86137710e-02],\n",
        "        [ -8.28070780e-02],\n",
        "        [ -8.99873235e-02],\n",
        "        [ -6.89361192e-02],\n",
        "        [ -5.49319109e-02],\n",
        "        [ -8.46803926e-02],\n",
        "        [ -1.58003910e-01],\n",
        "        [ -1.60769610e-01],\n",
        "        [ -1.13570184e-01],\n",
        "        [ -3.32787735e-02],\n",
        "        [ -3.29871693e-03],\n",
        "        [  2.43090849e-02],\n",
        "        [  4.30018229e-02],\n",
        "        [  7.19798825e-02],\n",
        "        [  6.24973634e-02],\n",
        "        [  2.89578041e-02],\n",
        "        [  8.52235807e-03],\n",
        "        [ -3.42799313e-02],\n",
        "        [ -3.75270812e-02],\n",
        "        [ -1.73377869e-02],\n",
        "        [ -1.50957549e-02],\n",
        "        [ -4.15687620e-02],\n",
        "        [ -6.70677553e-02],\n",
        "        [ -6.24384357e-02],\n",
        "        [ -5.34978009e-02],\n",
        "        [ -6.33544396e-02],\n",
        "        [ -5.94526834e-02],\n",
        "        [ -4.81437260e-02],\n",
        "        [ -6.23423504e-02],\n",
        "        [ -5.33477718e-02],\n",
        "        [ -9.67689538e-02],\n",
        "        [ -3.16610120e-02],\n",
        "        [ -4.78473760e-02],\n",
        "        [ -6.34888173e-02],\n",
        "        [ -1.53895949e-01],\n",
        "        [ -1.68674576e-01],\n",
        "        [ -1.09140619e-01],\n",
        "        [ -7.92907924e-02],\n",
        "        [ -3.03021218e-02],\n",
        "        [ -1.43059539e-02],\n",
        "        [  1.26341490e-02],\n",
        "        [  5.06847557e-02],\n",
        "        [  3.15143093e-02],\n",
        "        [ -5.83164633e-03],\n",
        "        [ -2.54046340e-02],\n",
        "        [ -3.02828571e-02],\n",
        "        [ -1.71029585e-02],\n",
        "        [ -8.36357043e-03],\n",
        "        [ -1.61365975e-02],\n",
        "        [ -2.83762184e-02],\n",
        "        [ -7.99381050e-02],\n",
        "        [ -6.42981322e-02],\n",
        "        [ -7.48776793e-02],\n",
        "        [ -5.57831181e-02],\n",
        "        [ -5.67946346e-02],\n",
        "        [ -4.14967093e-02],\n",
        "        [ -7.64474683e-02],\n",
        "        [ -8.98100639e-02],\n",
        "        [ -8.42278165e-02],\n",
        "        [ -3.20709581e-02],\n",
        "        [ -3.47243790e-02],\n",
        "        [ -7.26515876e-02],\n",
        "        [ -1.39569129e-01],\n",
        "        [ -1.79486421e-01],\n",
        "        [ -1.31097720e-01],\n",
        "        [ -8.76742749e-02],\n",
        "        [ -3.14826587e-02],\n",
        "        [  2.90660615e-03],\n",
        "        [  3.59926160e-02],\n",
        "        [  3.16362887e-02],\n",
        "        [ -5.20630197e-03],\n",
        "        [ -3.88674893e-02],\n",
        "        [ -4.47328344e-02],\n",
        "        [ -2.33414905e-02],\n",
        "        [  2.79322880e-04],\n",
        "        [  3.54513183e-02],\n",
        "        [  2.03041322e-03],\n",
        "        [ -3.37186780e-02],\n",
        "        [ -1.08725504e-01],\n",
        "        [ -9.75418837e-02],\n",
        "        [ -6.34273909e-02],\n",
        "        [ -4.45194940e-02],\n",
        "        [ -6.20704202e-02],\n",
        "        [ -4.21773252e-02],\n",
        "        [ -5.02327671e-02],\n",
        "        [ -9.83068350e-02],\n",
        "        [ -8.49670317e-02],\n",
        "        [ -4.45425845e-02],\n",
        "        [ -1.64332663e-02],\n",
        "        [ -4.63605606e-02],\n",
        "        [ -1.12242262e-01],\n",
        "        [ -1.28834543e-01],\n",
        "        [ -9.50067978e-02],\n",
        "        [ -4.71071391e-02],\n",
        "        [  4.03888793e-03],\n",
        "        [  2.46548270e-02],\n",
        "        [  2.89927939e-02],\n",
        "        [ -1.67838960e-02],\n",
        "        [ -3.25507345e-02],\n",
        "        [ -5.56518558e-02],\n",
        "        [ -5.47137916e-02],\n",
        "        [ -6.68798001e-03],\n",
        "        [  3.61249457e-02],\n",
        "        [  4.85996194e-02],\n",
        "        [ -1.49258300e-02],\n",
        "        [ -4.07259719e-02],\n",
        "        [ -9.94623181e-02],\n",
        "        [ -7.66884969e-02],\n",
        "        [ -6.34199349e-02],\n",
        "        [ -5.43471645e-02],\n",
        "        [ -6.39057512e-02],\n",
        "        [ -6.97186951e-02],\n",
        "        [ -5.05082886e-02],\n",
        "        [ -9.51655063e-02],\n",
        "        [ -8.54972363e-02],\n",
        "        [ -4.33056936e-02],\n",
        "        [ -9.42700802e-03],\n",
        "        [ -1.41526737e-02],\n",
        "        [ -4.84456478e-02],\n",
        "        [ -4.49628026e-02],\n",
        "        [ -3.71404018e-02],\n",
        "        [  6.15185976e-03],\n",
        "        [  2.66617807e-02],\n",
        "        [  3.35515155e-02],\n",
        "        [  2.44013554e-02],\n",
        "        [ -1.72677956e-02],\n",
        "        [ -4.00464910e-02],\n",
        "        [ -6.79876169e-02],\n",
        "        [ -2.84259487e-02],\n",
        "        [  2.35336113e-02],\n",
        "        [  4.38347692e-02],\n",
        "        [  3.12072811e-02],\n",
        "        [  4.83726695e-03],\n",
        "        [ -3.22511130e-02],\n",
        "        [ -7.51169178e-02],\n",
        "        [ -5.49263393e-02],\n",
        "        [ -5.48203253e-02],\n",
        "        [ -6.08380756e-02],\n",
        "        [ -4.65963669e-02],\n",
        "        [ -5.57890019e-02],\n",
        "        [ -6.77607215e-02],\n",
        "        [ -9.15736580e-02],\n",
        "        [ -7.22252455e-02],\n",
        "        [ -6.10065394e-02],\n",
        "        [ -1.13072511e-02],\n",
        "        [  1.03099455e-02],\n",
        "        [ -1.71873589e-02],\n",
        "        [ -4.44808334e-02],\n",
        "        [ -2.66168828e-02],\n",
        "        [  1.02626728e-02],\n",
        "        [  5.93610728e-02],\n",
        "        [  5.08963969e-02],\n",
        "        [  1.80015739e-02],\n",
        "        [ -2.20272099e-02],\n",
        "        [ -4.11180264e-02],\n",
        "        [ -2.23826400e-02],\n",
        "        [ -3.96746285e-03],\n",
        "        [  2.38468308e-02],\n",
        "        [  4.04505306e-02],\n",
        "        [  3.46939841e-02],\n",
        "        [  6.86300361e-03],\n",
        "        [ -1.80668327e-02],\n",
        "        [ -5.07589924e-02],\n",
        "        [ -6.28890622e-02],\n",
        "        [ -5.30961459e-02],\n",
        "        [ -5.65374085e-02],\n",
        "        [ -5.64005503e-02],\n",
        "        [ -6.35831911e-02],\n",
        "        [ -5.93805957e-02],\n",
        "        [ -6.68849584e-02],\n",
        "        [ -4.11220339e-02],\n",
        "        [ -6.65548901e-02],\n",
        "        [ -3.58975085e-02],\n",
        "        [ -4.14301155e-02],\n",
        "        [ -4.17910792e-02],\n",
        "        [ -5.91530061e-02],\n",
        "        [ -3.66753525e-02],\n",
        "        [ -7.64326413e-03],\n",
        "        [ -3.01008658e-03],\n",
        "        [  5.34492083e-03],\n",
        "        [ -1.47521965e-02],\n",
        "        [ -3.82806016e-02],\n",
        "        [ -4.09514639e-02],\n",
        "        [ -5.60537469e-02],\n",
        "        [ -4.50985422e-02],\n",
        "        [ -4.36979360e-02],\n",
        "        [ -1.33031704e-02],\n",
        "        [ -8.30039234e-03],\n",
        "        [ -1.95403125e-02],\n",
        "        [ -6.69911279e-02],\n",
        "        [ -6.83825822e-02],\n",
        "        [ -8.24561573e-02],\n",
        "        [ -3.58453900e-02],\n",
        "        [ -5.89652975e-02],\n",
        "        [ -6.71121164e-02],\n",
        "        [ -5.62712604e-02],\n",
        "        [ -5.98562596e-02],\n",
        "        [ -5.61541942e-02],\n",
        "        [ -7.79186441e-02],\n",
        "        [ -6.72714439e-02],\n",
        "        [ -8.60707118e-02],\n",
        "        [ -8.41649619e-02],\n",
        "        [ -1.15809020e-01],\n",
        "        [ -1.48241154e-01],\n",
        "        [ -1.56157369e-01],\n",
        "        [ -1.37720335e-01],\n",
        "        [ -1.15118775e-01],\n",
        "        [ -1.08475964e-01],\n",
        "        [ -1.03283161e-01],\n",
        "        [ -1.16465356e-01],\n",
        "        [ -1.43159073e-01],\n",
        "        [ -1.53996428e-01],\n",
        "        [ -1.24310951e-01],\n",
        "        [ -1.11657782e-01],\n",
        "        [ -8.88067260e-02],\n",
        "        [ -7.59740226e-02],\n",
        "        [ -5.21547200e-02],\n",
        "        [ -6.82511816e-02],\n",
        "        [ -6.21178845e-02],\n",
        "        [ -5.65219209e-02],\n",
        "        [ -5.66288323e-02],\n",
        "        [ -6.99621467e-02],\n",
        "        [ -4.73320994e-02],\n",
        "        [ -4.24315832e-02],\n",
        "        [ -6.98491026e-02],\n",
        "        [ -4.59873186e-02],\n",
        "        [ -6.36356900e-02],\n",
        "        [ -5.91433913e-02],\n",
        "        [ -9.75635729e-02],\n",
        "        [ -1.30394750e-01],\n",
        "        [ -1.54729020e-01],\n",
        "        [ -2.18612148e-01],\n",
        "        [ -2.52582330e-01],\n",
        "        [ -2.53970645e-01],\n",
        "        [ -2.38522338e-01],\n",
        "        [ -2.41592053e-01],\n",
        "        [ -2.21901975e-01],\n",
        "        [ -2.37499602e-01],\n",
        "        [ -2.36965192e-01],\n",
        "        [ -2.57172374e-01],\n",
        "        [ -2.20704683e-01],\n",
        "        [ -1.76353666e-01],\n",
        "        [ -1.29769478e-01],\n",
        "        [ -9.81778800e-02],\n",
        "        [ -5.45452888e-02],\n",
        "        [ -5.81780896e-02],\n",
        "        [ -4.52872505e-02],\n",
        "        [ -3.85291029e-02],\n",
        "        [ -3.95198077e-02],\n",
        "        [ -7.01160620e-02],\n",
        "        [ -5.62084487e-02],\n",
        "        [ -5.08360586e-02],\n",
        "        [ -4.03424633e-02],\n",
        "        [ -6.00352607e-02],\n",
        "        [ -5.18865255e-02],\n",
        "        [ -6.64456468e-02],\n",
        "        [ -7.94799436e-02],\n",
        "        [ -1.33381349e-01],\n",
        "        [ -2.03767520e-01],\n",
        "        [ -2.74593036e-01],\n",
        "        [ -2.88453955e-01],\n",
        "        [ -3.22576541e-01],\n",
        "        [ -3.51309738e-01],\n",
        "        [ -3.55470475e-01],\n",
        "        [ -2.95230044e-01],\n",
        "        [ -2.93601721e-01],\n",
        "        [ -3.06121657e-01],\n",
        "        [ -2.88880117e-01],\n",
        "        [ -2.46219618e-01],\n",
        "        [ -1.91737088e-01],\n",
        "        [ -1.37593285e-01],\n",
        "        [ -9.33896189e-02],\n",
        "        [ -7.64521125e-02],\n",
        "        [ -5.69969768e-02],\n",
        "        [ -5.41303717e-02],\n",
        "        [ -6.81882669e-02],\n",
        "        [ -4.60602190e-02],\n",
        "        [ -3.87236670e-02],\n",
        "        [ -4.42828215e-02],\n",
        "        [ -4.10588357e-02],\n",
        "        [ -5.48188046e-02],\n",
        "        [ -5.53780598e-02],\n",
        "        [ -6.97409696e-02],\n",
        "        [ -5.44250568e-02],\n",
        "        [ -8.33377174e-02],\n",
        "        [ -1.00181140e-01],\n",
        "        [ -1.81051278e-01],\n",
        "        [ -2.10418447e-01],\n",
        "        [ -2.48195547e-01],\n",
        "        [ -2.86979106e-01],\n",
        "        [ -2.87158520e-01],\n",
        "        [ -2.81972286e-01],\n",
        "        [ -2.88963863e-01],\n",
        "        [ -2.67265223e-01],\n",
        "        [ -2.41671003e-01],\n",
        "        [ -1.93620264e-01],\n",
        "        [ -1.59195778e-01],\n",
        "        [ -1.22976758e-01],\n",
        "        [ -1.09091169e-01],\n",
        "        [ -6.65677922e-02],\n",
        "        [ -5.41796622e-02],\n",
        "        [ -6.53981221e-02],\n",
        "        [ -4.87620177e-02],\n",
        "        [ -5.11022965e-02],\n",
        "        [ -5.94870794e-02],\n",
        "        [ -5.53451015e-02],\n",
        "        [ -4.80810469e-02],\n",
        "        [ -3.76272047e-02],\n",
        "        [ -4.03638547e-02],\n",
        "        [ -6.26228654e-02],\n",
        "        [ -6.30178599e-02],\n",
        "        [ -5.45302519e-02],\n",
        "        [ -4.69463691e-02],\n",
        "        [ -5.54751241e-02],\n",
        "        [ -7.09590442e-02],\n",
        "        [ -5.62244395e-02],\n",
        "        [ -7.87807638e-02],\n",
        "        [ -8.36855483e-02],\n",
        "        [ -1.12449221e-01],\n",
        "        [ -1.02392634e-01],\n",
        "        [ -1.22980109e-01],\n",
        "        [ -1.05576421e-01],\n",
        "        [ -9.68176839e-02],\n",
        "        [ -7.38864819e-02],\n",
        "        [ -7.62673179e-02],\n",
        "        [ -6.80718851e-02],\n",
        "        [ -7.23704044e-02],\n",
        "        [ -6.80223017e-02],\n",
        "        [ -5.28329343e-02],\n",
        "        [ -5.07870636e-02],\n",
        "        [ -4.67484304e-02],\n",
        "        [ -5.99739041e-02],\n",
        "        [ -5.84322344e-02],\n",
        "        [ -7.38213253e-02]])]"
       ]
      }
     ],
     "prompt_number": 8
    },
    {
     "cell_type": "code",
     "collapsed": false,
     "input": [
      "encoder.params[0][0].shape"
     ],
     "language": "python",
     "metadata": {},
     "outputs": [
      {
       "metadata": {},
       "output_type": "pyout",
       "prompt_number": 19,
       "text": [
        "(784,)"
       ]
      }
     ],
     "prompt_number": 19
    },
    {
     "cell_type": "code",
     "collapsed": false,
     "input": [
      "2500/5"
     ],
     "language": "python",
     "metadata": {},
     "outputs": [
      {
       "metadata": {},
       "output_type": "pyout",
       "prompt_number": 8,
       "text": [
        "500"
       ]
      }
     ],
     "prompt_number": 8
    },
    {
     "cell_type": "code",
     "collapsed": false,
     "input": [
      "%run trainmnist.py"
     ],
     "language": "python",
     "metadata": {},
     "outputs": [
      {
       "ename": "ImportError",
       "evalue": "No module named VariationalAutoencoder",
       "output_type": "pyerr",
       "traceback": [
        "\u001b[0;31m---------------------------------------------------------------------------\u001b[0m\n\u001b[0;31mImportError\u001b[0m                               Traceback (most recent call last)",
        "\u001b[0;32m/Users/roryjbeard/DPhil/Code/Variational-Autoencoder/Theano/demo/trainmnist.py\u001b[0m in \u001b[0;36m<module>\u001b[0;34m()\u001b[0m\n\u001b[1;32m     11\u001b[0m \u001b[0;31m#python trainmnist.py -s mnist.npy\u001b[0m\u001b[0;34m\u001b[0m\u001b[0;34m\u001b[0m\u001b[0m\n\u001b[1;32m     12\u001b[0m \u001b[0;34m\u001b[0m\u001b[0m\n\u001b[0;32m---> 13\u001b[0;31m \u001b[0;32mimport\u001b[0m \u001b[0mVariationalAutoencoder\u001b[0m\u001b[0;34m\u001b[0m\u001b[0m\n\u001b[0m\u001b[1;32m     14\u001b[0m \u001b[0;32mimport\u001b[0m \u001b[0mnumpy\u001b[0m \u001b[0;32mas\u001b[0m \u001b[0mnp\u001b[0m\u001b[0;34m\u001b[0m\u001b[0m\n\u001b[1;32m     15\u001b[0m \u001b[0;32mimport\u001b[0m \u001b[0margparse\u001b[0m\u001b[0;34m\u001b[0m\u001b[0m\n",
        "\u001b[0;31mImportError\u001b[0m: No module named VariationalAutoencoder"
       ]
      }
     ],
     "prompt_number": 1
    },
    {
     "cell_type": "code",
     "collapsed": false,
     "input": [],
     "language": "python",
     "metadata": {},
     "outputs": []
    }
   ],
   "metadata": {}
  }
 ]
}